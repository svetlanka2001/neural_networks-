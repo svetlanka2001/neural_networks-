{
 "cells": [
  {
   "cell_type": "markdown",
   "metadata": {
    "id": "0aevyt4hO7BE"
   },
   "source": [
    "В этом проекте необходимо было: \n",
    "- скачать датасет от Гугла с мультяшными персонажами. Ссылка: https://storage.googleapis.com/datasets_ai/Advanced/1_VAE/cartoonset10k.zip\n",
    "- обучить VAE на данном датасете\n",
    "- посмотреть качество воспроизведения мультяшек\n",
    "- нагенерить мультяшек на свой вкус - оцените работу декодера\n",
    "\n",
    "При подготовке данного проекта отработано ОГРОМНОЕ количество гипотез.\n",
    "\n",
    "Сам датасет состоит из изображений, к каждому из которых приложен csv файл с описанием различных признаков. Поскольку характеристик изображений было очень много, мною принято решение в качестве правильных ответов взять информацию о цвете волос персонажа (всего 10 вариантов).\n",
    "\n",
    "В итоге удалось найти оптимальный набор количественных параметров и структуры НС, при которой при генерации случайных точек, сеть выдает изображение мультяшки.\n",
    "\n",
    "Также, если смотреть на точки в скрытом пространстве (график в конце проекта), то можно заметить, что мы получили более компактное использование скрытого пространства, которое стало практически непрерывным."
   ]
  },
  {
   "cell_type": "code",
   "execution_count": 1,
   "metadata": {
    "id": "LYCNSL1I71YE"
   },
   "outputs": [],
   "source": [
    "# Подключим Numpy\n",
    "import numpy as np\n",
    "import pandas as pd\n",
    "\n",
    "# Подключим библиотеку отображения графиков\n",
    "import matplotlib.pyplot as plt\n",
    "\n",
    "# Импортируем Keras\n",
    "from tensorflow import keras\n",
    "\n",
    "import tensorflow as tf\n",
    "import tensorflow_datasets as tfds\n",
    "\n",
    "# Подключим все необходимые слои Keras\n",
    "from tensorflow.keras.layers import Dense, Flatten, Reshape, Input, Lambda, LeakyReLU\n",
    "from tensorflow.keras.layers import BatchNormalization, Dropout, concatenate, Conv2D, Conv2DTranspose\n",
    "\n",
    "# Подключим модуль вычислений на Keras\n",
    "import keras.backend as K\n",
    "\n",
    "# Загрузка датасетов из облака google\n",
    "import gdown\n",
    "\n",
    "# Подключим модуль работы с операционной системой\n",
    "import os\n",
    "os.environ['TF_CPP_MIN_LOG_LEVEL'] = '2' # От tensorflow будет получать только ошибки\n",
    "\n",
    "from PIL import *\n",
    "\n",
    "from google.colab import files\n",
    "\n",
    "from keras.preprocessing import image\n",
    "from keras.preprocessing.image import load_img\n",
    "from keras.preprocessing.image import img_to_array\n",
    "\n",
    "from sklearn.model_selection import train_test_split\n",
    "\n",
    "# очистка ОЗУ\n",
    "import gc "
   ]
  },
  {
   "cell_type": "code",
   "execution_count": 2,
   "metadata": {
    "colab": {
     "base_uri": "https://localhost:8080/",
     "height": 35
    },
    "id": "XXZjKpLa71ay",
    "outputId": "2fa8b6fd-f94d-4992-9c0d-30ecbf56c9b3"
   },
   "outputs": [
    {
     "data": {
      "application/vnd.google.colaboratory.intrinsic+json": {
       "type": "string"
      },
      "text/plain": [
       "'cartoonset10k.zip'"
      ]
     },
     "execution_count": 2,
     "metadata": {},
     "output_type": "execute_result"
    }
   ],
   "source": [
    "# Загрузка датасета из облака\n",
    "gdown.download('https://storage.googleapis.com/datasets_ai/Advanced/1_VAE/cartoonset10k.zip', None, quiet=True)"
   ]
  },
  {
   "cell_type": "code",
   "execution_count": 3,
   "metadata": {
    "id": "1rlkV9Jv71d3"
   },
   "outputs": [],
   "source": [
    "# Распаковка архива в папку cartoonset10k\n",
    "!unzip -qo cartoonset10k.zip -d cartoonset10k/\n",
    "\n",
    "# Просмотр содержимого папки\n",
    "#!ls cartoonset10k"
   ]
  },
  {
   "cell_type": "code",
   "execution_count": 4,
   "metadata": {
    "id": "zcLhCIHmAQ8O"
   },
   "outputs": [],
   "source": [
    "# Путь к директории с базой\n",
    "base_dir = '/content/cartoonset10k'"
   ]
  },
  {
   "cell_type": "code",
   "execution_count": 5,
   "metadata": {
    "colab": {
     "base_uri": "https://localhost:8080/"
    },
    "id": "6vejYchV71ka",
    "outputId": "8557e653-c38b-4916-a0f6-e35970aaeaf4"
   },
   "outputs": [
    {
     "name": "stdout",
     "output_type": "stream",
     "text": [
      "(500, 500)\n"
     ]
    }
   ],
   "source": [
    "path = '/content/cartoonset10k/cs10000053986926948907.png'\n",
    "\n",
    "img = Image.open(path)\n",
    "print(img.size)"
   ]
  },
  {
   "cell_type": "code",
   "execution_count": 6,
   "metadata": {
    "colab": {
     "base_uri": "https://localhost:8080/",
     "height": 286
    },
    "id": "rLIX9NO571sq",
    "outputId": "b462eafe-c531-4cbd-821f-c0cdfaa6ea89"
   },
   "outputs": [
    {
     "data": {
      "text/plain": [
       "<matplotlib.image.AxesImage at 0x7fce55cdea10>"
      ]
     },
     "execution_count": 6,
     "metadata": {},
     "output_type": "execute_result"
    },
    {
     "data": {
      "image/png": "[encoded data removed]",
      "text/plain": [
       "<Figure size 432x288 with 1 Axes>"
      ]
     },
     "metadata": {
      "needs_background": "light"
     },
     "output_type": "display_data"
    }
   ],
   "source": [
    "# посмотрим на изображение из датасета\n",
    "plt.imshow(img)"
   ]
  },
  {
   "cell_type": "code",
   "execution_count": 7,
   "metadata": {
    "id": "V6wU2ZCBDmP0"
   },
   "outputs": [],
   "source": [
    "path_csv='/content/cartoonset10k/cs10303524432705001174.csv'"
   ]
  },
  {
   "cell_type": "code",
   "execution_count": 8,
   "metadata": {
    "id": "bt0EsNnBDmV3"
   },
   "outputs": [],
   "source": [
    "# в нашем датасете есть как изображения, так и csv файлы. Посмотрим, что там:\n",
    "xyz = pd.read_csv(path_csv, header=None)"
   ]
  },
  {
   "cell_type": "code",
   "execution_count": 9,
   "metadata": {
    "colab": {
     "base_uri": "https://localhost:8080/",
     "height": 614
    },
    "id": "GXNdnbCSDmY2",
    "outputId": "d38c2f0a-749c-46b2-90d4-8f275bbf3f51"
   },
   "outputs": [
    {
     "data": {
      "text/html": [
       "\n",
       "  <div id=\"df-4944b956-3459-4786-a6ef-f8ea3694eb6e\">\n",
       "    <div class=\"colab-df-container\">\n",
       "      <div>\n",
       "<style scoped>\n",
       "    .dataframe tbody tr th:only-of-type {\n",
       "        vertical-align: middle;\n",
       "    }\n",
       "\n",
       "    .dataframe tbody tr th {\n",
       "        vertical-align: top;\n",
       "    }\n",
       "\n",
       "    .dataframe thead th {\n",
       "        text-align: right;\n",
       "    }\n",
       "</style>\n",
       "<table border=\"1\" class=\"dataframe\">\n",
       "  <thead>\n",
       "    <tr style=\"text-align: right;\">\n",
       "      <th></th>\n",
       "      <th>0</th>\n",
       "      <th>1</th>\n",
       "      <th>2</th>\n",
       "    </tr>\n",
       "  </thead>\n",
       "  <tbody>\n",
       "    <tr>\n",
       "      <th>0</th>\n",
       "      <td>eye_angle</td>\n",
       "      <td>2</td>\n",
       "      <td>3</td>\n",
       "    </tr>\n",
       "    <tr>\n",
       "      <th>1</th>\n",
       "      <td>eye_lashes</td>\n",
       "      <td>1</td>\n",
       "      <td>2</td>\n",
       "    </tr>\n",
       "    <tr>\n",
       "      <th>2</th>\n",
       "      <td>eye_lid</td>\n",
       "      <td>0</td>\n",
       "      <td>2</td>\n",
       "    </tr>\n",
       "    <tr>\n",
       "      <th>3</th>\n",
       "      <td>chin_length</td>\n",
       "      <td>0</td>\n",
       "      <td>3</td>\n",
       "    </tr>\n",
       "    <tr>\n",
       "      <th>4</th>\n",
       "      <td>eyebrow_weight</td>\n",
       "      <td>0</td>\n",
       "      <td>2</td>\n",
       "    </tr>\n",
       "    <tr>\n",
       "      <th>5</th>\n",
       "      <td>eyebrow_shape</td>\n",
       "      <td>2</td>\n",
       "      <td>14</td>\n",
       "    </tr>\n",
       "    <tr>\n",
       "      <th>6</th>\n",
       "      <td>eyebrow_thickness</td>\n",
       "      <td>1</td>\n",
       "      <td>4</td>\n",
       "    </tr>\n",
       "    <tr>\n",
       "      <th>7</th>\n",
       "      <td>face_shape</td>\n",
       "      <td>2</td>\n",
       "      <td>7</td>\n",
       "    </tr>\n",
       "    <tr>\n",
       "      <th>8</th>\n",
       "      <td>facial_hair</td>\n",
       "      <td>12</td>\n",
       "      <td>15</td>\n",
       "    </tr>\n",
       "    <tr>\n",
       "      <th>9</th>\n",
       "      <td>hair</td>\n",
       "      <td>54</td>\n",
       "      <td>111</td>\n",
       "    </tr>\n",
       "    <tr>\n",
       "      <th>10</th>\n",
       "      <td>eye_color</td>\n",
       "      <td>3</td>\n",
       "      <td>5</td>\n",
       "    </tr>\n",
       "    <tr>\n",
       "      <th>11</th>\n",
       "      <td>face_color</td>\n",
       "      <td>0</td>\n",
       "      <td>11</td>\n",
       "    </tr>\n",
       "    <tr>\n",
       "      <th>12</th>\n",
       "      <td>hair_color</td>\n",
       "      <td>8</td>\n",
       "      <td>10</td>\n",
       "    </tr>\n",
       "    <tr>\n",
       "      <th>13</th>\n",
       "      <td>glasses</td>\n",
       "      <td>11</td>\n",
       "      <td>12</td>\n",
       "    </tr>\n",
       "    <tr>\n",
       "      <th>14</th>\n",
       "      <td>glasses_color</td>\n",
       "      <td>2</td>\n",
       "      <td>7</td>\n",
       "    </tr>\n",
       "    <tr>\n",
       "      <th>15</th>\n",
       "      <td>eye_slant</td>\n",
       "      <td>2</td>\n",
       "      <td>3</td>\n",
       "    </tr>\n",
       "    <tr>\n",
       "      <th>16</th>\n",
       "      <td>eyebrow_width</td>\n",
       "      <td>0</td>\n",
       "      <td>3</td>\n",
       "    </tr>\n",
       "    <tr>\n",
       "      <th>17</th>\n",
       "      <td>eye_eyebrow_distance</td>\n",
       "      <td>0</td>\n",
       "      <td>3</td>\n",
       "    </tr>\n",
       "  </tbody>\n",
       "</table>\n",
       "</div>\n",
       "      <button class=\"colab-df-convert\" onclick=\"convertToInteractive('df-4944b956-3459-4786-a6ef-f8ea3694eb6e')\"\n",
       "              title=\"Convert this dataframe to an interactive table.\"\n",
       "              style=\"display:none;\">\n",
       "        \n",
       "  <svg xmlns=\"http://www.w3.org/2000/svg\" height=\"24px\"viewBox=\"0 0 24 24\"\n",
       "       width=\"24px\">\n",
       "    <path d=\"M0 0h24v24H0V0z\" fill=\"none\"/>\n",
       "    <path d=\"M18.56 5.44l.94 2.06.94-2.06 2.06-.94-2.06-.94-.94-2.06-.94 2.06-2.06.94zm-11 1L8.5 8.5l.94-2.06 2.06-.94-2.06-.94L8.5 2.5l-.94 2.06-2.06.94zm10 10l.94 2.06.94-2.06 2.06-.94-2.06-.94-.94-2.06-.94 2.06-2.06.94z\"/><path d=\"M17.41 7.96l-1.37-1.37c-.4-.4-.92-.59-1.43-.59-.52 0-1.04.2-1.43.59L10.3 9.45l-7.72 7.72c-.78.78-.78 2.05 0 2.83L4 21.41c.39.39.9.59 1.41.59.51 0 1.02-.2 1.41-.59l7.78-7.78 2.81-2.81c.8-.78.8-2.07 0-2.86zM5.41 20L4 18.59l7.72-7.72 1.47 1.35L5.41 20z\"/>\n",
       "  </svg>\n",
       "      </button>\n",
       "      \n",
       "  <style>\n",
       "    .colab-df-container {\n",
       "      display:flex;\n",
       "      flex-wrap:wrap;\n",
       "      gap: 12px;\n",
       "    }\n",
       "\n",
       "    .colab-df-convert {\n",
       "      background-color: #E8F0FE;\n",
       "      border: none;\n",
       "      border-radius: 50%;\n",
       "      cursor: pointer;\n",
       "      display: none;\n",
       "      fill: #1967D2;\n",
       "      height: 32px;\n",
       "      padding: 0 0 0 0;\n",
       "      width: 32px;\n",
       "    }\n",
       "\n",
       "    .colab-df-convert:hover {\n",
       "      background-color: #E2EBFA;\n",
       "      box-shadow: 0px 1px 2px rgba(60, 64, 67, 0.3), 0px 1px 3px 1px rgba(60, 64, 67, 0.15);\n",
       "      fill: #174EA6;\n",
       "    }\n",
       "\n",
       "    [theme=dark] .colab-df-convert {\n",
       "      background-color: #3B4455;\n",
       "      fill: #D2E3FC;\n",
       "    }\n",
       "\n",
       "    [theme=dark] .colab-df-convert:hover {\n",
       "      background-color: #434B5C;\n",
       "      box-shadow: 0px 1px 3px 1px rgba(0, 0, 0, 0.15);\n",
       "      filter: drop-shadow(0px 1px 2px rgba(0, 0, 0, 0.3));\n",
       "      fill: #FFFFFF;\n",
       "    }\n",
       "  </style>\n",
       "\n",
       "      <script>\n",
       "        const buttonEl =\n",
       "          document.querySelector('#df-4944b956-3459-4786-a6ef-f8ea3694eb6e button.colab-df-convert');\n",
       "        buttonEl.style.display =\n",
       "          google.colab.kernel.accessAllowed ? 'block' : 'none';\n",
       "\n",
       "        async function convertToInteractive(key) {\n",
       "          const element = document.querySelector('#df-4944b956-3459-4786-a6ef-f8ea3694eb6e');\n",
       "          const dataTable =\n",
       "            await google.colab.kernel.invokeFunction('convertToInteractive',\n",
       "                                                     [key], {});\n",
       "          if (!dataTable) return;\n",
       "\n",
       "          const docLinkHtml = 'Like what you see? Visit the ' +\n",
       "            '<a target=\"_blank\" href=https://colab.research.google.com/notebooks/data_table.ipynb>data table notebook</a>'\n",
       "            + ' to learn more about interactive tables.';\n",
       "          element.innerHTML = '';\n",
       "          dataTable['output_type'] = 'display_data';\n",
       "          await google.colab.output.renderOutput(dataTable, element);\n",
       "          const docLink = document.createElement('div');\n",
       "          docLink.innerHTML = docLinkHtml;\n",
       "          element.appendChild(docLink);\n",
       "        }\n",
       "      </script>\n",
       "    </div>\n",
       "  </div>\n",
       "  "
      ],
      "text/plain": [
       "                       0   1    2\n",
       "0              eye_angle   2    3\n",
       "1             eye_lashes   1    2\n",
       "2                eye_lid   0    2\n",
       "3            chin_length   0    3\n",
       "4         eyebrow_weight   0    2\n",
       "5          eyebrow_shape   2   14\n",
       "6      eyebrow_thickness   1    4\n",
       "7             face_shape   2    7\n",
       "8            facial_hair  12   15\n",
       "9                   hair  54  111\n",
       "10             eye_color   3    5\n",
       "11            face_color   0   11\n",
       "12            hair_color   8   10\n",
       "13               glasses  11   12\n",
       "14         glasses_color   2    7\n",
       "15             eye_slant   2    3\n",
       "16         eyebrow_width   0    3\n",
       "17  eye_eyebrow_distance   0    3"
      ]
     },
     "execution_count": 9,
     "metadata": {},
     "output_type": "execute_result"
    }
   ],
   "source": [
    "xyz"
   ]
  },
  {
   "cell_type": "markdown",
   "metadata": {
    "id": "sXzzVyGsJwiq"
   },
   "source": [
    "В данном датасете к каждому изображению идет отдельное описание. Для нашего задания таблички пригодятся для того, чтобы получить правильные ответы о принадлежности картинки к какой-то группе. \n",
    "\n",
    "В датасете картинки характеризуются следующим набором характеристик:\n",
    "\n",
    "\n",
    "# Variants\tDescription\n",
    "Artwork\n",
    "chin_length\t3\t\n",
    "eye_angle\t3\t\n",
    "eye_lashes\t2\t\n",
    "eye_lid\t2\t\n",
    "eyebrow_shape\t14\t\n",
    "eyebrow_weight\t2\t\n",
    "face_shape\t7\t\n",
    "facial_hair\t15\t\n",
    "glasses\t12\t\n",
    "hair\t111\t\n",
    " \n",
    "Colors\n",
    "eye_color\t5\t\n",
    "face_color\t11\t\n",
    "glasses_color\t7\t\n",
    "hair_color\t10\t\n",
    " \n",
    "Proportions\n",
    "eye_eyebrow_distance\t3\t\n",
    "eye_slant\t3\t\n",
    "eyebrow_thickness\t4\t\n",
    "eyebrow_width\t3\t\n",
    "\n",
    "Так как вариантов очень много, было принято решение остановиться на одной характеристике - цвет волос персонажа (всего 10 вариантов)\n",
    "\n",
    "Создадим выборку, состоящую из изображений (расширение png)."
   ]
  },
  {
   "cell_type": "code",
   "execution_count": 10,
   "metadata": {
    "id": "0GP0c5RHDmbU"
   },
   "outputs": [],
   "source": [
    "img_height, img_width = 256, 256"
   ]
  },
  {
   "cell_type": "code",
   "execution_count": 11,
   "metadata": {
    "id": "lLFDH8qgDmma"
   },
   "outputs": [],
   "source": [
    "image_list = []\n",
    "for file in os.listdir(base_dir):\n",
    "  extension = \".png\"\n",
    "  if os.path.splitext(file)[1] in extension:\n",
    "      image_list.append((np.array(image.load_img(base_dir + '/' + file, target_size=(256, 256), color_mode='grayscale'))))"
   ]
  },
  {
   "cell_type": "code",
   "execution_count": 12,
   "metadata": {
    "colab": {
     "base_uri": "https://localhost:8080/"
    },
    "id": "2O5yIMZagweF",
    "outputId": "ce2d357f-4981-4fc9-d71f-09689e6f1f82"
   },
   "outputs": [
    {
     "data": {
      "text/plain": [
       "98"
      ]
     },
     "execution_count": 12,
     "metadata": {},
     "output_type": "execute_result"
    }
   ],
   "source": [
    "gc.collect()"
   ]
  },
  {
   "cell_type": "code",
   "execution_count": 13,
   "metadata": {
    "colab": {
     "base_uri": "https://localhost:8080/"
    },
    "id": "2svsYsFuroKY",
    "outputId": "f6ccb521-efcf-43d0-b66c-94a6ede547b5"
   },
   "outputs": [
    {
     "data": {
      "text/plain": [
       "50"
      ]
     },
     "execution_count": 13,
     "metadata": {},
     "output_type": "execute_result"
    }
   ],
   "source": [
    "gc.collect()"
   ]
  },
  {
   "cell_type": "code",
   "execution_count": 14,
   "metadata": {
    "id": "du_1pIdqxmXf"
   },
   "outputs": [],
   "source": [
    "x_train = np.array(image_list)"
   ]
  },
  {
   "cell_type": "code",
   "execution_count": 15,
   "metadata": {
    "id": "g9c8VK6BxmaQ"
   },
   "outputs": [],
   "source": [
    "x_train1 = x_train.reshape(x_train.shape[0], 256, 256, 1)"
   ]
  },
  {
   "cell_type": "code",
   "execution_count": 16,
   "metadata": {
    "colab": {
     "base_uri": "https://localhost:8080/"
    },
    "id": "-hPE3Qz5xmdN",
    "outputId": "53a4424e-3630-49de-feb0-4fdbc31a9c56"
   },
   "outputs": [
    {
     "name": "stdout",
     "output_type": "stream",
     "text": [
      "Форма обучающих данных: (10000, 256, 256)\n"
     ]
    }
   ],
   "source": [
    "# Проверка результата\n",
    "print(f'Форма обучающих данных: {x_train.shape}')"
   ]
  },
  {
   "cell_type": "code",
   "execution_count": 17,
   "metadata": {
    "id": "7km2IlAkx6_X"
   },
   "outputs": [],
   "source": [
    "X_train2 = x_train1.astype('float32') / 255."
   ]
  },
  {
   "cell_type": "code",
   "execution_count": 18,
   "metadata": {
    "colab": {
     "base_uri": "https://localhost:8080/"
    },
    "id": "vob49TnbchyJ",
    "outputId": "80d354a5-5f92-459c-b992-312f3cbef046"
   },
   "outputs": [
    {
     "data": {
      "text/plain": [
       "(256, 256, 1)"
      ]
     },
     "execution_count": 18,
     "metadata": {},
     "output_type": "execute_result"
    }
   ],
   "source": [
    "X_train2[0].shape"
   ]
  },
  {
   "cell_type": "code",
   "execution_count": 19,
   "metadata": {
    "id": "gUgjPq_4Uq6b"
   },
   "outputs": [],
   "source": [
    "# поделим датасет на тренировочную и тестовую выборки\n",
    "#X_train, X_test = train_test_split(X_train2, test_size=0.6, random_state=42)\n",
    "X_train=X_train2[:6000]\n",
    "X_test=X_train2[6000:]"
   ]
  },
  {
   "cell_type": "code",
   "execution_count": 20,
   "metadata": {
    "id": "jx6LEgIQ6z4O"
   },
   "outputs": [],
   "source": [
    "X_train=np.array(X_train)\n",
    "X_test=np.array(X_test)"
   ]
  },
  {
   "cell_type": "code",
   "execution_count": 21,
   "metadata": {
    "colab": {
     "base_uri": "https://localhost:8080/"
    },
    "id": "Ei6Q5HlK-IpD",
    "outputId": "fd162671-0045-41be-b93b-b21763efc8d1"
   },
   "outputs": [
    {
     "name": "stdout",
     "output_type": "stream",
     "text": [
      "(6000, 256, 256, 1)\n",
      "(4000, 256, 256, 1)\n"
     ]
    }
   ],
   "source": [
    "print(X_train.shape)\n",
    "print(X_test.shape)"
   ]
  },
  {
   "cell_type": "code",
   "execution_count": 22,
   "metadata": {
    "id": "e5-BZMfvjB_h"
   },
   "outputs": [],
   "source": [
    "# так как в имеющемся описании к изображениям категорий слишком много, возьмем 1 - цвет волос. Сделаем список с правильными ответами на основании цвета волос на картинке\n",
    "y_all=[]\n",
    "for file in os.listdir(base_dir):\n",
    "  extension = \".csv\"\n",
    "  if os.path.splitext(file)[1] in extension:\n",
    "    path_csv='/content/cartoonset10k/' +file\n",
    "    ind=pd.read_csv(path_csv, header=None).iloc[12, 1]\n",
    "    y_all.append(ind)"
   ]
  },
  {
   "cell_type": "code",
   "execution_count": 23,
   "metadata": {
    "colab": {
     "base_uri": "https://localhost:8080/"
    },
    "id": "_NB-cIgL-zjX",
    "outputId": "a94be21e-af15-40a4-f08b-84f25e534235"
   },
   "outputs": [
    {
     "name": "stdout",
     "output_type": "stream",
     "text": [
      "6000\n",
      "4000\n"
     ]
    }
   ],
   "source": [
    "Y_train=y_all[:6000]\n",
    "Y_test=y_all[6000:]\n",
    "print(len(Y_train))\n",
    "print(len(Y_test))"
   ]
  },
  {
   "cell_type": "code",
   "execution_count": 24,
   "metadata": {
    "id": "Xu95_5cwfgtM"
   },
   "outputs": [],
   "source": [
    "# Проверим версию. Работаем на 2х версии\n",
    "#tf.version"
   ]
  },
  {
   "cell_type": "code",
   "execution_count": 25,
   "metadata": {
    "colab": {
     "base_uri": "https://localhost:8080/",
     "height": 35
    },
    "id": "OIr_39cMfavF",
    "outputId": "10b661a2-07e7-4e04-a77d-79499d3f42e6"
   },
   "outputs": [
    {
     "data": {
      "application/vnd.google.colaboratory.intrinsic+json": {
       "type": "string"
      },
      "text/plain": [
       "'2.7.0'"
      ]
     },
     "execution_count": 25,
     "metadata": {},
     "output_type": "execute_result"
    }
   ],
   "source": [
    "# Импортируем Keras\n",
    "import keras\n",
    "\n",
    "# Импортируем Keras\n",
    "from tensorflow import keras\n",
    "\n",
    "# Проверим версию - 2.7.0 актуальная\n",
    "keras.__version__"
   ]
  },
  {
   "cell_type": "code",
   "execution_count": 26,
   "metadata": {
    "colab": {
     "base_uri": "https://localhost:8080/"
    },
    "id": "_8lG--99mDAf",
    "outputId": "efbb8c20-a96b-4212-e2e5-05a8e4e4caa8"
   },
   "outputs": [
    {
     "data": {
      "text/plain": [
       "200"
      ]
     },
     "execution_count": 26,
     "metadata": {},
     "output_type": "execute_result"
    }
   ],
   "source": [
    "\n",
    "gc.collect()"
   ]
  },
  {
   "cell_type": "code",
   "execution_count": 27,
   "metadata": {
    "id": "J_CHvvPdfa6f"
   },
   "outputs": [],
   "source": [
    "hidden_dim = 200  # Зададим размерность скрытого пространства AE\n",
    "\n",
    "#batch_size = 128 # Задамим размер батча для обучения AE(должно быть кратно 10 000)"
   ]
  },
  {
   "cell_type": "code",
   "execution_count": 28,
   "metadata": {
    "id": "uz1nCfkJfa_7"
   },
   "outputs": [],
   "source": [
    "# Создадим функцию сборки блока построения сверточного энкодера\n",
    "\n",
    "def encoderBlock(xin,        # Входной тензор\n",
    "                 neu=8,      # Число нейроной сверточного слоя\n",
    "                 kernel=3,   # Размер ядра сверточного слоя\n",
    "                 strides=1): # Число шагом сверточного слоя\n",
    "\n",
    "    # Составим блок сети\n",
    "    x = Conv2D(neu, kernel_size=kernel, strides= strides, padding='same')(xin) # Добавим 2D свертку\n",
    "    x = BatchNormalization()(x)                                                # Добавим нормализацию по батчу\n",
    "    x = LeakyReLU()(x)                                                         # Добавим функцию активации\n",
    "\n",
    "    # Вернем выходной тензор\n",
    "    return x\n"
   ]
  },
  {
   "cell_type": "code",
   "execution_count": 29,
   "metadata": {
    "id": "QQndoOAffbCi"
   },
   "outputs": [],
   "source": [
    "# Создадим функцию сборки блока построения сверточного декодера\n",
    "\n",
    "def decoderBlock(xin,        # Входной тензор\n",
    "                 neu=8,      # Число нейроной сверточного слоя\n",
    "                 kernel=3,   # Размер ядра сверточного слоя\n",
    "                 strides=1): # Число шагом сверточного слоя\n",
    "\n",
    "    # Составим блок сети\n",
    "    x = Conv2DTranspose(neu, kernel_size=kernel, strides= strides, padding='same')(xin)  # Добавим обратную 2D свертку\n",
    "    x = BatchNormalization()(x)                                                          # Добавим нормализацию по батчу\n",
    "    x = LeakyReLU()(x)                                                                   # Добавим функцию активации\n",
    "\n",
    "    # Вернем выходной тензор\n",
    "    return x"
   ]
  },
  {
   "cell_type": "code",
   "execution_count": 30,
   "metadata": {
    "id": "Suro4FoifbE1"
   },
   "outputs": [],
   "source": [
    "# Функция создания блока энкодера-декодера\n",
    "\n",
    "def dropout_and_batch(xin): # xin - входной тензор\n",
    "\n",
    "  x = BatchNormalization()(xin) # Добавим слой нормализации\n",
    "  x = Dropout(0.3)(x)           # Добавим дроаут\n",
    "  \n",
    "  # Вернем выходной тензор\n",
    "  return x     "
   ]
  },
  {
   "cell_type": "code",
   "execution_count": 31,
   "metadata": {
    "id": "X0VzIcc6fgxJ"
   },
   "outputs": [],
   "source": [
    "# Создадим сверточный энкодер\n",
    "\n",
    "input_img = Input(shape=(256, 256, 1))                     # Добавим входной слой\n",
    "x = encoderBlock(input_img, neu=8, kernel=3, strides=1) # Добавим 1-й блок свертка+нормализация+активашка\n",
    "x = encoderBlock(x, neu=8, kernel=3, strides=2)         # Добавим 2-й блок свертка+нормализация+активашка\n",
    "x = encoderBlock(x, neu=8, kernel=3, strides=2)         # Добавим 3-й блок свертка+нормализация+активашка\n",
    "x = encoderBlock(x, neu=16, kernel=3, strides=2)         # Добавим 4-й блок свертка+нормализация+активашка\n",
    "x = encoderBlock(x, neu=16, kernel=3, strides=2)\n",
    "x = encoderBlock(x, neu=32, kernel=3, strides=2)\n",
    "\n",
    "flatten =Flatten()(x)                                    # Добавим Flatten\n",
    "x = Dense(200, activation='linear')(flatten)               # Добавим выходной dense слой"
   ]
  },
  {
   "cell_type": "markdown",
   "metadata": {
    "id": "2Xzl7m9StyGK"
   },
   "source": [
    "Выход энкодера подаем сразу, параллельно на два dense-слоя – формирователи мат. ожидания и логарифма дисперсии. Здесь вместо точки в пространстве Z формируется облачко:"
   ]
  },
  {
   "cell_type": "code",
   "execution_count": 32,
   "metadata": {
    "id": "u_cxpn49p9jn"
   },
   "outputs": [],
   "source": [
    "z_mean = Dense(hidden_dim)(x)        # Добавим dense для получения мат.ожидания\n",
    "z_log_var = Dense(hidden_dim)(x)     # Добавим dense для получения логарифма дисперсии"
   ]
  },
  {
   "cell_type": "code",
   "execution_count": 33,
   "metadata": {
    "id": "nXLUv-mTp9me"
   },
   "outputs": [],
   "source": [
    "# Создадим функцию - генератор случайных чисел с заданными параметрами\n",
    "\n",
    "def noiser(args):                                                         # Входные параметры\n",
    "  z_mean, z_log_var = args                                                # Разберем входные параметры на отдельные переменные\n",
    "  N = K.random_normal(shape=(K.shape(z_mean)[0], hidden_dim), mean=0., stddev=1.0)# Генерируем тензор из нормальных случайных  чисел с параметрами (0,1)\n",
    "\n",
    "  # Вернем тензор случайных числел с заданной дисперсией и мат.ожиданием\n",
    "  return K.exp(z_log_var / 2) * N + z_mean                                 \n",
    "\n",
    "h = Lambda(noiser, output_shape=(hidden_dim,))([z_mean, z_log_var])       # Создадим свой слой - лямбда. На входе мат.ожидание и логарифм дисперсии \n",
    "                                                                          # На выходе - тензор случайных чисел "
   ]
  },
  {
   "cell_type": "code",
   "execution_count": 34,
   "metadata": {
    "id": "nbKqioq8uHiV"
   },
   "outputs": [],
   "source": [
    " # Соберем энкодер\n",
    "\n",
    "encoderVAEС = keras.Model(input_img, [z_mean, z_log_var, h], name='encoder')"
   ]
  },
  {
   "cell_type": "code",
   "execution_count": 35,
   "metadata": {
    "id": "Vb55DlXjuHlS"
   },
   "outputs": [],
   "source": [
    "# Создадим сверточный декодер\n",
    "\n",
    "input_enc = Input(shape=(200,))                            # Добавим входной слой\n",
    "x = Dense(4096, name='dense_1')(input_enc)               # Добавим dense в 7х7х64 = 3136 нейронами\n",
    "x = Reshape((8, 8, 64))(x)                               # Решейпим 1D тензор в 3D тензор\n",
    "x= decoderBlock(x, neu=32, kernel=3, strides=1)          # Добавим 1-й блок обратная свертка+нормализация+активашка\n",
    "x= decoderBlock(x, neu=16, kernel=3, strides=2)          # Добавим 2-й блок обратная свертка+нормализация+активашка\n",
    "x= decoderBlock(x, neu=16, kernel=3, strides=2)          # Добавим 3-й блок обратная свертка+нормализация+активашка\n",
    "#x= Conv2D(32, kernel_size=3)(x)\n",
    "x= decoderBlock(x, neu=16, kernel=3, strides=2)\n",
    "x= decoderBlock(x, neu=8, kernel=3, strides=2)\n",
    "x= decoderBlock(x, neu=8, kernel=3, strides=2)\n",
    "\n",
    "decoded = Conv2DTranspose(1, 3, 1,padding='same', activation='sigmoid', name='conv_transpose_4')(x)# Добавим выходной слой"
   ]
  },
  {
   "cell_type": "code",
   "execution_count": 36,
   "metadata": {
    "id": "Wl36xe8luHn5"
   },
   "outputs": [],
   "source": [
    "# Соберем декодер\n",
    "\n",
    "decoderVAEС = keras.Model(input_enc, decoded, name='decoder')    "
   ]
  },
  {
   "cell_type": "code",
   "execution_count": 37,
   "metadata": {
    "id": "kQsrW83AuHqo"
   },
   "outputs": [],
   "source": [
    "# Запишем выражение для декодера, заметим, что за вход декодера подается только 1 их выходов энкодера\n",
    "\n",
    "outputs = decoderVAEС(encoderVAEС(input_img)[2]) "
   ]
  },
  {
   "cell_type": "code",
   "execution_count": 38,
   "metadata": {
    "id": "-O-SIoWxuHtg"
   },
   "outputs": [],
   "source": [
    "# Соберем наши сетки\n",
    "\n",
    "vaec = keras.Model(input_img, decoderVAEС(encoderVAEС(input_img)[2])) # Соберем VAE"
   ]
  },
  {
   "cell_type": "code",
   "execution_count": 39,
   "metadata": {
    "id": "rj2p3VcEuHv5"
   },
   "outputs": [],
   "source": [
    "reconstruction_loss = keras.losses.MSE(input_img, outputs)     # Рассчитаем ошибку восстановления изображения - лоссы MSE\n",
    "reconstruction_loss *= 256*256                                   # Уберем нормировку MSE\n",
    "#reconstruction_loss *= 1000\n",
    "kl_loss = 1 + z_log_var - K.square(z_mean) - K.exp(z_log_var)  # Рассчитаем лоссы KL\n",
    "kl_loss = -0.5* K.sum(kl_loss, axis=-1)                        #  \n",
    "vaeс_loss = K.mean(reconstruction_loss) +  K.mean(kl_loss)      # Суммируем лоссы - здесь можно вводить веса  \n",
    "vaec.add_loss(vaeс_loss)                                         # Отдадим наш лосс VAE"
   ]
  },
  {
   "cell_type": "code",
   "execution_count": 40,
   "metadata": {
    "id": "9MYfzyJvuHyq"
   },
   "outputs": [],
   "source": [
    "# Выведем состав энкодера\n",
    "#encoderVAEС.summary()"
   ]
  },
  {
   "cell_type": "code",
   "execution_count": 41,
   "metadata": {
    "id": "quG1sWMwuH1q"
   },
   "outputs": [],
   "source": [
    "#  Выведем состав энкодера\n",
    "#decoderVAEС.summary()"
   ]
  },
  {
   "cell_type": "code",
   "execution_count": 42,
   "metadata": {
    "id": "qTlaWmJInAsO"
   },
   "outputs": [],
   "source": [
    "#tf.keras.utils.plot_model(decoderVAEС, show_shapes=True, dpi=50)"
   ]
  },
  {
   "cell_type": "code",
   "execution_count": 43,
   "metadata": {
    "id": "IWpyKKtGuH30"
   },
   "outputs": [],
   "source": [
    "# Компилируем VAE\n",
    "opt = keras.optimizers.Adam(learning_rate=0.001)\n",
    "vaec.compile(optimizer=opt) # оптимайзер ADAM"
   ]
  },
  {
   "cell_type": "code",
   "execution_count": 44,
   "metadata": {
    "colab": {
     "base_uri": "https://localhost:8080/"
    },
    "id": "SA8Pw7lz63yN",
    "outputId": "98fb765f-cd28-4949-81bc-aa94af8f7bf8"
   },
   "outputs": [
    {
     "data": {
      "text/plain": [
       "1941"
      ]
     },
     "execution_count": 44,
     "metadata": {},
     "output_type": "execute_result"
    }
   ],
   "source": [
    "gc.collect()"
   ]
  },
  {
   "cell_type": "code",
   "execution_count": 45,
   "metadata": {
    "colab": {
     "base_uri": "https://localhost:8080/"
    },
    "id": "RiIAqFkf65dc",
    "outputId": "a127775c-f21f-4ce9-fa53-7915f90aefae"
   },
   "outputs": [
    {
     "data": {
      "text/plain": [
       "(6000, 256, 256, 1)"
      ]
     },
     "execution_count": 45,
     "metadata": {},
     "output_type": "execute_result"
    }
   ],
   "source": [
    "X_train.shape"
   ]
  },
  {
   "cell_type": "code",
   "execution_count": 46,
   "metadata": {
    "colab": {
     "base_uri": "https://localhost:8080/"
    },
    "id": "mhqHc28fp9pK",
    "outputId": "8f471eef-b491-4558-9ee8-89342340d8d7"
   },
   "outputs": [
    {
     "name": "stdout",
     "output_type": "stream",
     "text": [
      "Epoch 1/40\n",
      "750/750 [==============================] - 64s 67ms/step - loss: 1186.6792\n",
      "Epoch 2/40\n",
      "750/750 [==============================] - 50s 67ms/step - loss: 680.6089\n",
      "Epoch 3/40\n",
      "750/750 [==============================] - 50s 66ms/step - loss: 595.2426\n",
      "Epoch 4/40\n",
      "750/750 [==============================] - 50s 66ms/step - loss: 555.9611\n",
      "Epoch 5/40\n",
      "750/750 [==============================] - 50s 66ms/step - loss: 519.1519\n",
      "Epoch 6/40\n",
      "750/750 [==============================] - 50s 66ms/step - loss: 492.9791\n",
      "Epoch 7/40\n",
      "750/750 [==============================] - 50s 67ms/step - loss: 472.0309\n",
      "Epoch 8/40\n",
      "750/750 [==============================] - 50s 67ms/step - loss: 456.3635\n",
      "Epoch 9/40\n",
      "750/750 [==============================] - 50s 66ms/step - loss: 444.0211\n",
      "Epoch 10/40\n",
      "750/750 [==============================] - 50s 67ms/step - loss: 427.3513\n",
      "Epoch 11/40\n",
      "750/750 [==============================] - 50s 67ms/step - loss: 422.7693\n",
      "Epoch 12/40\n",
      "750/750 [==============================] - 50s 67ms/step - loss: 410.4590\n",
      "Epoch 13/40\n",
      "750/750 [==============================] - 50s 66ms/step - loss: 402.7684\n",
      "Epoch 14/40\n",
      "750/750 [==============================] - 50s 66ms/step - loss: 396.6202\n",
      "Epoch 15/40\n",
      "750/750 [==============================] - 50s 67ms/step - loss: 389.5971\n",
      "Epoch 16/40\n",
      "750/750 [==============================] - 50s 67ms/step - loss: 387.5544\n",
      "Epoch 17/40\n",
      "750/750 [==============================] - 50s 67ms/step - loss: 377.9529\n",
      "Epoch 18/40\n",
      "750/750 [==============================] - 50s 67ms/step - loss: 372.8919\n",
      "Epoch 19/40\n",
      "750/750 [==============================] - 50s 66ms/step - loss: 375.0422\n",
      "Epoch 20/40\n",
      "750/750 [==============================] - 50s 66ms/step - loss: 364.5558\n",
      "Epoch 21/40\n",
      "750/750 [==============================] - 50s 66ms/step - loss: 362.8988\n",
      "Epoch 22/40\n",
      "750/750 [==============================] - 50s 66ms/step - loss: 361.9245\n",
      "Epoch 23/40\n",
      "750/750 [==============================] - 50s 66ms/step - loss: 358.6799\n",
      "Epoch 24/40\n",
      "750/750 [==============================] - 50s 66ms/step - loss: 353.7838\n",
      "Epoch 25/40\n",
      "750/750 [==============================] - 50s 66ms/step - loss: 352.4517\n",
      "Epoch 26/40\n",
      "750/750 [==============================] - 50s 66ms/step - loss: 351.6871\n",
      "Epoch 27/40\n",
      "750/750 [==============================] - 50s 66ms/step - loss: 347.3708\n",
      "Epoch 28/40\n",
      "750/750 [==============================] - 50s 66ms/step - loss: 347.4145\n",
      "Epoch 29/40\n",
      "750/750 [==============================] - 50s 66ms/step - loss: 344.0494\n",
      "Epoch 30/40\n",
      "750/750 [==============================] - 49s 66ms/step - loss: 341.6704\n",
      "Epoch 31/40\n",
      "750/750 [==============================] - 49s 66ms/step - loss: 342.4966\n",
      "Epoch 32/40\n",
      "750/750 [==============================] - 49s 65ms/step - loss: 337.9175\n",
      "Epoch 33/40\n",
      "750/750 [==============================] - 50s 66ms/step - loss: 338.1022\n",
      "Epoch 34/40\n",
      "750/750 [==============================] - 50s 66ms/step - loss: 334.8615\n",
      "Epoch 35/40\n",
      "750/750 [==============================] - 50s 66ms/step - loss: 333.8913\n",
      "Epoch 36/40\n",
      "750/750 [==============================] - 50s 66ms/step - loss: 335.6075\n",
      "Epoch 37/40\n",
      "750/750 [==============================] - 49s 65ms/step - loss: 330.4070\n",
      "Epoch 38/40\n",
      "750/750 [==============================] - 49s 66ms/step - loss: 330.3620\n",
      "Epoch 39/40\n",
      "750/750 [==============================] - 50s 66ms/step - loss: 328.4897\n",
      "Epoch 40/40\n",
      "750/750 [==============================] - 49s 65ms/step - loss: 328.4149\n"
     ]
    },
    {
     "data": {
      "text/plain": [
       "<keras.callbacks.History at 0x7fce50315610>"
      ]
     },
     "execution_count": 46,
     "metadata": {},
     "output_type": "execute_result"
    }
   ],
   "source": [
    "# Запускаем обучениe\n",
    "\n",
    "vaec.fit(X_train,      # Обучающая выборка\n",
    "        X_train,       # \"Labels\" обучающей выборки\n",
    "        epochs=40,      # 10 эпох\n",
    "        batch_size=8 # размер батча\n",
    "        )  # обучающую выборку перемешиваем"
   ]
  },
  {
   "cell_type": "code",
   "execution_count": 47,
   "metadata": {
    "id": "7xDuuCkDPsmK"
   },
   "outputs": [],
   "source": [
    "#Пересохранение обученной модели полностью (веса и архитектура)\n",
    "#vaec.save('model_vaec1')"
   ]
  },
  {
   "cell_type": "code",
   "execution_count": 48,
   "metadata": {
    "id": "b7xqFLKoP4PS"
   },
   "outputs": [],
   "source": [
    "#from google.colab import drive\n",
    "#drive.mount('/content/gdrive')"
   ]
  },
  {
   "cell_type": "code",
   "execution_count": 49,
   "metadata": {
    "id": "SVjiUJ2wP5hH"
   },
   "outputs": [],
   "source": [
    "# сохраним модель на гугл драйв:\n",
    "#path = F\"/content/gdrive/My Drive/models\" \n",
    "#vaec.save(path+'/model_vaec')"
   ]
  },
  {
   "cell_type": "code",
   "execution_count": 50,
   "metadata": {
    "id": "zjC3rN0_QEpS"
   },
   "outputs": [],
   "source": [
    "# проверим, действительно ли она там сохранился:\n",
    "#!ls '/content/gdrive/My Drive/models'"
   ]
  },
  {
   "cell_type": "code",
   "execution_count": 51,
   "metadata": {
    "id": "0IHuJOdBQVoi"
   },
   "outputs": [],
   "source": [
    "# сохраним путь до модели\n",
    "#model_path='/content/gdrive/MyDrive/models/model_vaec'"
   ]
  },
  {
   "cell_type": "code",
   "execution_count": 52,
   "metadata": {
    "colab": {
     "base_uri": "https://localhost:8080/"
    },
    "id": "I4NGn1xYp9uV",
    "outputId": "a4d8e982-d2d3-4e86-96f6-24503517e524"
   },
   "outputs": [
    {
     "data": {
      "text/plain": [
       "795"
      ]
     },
     "execution_count": 52,
     "metadata": {},
     "output_type": "execute_result"
    }
   ],
   "source": [
    "gc.collect()"
   ]
  },
  {
   "cell_type": "code",
   "execution_count": 53,
   "metadata": {
    "id": "uzsGbehpQxor"
   },
   "outputs": [],
   "source": [
    "#from tensorflow.keras.models import load_model\n",
    "#model = load_model(model_path)                    # Загрузка модели"
   ]
  },
  {
   "cell_type": "code",
   "execution_count": 54,
   "metadata": {
    "colab": {
     "base_uri": "https://localhost:8080/"
    },
    "id": "GMNB6RMZBgOQ",
    "outputId": "6e6f2fad-f836-4d4d-dbd6-a40378f700f4"
   },
   "outputs": [
    {
     "data": {
      "text/plain": [
       "4000"
      ]
     },
     "execution_count": 54,
     "metadata": {},
     "output_type": "execute_result"
    }
   ],
   "source": [
    "len(X_test)"
   ]
  },
  {
   "cell_type": "code",
   "execution_count": 55,
   "metadata": {
    "colab": {
     "base_uri": "https://localhost:8080/"
    },
    "id": "aOzXm-ZPEB4Q",
    "outputId": "d888de61-de94-46bc-c553-d45fdbbd487a"
   },
   "outputs": [
    {
     "data": {
      "text/plain": [
       "4000"
      ]
     },
     "execution_count": 55,
     "metadata": {},
     "output_type": "execute_result"
    }
   ],
   "source": [
    "len(Y_test)"
   ]
  },
  {
   "cell_type": "code",
   "execution_count": 56,
   "metadata": {
    "id": "BCeDhsRekmNo"
   },
   "outputs": [],
   "source": [
    "batch_size=100\n",
    "hidden_dim=200\n",
    "from tensorflow.keras.callbacks import LambdaCallback, ReduceLROnPlateau, TensorBoard # импортируем коллбэки\n",
    "generator=decoderVAEС"
   ]
  },
  {
   "cell_type": "code",
   "execution_count": 57,
   "metadata": {
    "id": "45qZa8LRjLOP"
   },
   "outputs": [],
   "source": [
    "vec3=np.random.normal(size = (1,hidden_dim))"
   ]
  },
  {
   "cell_type": "code",
   "execution_count": 58,
   "metadata": {
    "id": "dekUwU2BYUse"
   },
   "outputs": [],
   "source": [
    "img = decoderVAEС.predict(vec3)"
   ]
  },
  {
   "cell_type": "code",
   "execution_count": 59,
   "metadata": {
    "colab": {
     "base_uri": "https://localhost:8080/",
     "height": 286
    },
    "id": "hXvuyhdsYUyZ",
    "outputId": "f6667d2f-117e-418e-dd50-7bba7c2ab415"
   },
   "outputs": [
    {
     "data": {
      "text/plain": [
       "<matplotlib.image.AxesImage at 0x7fce55661d90>"
      ]
     },
     "execution_count": 59,
     "metadata": {},
     "output_type": "execute_result"
    },
    {
     "data": {
      "image/png": "[encoded data removed]",
      "text/plain": [
       "<Figure size 432x288 with 1 Axes>"
      ]
     },
     "metadata": {
      "needs_background": "light"
     },
     "output_type": "display_data"
    }
   ],
   "source": [
    "plt.imshow(img.squeeze())"
   ]
  },
  {
   "cell_type": "code",
   "execution_count": 60,
   "metadata": {
    "colab": {
     "base_uri": "https://localhost:8080/",
     "height": 286
    },
    "id": "XijTwt5E6_5v",
    "outputId": "152aef22-678b-4e7e-e1f5-c1ce80d8274f"
   },
   "outputs": [
    {
     "data": {
      "text/plain": [
       "<matplotlib.image.AxesImage at 0x7fcddda8f950>"
      ]
     },
     "execution_count": 60,
     "metadata": {},
     "output_type": "execute_result"
    },
    {
     "data": {
      "image/png": "[encoded data removed]",
      "text/plain": [
       "<Figure size 432x288 with 1 Axes>"
      ]
     },
     "metadata": {
      "needs_background": "light"
     },
     "output_type": "display_data"
    }
   ],
   "source": [
    "vec2=np.random.normal(size = (1,hidden_dim))\n",
    "img2 = decoderVAEС.predict(vec2)\n",
    "plt.imshow(img2.squeeze())"
   ]
  },
  {
   "cell_type": "code",
   "execution_count": 65,
   "metadata": {
    "colab": {
     "base_uri": "https://localhost:8080/",
     "height": 286
    },
    "id": "On-2Gyii6_9A",
    "outputId": "5d52fa0e-98ae-40b9-b1dd-9e2adc397483"
   },
   "outputs": [
    {
     "data": {
      "text/plain": [
       "<matplotlib.image.AxesImage at 0x7fcddd7fa6d0>"
      ]
     },
     "execution_count": 65,
     "metadata": {},
     "output_type": "execute_result"
    },
    {
     "data": {
      "image/png": "[encoded data removed]",
      "text/plain": [
       "<Figure size 432x288 with 1 Axes>"
      ]
     },
     "metadata": {
      "needs_background": "light"
     },
     "output_type": "display_data"
    }
   ],
   "source": [
    "vec1=np.random.normal(size = (1,hidden_dim))\n",
    "img1 = decoderVAEС.predict(vec1)\n",
    "plt.imshow(img1.squeeze())"
   ]
  },
  {
   "cell_type": "code",
   "execution_count": 61,
   "metadata": {
    "id": "dZDIUqNW6__0"
   },
   "outputs": [],
   "source": []
  },
  {
   "cell_type": "code",
   "execution_count": 62,
   "metadata": {
    "colab": {
     "base_uri": "https://localhost:8080/",
     "height": 269
    },
    "id": "MKAnAR20OnHN",
    "outputId": "49396bb7-e17e-40ac-d534-ddd89b162fda"
   },
   "outputs": [
    {
     "data": {
      "image/png": "[encoded data removed]",
      "text/plain": [
       "<Figure size 432x288 with 2 Axes>"
      ]
     },
     "metadata": {
      "needs_background": "light"
     },
     "output_type": "display_data"
    }
   ],
   "source": [
    "h = encoderVAEС.predict(X_test[:5500], batch_size=batch_size)    # Предиктим энкодером первые 6000 цизображений ифр \n",
    "plt.scatter(h[2][:, 0], h[2][:, 1] , c=Y_test[:5500], cmap='viridis') # Выводим  скаттер координат точек скрытого пространства\n",
    "plt.colorbar()                                                  # Выводим цветовую шкалу - каждому классу свой цвет\n",
    "plt.show()           "
   ]
  },
  {
   "cell_type": "markdown",
   "metadata": {
    "id": "5_WwoD1AUJ7T"
   },
   "source": [
    "Выводы: на мой взгляд, удалось достичь целей, поставленных в данном задании. На графике видно, что точки представляют собой практически непрерывное пространство, при попытке генерации изображений удается получить различимые картинки в любой рандомной точке."
   ]
  },
  {
   "cell_type": "code",
   "execution_count": 62,
   "metadata": {
    "id": "zmFHI-6XOnJq"
   },
   "outputs": [],
   "source": []
  }
 ],
 "metadata": {
  "accelerator": "GPU",
  "colab": {
   "collapsed_sections": [],
   "name": "Ver_5_ДЗ_Ultra_Pro___Вариационные_автокодировщики___УИИ.ipynb",
   "provenance": []
  },
  "kernelspec": {
   "display_name": "Python 3 (ipykernel)",
   "language": "python",
   "name": "python3"
  },
  "language_info": {
   "codemirror_mode": {
    "name": "ipython",
    "version": 3
   },
   "file_extension": ".py",
   "mimetype": "text/x-python",
   "name": "python",
   "nbconvert_exporter": "python",
   "pygments_lexer": "ipython3",
   "version": "3.9.7"
  }
 },
 "nbformat": 4,
 "nbformat_minor": 1
}

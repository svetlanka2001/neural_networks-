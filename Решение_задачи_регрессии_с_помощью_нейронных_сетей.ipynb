{
 "cells": [
  {
   "cell_type": "markdown",
   "metadata": {
    "id": "31cbeZ-A5L3N"
   },
   "source": [
    "В данном проекте на базе данных машин с ЮЛЫ  необходимо  обучить модель для предсказания цен на машины.\n",
    "\n",
    "1. Создадим обучающую, тестовую и проверочную выборки. \n",
    "\n",
    "2. Оценим качество работы созданной сети, определив средний процент ошибки на проверочной выборке. (Для этого приведем предсказанные моделью значения к первоначальному диапазону цен.)  \n",
    "\n",
    "3. Подсчитаем ошибку на каждом примере тестовой выборки и суммарный процент ошибки.\n",
    "\n",
    "\n",
    "Рекомендации:\n",
    "- в качестве ошибки рекомендуется использовать среднеквадратическую ошибку (mse).\n",
    "- метрику для данной задачи можно не использовать.\n",
    "- последний слой модели должен иметь 1 нейрон.\n",
    "- суммарный процент ошибки = средний модуль ошибки (MAE) / среднюю цену машины. Например, если средняя цена машины 560.000 р, а средняя ошибка 56.000р, то процент ошибки равен 10%.\n"
   ]
  },
  {
   "cell_type": "code",
   "execution_count": 184,
   "metadata": {
    "id": "zaUobgYx5RK_"
   },
   "outputs": [],
   "source": [
    "# Работа с массивами данных\n",
    "import numpy as np \n",
    "\n",
    "# Работа с табличными данными\n",
    "import pandas as pd\n",
    "\n",
    "# Функции-утилиты для работы с категориальными данными\n",
    "from tensorflow.keras import utils\n",
    "\n",
    "# Класс для конструирования последовательной модели нейронной сети\n",
    "from tensorflow.keras.models import Sequential, Model\n",
    "\n",
    "# Основные слои\n",
    "from tensorflow.keras.layers import Dense, Dropout, SpatialDropout1D, BatchNormalization, Embedding, Flatten, Activation, Input, concatenate\n",
    "from tensorflow.keras.layers import SimpleRNN, GRU, LSTM, Bidirectional, Conv1D, MaxPooling1D, GlobalMaxPooling1D\n",
    "\n",
    "# Оптимизаторы\n",
    "from tensorflow.keras.optimizers import Adam, Adadelta, SGD, Adagrad, RMSprop\n",
    "\n",
    "# Токенизатор для преобразование текстов в последовательности\n",
    "from tensorflow.keras.preprocessing.text import Tokenizer\n",
    "\n",
    "# Масштабирование данных\n",
    "from sklearn.preprocessing import StandardScaler\n",
    "\n",
    "# Загрузка датасетов из облака google\n",
    "import gdown\n",
    "\n",
    "# Регулярные выражения\n",
    "import re\n",
    "\n",
    "# Отрисовка графиков\n",
    "import matplotlib.pyplot as plt\n",
    "\n",
    "# Метрики для расчета ошибок\n",
    "from sklearn.metrics import mean_squared_error, mean_absolute_error\n",
    "\n",
    "%matplotlib inline\n",
    "\n",
    "from sklearn.preprocessing import OrdinalEncoder, StandardScaler\n",
    "from sklearn.model_selection import train_test_split\n",
    "from sklearn.metrics import mean_squared_error"
   ]
  },
  {
   "cell_type": "code",
   "execution_count": 185,
   "metadata": {
    "colab": {
     "base_uri": "https://localhost:8080/",
     "height": 35
    },
    "id": "DSW-0LMrsBqD",
    "outputId": "8a85226c-305e-4277-bc9d-1d9de89d0f17"
   },
   "outputs": [
    {
     "data": {
      "application/vnd.google.colaboratory.intrinsic+json": {
       "type": "string"
      },
      "text/plain": [
       "'cars_new.csv'"
      ]
     },
     "execution_count": 185,
     "metadata": {},
     "output_type": "execute_result"
    }
   ],
   "source": [
    "# Загрузка датафрейма из google облака\n",
    "gdown.download('https://storage.googleapis.com/datasets_ai/Base/10_regression/cars_new.csv', None, quiet=True)"
   ]
  },
  {
   "cell_type": "code",
   "execution_count": 186,
   "metadata": {
    "colab": {
     "base_uri": "https://localhost:8080/",
     "height": 238
    },
    "id": "n_VxsmeHo8vb",
    "outputId": "9932157f-1da5-4f40-d3ad-1647406f7817"
   },
   "outputs": [
    {
     "data": {
      "text/html": [
       "<div>\n",
       "<style scoped>\n",
       "    .dataframe tbody tr th:only-of-type {\n",
       "        vertical-align: middle;\n",
       "    }\n",
       "\n",
       "    .dataframe tbody tr th {\n",
       "        vertical-align: top;\n",
       "    }\n",
       "\n",
       "    .dataframe thead th {\n",
       "        text-align: right;\n",
       "    }\n",
       "</style>\n",
       "<table border=\"1\" class=\"dataframe\">\n",
       "  <thead>\n",
       "    <tr style=\"text-align: right;\">\n",
       "      <th></th>\n",
       "      <th>model</th>\n",
       "      <th>price</th>\n",
       "      <th>year</th>\n",
       "      <th>mileage</th>\n",
       "      <th>body</th>\n",
       "      <th>kpp</th>\n",
       "      <th>fuel</th>\n",
       "      <th>volume</th>\n",
       "      <th>power</th>\n",
       "    </tr>\n",
       "    <tr>\n",
       "      <th>mark</th>\n",
       "      <th></th>\n",
       "      <th></th>\n",
       "      <th></th>\n",
       "      <th></th>\n",
       "      <th></th>\n",
       "      <th></th>\n",
       "      <th></th>\n",
       "      <th></th>\n",
       "      <th></th>\n",
       "    </tr>\n",
       "  </thead>\n",
       "  <tbody>\n",
       "    <tr>\n",
       "      <th>kia</th>\n",
       "      <td>cerato</td>\n",
       "      <td>996000</td>\n",
       "      <td>2018</td>\n",
       "      <td>28000</td>\n",
       "      <td>седан</td>\n",
       "      <td>автомат</td>\n",
       "      <td>бензин</td>\n",
       "      <td>2.0</td>\n",
       "      <td>150.0</td>\n",
       "    </tr>\n",
       "    <tr>\n",
       "      <th>daewoo</th>\n",
       "      <td>nexia 1 поколение [2-й рестайлинг]</td>\n",
       "      <td>140200</td>\n",
       "      <td>2012</td>\n",
       "      <td>60500</td>\n",
       "      <td>седан</td>\n",
       "      <td>механика</td>\n",
       "      <td>бензин</td>\n",
       "      <td>1.5</td>\n",
       "      <td>80.0</td>\n",
       "    </tr>\n",
       "    <tr>\n",
       "      <th>suzuki</th>\n",
       "      <td>jimny 3 поколение [рестайлинг]</td>\n",
       "      <td>750000</td>\n",
       "      <td>2011</td>\n",
       "      <td>29000</td>\n",
       "      <td>внедорожник</td>\n",
       "      <td>автомат</td>\n",
       "      <td>бензин</td>\n",
       "      <td>1.3</td>\n",
       "      <td>85.0</td>\n",
       "    </tr>\n",
       "    <tr>\n",
       "      <th>bmw</th>\n",
       "      <td>x1 18 e84 [рестайлинг]</td>\n",
       "      <td>970000</td>\n",
       "      <td>2014</td>\n",
       "      <td>49500</td>\n",
       "      <td>кроссовер</td>\n",
       "      <td>автомат</td>\n",
       "      <td>бензин</td>\n",
       "      <td>2.0</td>\n",
       "      <td>150.0</td>\n",
       "    </tr>\n",
       "    <tr>\n",
       "      <th>chevrolet</th>\n",
       "      <td>lacetti 1 поколение</td>\n",
       "      <td>205000</td>\n",
       "      <td>2007</td>\n",
       "      <td>151445</td>\n",
       "      <td>седан</td>\n",
       "      <td>механика</td>\n",
       "      <td>бензин</td>\n",
       "      <td>1.4</td>\n",
       "      <td>95.0</td>\n",
       "    </tr>\n",
       "  </tbody>\n",
       "</table>\n",
       "</div>"
      ],
      "text/plain": [
       "                                        model   price  ...  volume  power\n",
       "mark                                                   ...               \n",
       "kia                                    cerato  996000  ...     2.0  150.0\n",
       "daewoo     nexia 1 поколение [2-й рестайлинг]  140200  ...     1.5   80.0\n",
       "suzuki         jimny 3 поколение [рестайлинг]  750000  ...     1.3   85.0\n",
       "bmw                    x1 18 e84 [рестайлинг]  970000  ...     2.0  150.0\n",
       "chevrolet                 lacetti 1 поколение  205000  ...     1.4   95.0\n",
       "\n",
       "[5 rows x 9 columns]"
      ]
     },
     "metadata": {},
     "output_type": "display_data"
    }
   ],
   "source": [
    "df = pd.read_csv('cars_new.csv', encoding= 'utf_8', header=0, index_col=0) # Загружаем базу\n",
    "display(df.head())"
   ]
  },
  {
   "cell_type": "code",
   "execution_count": 187,
   "metadata": {
    "id": "XGdzo0KlBDMO"
   },
   "outputs": [],
   "source": [
    "df.reset_index(level=0, inplace=True)"
   ]
  },
  {
   "cell_type": "code",
   "execution_count": 188,
   "metadata": {
    "colab": {
     "base_uri": "https://localhost:8080/",
     "height": 423
    },
    "id": "kEF1wFnhAKmu",
    "outputId": "d19c1777-b7f0-4c61-b366-95c57be14414"
   },
   "outputs": [
    {
     "data": {
      "text/html": [
       "<div>\n",
       "<style scoped>\n",
       "    .dataframe tbody tr th:only-of-type {\n",
       "        vertical-align: middle;\n",
       "    }\n",
       "\n",
       "    .dataframe tbody tr th {\n",
       "        vertical-align: top;\n",
       "    }\n",
       "\n",
       "    .dataframe thead th {\n",
       "        text-align: right;\n",
       "    }\n",
       "</style>\n",
       "<table border=\"1\" class=\"dataframe\">\n",
       "  <thead>\n",
       "    <tr style=\"text-align: right;\">\n",
       "      <th></th>\n",
       "      <th>mark</th>\n",
       "      <th>model</th>\n",
       "      <th>price</th>\n",
       "      <th>year</th>\n",
       "      <th>mileage</th>\n",
       "      <th>body</th>\n",
       "      <th>kpp</th>\n",
       "      <th>fuel</th>\n",
       "      <th>volume</th>\n",
       "      <th>power</th>\n",
       "    </tr>\n",
       "  </thead>\n",
       "  <tbody>\n",
       "    <tr>\n",
       "      <th>0</th>\n",
       "      <td>kia</td>\n",
       "      <td>cerato</td>\n",
       "      <td>996000</td>\n",
       "      <td>2018</td>\n",
       "      <td>28000</td>\n",
       "      <td>седан</td>\n",
       "      <td>автомат</td>\n",
       "      <td>бензин</td>\n",
       "      <td>2.0</td>\n",
       "      <td>150.0</td>\n",
       "    </tr>\n",
       "    <tr>\n",
       "      <th>1</th>\n",
       "      <td>daewoo</td>\n",
       "      <td>nexia 1 поколение [2-й рестайлинг]</td>\n",
       "      <td>140200</td>\n",
       "      <td>2012</td>\n",
       "      <td>60500</td>\n",
       "      <td>седан</td>\n",
       "      <td>механика</td>\n",
       "      <td>бензин</td>\n",
       "      <td>1.5</td>\n",
       "      <td>80.0</td>\n",
       "    </tr>\n",
       "    <tr>\n",
       "      <th>2</th>\n",
       "      <td>suzuki</td>\n",
       "      <td>jimny 3 поколение [рестайлинг]</td>\n",
       "      <td>750000</td>\n",
       "      <td>2011</td>\n",
       "      <td>29000</td>\n",
       "      <td>внедорожник</td>\n",
       "      <td>автомат</td>\n",
       "      <td>бензин</td>\n",
       "      <td>1.3</td>\n",
       "      <td>85.0</td>\n",
       "    </tr>\n",
       "    <tr>\n",
       "      <th>3</th>\n",
       "      <td>bmw</td>\n",
       "      <td>x1 18 e84 [рестайлинг]</td>\n",
       "      <td>970000</td>\n",
       "      <td>2014</td>\n",
       "      <td>49500</td>\n",
       "      <td>кроссовер</td>\n",
       "      <td>автомат</td>\n",
       "      <td>бензин</td>\n",
       "      <td>2.0</td>\n",
       "      <td>150.0</td>\n",
       "    </tr>\n",
       "    <tr>\n",
       "      <th>4</th>\n",
       "      <td>chevrolet</td>\n",
       "      <td>lacetti 1 поколение</td>\n",
       "      <td>205000</td>\n",
       "      <td>2007</td>\n",
       "      <td>151445</td>\n",
       "      <td>седан</td>\n",
       "      <td>механика</td>\n",
       "      <td>бензин</td>\n",
       "      <td>1.4</td>\n",
       "      <td>95.0</td>\n",
       "    </tr>\n",
       "    <tr>\n",
       "      <th>...</th>\n",
       "      <td>...</td>\n",
       "      <td>...</td>\n",
       "      <td>...</td>\n",
       "      <td>...</td>\n",
       "      <td>...</td>\n",
       "      <td>...</td>\n",
       "      <td>...</td>\n",
       "      <td>...</td>\n",
       "      <td>...</td>\n",
       "      <td>...</td>\n",
       "    </tr>\n",
       "    <tr>\n",
       "      <th>70114</th>\n",
       "      <td>skoda</td>\n",
       "      <td>fabia 5j [рестайлинг]</td>\n",
       "      <td>310000</td>\n",
       "      <td>2011</td>\n",
       "      <td>165000</td>\n",
       "      <td>хетчбэк</td>\n",
       "      <td>механика</td>\n",
       "      <td>бензин</td>\n",
       "      <td>1.2</td>\n",
       "      <td>70.0</td>\n",
       "    </tr>\n",
       "    <tr>\n",
       "      <th>70115</th>\n",
       "      <td>ford</td>\n",
       "      <td>focus 3 поколение</td>\n",
       "      <td>400000</td>\n",
       "      <td>2011</td>\n",
       "      <td>125000</td>\n",
       "      <td>хетчбэк</td>\n",
       "      <td>механика</td>\n",
       "      <td>бензин</td>\n",
       "      <td>1.6</td>\n",
       "      <td>105.0</td>\n",
       "    </tr>\n",
       "    <tr>\n",
       "      <th>70116</th>\n",
       "      <td>mazda</td>\n",
       "      <td>cx-5 1 поколение</td>\n",
       "      <td>1140000</td>\n",
       "      <td>2013</td>\n",
       "      <td>89981</td>\n",
       "      <td>кроссовер</td>\n",
       "      <td>автомат</td>\n",
       "      <td>бензин</td>\n",
       "      <td>2.0</td>\n",
       "      <td>150.0</td>\n",
       "    </tr>\n",
       "    <tr>\n",
       "      <th>70117</th>\n",
       "      <td>toyota</td>\n",
       "      <td>bb 2 поколение</td>\n",
       "      <td>550550</td>\n",
       "      <td>2006</td>\n",
       "      <td>183000</td>\n",
       "      <td>минивэн</td>\n",
       "      <td>автомат</td>\n",
       "      <td>бензин</td>\n",
       "      <td>1.3</td>\n",
       "      <td>92.0</td>\n",
       "    </tr>\n",
       "    <tr>\n",
       "      <th>70118</th>\n",
       "      <td>chevrolet</td>\n",
       "      <td>trailblazer 1 поколение</td>\n",
       "      <td>430000</td>\n",
       "      <td>2004</td>\n",
       "      <td>205000</td>\n",
       "      <td>внедорожник</td>\n",
       "      <td>автомат</td>\n",
       "      <td>бензин</td>\n",
       "      <td>4.2</td>\n",
       "      <td>275.0</td>\n",
       "    </tr>\n",
       "  </tbody>\n",
       "</table>\n",
       "<p>70119 rows × 10 columns</p>\n",
       "</div>"
      ],
      "text/plain": [
       "            mark                               model  ...  volume  power\n",
       "0            kia                              cerato  ...     2.0  150.0\n",
       "1         daewoo  nexia 1 поколение [2-й рестайлинг]  ...     1.5   80.0\n",
       "2         suzuki      jimny 3 поколение [рестайлинг]  ...     1.3   85.0\n",
       "3            bmw              x1 18 e84 [рестайлинг]  ...     2.0  150.0\n",
       "4      chevrolet                 lacetti 1 поколение  ...     1.4   95.0\n",
       "...          ...                                 ...  ...     ...    ...\n",
       "70114      skoda               fabia 5j [рестайлинг]  ...     1.2   70.0\n",
       "70115       ford                   focus 3 поколение  ...     1.6  105.0\n",
       "70116      mazda                    cx-5 1 поколение  ...     2.0  150.0\n",
       "70117     toyota                      bb 2 поколение  ...     1.3   92.0\n",
       "70118  chevrolet             trailblazer 1 поколение  ...     4.2  275.0\n",
       "\n",
       "[70119 rows x 10 columns]"
      ]
     },
     "execution_count": 188,
     "metadata": {},
     "output_type": "execute_result"
    }
   ],
   "source": [
    "df"
   ]
  },
  {
   "cell_type": "code",
   "execution_count": 189,
   "metadata": {
    "colab": {
     "base_uri": "https://localhost:8080/"
    },
    "id": "oKH2LHcdA-7a",
    "outputId": "d0687d60-dbc5-4ea6-9a86-11363b8ba100"
   },
   "outputs": [
    {
     "data": {
      "text/plain": [
       "(70119, 10)"
      ]
     },
     "execution_count": 189,
     "metadata": {},
     "output_type": "execute_result"
    }
   ],
   "source": [
    "df.shape"
   ]
  },
  {
   "cell_type": "markdown",
   "metadata": {
    "id": "tqtvdodGBNGq"
   },
   "source": [
    "Итак, у нас в таблице 9 колонок, 70119 записей. Посмотрим на типы данных, количество пропусков и распределение. Решим, нужно ли избавляться от выбросов, удалять пропуски, приводить данные к нужному формату"
   ]
  },
  {
   "cell_type": "code",
   "execution_count": 190,
   "metadata": {
    "colab": {
     "base_uri": "https://localhost:8080/"
    },
    "id": "x_jGUgFGBszh",
    "outputId": "a028e296-4aeb-4e02-d6b6-e69d5129f0cc"
   },
   "outputs": [
    {
     "name": "stdout",
     "output_type": "stream",
     "text": [
      "<class 'pandas.core.frame.DataFrame'>\n",
      "RangeIndex: 70119 entries, 0 to 70118\n",
      "Data columns (total 10 columns):\n",
      " #   Column   Non-Null Count  Dtype  \n",
      "---  ------   --------------  -----  \n",
      " 0   mark     70119 non-null  object \n",
      " 1   model    70119 non-null  object \n",
      " 2   price    70119 non-null  int64  \n",
      " 3   year     70119 non-null  int64  \n",
      " 4   mileage  70119 non-null  int64  \n",
      " 5   body     70116 non-null  object \n",
      " 6   kpp      70115 non-null  object \n",
      " 7   fuel     70119 non-null  object \n",
      " 8   volume   70119 non-null  float64\n",
      " 9   power    70119 non-null  float64\n",
      "dtypes: float64(2), int64(3), object(5)\n",
      "memory usage: 5.3+ MB\n"
     ]
    }
   ],
   "source": [
    "df.info()"
   ]
  },
  {
   "cell_type": "markdown",
   "metadata": {
    "id": "_vVAhAXAEeoo"
   },
   "source": [
    "Все типы данных соответствуют, пока не будем переводить одни типы данных в другие"
   ]
  },
  {
   "cell_type": "code",
   "execution_count": 191,
   "metadata": {
    "colab": {
     "base_uri": "https://localhost:8080/",
     "height": 300
    },
    "id": "EGqsrybk7Nmt",
    "outputId": "06ca7518-a631-4542-a73b-d71262e25215"
   },
   "outputs": [
    {
     "data": {
      "text/html": [
       "<div>\n",
       "<style scoped>\n",
       "    .dataframe tbody tr th:only-of-type {\n",
       "        vertical-align: middle;\n",
       "    }\n",
       "\n",
       "    .dataframe tbody tr th {\n",
       "        vertical-align: top;\n",
       "    }\n",
       "\n",
       "    .dataframe thead th {\n",
       "        text-align: right;\n",
       "    }\n",
       "</style>\n",
       "<table border=\"1\" class=\"dataframe\">\n",
       "  <thead>\n",
       "    <tr style=\"text-align: right;\">\n",
       "      <th></th>\n",
       "      <th>price</th>\n",
       "      <th>year</th>\n",
       "      <th>mileage</th>\n",
       "      <th>volume</th>\n",
       "      <th>power</th>\n",
       "    </tr>\n",
       "  </thead>\n",
       "  <tbody>\n",
       "    <tr>\n",
       "      <th>count</th>\n",
       "      <td>7.011900e+04</td>\n",
       "      <td>70119.000000</td>\n",
       "      <td>70119.000000</td>\n",
       "      <td>70119.000000</td>\n",
       "      <td>70119.000000</td>\n",
       "    </tr>\n",
       "    <tr>\n",
       "      <th>mean</th>\n",
       "      <td>5.277261e+05</td>\n",
       "      <td>2007.228668</td>\n",
       "      <td>162237.510988</td>\n",
       "      <td>1.917526</td>\n",
       "      <td>136.473381</td>\n",
       "    </tr>\n",
       "    <tr>\n",
       "      <th>std</th>\n",
       "      <td>6.236842e+05</td>\n",
       "      <td>7.086385</td>\n",
       "      <td>95872.148255</td>\n",
       "      <td>0.671154</td>\n",
       "      <td>59.054250</td>\n",
       "    </tr>\n",
       "    <tr>\n",
       "      <th>min</th>\n",
       "      <td>1.600000e+04</td>\n",
       "      <td>1949.000000</td>\n",
       "      <td>1.000000</td>\n",
       "      <td>0.300000</td>\n",
       "      <td>11.000000</td>\n",
       "    </tr>\n",
       "    <tr>\n",
       "      <th>25%</th>\n",
       "      <td>2.050000e+05</td>\n",
       "      <td>2004.000000</td>\n",
       "      <td>96980.000000</td>\n",
       "      <td>1.600000</td>\n",
       "      <td>102.000000</td>\n",
       "    </tr>\n",
       "    <tr>\n",
       "      <th>50%</th>\n",
       "      <td>3.800000e+05</td>\n",
       "      <td>2008.000000</td>\n",
       "      <td>147000.000000</td>\n",
       "      <td>1.800000</td>\n",
       "      <td>123.000000</td>\n",
       "    </tr>\n",
       "    <tr>\n",
       "      <th>75%</th>\n",
       "      <td>6.400000e+05</td>\n",
       "      <td>2012.000000</td>\n",
       "      <td>210000.000000</td>\n",
       "      <td>2.000000</td>\n",
       "      <td>152.000000</td>\n",
       "    </tr>\n",
       "    <tr>\n",
       "      <th>max</th>\n",
       "      <td>2.450000e+07</td>\n",
       "      <td>2019.000000</td>\n",
       "      <td>999999.000000</td>\n",
       "      <td>10.000000</td>\n",
       "      <td>1400.000000</td>\n",
       "    </tr>\n",
       "  </tbody>\n",
       "</table>\n",
       "</div>"
      ],
      "text/plain": [
       "              price          year        mileage        volume         power\n",
       "count  7.011900e+04  70119.000000   70119.000000  70119.000000  70119.000000\n",
       "mean   5.277261e+05   2007.228668  162237.510988      1.917526    136.473381\n",
       "std    6.236842e+05      7.086385   95872.148255      0.671154     59.054250\n",
       "min    1.600000e+04   1949.000000       1.000000      0.300000     11.000000\n",
       "25%    2.050000e+05   2004.000000   96980.000000      1.600000    102.000000\n",
       "50%    3.800000e+05   2008.000000  147000.000000      1.800000    123.000000\n",
       "75%    6.400000e+05   2012.000000  210000.000000      2.000000    152.000000\n",
       "max    2.450000e+07   2019.000000  999999.000000     10.000000   1400.000000"
      ]
     },
     "execution_count": 191,
     "metadata": {},
     "output_type": "execute_result"
    }
   ],
   "source": [
    "# посмотрим на распределение данных\n",
    "df.describe()"
   ]
  },
  {
   "cell_type": "markdown",
   "metadata": {
    "id": "YkyvwRl8GJxY"
   },
   "source": [
    "Прекрасные данные. Видно, что в количественных столбцах не имеется пропусков, данные распределены очень реалистично, без явных выбросов. Единственное, что вызывает вопросы-данные по объему двигателя - в нашей табличке максимум - это 10 л. Интересно, что это за суперкар такой? Давайте-ка проверим:"
   ]
  },
  {
   "cell_type": "code",
   "execution_count": 192,
   "metadata": {
    "colab": {
     "base_uri": "https://localhost:8080/",
     "height": 206
    },
    "id": "_kdYXjw-G4V3",
    "outputId": "9c2d15dd-3168-466c-dd37-be0f55e7821b"
   },
   "outputs": [
    {
     "data": {
      "text/html": [
       "<div>\n",
       "<style scoped>\n",
       "    .dataframe tbody tr th:only-of-type {\n",
       "        vertical-align: middle;\n",
       "    }\n",
       "\n",
       "    .dataframe tbody tr th {\n",
       "        vertical-align: top;\n",
       "    }\n",
       "\n",
       "    .dataframe thead th {\n",
       "        text-align: right;\n",
       "    }\n",
       "</style>\n",
       "<table border=\"1\" class=\"dataframe\">\n",
       "  <thead>\n",
       "    <tr style=\"text-align: right;\">\n",
       "      <th></th>\n",
       "      <th>mark</th>\n",
       "      <th>model</th>\n",
       "      <th>price</th>\n",
       "      <th>year</th>\n",
       "      <th>mileage</th>\n",
       "      <th>body</th>\n",
       "      <th>kpp</th>\n",
       "      <th>fuel</th>\n",
       "      <th>volume</th>\n",
       "      <th>power</th>\n",
       "    </tr>\n",
       "  </thead>\n",
       "  <tbody>\n",
       "    <tr>\n",
       "      <th>11810</th>\n",
       "      <td>chevrolet</td>\n",
       "      <td>lanos 1 поколение</td>\n",
       "      <td>80000</td>\n",
       "      <td>2008</td>\n",
       "      <td>90000</td>\n",
       "      <td>седан</td>\n",
       "      <td>механика</td>\n",
       "      <td>бензин</td>\n",
       "      <td>10.0</td>\n",
       "      <td>63.0</td>\n",
       "    </tr>\n",
       "    <tr>\n",
       "      <th>15149</th>\n",
       "      <td>mercedes-benz</td>\n",
       "      <td>vito w638</td>\n",
       "      <td>450000</td>\n",
       "      <td>2002</td>\n",
       "      <td>250000</td>\n",
       "      <td>минивэн</td>\n",
       "      <td>автомат</td>\n",
       "      <td>дизель</td>\n",
       "      <td>10.0</td>\n",
       "      <td>150.0</td>\n",
       "    </tr>\n",
       "    <tr>\n",
       "      <th>53455</th>\n",
       "      <td>volkswagen</td>\n",
       "      <td>multivan t5 [рестайлинг]</td>\n",
       "      <td>1750000</td>\n",
       "      <td>2012</td>\n",
       "      <td>152000</td>\n",
       "      <td>минивэн</td>\n",
       "      <td>робот</td>\n",
       "      <td>дизель</td>\n",
       "      <td>10.0</td>\n",
       "      <td>260.0</td>\n",
       "    </tr>\n",
       "    <tr>\n",
       "      <th>57429</th>\n",
       "      <td>chevrolet</td>\n",
       "      <td>suburban gmt800</td>\n",
       "      <td>750000</td>\n",
       "      <td>2005</td>\n",
       "      <td>329000</td>\n",
       "      <td>внедорожник</td>\n",
       "      <td>автомат</td>\n",
       "      <td>бензин</td>\n",
       "      <td>8.1</td>\n",
       "      <td>320.0</td>\n",
       "    </tr>\n",
       "    <tr>\n",
       "      <th>58092</th>\n",
       "      <td>toyota</td>\n",
       "      <td>rav4</td>\n",
       "      <td>450000</td>\n",
       "      <td>2003</td>\n",
       "      <td>177000</td>\n",
       "      <td>кроссовер</td>\n",
       "      <td>автомат</td>\n",
       "      <td>бензин</td>\n",
       "      <td>9.0</td>\n",
       "      <td>51.0</td>\n",
       "    </tr>\n",
       "  </tbody>\n",
       "</table>\n",
       "</div>"
      ],
      "text/plain": [
       "                mark                     model    price  ...    fuel  volume  power\n",
       "11810      chevrolet         lanos 1 поколение    80000  ...  бензин    10.0   63.0\n",
       "15149  mercedes-benz                 vito w638   450000  ...  дизель    10.0  150.0\n",
       "53455     volkswagen  multivan t5 [рестайлинг]  1750000  ...  дизель    10.0  260.0\n",
       "57429      chevrolet           suburban gmt800   750000  ...  бензин     8.1  320.0\n",
       "58092         toyota                      rav4   450000  ...  бензин     9.0   51.0\n",
       "\n",
       "[5 rows x 10 columns]"
      ]
     },
     "execution_count": 192,
     "metadata": {},
     "output_type": "execute_result"
    }
   ],
   "source": [
    "df.query('volume >8')"
   ]
  },
  {
   "cell_type": "markdown",
   "metadata": {
    "id": "La6Drr0gMEVl"
   },
   "source": [
    "И действительно - 5 записей в нашем датафрейме имеют обьем двигателя более 8 литров. У модели suburban gmt800\tдействительно указанный объем двигателя соответствует реальности. Остальные предлагаю удалить как выбросы"
   ]
  },
  {
   "cell_type": "code",
   "execution_count": 193,
   "metadata": {
    "id": "J-03B4qaNkn8"
   },
   "outputs": [],
   "source": [
    "df=df.query('volume <9')"
   ]
  },
  {
   "cell_type": "code",
   "execution_count": 194,
   "metadata": {
    "colab": {
     "base_uri": "https://localhost:8080/"
    },
    "id": "2sCTxK6q7Np1",
    "outputId": "8d6be59a-9790-4026-ccdb-ff9d1147e84e"
   },
   "outputs": [
    {
     "data": {
      "text/plain": [
       "mark       0\n",
       "model      0\n",
       "price      0\n",
       "year       0\n",
       "mileage    0\n",
       "body       3\n",
       "kpp        4\n",
       "fuel       0\n",
       "volume     0\n",
       "power      0\n",
       "dtype: int64"
      ]
     },
     "execution_count": 194,
     "metadata": {},
     "output_type": "execute_result"
    }
   ],
   "source": [
    "# посмотрим на количество пропусков в датафрейме:\n",
    "df.isna().sum()"
   ]
  },
  {
   "cell_type": "markdown",
   "metadata": {
    "id": "jEah-VeoKYa6"
   },
   "source": [
    "В колонках body и kpp имеются суммарно 7 пропусков. Удалим их без сожалений, так как их всего 7. Было бы больше - можно было бы заморочиться и на что-то их заменить."
   ]
  },
  {
   "cell_type": "code",
   "execution_count": 195,
   "metadata": {
    "id": "hpgYL1STK4iL"
   },
   "outputs": [],
   "source": [
    "df=df.dropna()"
   ]
  },
  {
   "cell_type": "code",
   "execution_count": 196,
   "metadata": {
    "colab": {
     "base_uri": "https://localhost:8080/"
    },
    "id": "Za2Se7gQLs88",
    "outputId": "4c700b8f-8a0e-473e-c401-4bdf1b8caa04"
   },
   "outputs": [
    {
     "data": {
      "text/plain": [
       "mark       0\n",
       "model      0\n",
       "price      0\n",
       "year       0\n",
       "mileage    0\n",
       "body       0\n",
       "kpp        0\n",
       "fuel       0\n",
       "volume     0\n",
       "power      0\n",
       "dtype: int64"
      ]
     },
     "execution_count": 196,
     "metadata": {},
     "output_type": "execute_result"
    }
   ],
   "source": [
    "# проверим, все ли удалилось\n",
    "df.isna().sum()"
   ]
  },
  {
   "cell_type": "code",
   "execution_count": 197,
   "metadata": {
    "colab": {
     "base_uri": "https://localhost:8080/"
    },
    "id": "Njxj-9lSB3GM",
    "outputId": "7c4fb987-d14d-43a9-b928-c8c81d06997a"
   },
   "outputs": [
    {
     "data": {
      "text/plain": [
       "0"
      ]
     },
     "execution_count": 197,
     "metadata": {},
     "output_type": "execute_result"
    }
   ],
   "source": [
    "# проверим, имеются ли дубликаты в таблице\n",
    "df.duplicated().sum()"
   ]
  },
  {
   "cell_type": "code",
   "execution_count": 198,
   "metadata": {
    "colab": {
     "base_uri": "https://localhost:8080/",
     "height": 206
    },
    "id": "F15WdiO4ORib",
    "outputId": "f1fccf9f-5efd-4e35-db41-7dc46c1d5a25"
   },
   "outputs": [
    {
     "data": {
      "text/html": [
       "<div>\n",
       "<style scoped>\n",
       "    .dataframe tbody tr th:only-of-type {\n",
       "        vertical-align: middle;\n",
       "    }\n",
       "\n",
       "    .dataframe tbody tr th {\n",
       "        vertical-align: top;\n",
       "    }\n",
       "\n",
       "    .dataframe thead th {\n",
       "        text-align: right;\n",
       "    }\n",
       "</style>\n",
       "<table border=\"1\" class=\"dataframe\">\n",
       "  <thead>\n",
       "    <tr style=\"text-align: right;\">\n",
       "      <th></th>\n",
       "      <th>mark</th>\n",
       "      <th>model</th>\n",
       "      <th>price</th>\n",
       "      <th>year</th>\n",
       "      <th>mileage</th>\n",
       "      <th>body</th>\n",
       "      <th>kpp</th>\n",
       "      <th>fuel</th>\n",
       "      <th>volume</th>\n",
       "      <th>power</th>\n",
       "    </tr>\n",
       "  </thead>\n",
       "  <tbody>\n",
       "    <tr>\n",
       "      <th>0</th>\n",
       "      <td>kia</td>\n",
       "      <td>cerato</td>\n",
       "      <td>996000</td>\n",
       "      <td>2018</td>\n",
       "      <td>28000</td>\n",
       "      <td>седан</td>\n",
       "      <td>автомат</td>\n",
       "      <td>бензин</td>\n",
       "      <td>2.0</td>\n",
       "      <td>150.0</td>\n",
       "    </tr>\n",
       "    <tr>\n",
       "      <th>1</th>\n",
       "      <td>daewoo</td>\n",
       "      <td>nexia 1 поколение [2-й рестайлинг]</td>\n",
       "      <td>140200</td>\n",
       "      <td>2012</td>\n",
       "      <td>60500</td>\n",
       "      <td>седан</td>\n",
       "      <td>механика</td>\n",
       "      <td>бензин</td>\n",
       "      <td>1.5</td>\n",
       "      <td>80.0</td>\n",
       "    </tr>\n",
       "    <tr>\n",
       "      <th>2</th>\n",
       "      <td>suzuki</td>\n",
       "      <td>jimny 3 поколение [рестайлинг]</td>\n",
       "      <td>750000</td>\n",
       "      <td>2011</td>\n",
       "      <td>29000</td>\n",
       "      <td>внедорожник</td>\n",
       "      <td>автомат</td>\n",
       "      <td>бензин</td>\n",
       "      <td>1.3</td>\n",
       "      <td>85.0</td>\n",
       "    </tr>\n",
       "    <tr>\n",
       "      <th>3</th>\n",
       "      <td>bmw</td>\n",
       "      <td>x1 18 e84 [рестайлинг]</td>\n",
       "      <td>970000</td>\n",
       "      <td>2014</td>\n",
       "      <td>49500</td>\n",
       "      <td>кроссовер</td>\n",
       "      <td>автомат</td>\n",
       "      <td>бензин</td>\n",
       "      <td>2.0</td>\n",
       "      <td>150.0</td>\n",
       "    </tr>\n",
       "    <tr>\n",
       "      <th>4</th>\n",
       "      <td>chevrolet</td>\n",
       "      <td>lacetti 1 поколение</td>\n",
       "      <td>205000</td>\n",
       "      <td>2007</td>\n",
       "      <td>151445</td>\n",
       "      <td>седан</td>\n",
       "      <td>механика</td>\n",
       "      <td>бензин</td>\n",
       "      <td>1.4</td>\n",
       "      <td>95.0</td>\n",
       "    </tr>\n",
       "  </tbody>\n",
       "</table>\n",
       "</div>"
      ],
      "text/plain": [
       "        mark                               model   price  ...    fuel  volume  power\n",
       "0        kia                              cerato  996000  ...  бензин     2.0  150.0\n",
       "1     daewoo  nexia 1 поколение [2-й рестайлинг]  140200  ...  бензин     1.5   80.0\n",
       "2     suzuki      jimny 3 поколение [рестайлинг]  750000  ...  бензин     1.3   85.0\n",
       "3        bmw              x1 18 e84 [рестайлинг]  970000  ...  бензин     2.0  150.0\n",
       "4  chevrolet                 lacetti 1 поколение  205000  ...  бензин     1.4   95.0\n",
       "\n",
       "[5 rows x 10 columns]"
      ]
     },
     "execution_count": 198,
     "metadata": {},
     "output_type": "execute_result"
    }
   ],
   "source": [
    "df.head()"
   ]
  },
  {
   "cell_type": "code",
   "execution_count": 199,
   "metadata": {
    "colab": {
     "base_uri": "https://localhost:8080/"
    },
    "id": "rFOU-wrzB3JP",
    "outputId": "cd1a0291-020f-44fd-a1df-4ca12499a547"
   },
   "outputs": [
    {
     "data": {
      "text/plain": [
       "mark    21\n",
       "year    52\n",
       "body    16\n",
       "kpp      4\n",
       "fuel     5\n",
       "dtype: int64"
      ]
     },
     "execution_count": 199,
     "metadata": {},
     "output_type": "execute_result"
    }
   ],
   "source": [
    "#Посмотрим, сколько уникальных значений мы имеем в категориальных признаках и каких:\n",
    "cat_features = [\"mark\", \"year\", \"body\", \"kpp\", \"fuel\"]\n",
    "df[cat_features].nunique()"
   ]
  },
  {
   "cell_type": "code",
   "execution_count": 200,
   "metadata": {
    "colab": {
     "base_uri": "https://localhost:8080/"
    },
    "id": "KUpmqEwlB3L4",
    "outputId": "391b358f-dd0a-461d-fa8b-786a761a62ab"
   },
   "outputs": [
    {
     "name": "stdout",
     "output_type": "stream",
     "text": [
      "Уникальные значения моделей ['kia' 'daewoo' 'suzuki' 'bmw' 'chevrolet' 'hyundai' 'toyota'\n",
      " 'mercedes-benz' 'chery' 'ford' 'mazda' 'peugeot' 'volkswagen' 'audi'\n",
      " 'mitsubishi' 'opel' 'nissan' 'skoda' 'subaru' 'honda' 'renault']\n",
      "\n",
      "Уникальные значения корпуса ['седан' 'внедорожник' 'кроссовер' 'хетчбэк' 'универсал' 'минивэн'\n",
      " 'лифтбэк' 'купе' 'микроавтобус' 'пикап' 'кабриолет' 'хардтоп' 'родстер'\n",
      " 'тарга' 'лимузин' 'фастбэк']\n",
      "\n",
      "Уникальные значения коробки передач ['автомат' 'механика' 'робот' 'вариатор']\n",
      "\n",
      "Уникальные значения топлива ['бензин' 'дизель' 'гибрид' 'электро' 'газ']\n"
     ]
    }
   ],
   "source": [
    "print('Уникальные значения моделей', df['mark'].unique())\n",
    "print()\n",
    "print('Уникальные значения корпуса', df['body'].unique())\n",
    "print()\n",
    "print('Уникальные значения коробки передач', df['kpp'].unique())\n",
    "print()\n",
    "print('Уникальные значения топлива', df['fuel'].unique())"
   ]
  },
  {
   "cell_type": "code",
   "execution_count": 201,
   "metadata": {
    "colab": {
     "base_uri": "https://localhost:8080/"
    },
    "id": "yUlwn9INB3RD",
    "outputId": "e9a196e3-36f1-4017-b98b-1ed80a3a2eee"
   },
   "outputs": [
    {
     "name": "stdout",
     "output_type": "stream",
     "text": [
      "mark\n",
      "toyota           5.765391\n",
      "mercedes-benz    5.749700\n",
      "ford             5.746848\n",
      "opel             5.738289\n",
      "mitsubishi       5.736863\n",
      "bmw              5.732584\n",
      "chevrolet        5.702630\n",
      "volkswagen       5.696925\n",
      "nissan           5.688367\n",
      "hyundai          5.669824\n",
      "kia              5.644149\n",
      "renault          5.607063\n",
      "audi             5.391681\n",
      "mazda            5.377418\n",
      "daewoo           4.649969\n",
      "skoda            4.179266\n",
      "honda            3.605865\n",
      "peugeot          3.090945\n",
      "suzuki           1.882809\n",
      "chery            1.720203\n",
      "subaru           1.623210\n",
      "Name: mark, dtype: float64\n",
      "\n",
      "\n",
      "model\n",
      "matiz m150 [рестайлинг]               1.514806\n",
      "focus 3 поколение                     1.178182\n",
      "nexia 1 поколение [2-й рестайлинг]    1.156787\n",
      "nexia 1 поколение [рестайлинг]        1.044103\n",
      "lacetti 1 поколение                   0.891482\n",
      "                                        ...   \n",
      "5 серия f07/f10/f11                   0.001426\n",
      "baja 1 поколение                      0.001426\n",
      "eclipse 1g [рестайлинг]               0.001426\n",
      "duster 2 поколение                    0.001426\n",
      "genesis 1 поколение [рестайлинг]      0.001426\n",
      "Name: model, Length: 3156, dtype: float64\n",
      "\n",
      "\n",
      "price\n",
      "250000     1.680265\n",
      "350000     1.604667\n",
      "450000     1.390711\n",
      "200000     1.383580\n",
      "300000     1.356479\n",
      "             ...   \n",
      "37500      0.001426\n",
      "3439000    0.001426\n",
      "1169900    0.001426\n",
      "5995000    0.001426\n",
      "3570000    0.001426\n",
      "Name: price, Length: 3562, dtype: float64\n",
      "\n",
      "\n",
      "year\n",
      "2008    8.854910\n",
      "2012    7.750899\n",
      "2007    7.688138\n",
      "2011    7.061962\n",
      "2013    6.842300\n",
      "2014    5.316084\n",
      "2010    5.160609\n",
      "2006    5.102128\n",
      "2015    3.486050\n",
      "2005    3.423290\n",
      "2016    3.139442\n",
      "2009    3.055286\n",
      "2004    2.995379\n",
      "2017    2.789981\n",
      "1998    2.444799\n",
      "2003    2.420551\n",
      "2001    2.372055\n",
      "2002    2.337822\n",
      "1999    2.289325\n",
      "2018    2.178068\n",
      "2000    2.109602\n",
      "1997    1.966965\n",
      "1996    1.240943\n",
      "1993    1.025561\n",
      "1995    0.992754\n",
      "1992    0.985622\n",
      "1994    0.898614\n",
      "1991    0.881497\n",
      "1990    0.658983\n",
      "1989    0.536315\n",
      "1988    0.453586\n",
      "2019    0.430764\n",
      "1987    0.329492\n",
      "1986    0.252468\n",
      "1985    0.161180\n",
      "1984    0.131226\n",
      "1983    0.099846\n",
      "1982    0.044217\n",
      "1981    0.028527\n",
      "1980    0.018543\n",
      "1979    0.014264\n",
      "1968    0.005705\n",
      "1978    0.005705\n",
      "1950    0.004279\n",
      "1977    0.004279\n",
      "1949    0.001426\n",
      "1951    0.001426\n",
      "1959    0.001426\n",
      "1971    0.001426\n",
      "1973    0.001426\n",
      "1974    0.001426\n",
      "1976    0.001426\n",
      "Name: year, dtype: float64\n",
      "\n",
      "\n",
      "mileage\n",
      "200000    2.671592\n",
      "150000    1.932732\n",
      "300000    1.881383\n",
      "250000    1.808638\n",
      "180000    1.400696\n",
      "            ...   \n",
      "10668     0.001426\n",
      "111007    0.001426\n",
      "371100    0.001426\n",
      "78223     0.001426\n",
      "6147      0.001426\n",
      "Name: mileage, Length: 15558, dtype: float64\n",
      "\n",
      "\n",
      "body\n",
      "седан           42.009471\n",
      "хетчбэк         18.397330\n",
      "кроссовер       18.086381\n",
      "минивэн          5.310378\n",
      "внедорожник      5.082159\n",
      "универсал        4.990871\n",
      "лифтбэк          4.383237\n",
      "купе             1.075484\n",
      "пикап            0.377988\n",
      "хардтоп          0.114110\n",
      "кабриолет        0.096993\n",
      "родстер          0.058481\n",
      "микроавтобус     0.009985\n",
      "лимузин          0.002853\n",
      "тарга            0.002853\n",
      "фастбэк          0.001426\n",
      "Name: body, dtype: float64\n",
      "\n",
      "\n",
      "kpp\n",
      "механика    44.290238\n",
      "автомат     43.608433\n",
      "вариатор     6.327381\n",
      "робот        5.773949\n",
      "Name: kpp, dtype: float64\n",
      "\n",
      "\n",
      "fuel\n",
      "бензин     90.874080\n",
      "дизель      8.743653\n",
      "гибрид      0.338050\n",
      "электро     0.037086\n",
      "газ         0.007132\n",
      "Name: fuel, dtype: float64\n",
      "\n",
      "\n",
      "volume\n",
      "1.6    25.387973\n",
      "2.0    18.582758\n",
      "1.8     9.570948\n",
      "1.4     7.964854\n",
      "1.5     7.033434\n",
      "         ...    \n",
      "6.5     0.001426\n",
      "6.7     0.001426\n",
      "8.1     0.001426\n",
      "0.5     0.001426\n",
      "0.9     0.001426\n",
      "Name: volume, Length: 63, dtype: float64\n",
      "\n",
      "\n",
      "power\n",
      "150.0    5.980773\n",
      "105.0    4.775489\n",
      "140.0    3.644377\n",
      "75.0     3.173675\n",
      "80.0     2.999658\n",
      "           ...   \n",
      "389.0    0.001426\n",
      "17.0     0.001426\n",
      "750.0    0.001426\n",
      "12.0     0.001426\n",
      "424.0    0.001426\n",
      "Name: power, Length: 337, dtype: float64\n",
      "\n",
      "\n"
     ]
    }
   ],
   "source": [
    "# посмотрим на распределение подкатегорий в столбцах нашей таблицы\n",
    "for col in df.columns:\n",
    "    print(col)\n",
    "    print(df[col].value_counts(normalize=True)*100)\n",
    "    print('\\n')"
   ]
  },
  {
   "cell_type": "code",
   "execution_count": 202,
   "metadata": {
    "colab": {
     "base_uri": "https://localhost:8080/",
     "height": 334
    },
    "id": "lFLL14KfB3W-",
    "outputId": "376d3988-3e88-4c5f-9af1-93115828895a"
   },
   "outputs": [
    {
     "name": "stderr",
     "output_type": "stream",
     "text": [
      "/usr/local/lib/python3.7/dist-packages/seaborn/distributions.py:2619: FutureWarning: `distplot` is a deprecated function and will be removed in a future version. Please adapt your code to use either `displot` (a figure-level function with similar flexibility) or `histplot` (an axes-level function for histograms).\n",
      "  warnings.warn(msg, FutureWarning)\n"
     ]
    },
    {
     "data": {
      "image/png": "[encoded data removed]",
      "text/plain": [
       "<Figure size 432x288 with 1 Axes>"
      ]
     },
     "metadata": {
      "needs_background": "light"
     },
     "output_type": "display_data"
    }
   ],
   "source": [
    "# Посмотрим на графики распределения числовых признаков в колонках  price, power, mileage, чтобы понять, имеются ли выбросы:\n",
    "import seaborn as sns\n",
    "sns_plot = sns.distplot(df[\"power\"])\n",
    "fig = sns_plot.get_figure()"
   ]
  },
  {
   "cell_type": "markdown",
   "metadata": {
    "id": "CrDHRxGNUA4Z"
   },
   "source": [
    "В нашем датафрейме имеются очень мощные автомобили - более 1400 л.с. Звучит невероятно. Давайте-ка посмотрим на этих гигантов:"
   ]
  },
  {
   "cell_type": "code",
   "execution_count": 203,
   "metadata": {
    "colab": {
     "base_uri": "https://localhost:8080/",
     "height": 112
    },
    "id": "CLGyh_CwUORl",
    "outputId": "d3b22024-8ffc-40fa-c147-a85edb08ee30"
   },
   "outputs": [
    {
     "data": {
      "text/html": [
       "<div>\n",
       "<style scoped>\n",
       "    .dataframe tbody tr th:only-of-type {\n",
       "        vertical-align: middle;\n",
       "    }\n",
       "\n",
       "    .dataframe tbody tr th {\n",
       "        vertical-align: top;\n",
       "    }\n",
       "\n",
       "    .dataframe thead th {\n",
       "        text-align: right;\n",
       "    }\n",
       "</style>\n",
       "<table border=\"1\" class=\"dataframe\">\n",
       "  <thead>\n",
       "    <tr style=\"text-align: right;\">\n",
       "      <th></th>\n",
       "      <th>mark</th>\n",
       "      <th>model</th>\n",
       "      <th>price</th>\n",
       "      <th>year</th>\n",
       "      <th>mileage</th>\n",
       "      <th>body</th>\n",
       "      <th>kpp</th>\n",
       "      <th>fuel</th>\n",
       "      <th>volume</th>\n",
       "      <th>power</th>\n",
       "    </tr>\n",
       "  </thead>\n",
       "  <tbody>\n",
       "    <tr>\n",
       "      <th>5603</th>\n",
       "      <td>opel</td>\n",
       "      <td>astra</td>\n",
       "      <td>469000</td>\n",
       "      <td>2011</td>\n",
       "      <td>122000</td>\n",
       "      <td>хетчбэк</td>\n",
       "      <td>автомат</td>\n",
       "      <td>бензин</td>\n",
       "      <td>1.4</td>\n",
       "      <td>1400.0</td>\n",
       "    </tr>\n",
       "    <tr>\n",
       "      <th>27771</th>\n",
       "      <td>mitsubishi</td>\n",
       "      <td>asx 1 поколение [рестайлинг]</td>\n",
       "      <td>746000</td>\n",
       "      <td>2013</td>\n",
       "      <td>97000</td>\n",
       "      <td>кроссовер</td>\n",
       "      <td>вариатор</td>\n",
       "      <td>бензин</td>\n",
       "      <td>1.8</td>\n",
       "      <td>1400.0</td>\n",
       "    </tr>\n",
       "  </tbody>\n",
       "</table>\n",
       "</div>"
      ],
      "text/plain": [
       "             mark                         model   price  ...    fuel  volume   power\n",
       "5603         opel                         astra  469000  ...  бензин     1.4  1400.0\n",
       "27771  mitsubishi  asx 1 поколение [рестайлинг]  746000  ...  бензин     1.8  1400.0\n",
       "\n",
       "[2 rows x 10 columns]"
      ]
     },
     "execution_count": 203,
     "metadata": {},
     "output_type": "execute_result"
    }
   ],
   "source": [
    "df.query(\"power > 1200\")"
   ]
  },
  {
   "cell_type": "code",
   "execution_count": 204,
   "metadata": {
    "colab": {
     "base_uri": "https://localhost:8080/"
    },
    "id": "7L_KfL9MVvua",
    "outputId": "2f379c6e-95f8-45a1-e47e-63b9bba5524d"
   },
   "outputs": [
    {
     "data": {
      "text/plain": [
       "136.47496719347293"
      ]
     },
     "execution_count": 204,
     "metadata": {},
     "output_type": "execute_result"
    }
   ],
   "source": [
    "df['power'].mean()"
   ]
  },
  {
   "cell_type": "markdown",
   "metadata": {
    "id": "glBtLyNrVIjI"
   },
   "source": [
    "Объем двигателя Мицубиси АСХ составляет от 1.6 до 2.0 л. Мощность двигателей Mitsubishi ASX от 117 до 150 л. с.\n",
    "Объем двигателя Опель Астра составляет от 1.0 до 2.2 л. Мощность двигателей Opel Astra от 60 до 200 л. с.\n",
    "Видимо, тут кто-то явно ошибся ноликом. Исправим ошибку:"
   ]
  },
  {
   "cell_type": "code",
   "execution_count": 205,
   "metadata": {
    "id": "XclUk6ffWFyZ"
   },
   "outputs": [],
   "source": [
    "df.loc[df['power'] >1200, 'power'] = 140"
   ]
  },
  {
   "cell_type": "code",
   "execution_count": 206,
   "metadata": {
    "colab": {
     "base_uri": "https://localhost:8080/",
     "height": 50
    },
    "id": "bQQ3driQWpTh",
    "outputId": "aba5d11b-4972-45ee-a8e4-7d7a5ff8bd89"
   },
   "outputs": [
    {
     "data": {
      "text/html": [
       "<div>\n",
       "<style scoped>\n",
       "    .dataframe tbody tr th:only-of-type {\n",
       "        vertical-align: middle;\n",
       "    }\n",
       "\n",
       "    .dataframe tbody tr th {\n",
       "        vertical-align: top;\n",
       "    }\n",
       "\n",
       "    .dataframe thead th {\n",
       "        text-align: right;\n",
       "    }\n",
       "</style>\n",
       "<table border=\"1\" class=\"dataframe\">\n",
       "  <thead>\n",
       "    <tr style=\"text-align: right;\">\n",
       "      <th></th>\n",
       "      <th>mark</th>\n",
       "      <th>model</th>\n",
       "      <th>price</th>\n",
       "      <th>year</th>\n",
       "      <th>mileage</th>\n",
       "      <th>body</th>\n",
       "      <th>kpp</th>\n",
       "      <th>fuel</th>\n",
       "      <th>volume</th>\n",
       "      <th>power</th>\n",
       "    </tr>\n",
       "  </thead>\n",
       "  <tbody>\n",
       "  </tbody>\n",
       "</table>\n",
       "</div>"
      ],
      "text/plain": [
       "Empty DataFrame\n",
       "Columns: [mark, model, price, year, mileage, body, kpp, fuel, volume, power]\n",
       "Index: []"
      ]
     },
     "execution_count": 206,
     "metadata": {},
     "output_type": "execute_result"
    }
   ],
   "source": [
    "# проверим, правильно ли все заменилось:\n",
    "df.query(\"power > 1200\")"
   ]
  },
  {
   "cell_type": "code",
   "execution_count": 207,
   "metadata": {
    "colab": {
     "base_uri": "https://localhost:8080/",
     "height": 345
    },
    "id": "WMjwETyESS6m",
    "outputId": "b93fcb55-f86c-440d-8073-691469b12482"
   },
   "outputs": [
    {
     "name": "stderr",
     "output_type": "stream",
     "text": [
      "/usr/local/lib/python3.7/dist-packages/seaborn/distributions.py:2619: FutureWarning: `distplot` is a deprecated function and will be removed in a future version. Please adapt your code to use either `displot` (a figure-level function with similar flexibility) or `histplot` (an axes-level function for histograms).\n",
      "  warnings.warn(msg, FutureWarning)\n"
     ]
    },
    {
     "data": {
      "image/png": "[encoded data removed]",
      "text/plain": [
       "<Figure size 432x288 with 1 Axes>"
      ]
     },
     "metadata": {
      "needs_background": "light"
     },
     "output_type": "display_data"
    }
   ],
   "source": [
    "sns_plot = sns.distplot(df[\"price\"])\n",
    "fig = sns_plot.get_figure()"
   ]
  },
  {
   "cell_type": "code",
   "execution_count": 208,
   "metadata": {
    "colab": {
     "base_uri": "https://localhost:8080/",
     "height": 423
    },
    "id": "Kn4NVNUjSS9h",
    "outputId": "49b9ef93-e54a-489c-89f9-c0cfbc19c86e"
   },
   "outputs": [
    {
     "data": {
      "text/html": [
       "<div>\n",
       "<style scoped>\n",
       "    .dataframe tbody tr th:only-of-type {\n",
       "        vertical-align: middle;\n",
       "    }\n",
       "\n",
       "    .dataframe tbody tr th {\n",
       "        vertical-align: top;\n",
       "    }\n",
       "\n",
       "    .dataframe thead th {\n",
       "        text-align: right;\n",
       "    }\n",
       "</style>\n",
       "<table border=\"1\" class=\"dataframe\">\n",
       "  <thead>\n",
       "    <tr style=\"text-align: right;\">\n",
       "      <th></th>\n",
       "      <th>mark</th>\n",
       "      <th>model</th>\n",
       "      <th>price</th>\n",
       "      <th>year</th>\n",
       "      <th>mileage</th>\n",
       "      <th>body</th>\n",
       "      <th>kpp</th>\n",
       "      <th>fuel</th>\n",
       "      <th>volume</th>\n",
       "      <th>power</th>\n",
       "    </tr>\n",
       "  </thead>\n",
       "  <tbody>\n",
       "    <tr>\n",
       "      <th>100</th>\n",
       "      <td>mercedes-benz</td>\n",
       "      <td>gle-класс 350 w166/c292</td>\n",
       "      <td>3049000</td>\n",
       "      <td>2016</td>\n",
       "      <td>25784</td>\n",
       "      <td>кроссовер</td>\n",
       "      <td>автомат</td>\n",
       "      <td>дизель</td>\n",
       "      <td>3.0</td>\n",
       "      <td>249.0</td>\n",
       "    </tr>\n",
       "    <tr>\n",
       "      <th>118</th>\n",
       "      <td>bmw</td>\n",
       "      <td>x5 30 f15</td>\n",
       "      <td>2330000</td>\n",
       "      <td>2014</td>\n",
       "      <td>100338</td>\n",
       "      <td>кроссовер</td>\n",
       "      <td>автомат</td>\n",
       "      <td>дизель</td>\n",
       "      <td>3.0</td>\n",
       "      <td>249.0</td>\n",
       "    </tr>\n",
       "    <tr>\n",
       "      <th>170</th>\n",
       "      <td>mercedes-benz</td>\n",
       "      <td>gl-класс 350 x166</td>\n",
       "      <td>3000000</td>\n",
       "      <td>2015</td>\n",
       "      <td>130000</td>\n",
       "      <td>внедорожник</td>\n",
       "      <td>автомат</td>\n",
       "      <td>дизель</td>\n",
       "      <td>3.0</td>\n",
       "      <td>258.0</td>\n",
       "    </tr>\n",
       "    <tr>\n",
       "      <th>179</th>\n",
       "      <td>mercedes-benz</td>\n",
       "      <td>v-класс w447 [рестайлинг]</td>\n",
       "      <td>9650000</td>\n",
       "      <td>2017</td>\n",
       "      <td>30057</td>\n",
       "      <td>минивэн</td>\n",
       "      <td>автомат</td>\n",
       "      <td>дизель</td>\n",
       "      <td>2.1</td>\n",
       "      <td>190.0</td>\n",
       "    </tr>\n",
       "    <tr>\n",
       "      <th>217</th>\n",
       "      <td>mercedes-benz</td>\n",
       "      <td>g-класс 350 w463 [2-й рестайлинг]</td>\n",
       "      <td>3550000</td>\n",
       "      <td>2013</td>\n",
       "      <td>89432</td>\n",
       "      <td>внедорожник</td>\n",
       "      <td>автомат</td>\n",
       "      <td>дизель</td>\n",
       "      <td>3.0</td>\n",
       "      <td>211.0</td>\n",
       "    </tr>\n",
       "    <tr>\n",
       "      <th>...</th>\n",
       "      <td>...</td>\n",
       "      <td>...</td>\n",
       "      <td>...</td>\n",
       "      <td>...</td>\n",
       "      <td>...</td>\n",
       "      <td>...</td>\n",
       "      <td>...</td>\n",
       "      <td>...</td>\n",
       "      <td>...</td>\n",
       "      <td>...</td>\n",
       "    </tr>\n",
       "    <tr>\n",
       "      <th>69962</th>\n",
       "      <td>mercedes-benz</td>\n",
       "      <td>s-класс amg w222/c217/a217</td>\n",
       "      <td>5300000</td>\n",
       "      <td>2015</td>\n",
       "      <td>67588</td>\n",
       "      <td>купе</td>\n",
       "      <td>автомат</td>\n",
       "      <td>бензин</td>\n",
       "      <td>5.5</td>\n",
       "      <td>585.0</td>\n",
       "    </tr>\n",
       "    <tr>\n",
       "      <th>69964</th>\n",
       "      <td>bmw</td>\n",
       "      <td>5 серия 520</td>\n",
       "      <td>2149000</td>\n",
       "      <td>2017</td>\n",
       "      <td>33062</td>\n",
       "      <td>седан</td>\n",
       "      <td>автомат</td>\n",
       "      <td>дизель</td>\n",
       "      <td>2.0</td>\n",
       "      <td>190.0</td>\n",
       "    </tr>\n",
       "    <tr>\n",
       "      <th>70017</th>\n",
       "      <td>toyota</td>\n",
       "      <td>land cruiser 200 j200 [2-й рестайлинг]</td>\n",
       "      <td>3980000</td>\n",
       "      <td>2016</td>\n",
       "      <td>53263</td>\n",
       "      <td>внедорожник</td>\n",
       "      <td>автомат</td>\n",
       "      <td>дизель</td>\n",
       "      <td>4.5</td>\n",
       "      <td>249.0</td>\n",
       "    </tr>\n",
       "    <tr>\n",
       "      <th>70048</th>\n",
       "      <td>audi</td>\n",
       "      <td>q7 4l [рестайлинг]</td>\n",
       "      <td>2189000</td>\n",
       "      <td>2015</td>\n",
       "      <td>55409</td>\n",
       "      <td>кроссовер</td>\n",
       "      <td>автомат</td>\n",
       "      <td>дизель</td>\n",
       "      <td>3.0</td>\n",
       "      <td>245.0</td>\n",
       "    </tr>\n",
       "    <tr>\n",
       "      <th>70087</th>\n",
       "      <td>bmw</td>\n",
       "      <td>x5 25 f15</td>\n",
       "      <td>2106000</td>\n",
       "      <td>2016</td>\n",
       "      <td>91096</td>\n",
       "      <td>кроссовер</td>\n",
       "      <td>автомат</td>\n",
       "      <td>дизель</td>\n",
       "      <td>3.0</td>\n",
       "      <td>218.0</td>\n",
       "    </tr>\n",
       "  </tbody>\n",
       "</table>\n",
       "<p>1630 rows × 10 columns</p>\n",
       "</div>"
      ],
      "text/plain": [
       "                mark                                   model  ...  volume  power\n",
       "100    mercedes-benz                 gle-класс 350 w166/c292  ...     3.0  249.0\n",
       "118              bmw                               x5 30 f15  ...     3.0  249.0\n",
       "170    mercedes-benz                       gl-класс 350 x166  ...     3.0  258.0\n",
       "179    mercedes-benz               v-класс w447 [рестайлинг]  ...     2.1  190.0\n",
       "217    mercedes-benz       g-класс 350 w463 [2-й рестайлинг]  ...     3.0  211.0\n",
       "...              ...                                     ...  ...     ...    ...\n",
       "69962  mercedes-benz              s-класс amg w222/c217/a217  ...     5.5  585.0\n",
       "69964            bmw                             5 серия 520  ...     2.0  190.0\n",
       "70017         toyota  land cruiser 200 j200 [2-й рестайлинг]  ...     4.5  249.0\n",
       "70048           audi                      q7 4l [рестайлинг]  ...     3.0  245.0\n",
       "70087            bmw                               x5 25 f15  ...     3.0  218.0\n",
       "\n",
       "[1630 rows x 10 columns]"
      ]
     },
     "execution_count": 208,
     "metadata": {},
     "output_type": "execute_result"
    }
   ],
   "source": [
    "df.query('price>2000000')"
   ]
  },
  {
   "cell_type": "markdown",
   "metadata": {
    "id": "6lDNLDU1SzVN"
   },
   "source": [
    "В нашем датафрейме есть 1630 записей об автомобилях стоимостью более 2 млн рублей. На вскидку, поглядев на марки автомобилей - среди них, действительно, дорогие марки, такие как mercedes-benz, bmw, audi. Основная же масса записей лежит в пределах от 0 до примерно 250 000 рублей. Звучит реалистично, удалять не будем."
   ]
  },
  {
   "cell_type": "code",
   "execution_count": 209,
   "metadata": {
    "colab": {
     "base_uri": "https://localhost:8080/",
     "height": 50
    },
    "id": "NvsaAAjZXl5e",
    "outputId": "76866464-3a1a-4f71-98df-8e80734dd61c"
   },
   "outputs": [
    {
     "data": {
      "text/html": [
       "<div>\n",
       "<style scoped>\n",
       "    .dataframe tbody tr th:only-of-type {\n",
       "        vertical-align: middle;\n",
       "    }\n",
       "\n",
       "    .dataframe tbody tr th {\n",
       "        vertical-align: top;\n",
       "    }\n",
       "\n",
       "    .dataframe thead th {\n",
       "        text-align: right;\n",
       "    }\n",
       "</style>\n",
       "<table border=\"1\" class=\"dataframe\">\n",
       "  <thead>\n",
       "    <tr style=\"text-align: right;\">\n",
       "      <th></th>\n",
       "      <th>mark</th>\n",
       "      <th>model</th>\n",
       "      <th>price</th>\n",
       "      <th>year</th>\n",
       "      <th>mileage</th>\n",
       "      <th>body</th>\n",
       "      <th>kpp</th>\n",
       "      <th>fuel</th>\n",
       "      <th>volume</th>\n",
       "      <th>power</th>\n",
       "    </tr>\n",
       "  </thead>\n",
       "  <tbody>\n",
       "  </tbody>\n",
       "</table>\n",
       "</div>"
      ],
      "text/plain": [
       "Empty DataFrame\n",
       "Columns: [mark, model, price, year, mileage, body, kpp, fuel, volume, power]\n",
       "Index: []"
      ]
     },
     "execution_count": 209,
     "metadata": {},
     "output_type": "execute_result"
    }
   ],
   "source": [
    "#На всякий случай проверим, есть ли нулевые значения в колонке с ценой\n",
    "df.query('price==0')"
   ]
  },
  {
   "cell_type": "code",
   "execution_count": 210,
   "metadata": {
    "colab": {
     "base_uri": "https://localhost:8080/",
     "height": 345
    },
    "id": "Ipwuq18OSTCH",
    "outputId": "4aab45ad-df27-4e32-9f33-071d472a0bb5"
   },
   "outputs": [
    {
     "name": "stderr",
     "output_type": "stream",
     "text": [
      "/usr/local/lib/python3.7/dist-packages/seaborn/distributions.py:2619: FutureWarning: `distplot` is a deprecated function and will be removed in a future version. Please adapt your code to use either `displot` (a figure-level function with similar flexibility) or `histplot` (an axes-level function for histograms).\n",
      "  warnings.warn(msg, FutureWarning)\n"
     ]
    },
    {
     "data": {
      "image/png": "[encoded data removed]",
      "text/plain": [
       "<Figure size 432x288 with 1 Axes>"
      ]
     },
     "metadata": {
      "needs_background": "light"
     },
     "output_type": "display_data"
    }
   ],
   "source": [
    "sns_plot = sns.distplot(df[\"mileage\"])\n",
    "fig = sns_plot.get_figure()"
   ]
  },
  {
   "cell_type": "markdown",
   "metadata": {
    "id": "Jivq8qttW96q"
   },
   "source": [
    "Основная масса значений лежит в пределах от 0 до примерно 600 000 км. К данной колонке вопросов нет, так что продолжим.\n",
    "Посмотрим на корреляцию колонок по отношению к ключевому признаку (к колонке Price)."
   ]
  },
  {
   "cell_type": "code",
   "execution_count": 211,
   "metadata": {
    "colab": {
     "base_uri": "https://localhost:8080/"
    },
    "id": "BHkDMAXaSTE6",
    "outputId": "1447571b-e58c-4021-f1be-4999fdb434b5"
   },
   "outputs": [
    {
     "data": {
      "text/plain": [
       "mileage   -0.378400\n",
       "volume     0.399831\n",
       "year       0.478208\n",
       "power      0.561377\n",
       "price      1.000000\n",
       "Name: price, dtype: float64"
      ]
     },
     "execution_count": 211,
     "metadata": {},
     "output_type": "execute_result"
    }
   ],
   "source": [
    "correlations_data = df.corr()['price'].sort_values()\n",
    "correlations_data"
   ]
  },
  {
   "cell_type": "markdown",
   "metadata": {
    "id": "RQCbAPl7YyjR"
   },
   "source": [
    "Значения коэффициента корреляции интерпретируются следующим образом:\n",
    "\n",
    "До 0,2 — очень слабая корреляция До 0,5 — слабая До 0,7 — средняя До 0,9 — высокая Больше 0,9 — очень высокая И действительно, корреляцию (0.56) можно наблюдать между столбцами \"power\" и \"price\", корреляцию 0.47 между столбцами Price и year, корреляцию 0.39 можно увидеть между колонками volume и price. Также имеется отрицательная корреляция между колонками mileage и price - то есть, чем больше пробег, тем ниже цена.\n",
    "\n",
    "Итак, насколько нам позволяет датасет и само задание, мы избавились от выбросов (аномальных значений) и пропусков. Приступим к кодированию категориальных и масштабирование численных признаков.\n",
    "\n",
    "Для начала извлечем текстовые данные из колонки model таблицы, помещаем в переменную data_text. Выводим длину списка:"
   ]
  },
  {
   "cell_type": "code",
   "execution_count": 212,
   "metadata": {
    "colab": {
     "base_uri": "https://localhost:8080/"
    },
    "id": "YzE5sHZ5XXme",
    "outputId": "bed0149f-eda6-450e-abe6-bb3e06ec90f1"
   },
   "outputs": [
    {
     "data": {
      "text/plain": [
       "70108"
      ]
     },
     "execution_count": 212,
     "metadata": {},
     "output_type": "execute_result"
    }
   ],
   "source": [
    "data_text = df['model'].values #\n",
    "\n",
    "len(data_text)"
   ]
  },
  {
   "cell_type": "code",
   "execution_count": 213,
   "metadata": {
    "id": "UUoVxcLkXXpG"
   },
   "outputs": [],
   "source": [
    "# укажем размер словаря, инициализируем Токенайзер с соотв. параметрами, обработаем им нашу переменную data_text\n",
    "maxWordsCount = 5000 \n",
    "\n",
    "sim_for_del='!\"#$%&()*+,-./:;<=>?@[\\\\]^_`{|}~\\t\\n'\n",
    "\n",
    "tokenizer = Tokenizer (num_words=maxWordsCount, \n",
    "                       filters=sim_for_del, \n",
    "                       lower=True, \n",
    "                       split=' ', \n",
    "                       oov_token='unknown', \n",
    "                       char_level=False)\n",
    "\n",
    "tokenizer.fit_on_texts(data_text)"
   ]
  },
  {
   "cell_type": "code",
   "execution_count": 214,
   "metadata": {
    "id": "9J6xYL8GXXrm"
   },
   "outputs": [],
   "source": [
    "# Переводим в Эмбеддинг пространство\n",
    "Sequences = tokenizer.texts_to_sequences(data_text)\n",
    "\n",
    "# Вариант  Bag of Words\n",
    "xBOW_text = tokenizer.sequences_to_matrix(Sequences)"
   ]
  },
  {
   "cell_type": "markdown",
   "metadata": {
    "id": "8LpTWjLOl655"
   },
   "source": [
    "Напишем функцию purify() для очистки текста в таблице с данными. Она убирает из строки следующие символы:\n",
    "\\n;\n",
    "\\xa0;\n",
    "пробелы по краям.\n",
    "А также приведет все символы к нижнему регистру."
   ]
  },
  {
   "cell_type": "code",
   "execution_count": 215,
   "metadata": {
    "id": "6bR7ok1HXXxF"
   },
   "outputs": [],
   "source": [
    "def purify(x):\n",
    "    if isinstance(x, str):                # Если значение - строка:\n",
    "        # Замена концов строк на пробелы, удаление символа с кодом 0xA0,\n",
    "        # обрезка краевых пробелов и приведение к нижнему регистру\n",
    "        x = x.replace('\\n', ' ').replace('\\xa0', '').strip().lower()\n",
    "    return x"
   ]
  },
  {
   "cell_type": "code",
   "execution_count": 216,
   "metadata": {
    "colab": {
     "base_uri": "https://localhost:8080/",
     "height": 676
    },
    "id": "26G8s6wIcRp2",
    "outputId": "4f29eb39-9926-4550-d402-4528aacb2a32"
   },
   "outputs": [
    {
     "data": {
      "text/html": [
       "<div>\n",
       "<style scoped>\n",
       "    .dataframe tbody tr th:only-of-type {\n",
       "        vertical-align: middle;\n",
       "    }\n",
       "\n",
       "    .dataframe tbody tr th {\n",
       "        vertical-align: top;\n",
       "    }\n",
       "\n",
       "    .dataframe thead th {\n",
       "        text-align: right;\n",
       "    }\n",
       "</style>\n",
       "<table border=\"1\" class=\"dataframe\">\n",
       "  <thead>\n",
       "    <tr style=\"text-align: right;\">\n",
       "      <th></th>\n",
       "      <th>mark</th>\n",
       "      <th>model</th>\n",
       "      <th>price</th>\n",
       "      <th>year</th>\n",
       "      <th>mileage</th>\n",
       "      <th>body</th>\n",
       "      <th>kpp</th>\n",
       "      <th>fuel</th>\n",
       "      <th>volume</th>\n",
       "      <th>power</th>\n",
       "    </tr>\n",
       "  </thead>\n",
       "  <tbody>\n",
       "    <tr>\n",
       "      <th>0</th>\n",
       "      <td>kia</td>\n",
       "      <td>cerato</td>\n",
       "      <td>996000</td>\n",
       "      <td>2018</td>\n",
       "      <td>28000</td>\n",
       "      <td>седан</td>\n",
       "      <td>автомат</td>\n",
       "      <td>бензин</td>\n",
       "      <td>2.0</td>\n",
       "      <td>150.0</td>\n",
       "    </tr>\n",
       "    <tr>\n",
       "      <th>1</th>\n",
       "      <td>daewoo</td>\n",
       "      <td>nexia 1 поколение [2-й рестайлинг]</td>\n",
       "      <td>140200</td>\n",
       "      <td>2012</td>\n",
       "      <td>60500</td>\n",
       "      <td>седан</td>\n",
       "      <td>механика</td>\n",
       "      <td>бензин</td>\n",
       "      <td>1.5</td>\n",
       "      <td>80.0</td>\n",
       "    </tr>\n",
       "    <tr>\n",
       "      <th>2</th>\n",
       "      <td>suzuki</td>\n",
       "      <td>jimny 3 поколение [рестайлинг]</td>\n",
       "      <td>750000</td>\n",
       "      <td>2011</td>\n",
       "      <td>29000</td>\n",
       "      <td>внедорожник</td>\n",
       "      <td>автомат</td>\n",
       "      <td>бензин</td>\n",
       "      <td>1.3</td>\n",
       "      <td>85.0</td>\n",
       "    </tr>\n",
       "    <tr>\n",
       "      <th>3</th>\n",
       "      <td>bmw</td>\n",
       "      <td>x1 18 e84 [рестайлинг]</td>\n",
       "      <td>970000</td>\n",
       "      <td>2014</td>\n",
       "      <td>49500</td>\n",
       "      <td>кроссовер</td>\n",
       "      <td>автомат</td>\n",
       "      <td>бензин</td>\n",
       "      <td>2.0</td>\n",
       "      <td>150.0</td>\n",
       "    </tr>\n",
       "    <tr>\n",
       "      <th>4</th>\n",
       "      <td>chevrolet</td>\n",
       "      <td>lacetti 1 поколение</td>\n",
       "      <td>205000</td>\n",
       "      <td>2007</td>\n",
       "      <td>151445</td>\n",
       "      <td>седан</td>\n",
       "      <td>механика</td>\n",
       "      <td>бензин</td>\n",
       "      <td>1.4</td>\n",
       "      <td>95.0</td>\n",
       "    </tr>\n",
       "    <tr>\n",
       "      <th>5</th>\n",
       "      <td>hyundai</td>\n",
       "      <td>creta 1 поколение</td>\n",
       "      <td>985000</td>\n",
       "      <td>2016</td>\n",
       "      <td>34067</td>\n",
       "      <td>кроссовер</td>\n",
       "      <td>автомат</td>\n",
       "      <td>бензин</td>\n",
       "      <td>2.0</td>\n",
       "      <td>150.0</td>\n",
       "    </tr>\n",
       "    <tr>\n",
       "      <th>6</th>\n",
       "      <td>kia</td>\n",
       "      <td>ceed 2 поколение</td>\n",
       "      <td>589000</td>\n",
       "      <td>2013</td>\n",
       "      <td>98000</td>\n",
       "      <td>хетчбэк</td>\n",
       "      <td>автомат</td>\n",
       "      <td>бензин</td>\n",
       "      <td>1.6</td>\n",
       "      <td>129.0</td>\n",
       "    </tr>\n",
       "    <tr>\n",
       "      <th>7</th>\n",
       "      <td>toyota</td>\n",
       "      <td>corolla e140</td>\n",
       "      <td>500000</td>\n",
       "      <td>2008</td>\n",
       "      <td>141000</td>\n",
       "      <td>седан</td>\n",
       "      <td>автомат</td>\n",
       "      <td>бензин</td>\n",
       "      <td>1.6</td>\n",
       "      <td>124.0</td>\n",
       "    </tr>\n",
       "    <tr>\n",
       "      <th>8</th>\n",
       "      <td>mercedes-benz</td>\n",
       "      <td>c-класс 180 w204/s204/c204 [рестайлинг]</td>\n",
       "      <td>1320000</td>\n",
       "      <td>2015</td>\n",
       "      <td>81112</td>\n",
       "      <td>седан</td>\n",
       "      <td>автомат</td>\n",
       "      <td>бензин</td>\n",
       "      <td>1.6</td>\n",
       "      <td>156.0</td>\n",
       "    </tr>\n",
       "    <tr>\n",
       "      <th>9</th>\n",
       "      <td>bmw</td>\n",
       "      <td>7 серия 735 e65/e66</td>\n",
       "      <td>270000</td>\n",
       "      <td>2001</td>\n",
       "      <td>300000</td>\n",
       "      <td>седан</td>\n",
       "      <td>автомат</td>\n",
       "      <td>бензин</td>\n",
       "      <td>3.6</td>\n",
       "      <td>272.0</td>\n",
       "    </tr>\n",
       "    <tr>\n",
       "      <th>10</th>\n",
       "      <td>chery</td>\n",
       "      <td>tiggo t11</td>\n",
       "      <td>290000</td>\n",
       "      <td>2007</td>\n",
       "      <td>140000</td>\n",
       "      <td>кроссовер</td>\n",
       "      <td>механика</td>\n",
       "      <td>бензин</td>\n",
       "      <td>2.4</td>\n",
       "      <td>129.0</td>\n",
       "    </tr>\n",
       "    <tr>\n",
       "      <th>11</th>\n",
       "      <td>ford</td>\n",
       "      <td>focus 2 поколение [рестайлинг]</td>\n",
       "      <td>295000</td>\n",
       "      <td>2009</td>\n",
       "      <td>108000</td>\n",
       "      <td>хетчбэк</td>\n",
       "      <td>механика</td>\n",
       "      <td>бензин</td>\n",
       "      <td>1.4</td>\n",
       "      <td>80.0</td>\n",
       "    </tr>\n",
       "    <tr>\n",
       "      <th>12</th>\n",
       "      <td>mazda</td>\n",
       "      <td>familia bj [рестайлинг]</td>\n",
       "      <td>250000</td>\n",
       "      <td>2001</td>\n",
       "      <td>275000</td>\n",
       "      <td>седан</td>\n",
       "      <td>автомат</td>\n",
       "      <td>бензин</td>\n",
       "      <td>1.5</td>\n",
       "      <td>110.0</td>\n",
       "    </tr>\n",
       "    <tr>\n",
       "      <th>13</th>\n",
       "      <td>mazda</td>\n",
       "      <td>6 gh</td>\n",
       "      <td>473936</td>\n",
       "      <td>2008</td>\n",
       "      <td>163500</td>\n",
       "      <td>седан</td>\n",
       "      <td>механика</td>\n",
       "      <td>бензин</td>\n",
       "      <td>1.8</td>\n",
       "      <td>120.0</td>\n",
       "    </tr>\n",
       "    <tr>\n",
       "      <th>14</th>\n",
       "      <td>hyundai</td>\n",
       "      <td>solaris 2 поколение</td>\n",
       "      <td>650000</td>\n",
       "      <td>2017</td>\n",
       "      <td>73000</td>\n",
       "      <td>седан</td>\n",
       "      <td>механика</td>\n",
       "      <td>бензин</td>\n",
       "      <td>1.4</td>\n",
       "      <td>100.0</td>\n",
       "    </tr>\n",
       "    <tr>\n",
       "      <th>15</th>\n",
       "      <td>suzuki</td>\n",
       "      <td>aerio 1 поколение</td>\n",
       "      <td>220000</td>\n",
       "      <td>2004</td>\n",
       "      <td>288159</td>\n",
       "      <td>универсал</td>\n",
       "      <td>автомат</td>\n",
       "      <td>бензин</td>\n",
       "      <td>1.5</td>\n",
       "      <td>110.0</td>\n",
       "    </tr>\n",
       "    <tr>\n",
       "      <th>16</th>\n",
       "      <td>peugeot</td>\n",
       "      <td>307 1 поколение</td>\n",
       "      <td>165000</td>\n",
       "      <td>2001</td>\n",
       "      <td>213000</td>\n",
       "      <td>хетчбэк</td>\n",
       "      <td>механика</td>\n",
       "      <td>бензин</td>\n",
       "      <td>1.6</td>\n",
       "      <td>109.0</td>\n",
       "    </tr>\n",
       "    <tr>\n",
       "      <th>17</th>\n",
       "      <td>bmw</td>\n",
       "      <td>5 серия 520 e39</td>\n",
       "      <td>280000</td>\n",
       "      <td>1997</td>\n",
       "      <td>310000</td>\n",
       "      <td>седан</td>\n",
       "      <td>механика</td>\n",
       "      <td>бензин</td>\n",
       "      <td>2.0</td>\n",
       "      <td>150.0</td>\n",
       "    </tr>\n",
       "    <tr>\n",
       "      <th>18</th>\n",
       "      <td>mazda</td>\n",
       "      <td>626 gf [рестайлинг]</td>\n",
       "      <td>250000</td>\n",
       "      <td>2000</td>\n",
       "      <td>200000</td>\n",
       "      <td>седан</td>\n",
       "      <td>автомат</td>\n",
       "      <td>бензин</td>\n",
       "      <td>2.0</td>\n",
       "      <td>136.0</td>\n",
       "    </tr>\n",
       "    <tr>\n",
       "      <th>19</th>\n",
       "      <td>peugeot</td>\n",
       "      <td>605 1 поколение</td>\n",
       "      <td>80000</td>\n",
       "      <td>1992</td>\n",
       "      <td>300000</td>\n",
       "      <td>седан</td>\n",
       "      <td>механика</td>\n",
       "      <td>бензин</td>\n",
       "      <td>2.0</td>\n",
       "      <td>122.0</td>\n",
       "    </tr>\n",
       "  </tbody>\n",
       "</table>\n",
       "</div>"
      ],
      "text/plain": [
       "             mark                                    model  ...  volume  power\n",
       "0             kia                                   cerato  ...     2.0  150.0\n",
       "1          daewoo       nexia 1 поколение [2-й рестайлинг]  ...     1.5   80.0\n",
       "2          suzuki           jimny 3 поколение [рестайлинг]  ...     1.3   85.0\n",
       "3             bmw                   x1 18 e84 [рестайлинг]  ...     2.0  150.0\n",
       "4       chevrolet                      lacetti 1 поколение  ...     1.4   95.0\n",
       "5         hyundai                        creta 1 поколение  ...     2.0  150.0\n",
       "6             kia                         ceed 2 поколение  ...     1.6  129.0\n",
       "7          toyota                             corolla e140  ...     1.6  124.0\n",
       "8   mercedes-benz  c-класс 180 w204/s204/c204 [рестайлинг]  ...     1.6  156.0\n",
       "9             bmw                      7 серия 735 e65/e66  ...     3.6  272.0\n",
       "10          chery                                tiggo t11  ...     2.4  129.0\n",
       "11           ford           focus 2 поколение [рестайлинг]  ...     1.4   80.0\n",
       "12          mazda                  familia bj [рестайлинг]  ...     1.5  110.0\n",
       "13          mazda                                     6 gh  ...     1.8  120.0\n",
       "14        hyundai                      solaris 2 поколение  ...     1.4  100.0\n",
       "15         suzuki                        aerio 1 поколение  ...     1.5  110.0\n",
       "16        peugeot                          307 1 поколение  ...     1.6  109.0\n",
       "17            bmw                          5 серия 520 e39  ...     2.0  150.0\n",
       "18          mazda                      626 gf [рестайлинг]  ...     2.0  136.0\n",
       "19        peugeot                          605 1 поколение  ...     2.0  122.0\n",
       "\n",
       "[20 rows x 10 columns]"
      ]
     },
     "execution_count": 216,
     "metadata": {},
     "output_type": "execute_result"
    }
   ],
   "source": [
    "df.head(20)"
   ]
  },
  {
   "cell_type": "code",
   "execution_count": 217,
   "metadata": {
    "colab": {
     "base_uri": "https://localhost:8080/"
    },
    "id": "p4Azm0yEq-zd",
    "outputId": "c648b236-4d45-41ad-ac74-49c1fe54eede"
   },
   "outputs": [
    {
     "data": {
      "text/plain": [
       "3156"
      ]
     },
     "execution_count": 217,
     "metadata": {},
     "output_type": "execute_result"
    }
   ],
   "source": [
    "df['model'].nunique()"
   ]
  },
  {
   "cell_type": "markdown",
   "metadata": {
    "id": "9HUxjTWv4D33"
   },
   "source": [
    "признак \"model\", из-за того, что там 3156 уникальных значений, закодируем техникой OrdinalEncoder."
   ]
  },
  {
   "cell_type": "code",
   "execution_count": 218,
   "metadata": {
    "id": "fj4SrV_V6cTZ"
   },
   "outputs": [],
   "source": [
    "data =pd.concat([pd.get_dummies(df.drop([\"model\"], axis=1), drop_first=True), df[\"model\"]], axis=1)"
   ]
  },
  {
   "cell_type": "code",
   "execution_count": 219,
   "metadata": {
    "id": "Qlr8ugqd65I3"
   },
   "outputs": [],
   "source": [
    "#Разобьем данные на признаки и целевой столбец:\n",
    "features = data.drop(['price'], axis=1)\n",
    "target = data[\"price\"]"
   ]
  },
  {
   "cell_type": "code",
   "execution_count": 220,
   "metadata": {
    "colab": {
     "base_uri": "https://localhost:8080/"
    },
    "id": "_XLwDp2Q65L3",
    "outputId": "c12babeb-b0ba-4901-b09d-b6bc84a1850f"
   },
   "outputs": [
    {
     "name": "stdout",
     "output_type": "stream",
     "text": [
      "Размер обучающей выборки: 52581 записей\n",
      "Размер тестовой выборки: 8764 записей\n",
      "Размер валидационной выборки: 8763 записей\n"
     ]
    }
   ],
   "source": [
    "# Воспользуемся функцией train_test_split, чтобы разделить нашу таблицу на 3 выборки: обучающую, тестовую и валидационную. \n",
    "# Разделим наш датафрейм стачала на обучающую и  валидационную, \n",
    "# после этого еще раз поделим валидационную на валидационную и тестовую\n",
    "\n",
    "df_train, df_valid = train_test_split(data, test_size=0.25, random_state=12345)\n",
    "df_valid, df_test = train_test_split(df_valid,test_size = 0.5, random_state=12345)\n",
    "print('Размер обучающей выборки:', df_train.shape[0],'записей')\n",
    "print('Размер тестовой выборки:',df_test.shape[0],'записей')\n",
    "print('Размер валидационной выборки:', df_valid.shape[0],'записей')"
   ]
  },
  {
   "cell_type": "code",
   "execution_count": 221,
   "metadata": {
    "id": "4COt_8Af65Ou"
   },
   "outputs": [],
   "source": [
    "#Валидационная выборка\n",
    "valid_features = df_valid.drop(['price'], axis=1)\n",
    "valid_target = df_valid['price']\n",
    "\n",
    "#Обучающая выборка\n",
    "train_features = df_train.drop(['price'], axis=1, inplace=False)\n",
    "train_target = df_train['price']\n",
    "\n",
    "#Тестовая выборка\n",
    "test_features = df_test.drop(['price'], axis=1)\n",
    "test_target = df_test['price']"
   ]
  },
  {
   "cell_type": "code",
   "execution_count": 222,
   "metadata": {
    "id": "_FqQOBIj8G7U"
   },
   "outputs": [],
   "source": [
    "# выделим колонки с числовыми данными для масштабирования\n",
    "numeric = ['power','mileage']"
   ]
  },
  {
   "cell_type": "code",
   "execution_count": 223,
   "metadata": {
    "id": "-KCnwa4h8G-Q"
   },
   "outputs": [],
   "source": [
    "# Инициализируем StandardScaler для масштабирования колонок 'power' и 'mileage':\n",
    "scaler = StandardScaler()"
   ]
  },
  {
   "cell_type": "code",
   "execution_count": 224,
   "metadata": {
    "id": "n17L3XXa8HA7"
   },
   "outputs": [],
   "source": [
    "# к тренировочным признакам применим fit и transform, а к валидационным и тестовым - только transform\n",
    "scaler.fit(train_features[numeric])\n",
    "\n",
    "train_features_scal = train_features.copy()\n",
    "valid_features_scal = valid_features.copy()\n",
    "test_features_scal = test_features.copy()"
   ]
  },
  {
   "cell_type": "code",
   "execution_count": 225,
   "metadata": {
    "id": "q7MygAk58HDT"
   },
   "outputs": [],
   "source": [
    "train_features_scal[numeric] = scaler.fit_transform(train_features[numeric])\n",
    "valid_features_scal[numeric]= scaler.transform(valid_features[numeric])\n",
    "test_features_scal[numeric]= scaler.transform(test_features[numeric])"
   ]
  },
  {
   "cell_type": "code",
   "execution_count": 226,
   "metadata": {
    "colab": {
     "base_uri": "https://localhost:8080/",
     "height": 313
    },
    "id": "QXInhtS99QM8",
    "outputId": "759d3e3b-2004-4375-e84e-bc4bc58d62ed"
   },
   "outputs": [
    {
     "data": {
      "text/html": [
       "<div>\n",
       "<style scoped>\n",
       "    .dataframe tbody tr th:only-of-type {\n",
       "        vertical-align: middle;\n",
       "    }\n",
       "\n",
       "    .dataframe tbody tr th {\n",
       "        vertical-align: top;\n",
       "    }\n",
       "\n",
       "    .dataframe thead th {\n",
       "        text-align: right;\n",
       "    }\n",
       "</style>\n",
       "<table border=\"1\" class=\"dataframe\">\n",
       "  <thead>\n",
       "    <tr style=\"text-align: right;\">\n",
       "      <th></th>\n",
       "      <th>year</th>\n",
       "      <th>mileage</th>\n",
       "      <th>volume</th>\n",
       "      <th>power</th>\n",
       "      <th>mark_bmw</th>\n",
       "      <th>mark_chery</th>\n",
       "      <th>mark_chevrolet</th>\n",
       "      <th>mark_daewoo</th>\n",
       "      <th>mark_ford</th>\n",
       "      <th>mark_honda</th>\n",
       "      <th>mark_hyundai</th>\n",
       "      <th>mark_kia</th>\n",
       "      <th>mark_mazda</th>\n",
       "      <th>mark_mercedes-benz</th>\n",
       "      <th>mark_mitsubishi</th>\n",
       "      <th>mark_nissan</th>\n",
       "      <th>mark_opel</th>\n",
       "      <th>mark_peugeot</th>\n",
       "      <th>mark_renault</th>\n",
       "      <th>mark_skoda</th>\n",
       "      <th>mark_subaru</th>\n",
       "      <th>mark_suzuki</th>\n",
       "      <th>mark_toyota</th>\n",
       "      <th>mark_volkswagen</th>\n",
       "      <th>body_кабриолет</th>\n",
       "      <th>body_кроссовер</th>\n",
       "      <th>body_купе</th>\n",
       "      <th>body_лимузин</th>\n",
       "      <th>body_лифтбэк</th>\n",
       "      <th>body_микроавтобус</th>\n",
       "      <th>body_минивэн</th>\n",
       "      <th>body_пикап</th>\n",
       "      <th>body_родстер</th>\n",
       "      <th>body_седан</th>\n",
       "      <th>body_тарга</th>\n",
       "      <th>body_универсал</th>\n",
       "      <th>body_фастбэк</th>\n",
       "      <th>body_хардтоп</th>\n",
       "      <th>body_хетчбэк</th>\n",
       "      <th>kpp_вариатор</th>\n",
       "      <th>kpp_механика</th>\n",
       "      <th>kpp_робот</th>\n",
       "      <th>fuel_газ</th>\n",
       "      <th>fuel_гибрид</th>\n",
       "      <th>fuel_дизель</th>\n",
       "      <th>fuel_электро</th>\n",
       "      <th>model</th>\n",
       "    </tr>\n",
       "  </thead>\n",
       "  <tbody>\n",
       "    <tr>\n",
       "      <th>47709</th>\n",
       "      <td>2012</td>\n",
       "      <td>-0.740682</td>\n",
       "      <td>1.8</td>\n",
       "      <td>0.808596</td>\n",
       "      <td>0</td>\n",
       "      <td>0</td>\n",
       "      <td>0</td>\n",
       "      <td>0</td>\n",
       "      <td>0</td>\n",
       "      <td>0</td>\n",
       "      <td>0</td>\n",
       "      <td>0</td>\n",
       "      <td>0</td>\n",
       "      <td>1</td>\n",
       "      <td>0</td>\n",
       "      <td>0</td>\n",
       "      <td>0</td>\n",
       "      <td>0</td>\n",
       "      <td>0</td>\n",
       "      <td>0</td>\n",
       "      <td>0</td>\n",
       "      <td>0</td>\n",
       "      <td>0</td>\n",
       "      <td>0</td>\n",
       "      <td>0</td>\n",
       "      <td>0</td>\n",
       "      <td>0</td>\n",
       "      <td>0</td>\n",
       "      <td>0</td>\n",
       "      <td>0</td>\n",
       "      <td>0</td>\n",
       "      <td>0</td>\n",
       "      <td>0</td>\n",
       "      <td>1</td>\n",
       "      <td>0</td>\n",
       "      <td>0</td>\n",
       "      <td>0</td>\n",
       "      <td>0</td>\n",
       "      <td>0</td>\n",
       "      <td>0</td>\n",
       "      <td>0</td>\n",
       "      <td>0</td>\n",
       "      <td>0</td>\n",
       "      <td>0</td>\n",
       "      <td>0</td>\n",
       "      <td>0</td>\n",
       "      <td>c-класс 200 w204/s204/c204 [рестайлинг]</td>\n",
       "    </tr>\n",
       "    <tr>\n",
       "      <th>28209</th>\n",
       "      <td>1991</td>\n",
       "      <td>1.570606</td>\n",
       "      <td>2.0</td>\n",
       "      <td>0.484881</td>\n",
       "      <td>0</td>\n",
       "      <td>0</td>\n",
       "      <td>0</td>\n",
       "      <td>0</td>\n",
       "      <td>0</td>\n",
       "      <td>1</td>\n",
       "      <td>0</td>\n",
       "      <td>0</td>\n",
       "      <td>0</td>\n",
       "      <td>0</td>\n",
       "      <td>0</td>\n",
       "      <td>0</td>\n",
       "      <td>0</td>\n",
       "      <td>0</td>\n",
       "      <td>0</td>\n",
       "      <td>0</td>\n",
       "      <td>0</td>\n",
       "      <td>0</td>\n",
       "      <td>0</td>\n",
       "      <td>0</td>\n",
       "      <td>0</td>\n",
       "      <td>0</td>\n",
       "      <td>0</td>\n",
       "      <td>0</td>\n",
       "      <td>0</td>\n",
       "      <td>0</td>\n",
       "      <td>0</td>\n",
       "      <td>0</td>\n",
       "      <td>0</td>\n",
       "      <td>1</td>\n",
       "      <td>0</td>\n",
       "      <td>0</td>\n",
       "      <td>0</td>\n",
       "      <td>0</td>\n",
       "      <td>0</td>\n",
       "      <td>0</td>\n",
       "      <td>1</td>\n",
       "      <td>0</td>\n",
       "      <td>0</td>\n",
       "      <td>0</td>\n",
       "      <td>0</td>\n",
       "      <td>0</td>\n",
       "      <td>vigor cb5</td>\n",
       "    </tr>\n",
       "    <tr>\n",
       "      <th>47235</th>\n",
       "      <td>2017</td>\n",
       "      <td>-1.355720</td>\n",
       "      <td>1.6</td>\n",
       "      <td>-0.929244</td>\n",
       "      <td>0</td>\n",
       "      <td>0</td>\n",
       "      <td>0</td>\n",
       "      <td>0</td>\n",
       "      <td>0</td>\n",
       "      <td>0</td>\n",
       "      <td>0</td>\n",
       "      <td>0</td>\n",
       "      <td>0</td>\n",
       "      <td>0</td>\n",
       "      <td>0</td>\n",
       "      <td>0</td>\n",
       "      <td>0</td>\n",
       "      <td>0</td>\n",
       "      <td>1</td>\n",
       "      <td>0</td>\n",
       "      <td>0</td>\n",
       "      <td>0</td>\n",
       "      <td>0</td>\n",
       "      <td>0</td>\n",
       "      <td>0</td>\n",
       "      <td>0</td>\n",
       "      <td>0</td>\n",
       "      <td>0</td>\n",
       "      <td>0</td>\n",
       "      <td>0</td>\n",
       "      <td>0</td>\n",
       "      <td>0</td>\n",
       "      <td>0</td>\n",
       "      <td>1</td>\n",
       "      <td>0</td>\n",
       "      <td>0</td>\n",
       "      <td>0</td>\n",
       "      <td>0</td>\n",
       "      <td>0</td>\n",
       "      <td>0</td>\n",
       "      <td>1</td>\n",
       "      <td>0</td>\n",
       "      <td>0</td>\n",
       "      <td>0</td>\n",
       "      <td>0</td>\n",
       "      <td>0</td>\n",
       "      <td>logan 2 поколение</td>\n",
       "    </tr>\n",
       "    <tr>\n",
       "      <th>26232</th>\n",
       "      <td>2008</td>\n",
       "      <td>-0.699640</td>\n",
       "      <td>2.3</td>\n",
       "      <td>1.728630</td>\n",
       "      <td>0</td>\n",
       "      <td>0</td>\n",
       "      <td>0</td>\n",
       "      <td>0</td>\n",
       "      <td>0</td>\n",
       "      <td>0</td>\n",
       "      <td>0</td>\n",
       "      <td>0</td>\n",
       "      <td>1</td>\n",
       "      <td>0</td>\n",
       "      <td>0</td>\n",
       "      <td>0</td>\n",
       "      <td>0</td>\n",
       "      <td>0</td>\n",
       "      <td>0</td>\n",
       "      <td>0</td>\n",
       "      <td>0</td>\n",
       "      <td>0</td>\n",
       "      <td>0</td>\n",
       "      <td>0</td>\n",
       "      <td>0</td>\n",
       "      <td>1</td>\n",
       "      <td>0</td>\n",
       "      <td>0</td>\n",
       "      <td>0</td>\n",
       "      <td>0</td>\n",
       "      <td>0</td>\n",
       "      <td>0</td>\n",
       "      <td>0</td>\n",
       "      <td>0</td>\n",
       "      <td>0</td>\n",
       "      <td>0</td>\n",
       "      <td>0</td>\n",
       "      <td>0</td>\n",
       "      <td>0</td>\n",
       "      <td>0</td>\n",
       "      <td>0</td>\n",
       "      <td>0</td>\n",
       "      <td>0</td>\n",
       "      <td>0</td>\n",
       "      <td>0</td>\n",
       "      <td>0</td>\n",
       "      <td>cx-7 1 поколение</td>\n",
       "    </tr>\n",
       "    <tr>\n",
       "      <th>13627</th>\n",
       "      <td>2005</td>\n",
       "      <td>-0.689226</td>\n",
       "      <td>1.6</td>\n",
       "      <td>-0.656642</td>\n",
       "      <td>0</td>\n",
       "      <td>0</td>\n",
       "      <td>0</td>\n",
       "      <td>0</td>\n",
       "      <td>0</td>\n",
       "      <td>0</td>\n",
       "      <td>0</td>\n",
       "      <td>0</td>\n",
       "      <td>0</td>\n",
       "      <td>0</td>\n",
       "      <td>1</td>\n",
       "      <td>0</td>\n",
       "      <td>0</td>\n",
       "      <td>0</td>\n",
       "      <td>0</td>\n",
       "      <td>0</td>\n",
       "      <td>0</td>\n",
       "      <td>0</td>\n",
       "      <td>0</td>\n",
       "      <td>0</td>\n",
       "      <td>0</td>\n",
       "      <td>0</td>\n",
       "      <td>0</td>\n",
       "      <td>0</td>\n",
       "      <td>0</td>\n",
       "      <td>0</td>\n",
       "      <td>0</td>\n",
       "      <td>0</td>\n",
       "      <td>0</td>\n",
       "      <td>0</td>\n",
       "      <td>0</td>\n",
       "      <td>1</td>\n",
       "      <td>0</td>\n",
       "      <td>0</td>\n",
       "      <td>0</td>\n",
       "      <td>0</td>\n",
       "      <td>0</td>\n",
       "      <td>0</td>\n",
       "      <td>0</td>\n",
       "      <td>0</td>\n",
       "      <td>0</td>\n",
       "      <td>0</td>\n",
       "      <td>lancer ix</td>\n",
       "    </tr>\n",
       "  </tbody>\n",
       "</table>\n",
       "</div>"
      ],
      "text/plain": [
       "       year   mileage  ...  fuel_электро                                    model\n",
       "47709  2012 -0.740682  ...             0  c-класс 200 w204/s204/c204 [рестайлинг]\n",
       "28209  1991  1.570606  ...             0                                vigor cb5\n",
       "47235  2017 -1.355720  ...             0                        logan 2 поколение\n",
       "26232  2008 -0.699640  ...             0                         cx-7 1 поколение\n",
       "13627  2005 -0.689226  ...             0                                lancer ix\n",
       "\n",
       "[5 rows x 47 columns]"
      ]
     },
     "execution_count": 226,
     "metadata": {},
     "output_type": "execute_result"
    }
   ],
   "source": [
    "train_features_scal.head()"
   ]
  },
  {
   "cell_type": "code",
   "execution_count": 227,
   "metadata": {
    "id": "oqK9k75V4COz"
   },
   "outputs": [],
   "source": [
    "encoder = OrdinalEncoder()"
   ]
  },
  {
   "cell_type": "code",
   "execution_count": 228,
   "metadata": {
    "id": "QmLsetx_9QPt"
   },
   "outputs": [],
   "source": [
    "colums_for_encoding=valid_features_scal[\"model\"]\n",
    "valid_features_scal[\"model_OE\"]=encoder.fit_transform(colums_for_encoding.values.reshape(-1, 1))"
   ]
  },
  {
   "cell_type": "code",
   "execution_count": 229,
   "metadata": {
    "id": "8VxzOTa69QSm"
   },
   "outputs": [],
   "source": [
    "colums_for_encoding=train_features_scal[\"model\"]\n",
    "train_features_scal[\"model_OE\"]=encoder.fit_transform(colums_for_encoding.values.reshape(-1, 1))"
   ]
  },
  {
   "cell_type": "code",
   "execution_count": 230,
   "metadata": {
    "id": "szknol0O9QVJ"
   },
   "outputs": [],
   "source": [
    "colums_for_encoding=test_features_scal[\"model\"]\n",
    "test_features_scal[\"model_OE\"]=encoder.fit_transform(colums_for_encoding.values.reshape(-1, 1))"
   ]
  },
  {
   "cell_type": "code",
   "execution_count": 231,
   "metadata": {
    "colab": {
     "base_uri": "https://localhost:8080/",
     "height": 461
    },
    "id": "FEFqGJ8r8HGp",
    "outputId": "2b78fd0a-ccaf-4cd1-c29b-df5948e635dd"
   },
   "outputs": [
    {
     "data": {
      "text/html": [
       "<div>\n",
       "<style scoped>\n",
       "    .dataframe tbody tr th:only-of-type {\n",
       "        vertical-align: middle;\n",
       "    }\n",
       "\n",
       "    .dataframe tbody tr th {\n",
       "        vertical-align: top;\n",
       "    }\n",
       "\n",
       "    .dataframe thead th {\n",
       "        text-align: right;\n",
       "    }\n",
       "</style>\n",
       "<table border=\"1\" class=\"dataframe\">\n",
       "  <thead>\n",
       "    <tr style=\"text-align: right;\">\n",
       "      <th></th>\n",
       "      <th>year</th>\n",
       "      <th>mileage</th>\n",
       "      <th>volume</th>\n",
       "      <th>power</th>\n",
       "      <th>mark_bmw</th>\n",
       "      <th>mark_chery</th>\n",
       "      <th>mark_chevrolet</th>\n",
       "      <th>mark_daewoo</th>\n",
       "      <th>mark_ford</th>\n",
       "      <th>mark_honda</th>\n",
       "      <th>mark_hyundai</th>\n",
       "      <th>mark_kia</th>\n",
       "      <th>mark_mazda</th>\n",
       "      <th>mark_mercedes-benz</th>\n",
       "      <th>mark_mitsubishi</th>\n",
       "      <th>mark_nissan</th>\n",
       "      <th>mark_opel</th>\n",
       "      <th>mark_peugeot</th>\n",
       "      <th>mark_renault</th>\n",
       "      <th>mark_skoda</th>\n",
       "      <th>mark_subaru</th>\n",
       "      <th>mark_suzuki</th>\n",
       "      <th>mark_toyota</th>\n",
       "      <th>mark_volkswagen</th>\n",
       "      <th>body_кабриолет</th>\n",
       "      <th>body_кроссовер</th>\n",
       "      <th>body_купе</th>\n",
       "      <th>body_лимузин</th>\n",
       "      <th>body_лифтбэк</th>\n",
       "      <th>body_микроавтобус</th>\n",
       "      <th>body_минивэн</th>\n",
       "      <th>body_пикап</th>\n",
       "      <th>body_родстер</th>\n",
       "      <th>body_седан</th>\n",
       "      <th>body_тарга</th>\n",
       "      <th>body_универсал</th>\n",
       "      <th>body_фастбэк</th>\n",
       "      <th>body_хардтоп</th>\n",
       "      <th>body_хетчбэк</th>\n",
       "      <th>kpp_вариатор</th>\n",
       "      <th>kpp_механика</th>\n",
       "      <th>kpp_робот</th>\n",
       "      <th>fuel_газ</th>\n",
       "      <th>fuel_гибрид</th>\n",
       "      <th>fuel_дизель</th>\n",
       "      <th>fuel_электро</th>\n",
       "      <th>model_OE</th>\n",
       "    </tr>\n",
       "  </thead>\n",
       "  <tbody>\n",
       "    <tr>\n",
       "      <th>47709</th>\n",
       "      <td>2012</td>\n",
       "      <td>-0.740682</td>\n",
       "      <td>1.8</td>\n",
       "      <td>0.808596</td>\n",
       "      <td>0</td>\n",
       "      <td>0</td>\n",
       "      <td>0</td>\n",
       "      <td>0</td>\n",
       "      <td>0</td>\n",
       "      <td>0</td>\n",
       "      <td>0</td>\n",
       "      <td>0</td>\n",
       "      <td>0</td>\n",
       "      <td>1</td>\n",
       "      <td>0</td>\n",
       "      <td>0</td>\n",
       "      <td>0</td>\n",
       "      <td>0</td>\n",
       "      <td>0</td>\n",
       "      <td>0</td>\n",
       "      <td>0</td>\n",
       "      <td>0</td>\n",
       "      <td>0</td>\n",
       "      <td>0</td>\n",
       "      <td>0</td>\n",
       "      <td>0</td>\n",
       "      <td>0</td>\n",
       "      <td>0</td>\n",
       "      <td>0</td>\n",
       "      <td>0</td>\n",
       "      <td>0</td>\n",
       "      <td>0</td>\n",
       "      <td>0</td>\n",
       "      <td>1</td>\n",
       "      <td>0</td>\n",
       "      <td>0</td>\n",
       "      <td>0</td>\n",
       "      <td>0</td>\n",
       "      <td>0</td>\n",
       "      <td>0</td>\n",
       "      <td>0</td>\n",
       "      <td>0</td>\n",
       "      <td>0</td>\n",
       "      <td>0</td>\n",
       "      <td>0</td>\n",
       "      <td>0</td>\n",
       "      <td>649.0</td>\n",
       "    </tr>\n",
       "    <tr>\n",
       "      <th>28209</th>\n",
       "      <td>1991</td>\n",
       "      <td>1.570606</td>\n",
       "      <td>2.0</td>\n",
       "      <td>0.484881</td>\n",
       "      <td>0</td>\n",
       "      <td>0</td>\n",
       "      <td>0</td>\n",
       "      <td>0</td>\n",
       "      <td>0</td>\n",
       "      <td>1</td>\n",
       "      <td>0</td>\n",
       "      <td>0</td>\n",
       "      <td>0</td>\n",
       "      <td>0</td>\n",
       "      <td>0</td>\n",
       "      <td>0</td>\n",
       "      <td>0</td>\n",
       "      <td>0</td>\n",
       "      <td>0</td>\n",
       "      <td>0</td>\n",
       "      <td>0</td>\n",
       "      <td>0</td>\n",
       "      <td>0</td>\n",
       "      <td>0</td>\n",
       "      <td>0</td>\n",
       "      <td>0</td>\n",
       "      <td>0</td>\n",
       "      <td>0</td>\n",
       "      <td>0</td>\n",
       "      <td>0</td>\n",
       "      <td>0</td>\n",
       "      <td>0</td>\n",
       "      <td>0</td>\n",
       "      <td>1</td>\n",
       "      <td>0</td>\n",
       "      <td>0</td>\n",
       "      <td>0</td>\n",
       "      <td>0</td>\n",
       "      <td>0</td>\n",
       "      <td>0</td>\n",
       "      <td>1</td>\n",
       "      <td>0</td>\n",
       "      <td>0</td>\n",
       "      <td>0</td>\n",
       "      <td>0</td>\n",
       "      <td>0</td>\n",
       "      <td>2761.0</td>\n",
       "    </tr>\n",
       "    <tr>\n",
       "      <th>47235</th>\n",
       "      <td>2017</td>\n",
       "      <td>-1.355720</td>\n",
       "      <td>1.6</td>\n",
       "      <td>-0.929244</td>\n",
       "      <td>0</td>\n",
       "      <td>0</td>\n",
       "      <td>0</td>\n",
       "      <td>0</td>\n",
       "      <td>0</td>\n",
       "      <td>0</td>\n",
       "      <td>0</td>\n",
       "      <td>0</td>\n",
       "      <td>0</td>\n",
       "      <td>0</td>\n",
       "      <td>0</td>\n",
       "      <td>0</td>\n",
       "      <td>0</td>\n",
       "      <td>0</td>\n",
       "      <td>1</td>\n",
       "      <td>0</td>\n",
       "      <td>0</td>\n",
       "      <td>0</td>\n",
       "      <td>0</td>\n",
       "      <td>0</td>\n",
       "      <td>0</td>\n",
       "      <td>0</td>\n",
       "      <td>0</td>\n",
       "      <td>0</td>\n",
       "      <td>0</td>\n",
       "      <td>0</td>\n",
       "      <td>0</td>\n",
       "      <td>0</td>\n",
       "      <td>0</td>\n",
       "      <td>1</td>\n",
       "      <td>0</td>\n",
       "      <td>0</td>\n",
       "      <td>0</td>\n",
       "      <td>0</td>\n",
       "      <td>0</td>\n",
       "      <td>0</td>\n",
       "      <td>1</td>\n",
       "      <td>0</td>\n",
       "      <td>0</td>\n",
       "      <td>0</td>\n",
       "      <td>0</td>\n",
       "      <td>0</td>\n",
       "      <td>1774.0</td>\n",
       "    </tr>\n",
       "    <tr>\n",
       "      <th>26232</th>\n",
       "      <td>2008</td>\n",
       "      <td>-0.699640</td>\n",
       "      <td>2.3</td>\n",
       "      <td>1.728630</td>\n",
       "      <td>0</td>\n",
       "      <td>0</td>\n",
       "      <td>0</td>\n",
       "      <td>0</td>\n",
       "      <td>0</td>\n",
       "      <td>0</td>\n",
       "      <td>0</td>\n",
       "      <td>0</td>\n",
       "      <td>1</td>\n",
       "      <td>0</td>\n",
       "      <td>0</td>\n",
       "      <td>0</td>\n",
       "      <td>0</td>\n",
       "      <td>0</td>\n",
       "      <td>0</td>\n",
       "      <td>0</td>\n",
       "      <td>0</td>\n",
       "      <td>0</td>\n",
       "      <td>0</td>\n",
       "      <td>0</td>\n",
       "      <td>0</td>\n",
       "      <td>1</td>\n",
       "      <td>0</td>\n",
       "      <td>0</td>\n",
       "      <td>0</td>\n",
       "      <td>0</td>\n",
       "      <td>0</td>\n",
       "      <td>0</td>\n",
       "      <td>0</td>\n",
       "      <td>0</td>\n",
       "      <td>0</td>\n",
       "      <td>0</td>\n",
       "      <td>0</td>\n",
       "      <td>0</td>\n",
       "      <td>0</td>\n",
       "      <td>0</td>\n",
       "      <td>0</td>\n",
       "      <td>0</td>\n",
       "      <td>0</td>\n",
       "      <td>0</td>\n",
       "      <td>0</td>\n",
       "      <td>0</td>\n",
       "      <td>1033.0</td>\n",
       "    </tr>\n",
       "    <tr>\n",
       "      <th>13627</th>\n",
       "      <td>2005</td>\n",
       "      <td>-0.689226</td>\n",
       "      <td>1.6</td>\n",
       "      <td>-0.656642</td>\n",
       "      <td>0</td>\n",
       "      <td>0</td>\n",
       "      <td>0</td>\n",
       "      <td>0</td>\n",
       "      <td>0</td>\n",
       "      <td>0</td>\n",
       "      <td>0</td>\n",
       "      <td>0</td>\n",
       "      <td>0</td>\n",
       "      <td>0</td>\n",
       "      <td>1</td>\n",
       "      <td>0</td>\n",
       "      <td>0</td>\n",
       "      <td>0</td>\n",
       "      <td>0</td>\n",
       "      <td>0</td>\n",
       "      <td>0</td>\n",
       "      <td>0</td>\n",
       "      <td>0</td>\n",
       "      <td>0</td>\n",
       "      <td>0</td>\n",
       "      <td>0</td>\n",
       "      <td>0</td>\n",
       "      <td>0</td>\n",
       "      <td>0</td>\n",
       "      <td>0</td>\n",
       "      <td>0</td>\n",
       "      <td>0</td>\n",
       "      <td>0</td>\n",
       "      <td>0</td>\n",
       "      <td>0</td>\n",
       "      <td>1</td>\n",
       "      <td>0</td>\n",
       "      <td>0</td>\n",
       "      <td>0</td>\n",
       "      <td>0</td>\n",
       "      <td>0</td>\n",
       "      <td>0</td>\n",
       "      <td>0</td>\n",
       "      <td>0</td>\n",
       "      <td>0</td>\n",
       "      <td>0</td>\n",
       "      <td>1691.0</td>\n",
       "    </tr>\n",
       "    <tr>\n",
       "      <th>...</th>\n",
       "      <td>...</td>\n",
       "      <td>...</td>\n",
       "      <td>...</td>\n",
       "      <td>...</td>\n",
       "      <td>...</td>\n",
       "      <td>...</td>\n",
       "      <td>...</td>\n",
       "      <td>...</td>\n",
       "      <td>...</td>\n",
       "      <td>...</td>\n",
       "      <td>...</td>\n",
       "      <td>...</td>\n",
       "      <td>...</td>\n",
       "      <td>...</td>\n",
       "      <td>...</td>\n",
       "      <td>...</td>\n",
       "      <td>...</td>\n",
       "      <td>...</td>\n",
       "      <td>...</td>\n",
       "      <td>...</td>\n",
       "      <td>...</td>\n",
       "      <td>...</td>\n",
       "      <td>...</td>\n",
       "      <td>...</td>\n",
       "      <td>...</td>\n",
       "      <td>...</td>\n",
       "      <td>...</td>\n",
       "      <td>...</td>\n",
       "      <td>...</td>\n",
       "      <td>...</td>\n",
       "      <td>...</td>\n",
       "      <td>...</td>\n",
       "      <td>...</td>\n",
       "      <td>...</td>\n",
       "      <td>...</td>\n",
       "      <td>...</td>\n",
       "      <td>...</td>\n",
       "      <td>...</td>\n",
       "      <td>...</td>\n",
       "      <td>...</td>\n",
       "      <td>...</td>\n",
       "      <td>...</td>\n",
       "      <td>...</td>\n",
       "      <td>...</td>\n",
       "      <td>...</td>\n",
       "      <td>...</td>\n",
       "      <td>...</td>\n",
       "    </tr>\n",
       "    <tr>\n",
       "      <th>47879</th>\n",
       "      <td>2007</td>\n",
       "      <td>-0.803780</td>\n",
       "      <td>2.0</td>\n",
       "      <td>0.570069</td>\n",
       "      <td>0</td>\n",
       "      <td>0</td>\n",
       "      <td>0</td>\n",
       "      <td>0</td>\n",
       "      <td>0</td>\n",
       "      <td>0</td>\n",
       "      <td>0</td>\n",
       "      <td>0</td>\n",
       "      <td>0</td>\n",
       "      <td>0</td>\n",
       "      <td>0</td>\n",
       "      <td>0</td>\n",
       "      <td>0</td>\n",
       "      <td>0</td>\n",
       "      <td>0</td>\n",
       "      <td>0</td>\n",
       "      <td>0</td>\n",
       "      <td>0</td>\n",
       "      <td>0</td>\n",
       "      <td>0</td>\n",
       "      <td>0</td>\n",
       "      <td>0</td>\n",
       "      <td>0</td>\n",
       "      <td>0</td>\n",
       "      <td>0</td>\n",
       "      <td>0</td>\n",
       "      <td>0</td>\n",
       "      <td>0</td>\n",
       "      <td>0</td>\n",
       "      <td>1</td>\n",
       "      <td>0</td>\n",
       "      <td>0</td>\n",
       "      <td>0</td>\n",
       "      <td>0</td>\n",
       "      <td>0</td>\n",
       "      <td>0</td>\n",
       "      <td>1</td>\n",
       "      <td>0</td>\n",
       "      <td>0</td>\n",
       "      <td>0</td>\n",
       "      <td>1</td>\n",
       "      <td>0</td>\n",
       "      <td>392.0</td>\n",
       "    </tr>\n",
       "    <tr>\n",
       "      <th>16934</th>\n",
       "      <td>2018</td>\n",
       "      <td>-1.683761</td>\n",
       "      <td>1.4</td>\n",
       "      <td>0.058940</td>\n",
       "      <td>0</td>\n",
       "      <td>0</td>\n",
       "      <td>0</td>\n",
       "      <td>0</td>\n",
       "      <td>0</td>\n",
       "      <td>0</td>\n",
       "      <td>0</td>\n",
       "      <td>1</td>\n",
       "      <td>0</td>\n",
       "      <td>0</td>\n",
       "      <td>0</td>\n",
       "      <td>0</td>\n",
       "      <td>0</td>\n",
       "      <td>0</td>\n",
       "      <td>0</td>\n",
       "      <td>0</td>\n",
       "      <td>0</td>\n",
       "      <td>0</td>\n",
       "      <td>0</td>\n",
       "      <td>0</td>\n",
       "      <td>0</td>\n",
       "      <td>0</td>\n",
       "      <td>0</td>\n",
       "      <td>0</td>\n",
       "      <td>0</td>\n",
       "      <td>0</td>\n",
       "      <td>0</td>\n",
       "      <td>0</td>\n",
       "      <td>0</td>\n",
       "      <td>0</td>\n",
       "      <td>0</td>\n",
       "      <td>0</td>\n",
       "      <td>0</td>\n",
       "      <td>0</td>\n",
       "      <td>1</td>\n",
       "      <td>0</td>\n",
       "      <td>0</td>\n",
       "      <td>1</td>\n",
       "      <td>0</td>\n",
       "      <td>0</td>\n",
       "      <td>0</td>\n",
       "      <td>0</td>\n",
       "      <td>778.0</td>\n",
       "    </tr>\n",
       "    <tr>\n",
       "      <th>28009</th>\n",
       "      <td>2011</td>\n",
       "      <td>-0.559510</td>\n",
       "      <td>2.4</td>\n",
       "      <td>0.570069</td>\n",
       "      <td>0</td>\n",
       "      <td>0</td>\n",
       "      <td>0</td>\n",
       "      <td>0</td>\n",
       "      <td>0</td>\n",
       "      <td>0</td>\n",
       "      <td>0</td>\n",
       "      <td>0</td>\n",
       "      <td>0</td>\n",
       "      <td>0</td>\n",
       "      <td>0</td>\n",
       "      <td>0</td>\n",
       "      <td>0</td>\n",
       "      <td>1</td>\n",
       "      <td>0</td>\n",
       "      <td>0</td>\n",
       "      <td>0</td>\n",
       "      <td>0</td>\n",
       "      <td>0</td>\n",
       "      <td>0</td>\n",
       "      <td>0</td>\n",
       "      <td>1</td>\n",
       "      <td>0</td>\n",
       "      <td>0</td>\n",
       "      <td>0</td>\n",
       "      <td>0</td>\n",
       "      <td>0</td>\n",
       "      <td>0</td>\n",
       "      <td>0</td>\n",
       "      <td>0</td>\n",
       "      <td>0</td>\n",
       "      <td>0</td>\n",
       "      <td>0</td>\n",
       "      <td>0</td>\n",
       "      <td>0</td>\n",
       "      <td>1</td>\n",
       "      <td>0</td>\n",
       "      <td>0</td>\n",
       "      <td>0</td>\n",
       "      <td>0</td>\n",
       "      <td>0</td>\n",
       "      <td>0</td>\n",
       "      <td>164.0</td>\n",
       "    </tr>\n",
       "    <tr>\n",
       "      <th>4095</th>\n",
       "      <td>2008</td>\n",
       "      <td>-0.008153</td>\n",
       "      <td>1.5</td>\n",
       "      <td>-0.588491</td>\n",
       "      <td>0</td>\n",
       "      <td>0</td>\n",
       "      <td>0</td>\n",
       "      <td>0</td>\n",
       "      <td>0</td>\n",
       "      <td>0</td>\n",
       "      <td>1</td>\n",
       "      <td>0</td>\n",
       "      <td>0</td>\n",
       "      <td>0</td>\n",
       "      <td>0</td>\n",
       "      <td>0</td>\n",
       "      <td>0</td>\n",
       "      <td>0</td>\n",
       "      <td>0</td>\n",
       "      <td>0</td>\n",
       "      <td>0</td>\n",
       "      <td>0</td>\n",
       "      <td>0</td>\n",
       "      <td>0</td>\n",
       "      <td>0</td>\n",
       "      <td>0</td>\n",
       "      <td>0</td>\n",
       "      <td>0</td>\n",
       "      <td>0</td>\n",
       "      <td>0</td>\n",
       "      <td>0</td>\n",
       "      <td>0</td>\n",
       "      <td>0</td>\n",
       "      <td>1</td>\n",
       "      <td>0</td>\n",
       "      <td>0</td>\n",
       "      <td>0</td>\n",
       "      <td>0</td>\n",
       "      <td>0</td>\n",
       "      <td>0</td>\n",
       "      <td>0</td>\n",
       "      <td>0</td>\n",
       "      <td>0</td>\n",
       "      <td>0</td>\n",
       "      <td>0</td>\n",
       "      <td>0</td>\n",
       "      <td>425.0</td>\n",
       "    </tr>\n",
       "    <tr>\n",
       "      <th>2178</th>\n",
       "      <td>2013</td>\n",
       "      <td>-0.439291</td>\n",
       "      <td>1.6</td>\n",
       "      <td>-0.537378</td>\n",
       "      <td>0</td>\n",
       "      <td>0</td>\n",
       "      <td>0</td>\n",
       "      <td>0</td>\n",
       "      <td>0</td>\n",
       "      <td>0</td>\n",
       "      <td>0</td>\n",
       "      <td>0</td>\n",
       "      <td>1</td>\n",
       "      <td>0</td>\n",
       "      <td>0</td>\n",
       "      <td>0</td>\n",
       "      <td>0</td>\n",
       "      <td>0</td>\n",
       "      <td>0</td>\n",
       "      <td>0</td>\n",
       "      <td>0</td>\n",
       "      <td>0</td>\n",
       "      <td>0</td>\n",
       "      <td>0</td>\n",
       "      <td>0</td>\n",
       "      <td>0</td>\n",
       "      <td>0</td>\n",
       "      <td>0</td>\n",
       "      <td>0</td>\n",
       "      <td>0</td>\n",
       "      <td>0</td>\n",
       "      <td>0</td>\n",
       "      <td>0</td>\n",
       "      <td>1</td>\n",
       "      <td>0</td>\n",
       "      <td>0</td>\n",
       "      <td>0</td>\n",
       "      <td>0</td>\n",
       "      <td>0</td>\n",
       "      <td>0</td>\n",
       "      <td>0</td>\n",
       "      <td>0</td>\n",
       "      <td>0</td>\n",
       "      <td>0</td>\n",
       "      <td>0</td>\n",
       "      <td>0</td>\n",
       "      <td>69.0</td>\n",
       "    </tr>\n",
       "  </tbody>\n",
       "</table>\n",
       "<p>52581 rows × 47 columns</p>\n",
       "</div>"
      ],
      "text/plain": [
       "       year   mileage  volume  ...  fuel_дизель  fuel_электро  model_OE\n",
       "47709  2012 -0.740682     1.8  ...            0             0     649.0\n",
       "28209  1991  1.570606     2.0  ...            0             0    2761.0\n",
       "47235  2017 -1.355720     1.6  ...            0             0    1774.0\n",
       "26232  2008 -0.699640     2.3  ...            0             0    1033.0\n",
       "13627  2005 -0.689226     1.6  ...            0             0    1691.0\n",
       "...     ...       ...     ...  ...          ...           ...       ...\n",
       "47879  2007 -0.803780     2.0  ...            1             0     392.0\n",
       "16934  2018 -1.683761     1.4  ...            0             0     778.0\n",
       "28009  2011 -0.559510     2.4  ...            0             0     164.0\n",
       "4095   2008 -0.008153     1.5  ...            0             0     425.0\n",
       "2178   2013 -0.439291     1.6  ...            0             0      69.0\n",
       "\n",
       "[52581 rows x 47 columns]"
      ]
     },
     "execution_count": 231,
     "metadata": {},
     "output_type": "execute_result"
    }
   ],
   "source": [
    "train_features_scal1=train_features_scal.drop(['model'], axis=1, inplace=False)\n",
    "train_features_scal1"
   ]
  },
  {
   "cell_type": "code",
   "execution_count": 232,
   "metadata": {
    "id": "I-ndSwF_7VyC"
   },
   "outputs": [],
   "source": [
    "valid_features_scal1=valid_features_scal.drop(['model'], axis=1, inplace=False)\n",
    "test_features_scal1=test_features_scal.drop(['model'], axis=1, inplace=False)"
   ]
  },
  {
   "cell_type": "markdown",
   "metadata": {
    "id": "floChbb5Krgx"
   },
   "source": []
  },
  {
   "cell_type": "code",
   "execution_count": 233,
   "metadata": {
    "id": "IPkJzmFD4CR7"
   },
   "outputs": [],
   "source": [
    "def plot_history(history):\n",
    "    plt.plot(history.history['mae'], \n",
    "            label='Средняя абсолютная ошибка на обучающем наборе')\n",
    "    plt.plot(history.history['val_mae'], \n",
    "            label='Средняя абсолютная ошибка на проверочном наборе')\n",
    "    plt.xlabel('Эпоха обучения')\n",
    "    plt.ylabel('Средняя абсолютная ошибка')\n",
    "    plt.legend()\n",
    "    plt.show()"
   ]
  },
  {
   "cell_type": "code",
   "execution_count": 234,
   "metadata": {
    "colab": {
     "base_uri": "https://localhost:8080/",
     "height": 1000
    },
    "id": "S0zbibmdHmia",
    "outputId": "4288691c-63fb-45c3-c1c1-ff230ec07fa2"
   },
   "outputs": [
    {
     "name": "stdout",
     "output_type": "stream",
     "text": [
      "Epoch 1/120\n",
      "175/175 [==============================] - 2s 9ms/step - loss: 660024721408.0000 - mae: 527556.3125 - val_loss: 657318281216.0000 - val_mae: 520447.0625\n",
      "Epoch 2/120\n",
      "175/175 [==============================] - 1s 7ms/step - loss: 653999603712.0000 - mae: 521920.2500 - val_loss: 647183990784.0000 - val_mae: 510624.0000\n",
      "Epoch 3/120\n",
      "175/175 [==============================] - 1s 6ms/step - loss: 638848860160.0000 - mae: 507142.6250 - val_loss: 627271729152.0000 - val_mae: 490888.7812\n",
      "Epoch 4/120\n",
      "175/175 [==============================] - 1s 7ms/step - loss: 613330059264.0000 - mae: 481777.6562 - val_loss: 596767080448.0000 - val_mae: 460150.0625\n",
      "Epoch 5/120\n",
      "175/175 [==============================] - 1s 7ms/step - loss: 577807253504.0000 - mae: 446751.9688 - val_loss: 557402619904.0000 - val_mae: 421357.1562\n",
      "Epoch 6/120\n",
      "175/175 [==============================] - 1s 6ms/step - loss: 535031087104.0000 - mae: 406656.9688 - val_loss: 513162674176.0000 - val_mae: 380896.4375\n",
      "Epoch 7/120\n",
      "175/175 [==============================] - 1s 7ms/step - loss: 489887694848.0000 - mae: 366796.6562 - val_loss: 468881539072.0000 - val_mae: 340469.3125\n",
      "Epoch 8/120\n",
      "175/175 [==============================] - 1s 7ms/step - loss: 445176971264.0000 - mae: 324160.7500 - val_loss: 425262415872.0000 - val_mae: 296955.2188\n",
      "Epoch 9/120\n",
      "175/175 [==============================] - 1s 7ms/step - loss: 402011553792.0000 - mae: 281110.5625 - val_loss: 384672497664.0000 - val_mae: 256112.0156\n",
      "Epoch 10/120\n",
      "175/175 [==============================] - 1s 6ms/step - loss: 363061805056.0000 - mae: 244151.2031 - val_loss: 349036412928.0000 - val_mae: 222827.2188\n",
      "Epoch 11/120\n",
      "175/175 [==============================] - 1s 7ms/step - loss: 329282682880.0000 - mae: 214896.1875 - val_loss: 318438899712.0000 - val_mae: 198422.9375\n",
      "Epoch 12/120\n",
      "175/175 [==============================] - 1s 7ms/step - loss: 300827705344.0000 - mae: 194255.1094 - val_loss: 292810981376.0000 - val_mae: 180570.4531\n",
      "Epoch 13/120\n",
      "175/175 [==============================] - 1s 7ms/step - loss: 276442644480.0000 - mae: 177440.3750 - val_loss: 270443216896.0000 - val_mae: 166152.8594\n",
      "Epoch 14/120\n",
      "175/175 [==============================] - 1s 6ms/step - loss: 255074025472.0000 - mae: 164021.0938 - val_loss: 250693992448.0000 - val_mae: 154419.4688\n",
      "Epoch 15/120\n",
      "175/175 [==============================] - 1s 6ms/step - loss: 235914772480.0000 - mae: 152492.2344 - val_loss: 232661467136.0000 - val_mae: 143760.6719\n",
      "Epoch 16/120\n",
      "175/175 [==============================] - 1s 7ms/step - loss: 218864828416.0000 - mae: 143033.9688 - val_loss: 216880283648.0000 - val_mae: 136039.5625\n",
      "Epoch 17/120\n",
      "175/175 [==============================] - 1s 6ms/step - loss: 203737202688.0000 - mae: 135486.2969 - val_loss: 202215882752.0000 - val_mae: 127612.7578\n",
      "Epoch 18/120\n",
      "175/175 [==============================] - 1s 7ms/step - loss: 189906550784.0000 - mae: 127943.2266 - val_loss: 189246652416.0000 - val_mae: 121111.4219\n",
      "Epoch 19/120\n",
      "175/175 [==============================] - 1s 6ms/step - loss: 177827905536.0000 - mae: 122861.8984 - val_loss: 177724293120.0000 - val_mae: 115495.7734\n",
      "Epoch 20/120\n",
      "175/175 [==============================] - 1s 7ms/step - loss: 166837682176.0000 - mae: 117773.9531 - val_loss: 167212171264.0000 - val_mae: 110462.4844\n",
      "Epoch 21/120\n",
      "175/175 [==============================] - 1s 7ms/step - loss: 156736684032.0000 - mae: 113596.3203 - val_loss: 157605707776.0000 - val_mae: 106704.1797\n",
      "Epoch 22/120\n",
      "175/175 [==============================] - 1s 7ms/step - loss: 147879362560.0000 - mae: 110683.5000 - val_loss: 149103656960.0000 - val_mae: 103281.5703\n",
      "Epoch 23/120\n",
      "175/175 [==============================] - 1s 6ms/step - loss: 139658887168.0000 - mae: 107841.5547 - val_loss: 141473693696.0000 - val_mae: 100400.5156\n",
      "Epoch 24/120\n",
      "175/175 [==============================] - 1s 7ms/step - loss: 131883237376.0000 - mae: 104561.9766 - val_loss: 134447734784.0000 - val_mae: 97880.2656\n",
      "Epoch 25/120\n",
      "175/175 [==============================] - 1s 7ms/step - loss: 124847931392.0000 - mae: 102035.6328 - val_loss: 128459120640.0000 - val_mae: 95782.2188\n",
      "Epoch 26/120\n",
      "175/175 [==============================] - 1s 7ms/step - loss: 118826942464.0000 - mae: 100719.5156 - val_loss: 122379264000.0000 - val_mae: 94883.0156\n",
      "Epoch 27/120\n",
      "175/175 [==============================] - 1s 6ms/step - loss: 113253646336.0000 - mae: 99063.9141 - val_loss: 117252890624.0000 - val_mae: 92174.1719\n",
      "Epoch 28/120\n",
      "175/175 [==============================] - 1s 6ms/step - loss: 108057714688.0000 - mae: 97564.8984 - val_loss: 112465502208.0000 - val_mae: 91016.6406\n",
      "Epoch 29/120\n",
      "175/175 [==============================] - 1s 7ms/step - loss: 103149658112.0000 - mae: 95833.6328 - val_loss: 108471754752.0000 - val_mae: 89538.3672\n",
      "Epoch 30/120\n",
      "175/175 [==============================] - 1s 7ms/step - loss: 98708242432.0000 - mae: 94034.3203 - val_loss: 104655626240.0000 - val_mae: 88272.5547\n",
      "Epoch 31/120\n",
      "175/175 [==============================] - 1s 6ms/step - loss: 94556143616.0000 - mae: 93023.1953 - val_loss: 101274075136.0000 - val_mae: 87073.3594\n",
      "Epoch 32/120\n",
      "175/175 [==============================] - 1s 7ms/step - loss: 91346755584.0000 - mae: 92623.7500 - val_loss: 97897414656.0000 - val_mae: 85971.1562\n",
      "Epoch 33/120\n",
      "175/175 [==============================] - 1s 7ms/step - loss: 88372936704.0000 - mae: 92044.7266 - val_loss: 95071232000.0000 - val_mae: 85013.0234\n",
      "Epoch 34/120\n",
      "175/175 [==============================] - 1s 7ms/step - loss: 85221138432.0000 - mae: 91085.2422 - val_loss: 92922773504.0000 - val_mae: 84296.4609\n",
      "Epoch 35/120\n",
      "175/175 [==============================] - 1s 6ms/step - loss: 82351464448.0000 - mae: 89822.6875 - val_loss: 90076913664.0000 - val_mae: 83472.4219\n",
      "Epoch 36/120\n",
      "175/175 [==============================] - 1s 7ms/step - loss: 79709855744.0000 - mae: 89261.1562 - val_loss: 88307499008.0000 - val_mae: 82789.5469\n",
      "Epoch 37/120\n",
      "175/175 [==============================] - 1s 7ms/step - loss: 77063610368.0000 - mae: 88669.7266 - val_loss: 86314139648.0000 - val_mae: 84042.1250\n",
      "Epoch 38/120\n",
      "175/175 [==============================] - 1s 7ms/step - loss: 75452121088.0000 - mae: 88451.7344 - val_loss: 84355555328.0000 - val_mae: 81380.6562\n",
      "Epoch 39/120\n",
      "175/175 [==============================] - 1s 7ms/step - loss: 72807874560.0000 - mae: 87049.3906 - val_loss: 84049199104.0000 - val_mae: 82363.0078\n",
      "Epoch 40/120\n",
      "175/175 [==============================] - 1s 7ms/step - loss: 70912933888.0000 - mae: 86759.5391 - val_loss: 81102069760.0000 - val_mae: 81129.8125\n",
      "Epoch 41/120\n",
      "175/175 [==============================] - 1s 7ms/step - loss: 69352128512.0000 - mae: 86586.3984 - val_loss: 80736452608.0000 - val_mae: 81269.5156\n",
      "Epoch 42/120\n",
      "175/175 [==============================] - 1s 7ms/step - loss: 67720753152.0000 - mae: 85770.7422 - val_loss: 78463803392.0000 - val_mae: 80426.4453\n",
      "Epoch 43/120\n",
      "175/175 [==============================] - 1s 7ms/step - loss: 66327052288.0000 - mae: 85038.3281 - val_loss: 76779061248.0000 - val_mae: 79615.9375\n",
      "Epoch 44/120\n",
      "175/175 [==============================] - 1s 7ms/step - loss: 65072308224.0000 - mae: 85192.6094 - val_loss: 75645280256.0000 - val_mae: 79803.3750\n",
      "Epoch 45/120\n",
      "175/175 [==============================] - 1s 7ms/step - loss: 63767609344.0000 - mae: 85182.6328 - val_loss: 74189242368.0000 - val_mae: 78899.9219\n",
      "Epoch 46/120\n",
      "175/175 [==============================] - 1s 7ms/step - loss: 62760034304.0000 - mae: 84856.5078 - val_loss: 74914988032.0000 - val_mae: 79497.2344\n",
      "Epoch 47/120\n",
      "175/175 [==============================] - 1s 7ms/step - loss: 61759111168.0000 - mae: 84829.9531 - val_loss: 72907186176.0000 - val_mae: 78491.5859\n",
      "Epoch 48/120\n",
      "175/175 [==============================] - 1s 6ms/step - loss: 59769823232.0000 - mae: 83508.6250 - val_loss: 71610662912.0000 - val_mae: 78803.2500\n",
      "Epoch 49/120\n",
      "175/175 [==============================] - 1s 7ms/step - loss: 59012706304.0000 - mae: 83879.3438 - val_loss: 70763667456.0000 - val_mae: 78067.7734\n",
      "Epoch 50/120\n",
      "175/175 [==============================] - 1s 7ms/step - loss: 59036225536.0000 - mae: 84063.1953 - val_loss: 69748277248.0000 - val_mae: 77527.9688\n",
      "Epoch 51/120\n",
      "175/175 [==============================] - 1s 7ms/step - loss: 57844154368.0000 - mae: 83201.3125 - val_loss: 68993949696.0000 - val_mae: 77531.2734\n",
      "Epoch 52/120\n",
      "175/175 [==============================] - 1s 7ms/step - loss: 56863600640.0000 - mae: 83259.7734 - val_loss: 68016119808.0000 - val_mae: 78580.0859\n",
      "Epoch 53/120\n",
      "175/175 [==============================] - 1s 7ms/step - loss: 55867981824.0000 - mae: 83009.8750 - val_loss: 67177697280.0000 - val_mae: 77109.0703\n",
      "Epoch 54/120\n",
      "175/175 [==============================] - 1s 7ms/step - loss: 55285960704.0000 - mae: 83004.9609 - val_loss: 66934419456.0000 - val_mae: 77573.9609\n",
      "Epoch 55/120\n",
      "175/175 [==============================] - 1s 7ms/step - loss: 54486642688.0000 - mae: 82687.7969 - val_loss: 65837854720.0000 - val_mae: 77327.0781\n",
      "Epoch 56/120\n",
      "175/175 [==============================] - 1s 7ms/step - loss: 53738352640.0000 - mae: 81886.6328 - val_loss: 65434660864.0000 - val_mae: 77185.4609\n",
      "Epoch 57/120\n",
      "175/175 [==============================] - 1s 6ms/step - loss: 53333012480.0000 - mae: 82469.9219 - val_loss: 64914386944.0000 - val_mae: 77723.7812\n",
      "Epoch 58/120\n",
      "175/175 [==============================] - 1s 6ms/step - loss: 52262166528.0000 - mae: 81605.2500 - val_loss: 64939204608.0000 - val_mae: 78709.5547\n",
      "Epoch 59/120\n",
      "175/175 [==============================] - 1s 7ms/step - loss: 51993677824.0000 - mae: 81834.2500 - val_loss: 63888605184.0000 - val_mae: 77502.2031\n",
      "Epoch 60/120\n",
      "175/175 [==============================] - 1s 7ms/step - loss: 51517284352.0000 - mae: 82574.3594 - val_loss: 64462598144.0000 - val_mae: 77650.3828\n",
      "Epoch 61/120\n",
      "175/175 [==============================] - 1s 7ms/step - loss: 50932678656.0000 - mae: 81894.4375 - val_loss: 62766542848.0000 - val_mae: 75969.8125\n",
      "Epoch 62/120\n",
      "175/175 [==============================] - 1s 7ms/step - loss: 50609049600.0000 - mae: 81716.1172 - val_loss: 62426128384.0000 - val_mae: 76937.2188\n",
      "Epoch 63/120\n",
      "175/175 [==============================] - 1s 6ms/step - loss: 50285637632.0000 - mae: 81979.5391 - val_loss: 61941760000.0000 - val_mae: 76584.7266\n",
      "Epoch 64/120\n",
      "175/175 [==============================] - 1s 7ms/step - loss: 50681880576.0000 - mae: 82940.4297 - val_loss: 61690105856.0000 - val_mae: 76531.9219\n",
      "Epoch 65/120\n",
      "175/175 [==============================] - 1s 7ms/step - loss: 48916688896.0000 - mae: 80953.2188 - val_loss: 60904300544.0000 - val_mae: 75688.2500\n",
      "Epoch 66/120\n",
      "175/175 [==============================] - 1s 7ms/step - loss: 49585438720.0000 - mae: 82723.9531 - val_loss: 61859561472.0000 - val_mae: 76124.8438\n",
      "Epoch 67/120\n",
      "175/175 [==============================] - 1s 7ms/step - loss: 48039337984.0000 - mae: 80766.6562 - val_loss: 61497487360.0000 - val_mae: 76113.4062\n",
      "Epoch 68/120\n",
      "175/175 [==============================] - 1s 6ms/step - loss: 49238052864.0000 - mae: 82663.4922 - val_loss: 60574482432.0000 - val_mae: 76053.0938\n",
      "Epoch 69/120\n",
      "175/175 [==============================] - 1s 7ms/step - loss: 48171282432.0000 - mae: 81614.4297 - val_loss: 60911407104.0000 - val_mae: 76965.6016\n",
      "Epoch 70/120\n",
      "175/175 [==============================] - 1s 7ms/step - loss: 47528099840.0000 - mae: 81418.7500 - val_loss: 59326599168.0000 - val_mae: 75214.2188\n",
      "Epoch 71/120\n",
      "175/175 [==============================] - 1s 6ms/step - loss: 47187914752.0000 - mae: 80888.9688 - val_loss: 59660214272.0000 - val_mae: 75655.0469\n",
      "Epoch 72/120\n",
      "175/175 [==============================] - 1s 7ms/step - loss: 47456542720.0000 - mae: 81750.6562 - val_loss: 60105564160.0000 - val_mae: 76187.3359\n",
      "Epoch 73/120\n",
      "175/175 [==============================] - 1s 7ms/step - loss: 46080610304.0000 - mae: 80686.4375 - val_loss: 59604709376.0000 - val_mae: 76124.3828\n",
      "Epoch 74/120\n",
      "175/175 [==============================] - 1s 7ms/step - loss: 45897179136.0000 - mae: 80868.9531 - val_loss: 59319717888.0000 - val_mae: 75823.7266\n",
      "Epoch 75/120\n",
      "175/175 [==============================] - 1s 7ms/step - loss: 45366071296.0000 - mae: 80272.9609 - val_loss: 59312754688.0000 - val_mae: 76019.6797\n",
      "Epoch 76/120\n",
      "175/175 [==============================] - 1s 7ms/step - loss: 44920266752.0000 - mae: 79937.0703 - val_loss: 58418692096.0000 - val_mae: 75457.9453\n",
      "Epoch 77/120\n",
      "175/175 [==============================] - 1s 7ms/step - loss: 45338132480.0000 - mae: 80895.1328 - val_loss: 57762332672.0000 - val_mae: 74937.4531\n",
      "Epoch 78/120\n",
      "175/175 [==============================] - 1s 7ms/step - loss: 45691637760.0000 - mae: 79970.9844 - val_loss: 58493288448.0000 - val_mae: 76250.8125\n",
      "Epoch 79/120\n",
      "175/175 [==============================] - 1s 6ms/step - loss: 46897336320.0000 - mae: 82015.1953 - val_loss: 57327087616.0000 - val_mae: 75064.9922\n",
      "Epoch 80/120\n",
      "175/175 [==============================] - 1s 7ms/step - loss: 44116299776.0000 - mae: 80278.4219 - val_loss: 56817627136.0000 - val_mae: 74667.3438\n",
      "Epoch 81/120\n",
      "175/175 [==============================] - 1s 6ms/step - loss: 43980767232.0000 - mae: 80570.3516 - val_loss: 57260814336.0000 - val_mae: 75039.1484\n",
      "Epoch 82/120\n",
      "175/175 [==============================] - 1s 7ms/step - loss: 44863721472.0000 - mae: 80062.2969 - val_loss: 57590128640.0000 - val_mae: 76623.6562\n",
      "Epoch 83/120\n",
      "175/175 [==============================] - 1s 7ms/step - loss: 44265426944.0000 - mae: 81185.5391 - val_loss: 56609869824.0000 - val_mae: 75242.8203\n",
      "Epoch 84/120\n",
      "175/175 [==============================] - 1s 7ms/step - loss: 42871033856.0000 - mae: 79382.5469 - val_loss: 56556859392.0000 - val_mae: 74919.5703\n",
      "Epoch 85/120\n",
      "175/175 [==============================] - 1s 7ms/step - loss: 43659444224.0000 - mae: 79973.6250 - val_loss: 57304596480.0000 - val_mae: 75907.8828\n",
      "Epoch 86/120\n",
      "175/175 [==============================] - 1s 7ms/step - loss: 41579847680.0000 - mae: 78537.6562 - val_loss: 56522211328.0000 - val_mae: 74898.9531\n",
      "Epoch 87/120\n",
      "175/175 [==============================] - 1s 7ms/step - loss: 42503802880.0000 - mae: 79350.1484 - val_loss: 55401598976.0000 - val_mae: 74944.8125\n",
      "Epoch 88/120\n",
      "175/175 [==============================] - 1s 7ms/step - loss: 41264726016.0000 - mae: 78661.4453 - val_loss: 55126863872.0000 - val_mae: 75157.2266\n",
      "Epoch 89/120\n",
      "175/175 [==============================] - 1s 7ms/step - loss: 42939498496.0000 - mae: 80489.7188 - val_loss: 55374565376.0000 - val_mae: 75253.8516\n",
      "Epoch 90/120\n",
      "175/175 [==============================] - 1s 7ms/step - loss: 42056572928.0000 - mae: 79430.9609 - val_loss: 54765674496.0000 - val_mae: 74810.3750\n",
      "Epoch 91/120\n",
      "175/175 [==============================] - 1s 7ms/step - loss: 42474577920.0000 - mae: 80485.2656 - val_loss: 54687494144.0000 - val_mae: 75120.8203\n",
      "Epoch 92/120\n",
      "175/175 [==============================] - 1s 7ms/step - loss: 43342307328.0000 - mae: 79931.4531 - val_loss: 54882185216.0000 - val_mae: 77320.1484\n",
      "Epoch 93/120\n",
      "175/175 [==============================] - 1s 7ms/step - loss: 42141401088.0000 - mae: 79425.5859 - val_loss: 53910478848.0000 - val_mae: 74359.5625\n",
      "Epoch 94/120\n",
      "175/175 [==============================] - 1s 7ms/step - loss: 40756613120.0000 - mae: 78983.1484 - val_loss: 54560415744.0000 - val_mae: 74688.6016\n",
      "Epoch 95/120\n",
      "175/175 [==============================] - 1s 7ms/step - loss: 41029341184.0000 - mae: 79349.3438 - val_loss: 54056099840.0000 - val_mae: 74863.6562\n",
      "Epoch 96/120\n",
      "175/175 [==============================] - 1s 7ms/step - loss: 40740798464.0000 - mae: 79020.1562 - val_loss: 56472276992.0000 - val_mae: 76902.8203\n",
      "Epoch 97/120\n",
      "175/175 [==============================] - 1s 7ms/step - loss: 39565148160.0000 - mae: 78424.7344 - val_loss: 54254710784.0000 - val_mae: 75334.1562\n",
      "Epoch 98/120\n",
      "175/175 [==============================] - 1s 6ms/step - loss: 39199563776.0000 - mae: 78398.5859 - val_loss: 53913337856.0000 - val_mae: 74796.8125\n",
      "Epoch 99/120\n",
      "175/175 [==============================] - 1s 7ms/step - loss: 41456238592.0000 - mae: 78967.2656 - val_loss: 53022343168.0000 - val_mae: 74816.3672\n",
      "Epoch 100/120\n",
      "175/175 [==============================] - 1s 7ms/step - loss: 39057117184.0000 - mae: 78050.8984 - val_loss: 52966993920.0000 - val_mae: 74351.7188\n",
      "Epoch 101/120\n",
      "175/175 [==============================] - 1s 7ms/step - loss: 40453447680.0000 - mae: 79613.3750 - val_loss: 52598960128.0000 - val_mae: 74803.3125\n",
      "Epoch 102/120\n",
      "175/175 [==============================] - 1s 7ms/step - loss: 39040966656.0000 - mae: 78416.6641 - val_loss: 52541382656.0000 - val_mae: 74368.5391\n",
      "Epoch 103/120\n",
      "175/175 [==============================] - 1s 7ms/step - loss: 39247519744.0000 - mae: 78168.2109 - val_loss: 51965120512.0000 - val_mae: 74425.9297\n",
      "Epoch 104/120\n",
      "175/175 [==============================] - 1s 7ms/step - loss: 40821202944.0000 - mae: 79224.6016 - val_loss: 52754411520.0000 - val_mae: 74721.1406\n",
      "Epoch 105/120\n",
      "175/175 [==============================] - 1s 7ms/step - loss: 39039582208.0000 - mae: 79328.0859 - val_loss: 52109672448.0000 - val_mae: 75159.9688\n",
      "Epoch 106/120\n",
      "175/175 [==============================] - 1s 7ms/step - loss: 39915606016.0000 - mae: 80495.4062 - val_loss: 52056059904.0000 - val_mae: 74261.2109\n",
      "Epoch 107/120\n",
      "175/175 [==============================] - 1s 7ms/step - loss: 38920769536.0000 - mae: 78731.8828 - val_loss: 52377395200.0000 - val_mae: 74593.0156\n",
      "Epoch 108/120\n",
      "175/175 [==============================] - 1s 7ms/step - loss: 38897410048.0000 - mae: 78779.1875 - val_loss: 51601838080.0000 - val_mae: 75977.1719\n",
      "Epoch 109/120\n",
      "175/175 [==============================] - 1s 7ms/step - loss: 38268399616.0000 - mae: 78114.0391 - val_loss: 51523477504.0000 - val_mae: 74081.9766\n",
      "Epoch 110/120\n",
      "175/175 [==============================] - 1s 7ms/step - loss: 37452718080.0000 - mae: 77405.7109 - val_loss: 52377554944.0000 - val_mae: 75969.0312\n",
      "Epoch 111/120\n",
      "175/175 [==============================] - 1s 7ms/step - loss: 38501924864.0000 - mae: 78542.0547 - val_loss: 50994311168.0000 - val_mae: 74618.1172\n",
      "Epoch 112/120\n",
      "175/175 [==============================] - 1s 7ms/step - loss: 37649231872.0000 - mae: 78334.3594 - val_loss: 51089461248.0000 - val_mae: 74566.8984\n",
      "Epoch 113/120\n",
      "175/175 [==============================] - 1s 7ms/step - loss: 38216957952.0000 - mae: 79454.2031 - val_loss: 51227824128.0000 - val_mae: 78327.5391\n",
      "Epoch 114/120\n",
      "175/175 [==============================] - 1s 7ms/step - loss: 39221092352.0000 - mae: 78835.0781 - val_loss: 50612908032.0000 - val_mae: 74000.9297\n",
      "Epoch 115/120\n",
      "175/175 [==============================] - 1s 7ms/step - loss: 37839536128.0000 - mae: 78708.1953 - val_loss: 50765742080.0000 - val_mae: 74194.8203\n",
      "Epoch 116/120\n",
      "175/175 [==============================] - 1s 7ms/step - loss: 37325127680.0000 - mae: 78876.7578 - val_loss: 49943633920.0000 - val_mae: 74048.2969\n",
      "Epoch 117/120\n",
      "175/175 [==============================] - 1s 7ms/step - loss: 37424095232.0000 - mae: 77894.0625 - val_loss: 51195461632.0000 - val_mae: 74419.2422\n",
      "Epoch 118/120\n",
      "175/175 [==============================] - 1s 7ms/step - loss: 37166534656.0000 - mae: 78115.5156 - val_loss: 50404503552.0000 - val_mae: 74342.9219\n",
      "Epoch 119/120\n",
      "175/175 [==============================] - 1s 7ms/step - loss: 37224181760.0000 - mae: 77627.2969 - val_loss: 49867137024.0000 - val_mae: 74284.0312\n",
      "Epoch 120/120\n",
      "175/175 [==============================] - 1s 7ms/step - loss: 37847109632.0000 - mae: 79346.6719 - val_loss: 49561960448.0000 - val_mae: 73998.4141\n"
     ]
    },
    {
     "data": {
      "image/png": "[encoded data removed]",
      "text/plain": [
       "<Figure size 432x288 with 1 Axes>"
      ]
     },
     "metadata": {
      "needs_background": "light"
     },
     "output_type": "display_data"
    }
   ],
   "source": [
    "# Обучение модели на простых данных\n",
    "\n",
    "model_simple = Sequential()\n",
    "model_simple.add(BatchNormalization(input_dim=train_features_scal1.shape[1]))\n",
    "model_simple.add(Dense(128, activation='relu'))\n",
    "model_simple.add(Dense(1000, activation='tanh'))\n",
    "model_simple.add(Dense(500, activation='relu'))\n",
    "model_simple.add(Dense(100, activation='relu'))\n",
    "model_simple.add(Dense(1, activation='linear'))\n",
    "\n",
    "model_simple.compile(optimizer=Adam(learning_rate=1e-4), loss='mse', metrics=['mae'])\n",
    "\n",
    "history = model_simple.fit(train_features_scal1, \n",
    "                    train_target, \n",
    "                    epochs=120, \n",
    "                    batch_size=256,\n",
    "                    validation_split=0.15, \n",
    "                    verbose=1)\n",
    "\n",
    "plot_history(history)"
   ]
  },
  {
   "cell_type": "code",
   "execution_count": 235,
   "metadata": {
    "colab": {
     "base_uri": "https://localhost:8080/"
    },
    "id": "ltk9Ru0yHmlS",
    "outputId": "a40f502c-5d3b-444a-ee86-0b7528611285"
   },
   "outputs": [
    {
     "name": "stdout",
     "output_type": "stream",
     "text": [
      "MAE 72605.10349850112\n",
      "MSE 36735323389.22848\n",
      "RMSE 191664.6117290004\n"
     ]
    }
   ],
   "source": [
    "from sklearn.metrics import mean_squared_error\n",
    "# Проверка работы сети - предсказание на тренировочной выборке\n",
    "pred = model_simple.predict(train_features_scal1)\n",
    "\n",
    "# Расчет среднего значения ошибки \n",
    "#print((abs(pred - train_target)).mean())         # Расчет вручную\n",
    "print('MAE', mean_absolute_error(pred, train_target))   # Расчет с помощью готовой функции\n",
    "print('MSE', mean_squared_error(pred, train_target))   # Расчет с помощью готовой функции\n",
    "print('RMSE', mean_squared_error(pred, train_target, squared=False))   # Расчет с помощью готовой функции"
   ]
  },
  {
   "cell_type": "markdown",
   "metadata": {
    "id": "cN9Zr2vYK9q7"
   },
   "source": [
    "Ошибка в 72 000 рублей.\n",
    "\n",
    "в задании указано сдедующее: необходимо посчитать суммарный процент ошибки = средний модуль ошибки (MAE) / среднюю цену машины. Например, если средняя цена машины 560.000 р, а средняя ошибка 56.000р, то процент ошибки равен 10%."
   ]
  },
  {
   "cell_type": "code",
   "execution_count": 236,
   "metadata": {
    "id": "JYwt7sZIU7U8"
   },
   "outputs": [],
   "source": [
    "pred_test = model_simple.predict(test_features_scal1)"
   ]
  },
  {
   "cell_type": "code",
   "execution_count": 237,
   "metadata": {
    "colab": {
     "base_uri": "https://localhost:8080/"
    },
    "id": "4OGBBISWZ4-N",
    "outputId": "c6771a03-0045-4843-9b09-c786dfe80a1d"
   },
   "outputs": [
    {
     "name": "stdout",
     "output_type": "stream",
     "text": [
      "MAE 80934.7477433428\n",
      "MSE 47496788498.63393\n",
      "RMSE 217937.57936306883\n"
     ]
    }
   ],
   "source": [
    "# Расчет среднего значения ошибки \n",
    "#print((abs(pred_test - test_target)).mean())         # Расчет вручную\n",
    "print('MAE', mean_absolute_error(pred_test, test_target))   # Расчет с помощью готовой функции\n",
    "print('MSE', mean_squared_error(pred_test, test_target))   # Расчет с помощью готовой функции\n",
    "print('RMSE', mean_squared_error(pred_test, test_target, squared=False))   # Расчет с помощью готовой функции"
   ]
  },
  {
   "cell_type": "code",
   "execution_count": 238,
   "metadata": {
    "id": "4fkUpcQdaIRf"
   },
   "outputs": [],
   "source": [
    "# считаю среднюю цену машины на тестовой выборке\n",
    "test_price_mean=test_target.mean()"
   ]
  },
  {
   "cell_type": "code",
   "execution_count": 239,
   "metadata": {
    "colab": {
     "base_uri": "https://localhost:8080/"
    },
    "id": "ec81b1Okaeyh",
    "outputId": "e0426f11-48dc-455b-a6a3-56a1a3df9e42"
   },
   "outputs": [
    {
     "data": {
      "text/plain": [
       "0.15226572012792086"
      ]
     },
     "execution_count": 239,
     "metadata": {},
     "output_type": "execute_result"
    }
   ],
   "source": [
    "# считаю суммарный процент ошибки = средний модуль ошибки (MAE) / среднюю цену машины.\n",
    "result=(mean_absolute_error(pred_test, test_target))/test_price_mean\n",
    "result"
   ]
  },
  {
   "cell_type": "markdown",
   "metadata": {
    "id": "0ApvngprhbyA"
   },
   "source": [
    "Итак, мы получили суммарный процент ошибки=15%. Посмотрим, удастся нам уменьшить этот показатель, если мы нормируем цену"
   ]
  },
  {
   "cell_type": "code",
   "execution_count": 240,
   "metadata": {
    "colab": {
     "base_uri": "https://localhost:8080/"
    },
    "id": "Oh5nPvDXwG-_",
    "outputId": "1a06f12b-ca5d-418b-93a5-076ea483cf2c"
   },
   "outputs": [
    {
     "data": {
      "text/plain": [
       "47709     860000\n",
       "28209     115000\n",
       "47235     440000\n",
       "26232     545000\n",
       "13627     290000\n",
       "          ...   \n",
       "47879     520000\n",
       "16934    1339800\n",
       "28009     649000\n",
       "4095      229000\n",
       "2178      570000\n",
       "Name: price, Length: 52581, dtype: int64"
      ]
     },
     "execution_count": 240,
     "metadata": {},
     "output_type": "execute_result"
    }
   ],
   "source": [
    "train_target"
   ]
  },
  {
   "cell_type": "code",
   "execution_count": 241,
   "metadata": {
    "id": "OkmrjTBFfUa_"
   },
   "outputs": [],
   "source": [
    "# Нормализация выходных данных по стандартному нормальному распределению\n",
    "train_target_scaled = scaler.fit_transform(train_target.to_numpy().reshape(-1, 1))"
   ]
  },
  {
   "cell_type": "code",
   "execution_count": 242,
   "metadata": {
    "id": "ehqAuC6y29JS"
   },
   "outputs": [],
   "source": [
    "valid_target_scaled = scaler.fit_transform(valid_target.to_numpy().reshape(-1, 1))\n",
    "test_target_scaled = scaler.fit_transform(test_target.to_numpy().reshape(-1, 1))"
   ]
  },
  {
   "cell_type": "code",
   "execution_count": 243,
   "metadata": {
    "colab": {
     "base_uri": "https://localhost:8080/",
     "height": 1000
    },
    "id": "Uww8MCsog-qn",
    "outputId": "f49d6554-15e3-45a7-9fd3-8e576e5bb59b"
   },
   "outputs": [
    {
     "name": "stdout",
     "output_type": "stream",
     "text": [
      "Epoch 1/200\n",
      "175/175 [==============================] - 2s 8ms/step - loss: 0.3074 - mae: 0.2357 - val_loss: 174.7602 - val_mae: 13.2034\n",
      "Epoch 2/200\n",
      "175/175 [==============================] - 1s 7ms/step - loss: 0.1819 - mae: 0.1764 - val_loss: 34.1336 - val_mae: 5.5467\n",
      "Epoch 3/200\n",
      "175/175 [==============================] - 1s 7ms/step - loss: 0.1524 - mae: 0.1657 - val_loss: 0.9949 - val_mae: 0.7711\n",
      "Epoch 4/200\n",
      "175/175 [==============================] - 1s 7ms/step - loss: 0.1418 - mae: 0.1590 - val_loss: 0.1844 - val_mae: 0.1772\n",
      "Epoch 5/200\n",
      "175/175 [==============================] - 1s 7ms/step - loss: 0.1320 - mae: 0.1524 - val_loss: 0.1562 - val_mae: 0.1416\n",
      "Epoch 6/200\n",
      "175/175 [==============================] - 1s 7ms/step - loss: 0.1224 - mae: 0.1464 - val_loss: 0.1586 - val_mae: 0.1382\n",
      "Epoch 7/200\n",
      "175/175 [==============================] - 1s 6ms/step - loss: 0.1229 - mae: 0.1543 - val_loss: 0.1767 - val_mae: 0.1771\n",
      "Epoch 8/200\n",
      "175/175 [==============================] - 1s 7ms/step - loss: 0.1206 - mae: 0.1517 - val_loss: 0.1601 - val_mae: 0.1525\n",
      "Epoch 9/200\n",
      "175/175 [==============================] - 1s 7ms/step - loss: 0.1082 - mae: 0.1502 - val_loss: 0.1517 - val_mae: 0.1450\n",
      "Epoch 10/200\n",
      "175/175 [==============================] - 1s 7ms/step - loss: 0.1125 - mae: 0.1458 - val_loss: 0.1668 - val_mae: 0.1490\n",
      "Epoch 11/200\n",
      "175/175 [==============================] - 1s 6ms/step - loss: 0.1102 - mae: 0.1492 - val_loss: 0.1411 - val_mae: 0.1322\n",
      "Epoch 12/200\n",
      "175/175 [==============================] - 1s 7ms/step - loss: 0.1042 - mae: 0.1423 - val_loss: 0.1269 - val_mae: 0.1294\n",
      "Epoch 13/200\n",
      "175/175 [==============================] - 1s 7ms/step - loss: 0.1060 - mae: 0.1432 - val_loss: 0.1234 - val_mae: 0.1331\n",
      "Epoch 14/200\n",
      "175/175 [==============================] - 1s 7ms/step - loss: 0.0981 - mae: 0.1408 - val_loss: 0.1343 - val_mae: 0.1388\n",
      "Epoch 15/200\n",
      "175/175 [==============================] - 1s 7ms/step - loss: 0.0965 - mae: 0.1393 - val_loss: 0.1303 - val_mae: 0.1509\n",
      "Epoch 16/200\n",
      "175/175 [==============================] - 1s 6ms/step - loss: 0.1134 - mae: 0.1439 - val_loss: 0.1133 - val_mae: 0.1242\n",
      "Epoch 17/200\n",
      "175/175 [==============================] - 1s 7ms/step - loss: 0.0975 - mae: 0.1381 - val_loss: 0.1484 - val_mae: 0.1371\n",
      "Epoch 18/200\n",
      "175/175 [==============================] - 1s 7ms/step - loss: 0.0992 - mae: 0.1377 - val_loss: 0.1257 - val_mae: 0.1269\n",
      "Epoch 19/200\n",
      "175/175 [==============================] - 1s 6ms/step - loss: 0.0923 - mae: 0.1350 - val_loss: 0.1233 - val_mae: 0.1290\n",
      "Epoch 20/200\n",
      "175/175 [==============================] - 1s 7ms/step - loss: 0.0954 - mae: 0.1365 - val_loss: 0.1051 - val_mae: 0.1298\n",
      "Epoch 21/200\n",
      "175/175 [==============================] - 1s 6ms/step - loss: 0.0874 - mae: 0.1344 - val_loss: 0.1008 - val_mae: 0.1273\n",
      "Epoch 22/200\n",
      "175/175 [==============================] - 1s 6ms/step - loss: 0.0890 - mae: 0.1332 - val_loss: 0.1216 - val_mae: 0.1236\n",
      "Epoch 23/200\n",
      "175/175 [==============================] - 1s 7ms/step - loss: 0.0857 - mae: 0.1333 - val_loss: 0.0981 - val_mae: 0.1274\n",
      "Epoch 24/200\n",
      "175/175 [==============================] - 1s 7ms/step - loss: 0.0995 - mae: 0.1391 - val_loss: 0.1139 - val_mae: 0.1275\n",
      "Epoch 25/200\n",
      "175/175 [==============================] - 1s 6ms/step - loss: 0.0894 - mae: 0.1344 - val_loss: 0.1062 - val_mae: 0.1343\n",
      "Epoch 26/200\n",
      "175/175 [==============================] - 1s 6ms/step - loss: 0.0833 - mae: 0.1337 - val_loss: 0.0934 - val_mae: 0.1215\n",
      "Epoch 27/200\n",
      "175/175 [==============================] - 1s 6ms/step - loss: 0.0841 - mae: 0.1283 - val_loss: 0.1306 - val_mae: 0.1349\n",
      "Epoch 28/200\n",
      "175/175 [==============================] - 1s 7ms/step - loss: 0.0837 - mae: 0.1334 - val_loss: 0.1198 - val_mae: 0.1246\n",
      "Epoch 29/200\n",
      "175/175 [==============================] - 1s 6ms/step - loss: 0.0881 - mae: 0.1354 - val_loss: 0.1183 - val_mae: 0.1233\n",
      "Epoch 30/200\n",
      "175/175 [==============================] - 1s 6ms/step - loss: 0.0848 - mae: 0.1329 - val_loss: 0.1005 - val_mae: 0.1192\n",
      "Epoch 31/200\n",
      "175/175 [==============================] - 1s 7ms/step - loss: 0.0762 - mae: 0.1285 - val_loss: 0.1063 - val_mae: 0.1222\n",
      "Epoch 32/200\n",
      "175/175 [==============================] - 1s 7ms/step - loss: 0.0828 - mae: 0.1297 - val_loss: 0.0926 - val_mae: 0.1343\n",
      "Epoch 33/200\n",
      "175/175 [==============================] - 1s 6ms/step - loss: 0.0782 - mae: 0.1304 - val_loss: 0.1185 - val_mae: 0.1445\n",
      "Epoch 34/200\n",
      "175/175 [==============================] - 1s 7ms/step - loss: 0.0820 - mae: 0.1334 - val_loss: 0.1003 - val_mae: 0.1357\n",
      "Epoch 35/200\n",
      "175/175 [==============================] - 1s 6ms/step - loss: 0.0842 - mae: 0.1327 - val_loss: 0.1036 - val_mae: 0.1239\n",
      "Epoch 36/200\n",
      "175/175 [==============================] - 1s 7ms/step - loss: 0.0870 - mae: 0.1300 - val_loss: 0.1071 - val_mae: 0.1266\n",
      "Epoch 37/200\n",
      "175/175 [==============================] - 1s 7ms/step - loss: 0.0840 - mae: 0.1290 - val_loss: 0.1072 - val_mae: 0.1221\n",
      "Epoch 38/200\n",
      "175/175 [==============================] - 1s 6ms/step - loss: 0.0756 - mae: 0.1267 - val_loss: 0.0981 - val_mae: 0.1196\n",
      "Epoch 39/200\n",
      "175/175 [==============================] - 1s 7ms/step - loss: 0.0789 - mae: 0.1285 - val_loss: 0.0960 - val_mae: 0.1174\n",
      "Epoch 40/200\n",
      "175/175 [==============================] - 1s 7ms/step - loss: 0.0713 - mae: 0.1273 - val_loss: 0.0999 - val_mae: 0.1283\n",
      "Epoch 41/200\n",
      "175/175 [==============================] - 1s 6ms/step - loss: 0.0869 - mae: 0.1334 - val_loss: 0.1293 - val_mae: 0.1500\n",
      "Epoch 42/200\n",
      "175/175 [==============================] - 1s 7ms/step - loss: 0.0773 - mae: 0.1292 - val_loss: 0.0802 - val_mae: 0.1414\n",
      "Epoch 43/200\n",
      "175/175 [==============================] - 1s 7ms/step - loss: 0.0720 - mae: 0.1302 - val_loss: 0.1143 - val_mae: 0.1293\n",
      "Epoch 44/200\n",
      "175/175 [==============================] - 1s 7ms/step - loss: 0.0821 - mae: 0.1272 - val_loss: 0.1539 - val_mae: 0.1468\n",
      "Epoch 45/200\n",
      "175/175 [==============================] - 1s 7ms/step - loss: 0.0776 - mae: 0.1309 - val_loss: 0.0751 - val_mae: 0.1193\n",
      "Epoch 46/200\n",
      "175/175 [==============================] - 1s 7ms/step - loss: 0.0736 - mae: 0.1245 - val_loss: 0.1024 - val_mae: 0.1158\n",
      "Epoch 47/200\n",
      "175/175 [==============================] - 1s 6ms/step - loss: 0.0647 - mae: 0.1231 - val_loss: 0.0860 - val_mae: 0.1194\n",
      "Epoch 48/200\n",
      "175/175 [==============================] - 1s 7ms/step - loss: 0.0796 - mae: 0.1281 - val_loss: 0.0776 - val_mae: 0.1301\n",
      "Epoch 49/200\n",
      "175/175 [==============================] - 1s 7ms/step - loss: 0.0757 - mae: 0.1256 - val_loss: 0.0951 - val_mae: 0.1216\n",
      "Epoch 50/200\n",
      "175/175 [==============================] - 1s 7ms/step - loss: 0.0753 - mae: 0.1251 - val_loss: 0.0797 - val_mae: 0.1169\n",
      "Epoch 51/200\n",
      "175/175 [==============================] - 1s 7ms/step - loss: 0.0774 - mae: 0.1267 - val_loss: 0.0893 - val_mae: 0.1155\n",
      "Epoch 52/200\n",
      "175/175 [==============================] - 1s 6ms/step - loss: 0.0648 - mae: 0.1229 - val_loss: 0.1064 - val_mae: 0.1160\n",
      "Epoch 53/200\n",
      "175/175 [==============================] - 1s 6ms/step - loss: 0.0696 - mae: 0.1227 - val_loss: 0.0923 - val_mae: 0.1206\n",
      "Epoch 54/200\n",
      "175/175 [==============================] - 1s 7ms/step - loss: 0.0808 - mae: 0.1286 - val_loss: 0.0819 - val_mae: 0.1178\n",
      "Epoch 55/200\n",
      "175/175 [==============================] - 1s 7ms/step - loss: 0.0661 - mae: 0.1232 - val_loss: 0.0877 - val_mae: 0.1165\n",
      "Epoch 56/200\n",
      "175/175 [==============================] - 1s 7ms/step - loss: 0.0735 - mae: 0.1242 - val_loss: 0.0741 - val_mae: 0.1281\n",
      "Epoch 57/200\n",
      "175/175 [==============================] - 1s 7ms/step - loss: 0.0753 - mae: 0.1257 - val_loss: 0.0712 - val_mae: 0.1164\n",
      "Epoch 58/200\n",
      "175/175 [==============================] - 1s 7ms/step - loss: 0.0692 - mae: 0.1220 - val_loss: 0.0645 - val_mae: 0.1245\n",
      "Epoch 59/200\n",
      "175/175 [==============================] - 1s 7ms/step - loss: 0.0808 - mae: 0.1270 - val_loss: 0.1337 - val_mae: 0.1208\n",
      "Epoch 60/200\n",
      "175/175 [==============================] - 1s 7ms/step - loss: 0.0697 - mae: 0.1233 - val_loss: 0.0735 - val_mae: 0.1189\n",
      "Epoch 61/200\n",
      "175/175 [==============================] - 1s 7ms/step - loss: 0.0681 - mae: 0.1226 - val_loss: 0.0846 - val_mae: 0.1184\n",
      "Epoch 62/200\n",
      "175/175 [==============================] - 1s 7ms/step - loss: 0.0647 - mae: 0.1218 - val_loss: 0.0928 - val_mae: 0.1194\n",
      "Epoch 63/200\n",
      "175/175 [==============================] - 1s 7ms/step - loss: 0.0878 - mae: 0.1288 - val_loss: 0.0683 - val_mae: 0.1206\n",
      "Epoch 64/200\n",
      "175/175 [==============================] - 1s 7ms/step - loss: 0.0739 - mae: 0.1244 - val_loss: 0.0835 - val_mae: 0.1204\n",
      "Epoch 65/200\n",
      "175/175 [==============================] - 1s 6ms/step - loss: 0.0685 - mae: 0.1227 - val_loss: 0.0734 - val_mae: 0.1180\n",
      "Epoch 66/200\n",
      "175/175 [==============================] - 1s 7ms/step - loss: 0.0688 - mae: 0.1235 - val_loss: 0.0724 - val_mae: 0.1174\n",
      "Epoch 67/200\n",
      "175/175 [==============================] - 1s 6ms/step - loss: 0.0715 - mae: 0.1228 - val_loss: 0.0906 - val_mae: 0.1151\n",
      "Epoch 68/200\n",
      "175/175 [==============================] - 1s 7ms/step - loss: 0.0615 - mae: 0.1195 - val_loss: 0.0690 - val_mae: 0.1160\n",
      "Epoch 69/200\n",
      "175/175 [==============================] - 1s 7ms/step - loss: 0.0693 - mae: 0.1222 - val_loss: 0.0833 - val_mae: 0.1153\n",
      "Epoch 70/200\n",
      "175/175 [==============================] - 1s 7ms/step - loss: 0.0806 - mae: 0.1264 - val_loss: 0.0818 - val_mae: 0.1257\n",
      "Epoch 71/200\n",
      "175/175 [==============================] - 1s 7ms/step - loss: 0.0730 - mae: 0.1222 - val_loss: 0.0663 - val_mae: 0.1216\n",
      "Epoch 72/200\n",
      "175/175 [==============================] - 1s 6ms/step - loss: 0.0689 - mae: 0.1198 - val_loss: 0.0672 - val_mae: 0.1149\n",
      "Epoch 73/200\n",
      "175/175 [==============================] - 1s 7ms/step - loss: 0.0690 - mae: 0.1243 - val_loss: 0.0806 - val_mae: 0.1152\n",
      "Epoch 74/200\n",
      "175/175 [==============================] - 1s 7ms/step - loss: 0.0683 - mae: 0.1213 - val_loss: 0.0653 - val_mae: 0.1124\n",
      "Epoch 75/200\n",
      "175/175 [==============================] - 1s 7ms/step - loss: 0.0677 - mae: 0.1217 - val_loss: 0.0915 - val_mae: 0.1208\n",
      "Epoch 76/200\n",
      "175/175 [==============================] - 1s 6ms/step - loss: 0.0631 - mae: 0.1216 - val_loss: 0.0847 - val_mae: 0.1196\n",
      "Epoch 77/200\n",
      "175/175 [==============================] - 1s 7ms/step - loss: 0.0767 - mae: 0.1228 - val_loss: 0.0852 - val_mae: 0.1213\n",
      "Epoch 78/200\n",
      "175/175 [==============================] - 1s 7ms/step - loss: 0.0740 - mae: 0.1206 - val_loss: 0.0873 - val_mae: 0.1177\n",
      "Epoch 79/200\n",
      "175/175 [==============================] - 1s 6ms/step - loss: 0.0618 - mae: 0.1192 - val_loss: 0.0993 - val_mae: 0.1296\n",
      "Epoch 80/200\n",
      "175/175 [==============================] - 1s 7ms/step - loss: 0.0647 - mae: 0.1245 - val_loss: 0.0905 - val_mae: 0.1211\n",
      "Epoch 81/200\n",
      "175/175 [==============================] - 1s 7ms/step - loss: 0.0727 - mae: 0.1242 - val_loss: 0.0658 - val_mae: 0.1242\n",
      "Epoch 82/200\n",
      "175/175 [==============================] - 1s 7ms/step - loss: 0.0657 - mae: 0.1206 - val_loss: 0.0746 - val_mae: 0.1254\n",
      "Epoch 83/200\n",
      "175/175 [==============================] - 1s 6ms/step - loss: 0.0728 - mae: 0.1215 - val_loss: 0.0882 - val_mae: 0.1266\n",
      "Epoch 84/200\n",
      "175/175 [==============================] - 1s 7ms/step - loss: 0.0648 - mae: 0.1218 - val_loss: 0.0776 - val_mae: 0.1140\n",
      "Epoch 85/200\n",
      "175/175 [==============================] - 1s 6ms/step - loss: 0.0653 - mae: 0.1190 - val_loss: 0.0789 - val_mae: 0.1192\n",
      "Epoch 86/200\n",
      "175/175 [==============================] - 1s 7ms/step - loss: 0.0682 - mae: 0.1192 - val_loss: 0.0797 - val_mae: 0.1219\n",
      "Epoch 87/200\n",
      "175/175 [==============================] - 1s 7ms/step - loss: 0.0667 - mae: 0.1212 - val_loss: 0.0708 - val_mae: 0.1165\n",
      "Epoch 88/200\n",
      "175/175 [==============================] - 1s 7ms/step - loss: 0.0684 - mae: 0.1199 - val_loss: 0.0790 - val_mae: 0.1296\n",
      "Epoch 89/200\n",
      "175/175 [==============================] - 1s 7ms/step - loss: 0.0735 - mae: 0.1211 - val_loss: 0.0917 - val_mae: 0.1183\n",
      "Epoch 90/200\n",
      "175/175 [==============================] - 1s 7ms/step - loss: 0.0619 - mae: 0.1173 - val_loss: 0.0765 - val_mae: 0.1123\n",
      "Epoch 91/200\n",
      "175/175 [==============================] - 1s 7ms/step - loss: 0.0751 - mae: 0.1225 - val_loss: 0.0853 - val_mae: 0.1142\n",
      "Epoch 92/200\n",
      "175/175 [==============================] - 1s 7ms/step - loss: 0.0694 - mae: 0.1195 - val_loss: 0.0890 - val_mae: 0.1166\n",
      "Epoch 93/200\n",
      "175/175 [==============================] - 1s 7ms/step - loss: 0.0649 - mae: 0.1184 - val_loss: 0.0882 - val_mae: 0.1173\n",
      "Epoch 94/200\n",
      "175/175 [==============================] - 1s 7ms/step - loss: 0.0634 - mae: 0.1196 - val_loss: 0.0739 - val_mae: 0.1253\n",
      "Epoch 95/200\n",
      "175/175 [==============================] - 1s 7ms/step - loss: 0.0644 - mae: 0.1192 - val_loss: 0.0967 - val_mae: 0.1334\n",
      "Epoch 96/200\n",
      "175/175 [==============================] - 1s 7ms/step - loss: 0.0666 - mae: 0.1204 - val_loss: 0.0957 - val_mae: 0.1152\n",
      "Epoch 97/200\n",
      "175/175 [==============================] - 1s 7ms/step - loss: 0.0674 - mae: 0.1209 - val_loss: 0.0737 - val_mae: 0.1235\n",
      "Epoch 98/200\n",
      "175/175 [==============================] - 1s 6ms/step - loss: 0.0644 - mae: 0.1190 - val_loss: 0.0697 - val_mae: 0.1214\n",
      "Epoch 99/200\n",
      "175/175 [==============================] - 1s 7ms/step - loss: 0.0599 - mae: 0.1186 - val_loss: 0.0890 - val_mae: 0.1172\n",
      "Epoch 100/200\n",
      "175/175 [==============================] - 1s 7ms/step - loss: 0.0641 - mae: 0.1177 - val_loss: 0.0819 - val_mae: 0.1316\n",
      "Epoch 101/200\n",
      "175/175 [==============================] - 1s 6ms/step - loss: 0.0724 - mae: 0.1215 - val_loss: 0.0807 - val_mae: 0.1145\n",
      "Epoch 102/200\n",
      "175/175 [==============================] - 1s 7ms/step - loss: 0.0619 - mae: 0.1169 - val_loss: 0.0958 - val_mae: 0.1170\n",
      "Epoch 103/200\n",
      "175/175 [==============================] - 1s 7ms/step - loss: 0.0562 - mae: 0.1148 - val_loss: 0.0757 - val_mae: 0.1117\n",
      "Epoch 104/200\n",
      "175/175 [==============================] - 1s 7ms/step - loss: 0.0609 - mae: 0.1154 - val_loss: 0.0709 - val_mae: 0.1164\n",
      "Epoch 105/200\n",
      "175/175 [==============================] - 1s 7ms/step - loss: 0.0621 - mae: 0.1191 - val_loss: 0.1059 - val_mae: 0.1193\n",
      "Epoch 106/200\n",
      "175/175 [==============================] - 1s 7ms/step - loss: 0.0622 - mae: 0.1179 - val_loss: 0.0834 - val_mae: 0.1235\n",
      "Epoch 107/200\n",
      "175/175 [==============================] - 1s 7ms/step - loss: 0.0617 - mae: 0.1162 - val_loss: 0.0717 - val_mae: 0.1154\n",
      "Epoch 108/200\n",
      "175/175 [==============================] - 1s 6ms/step - loss: 0.0635 - mae: 0.1172 - val_loss: 0.0680 - val_mae: 0.1172\n",
      "Epoch 109/200\n",
      "175/175 [==============================] - 1s 7ms/step - loss: 0.0604 - mae: 0.1169 - val_loss: 0.0656 - val_mae: 0.1173\n",
      "Epoch 110/200\n",
      "175/175 [==============================] - 1s 7ms/step - loss: 0.0752 - mae: 0.1234 - val_loss: 0.0899 - val_mae: 0.1196\n",
      "Epoch 111/200\n",
      "175/175 [==============================] - 1s 7ms/step - loss: 0.0658 - mae: 0.1201 - val_loss: 0.0891 - val_mae: 0.1248\n",
      "Epoch 112/200\n",
      "175/175 [==============================] - 1s 7ms/step - loss: 0.0664 - mae: 0.1203 - val_loss: 0.0861 - val_mae: 0.1193\n",
      "Epoch 113/200\n",
      "175/175 [==============================] - 1s 6ms/step - loss: 0.0586 - mae: 0.1143 - val_loss: 0.0777 - val_mae: 0.1258\n",
      "Epoch 114/200\n",
      "175/175 [==============================] - 1s 6ms/step - loss: 0.0668 - mae: 0.1176 - val_loss: 0.0735 - val_mae: 0.1140\n",
      "Epoch 115/200\n",
      "175/175 [==============================] - 1s 7ms/step - loss: 0.0615 - mae: 0.1175 - val_loss: 0.0987 - val_mae: 0.1261\n",
      "Epoch 116/200\n",
      "175/175 [==============================] - 1s 7ms/step - loss: 0.0603 - mae: 0.1172 - val_loss: 0.0600 - val_mae: 0.1112\n",
      "Epoch 117/200\n",
      "175/175 [==============================] - 1s 7ms/step - loss: 0.0635 - mae: 0.1166 - val_loss: 0.0828 - val_mae: 0.1118\n",
      "Epoch 118/200\n",
      "175/175 [==============================] - 1s 7ms/step - loss: 0.0601 - mae: 0.1172 - val_loss: 0.0711 - val_mae: 0.1218\n",
      "Epoch 119/200\n",
      "175/175 [==============================] - 1s 6ms/step - loss: 0.0596 - mae: 0.1151 - val_loss: 0.0594 - val_mae: 0.1155\n",
      "Epoch 120/200\n",
      "175/175 [==============================] - 1s 7ms/step - loss: 0.0591 - mae: 0.1152 - val_loss: 0.0693 - val_mae: 0.1124\n",
      "Epoch 121/200\n",
      "175/175 [==============================] - 1s 6ms/step - loss: 0.0683 - mae: 0.1185 - val_loss: 0.0859 - val_mae: 0.1233\n",
      "Epoch 122/200\n",
      "175/175 [==============================] - 1s 7ms/step - loss: 0.0689 - mae: 0.1193 - val_loss: 0.0899 - val_mae: 0.1223\n",
      "Epoch 123/200\n",
      "175/175 [==============================] - 1s 6ms/step - loss: 0.0650 - mae: 0.1195 - val_loss: 0.0814 - val_mae: 0.1137\n",
      "Epoch 124/200\n",
      "175/175 [==============================] - 1s 6ms/step - loss: 0.0659 - mae: 0.1172 - val_loss: 0.0637 - val_mae: 0.1111\n",
      "Epoch 125/200\n",
      "175/175 [==============================] - 1s 7ms/step - loss: 0.0586 - mae: 0.1164 - val_loss: 0.0636 - val_mae: 0.1117\n",
      "Epoch 126/200\n",
      "175/175 [==============================] - 1s 7ms/step - loss: 0.0645 - mae: 0.1161 - val_loss: 0.1027 - val_mae: 0.1260\n",
      "Epoch 127/200\n",
      "175/175 [==============================] - 1s 7ms/step - loss: 0.0671 - mae: 0.1172 - val_loss: 0.0821 - val_mae: 0.1169\n",
      "Epoch 128/200\n",
      "175/175 [==============================] - 1s 7ms/step - loss: 0.0632 - mae: 0.1158 - val_loss: 0.0723 - val_mae: 0.1158\n",
      "Epoch 129/200\n",
      "175/175 [==============================] - 1s 7ms/step - loss: 0.0564 - mae: 0.1134 - val_loss: 0.0602 - val_mae: 0.1145\n",
      "Epoch 130/200\n",
      "175/175 [==============================] - 1s 7ms/step - loss: 0.0613 - mae: 0.1177 - val_loss: 0.0531 - val_mae: 0.1122\n",
      "Epoch 131/200\n",
      "175/175 [==============================] - 1s 7ms/step - loss: 0.0590 - mae: 0.1131 - val_loss: 0.0691 - val_mae: 0.1124\n",
      "Epoch 132/200\n",
      "175/175 [==============================] - 1s 7ms/step - loss: 0.0560 - mae: 0.1154 - val_loss: 0.0737 - val_mae: 0.1115\n",
      "Epoch 133/200\n",
      "175/175 [==============================] - 1s 6ms/step - loss: 0.0627 - mae: 0.1169 - val_loss: 0.0761 - val_mae: 0.1116\n",
      "Epoch 134/200\n",
      "175/175 [==============================] - 1s 7ms/step - loss: 0.0542 - mae: 0.1148 - val_loss: 0.0898 - val_mae: 0.1150\n",
      "Epoch 135/200\n",
      "175/175 [==============================] - 1s 7ms/step - loss: 0.0655 - mae: 0.1178 - val_loss: 0.0742 - val_mae: 0.1127\n",
      "Epoch 136/200\n",
      "175/175 [==============================] - 1s 6ms/step - loss: 0.0580 - mae: 0.1165 - val_loss: 0.0645 - val_mae: 0.1194\n",
      "Epoch 137/200\n",
      "175/175 [==============================] - 1s 7ms/step - loss: 0.0666 - mae: 0.1185 - val_loss: 0.0791 - val_mae: 0.1124\n",
      "Epoch 138/200\n",
      "175/175 [==============================] - 1s 7ms/step - loss: 0.0690 - mae: 0.1188 - val_loss: 0.0835 - val_mae: 0.1177\n",
      "Epoch 139/200\n",
      "175/175 [==============================] - 1s 7ms/step - loss: 0.0607 - mae: 0.1152 - val_loss: 0.1044 - val_mae: 0.1135\n",
      "Epoch 140/200\n",
      "175/175 [==============================] - 1s 7ms/step - loss: 0.0590 - mae: 0.1139 - val_loss: 0.0695 - val_mae: 0.1125\n",
      "Epoch 141/200\n",
      "175/175 [==============================] - 1s 7ms/step - loss: 0.0592 - mae: 0.1158 - val_loss: 0.0618 - val_mae: 0.1139\n",
      "Epoch 142/200\n",
      "175/175 [==============================] - 1s 7ms/step - loss: 0.0685 - mae: 0.1159 - val_loss: 0.0816 - val_mae: 0.1128\n",
      "Epoch 143/200\n",
      "175/175 [==============================] - 1s 7ms/step - loss: 0.0601 - mae: 0.1138 - val_loss: 0.0924 - val_mae: 0.1215\n",
      "Epoch 144/200\n",
      "175/175 [==============================] - 1s 7ms/step - loss: 0.0637 - mae: 0.1182 - val_loss: 0.0851 - val_mae: 0.1182\n",
      "Epoch 145/200\n",
      "175/175 [==============================] - 1s 7ms/step - loss: 0.0579 - mae: 0.1172 - val_loss: 0.0751 - val_mae: 0.1132\n",
      "Epoch 146/200\n",
      "175/175 [==============================] - 1s 7ms/step - loss: 0.0564 - mae: 0.1138 - val_loss: 0.0989 - val_mae: 0.1150\n",
      "Epoch 147/200\n",
      "175/175 [==============================] - 1s 7ms/step - loss: 0.0597 - mae: 0.1165 - val_loss: 0.0853 - val_mae: 0.1135\n",
      "Epoch 148/200\n",
      "175/175 [==============================] - 1s 7ms/step - loss: 0.0571 - mae: 0.1147 - val_loss: 0.0701 - val_mae: 0.1128\n",
      "Epoch 149/200\n",
      "175/175 [==============================] - 1s 7ms/step - loss: 0.0603 - mae: 0.1146 - val_loss: 0.0704 - val_mae: 0.1123\n",
      "Epoch 150/200\n",
      "175/175 [==============================] - 1s 7ms/step - loss: 0.0601 - mae: 0.1156 - val_loss: 0.0712 - val_mae: 0.1135\n",
      "Epoch 151/200\n",
      "175/175 [==============================] - 1s 7ms/step - loss: 0.0647 - mae: 0.1156 - val_loss: 0.1064 - val_mae: 0.1145\n",
      "Epoch 152/200\n",
      "175/175 [==============================] - 1s 7ms/step - loss: 0.0629 - mae: 0.1139 - val_loss: 0.0554 - val_mae: 0.1180\n",
      "Epoch 153/200\n",
      "175/175 [==============================] - 1s 7ms/step - loss: 0.0588 - mae: 0.1157 - val_loss: 0.0739 - val_mae: 0.1219\n",
      "Epoch 154/200\n",
      "175/175 [==============================] - 1s 7ms/step - loss: 0.0564 - mae: 0.1121 - val_loss: 0.0634 - val_mae: 0.1126\n",
      "Epoch 155/200\n",
      "175/175 [==============================] - 1s 7ms/step - loss: 0.0668 - mae: 0.1157 - val_loss: 0.0717 - val_mae: 0.1196\n",
      "Epoch 156/200\n",
      "175/175 [==============================] - 1s 7ms/step - loss: 0.0636 - mae: 0.1164 - val_loss: 0.1045 - val_mae: 0.1116\n",
      "Epoch 157/200\n",
      "175/175 [==============================] - 1s 6ms/step - loss: 0.0601 - mae: 0.1151 - val_loss: 0.0860 - val_mae: 0.1215\n",
      "Epoch 158/200\n",
      "175/175 [==============================] - 1s 7ms/step - loss: 0.0543 - mae: 0.1157 - val_loss: 0.0814 - val_mae: 0.1137\n",
      "Epoch 159/200\n",
      "175/175 [==============================] - 1s 7ms/step - loss: 0.0523 - mae: 0.1135 - val_loss: 0.0622 - val_mae: 0.1277\n",
      "Epoch 160/200\n",
      "175/175 [==============================] - 1s 7ms/step - loss: 0.0555 - mae: 0.1142 - val_loss: 0.0836 - val_mae: 0.1149\n",
      "Epoch 161/200\n",
      "175/175 [==============================] - 1s 7ms/step - loss: 0.0677 - mae: 0.1188 - val_loss: 0.0990 - val_mae: 0.1131\n",
      "Epoch 162/200\n",
      "175/175 [==============================] - 1s 7ms/step - loss: 0.0618 - mae: 0.1137 - val_loss: 0.0770 - val_mae: 0.1176\n",
      "Epoch 163/200\n",
      "175/175 [==============================] - 1s 7ms/step - loss: 0.0687 - mae: 0.1163 - val_loss: 0.0703 - val_mae: 0.1119\n",
      "Epoch 164/200\n",
      "175/175 [==============================] - 1s 6ms/step - loss: 0.0524 - mae: 0.1126 - val_loss: 0.0574 - val_mae: 0.1134\n",
      "Epoch 165/200\n",
      "175/175 [==============================] - 1s 7ms/step - loss: 0.0560 - mae: 0.1131 - val_loss: 0.0892 - val_mae: 0.1140\n",
      "Epoch 166/200\n",
      "175/175 [==============================] - 1s 7ms/step - loss: 0.0643 - mae: 0.1139 - val_loss: 0.0724 - val_mae: 0.1198\n",
      "Epoch 167/200\n",
      "175/175 [==============================] - 1s 7ms/step - loss: 0.0714 - mae: 0.1183 - val_loss: 0.0910 - val_mae: 0.1139\n",
      "Epoch 168/200\n",
      "175/175 [==============================] - 1s 7ms/step - loss: 0.0564 - mae: 0.1144 - val_loss: 0.0689 - val_mae: 0.1138\n",
      "Epoch 169/200\n",
      "175/175 [==============================] - 1s 7ms/step - loss: 0.0575 - mae: 0.1146 - val_loss: 0.0730 - val_mae: 0.1114\n",
      "Epoch 170/200\n",
      "175/175 [==============================] - 1s 7ms/step - loss: 0.0549 - mae: 0.1103 - val_loss: 0.0888 - val_mae: 0.1168\n",
      "Epoch 171/200\n",
      "175/175 [==============================] - 1s 7ms/step - loss: 0.0641 - mae: 0.1156 - val_loss: 0.0725 - val_mae: 0.1142\n",
      "Epoch 172/200\n",
      "175/175 [==============================] - 1s 7ms/step - loss: 0.0655 - mae: 0.1181 - val_loss: 0.0694 - val_mae: 0.1231\n",
      "Epoch 173/200\n",
      "175/175 [==============================] - 1s 7ms/step - loss: 0.0614 - mae: 0.1144 - val_loss: 0.0603 - val_mae: 0.1171\n",
      "Epoch 174/200\n",
      "175/175 [==============================] - 1s 7ms/step - loss: 0.0642 - mae: 0.1160 - val_loss: 0.0617 - val_mae: 0.1130\n",
      "Epoch 175/200\n",
      "175/175 [==============================] - 1s 7ms/step - loss: 0.0575 - mae: 0.1119 - val_loss: 0.0613 - val_mae: 0.1215\n",
      "Epoch 176/200\n",
      "175/175 [==============================] - 1s 6ms/step - loss: 0.0528 - mae: 0.1122 - val_loss: 0.0746 - val_mae: 0.1111\n",
      "Epoch 177/200\n",
      "175/175 [==============================] - 1s 7ms/step - loss: 0.0532 - mae: 0.1110 - val_loss: 0.0681 - val_mae: 0.1192\n",
      "Epoch 178/200\n",
      "175/175 [==============================] - 1s 7ms/step - loss: 0.0552 - mae: 0.1136 - val_loss: 0.0638 - val_mae: 0.1198\n",
      "Epoch 179/200\n",
      "175/175 [==============================] - 1s 7ms/step - loss: 0.0553 - mae: 0.1117 - val_loss: 0.0700 - val_mae: 0.1133\n",
      "Epoch 180/200\n",
      "175/175 [==============================] - 1s 7ms/step - loss: 0.0529 - mae: 0.1132 - val_loss: 0.0776 - val_mae: 0.1207\n",
      "Epoch 181/200\n",
      "175/175 [==============================] - 1s 7ms/step - loss: 0.0576 - mae: 0.1116 - val_loss: 0.0559 - val_mae: 0.1126\n",
      "Epoch 182/200\n",
      "175/175 [==============================] - 1s 7ms/step - loss: 0.0636 - mae: 0.1140 - val_loss: 0.0601 - val_mae: 0.1141\n",
      "Epoch 183/200\n",
      "175/175 [==============================] - 1s 7ms/step - loss: 0.0611 - mae: 0.1151 - val_loss: 0.0684 - val_mae: 0.1119\n",
      "Epoch 184/200\n",
      "175/175 [==============================] - 1s 7ms/step - loss: 0.0581 - mae: 0.1129 - val_loss: 0.0688 - val_mae: 0.1159\n",
      "Epoch 185/200\n",
      "175/175 [==============================] - 1s 7ms/step - loss: 0.0663 - mae: 0.1138 - val_loss: 0.0637 - val_mae: 0.1134\n",
      "Epoch 186/200\n",
      "175/175 [==============================] - 1s 7ms/step - loss: 0.0598 - mae: 0.1137 - val_loss: 0.0596 - val_mae: 0.1113\n",
      "Epoch 187/200\n",
      "175/175 [==============================] - 1s 7ms/step - loss: 0.0656 - mae: 0.1143 - val_loss: 0.0831 - val_mae: 0.1173\n",
      "Epoch 188/200\n",
      "175/175 [==============================] - 1s 7ms/step - loss: 0.0550 - mae: 0.1099 - val_loss: 0.0820 - val_mae: 0.1147\n",
      "Epoch 189/200\n",
      "175/175 [==============================] - 1s 7ms/step - loss: 0.0531 - mae: 0.1099 - val_loss: 0.0707 - val_mae: 0.1123\n",
      "Epoch 190/200\n",
      "175/175 [==============================] - 1s 7ms/step - loss: 0.0545 - mae: 0.1121 - val_loss: 0.0563 - val_mae: 0.1159\n",
      "Epoch 191/200\n",
      "175/175 [==============================] - 1s 7ms/step - loss: 0.0572 - mae: 0.1130 - val_loss: 0.0770 - val_mae: 0.1136\n",
      "Epoch 192/200\n",
      "175/175 [==============================] - 1s 7ms/step - loss: 0.0578 - mae: 0.1130 - val_loss: 0.1099 - val_mae: 0.1245\n",
      "Epoch 193/200\n",
      "175/175 [==============================] - 1s 7ms/step - loss: 0.0532 - mae: 0.1121 - val_loss: 0.0648 - val_mae: 0.1125\n",
      "Epoch 194/200\n",
      "175/175 [==============================] - 1s 7ms/step - loss: 0.0526 - mae: 0.1107 - val_loss: 0.0930 - val_mae: 0.1148\n",
      "Epoch 195/200\n",
      "175/175 [==============================] - 1s 7ms/step - loss: 0.0566 - mae: 0.1130 - val_loss: 0.1134 - val_mae: 0.1164\n",
      "Epoch 196/200\n",
      "175/175 [==============================] - 1s 7ms/step - loss: 0.0536 - mae: 0.1136 - val_loss: 0.0560 - val_mae: 0.1114\n",
      "Epoch 197/200\n",
      "175/175 [==============================] - 1s 7ms/step - loss: 0.0770 - mae: 0.1223 - val_loss: 0.0842 - val_mae: 0.1132\n",
      "Epoch 198/200\n",
      "175/175 [==============================] - 1s 7ms/step - loss: 0.0529 - mae: 0.1115 - val_loss: 0.0675 - val_mae: 0.1154\n",
      "Epoch 199/200\n",
      "175/175 [==============================] - 1s 7ms/step - loss: 0.0569 - mae: 0.1112 - val_loss: 0.0646 - val_mae: 0.1114\n",
      "Epoch 200/200\n",
      "175/175 [==============================] - 1s 7ms/step - loss: 0.0499 - mae: 0.1094 - val_loss: 0.0829 - val_mae: 0.1123\n"
     ]
    },
    {
     "data": {
      "image/png": "[encoded data removed]",
      "text/plain": [
       "<Figure size 432x288 with 1 Axes>"
      ]
     },
     "metadata": {
      "needs_background": "light"
     },
     "output_type": "display_data"
    }
   ],
   "source": [
    "# Обучение модели на простых данных\n",
    "\n",
    "model_simple_scaled = Sequential()\n",
    "model_simple_scaled.add(BatchNormalization(input_dim=train_features_scal1.shape[1]))\n",
    "model_simple_scaled.add(Dense(128, activation='relu'))\n",
    "model_simple_scaled.add(Dense(1000, activation='tanh'))\n",
    "model_simple_scaled.add(Dense(500, activation='relu'))\n",
    "model_simple_scaled.add(Dense(100, activation='relu'))\n",
    "model_simple_scaled.add(Dense(1, activation='linear'))\n",
    "\n",
    "model_simple_scaled.compile(optimizer=Adam(learning_rate=1e-4), loss='mse', metrics=['mae'])\n",
    "\n",
    "history = model_simple_scaled.fit(train_features_scal1, \n",
    "                    train_target_scaled, \n",
    "                    epochs=200, \n",
    "                    batch_size=256,\n",
    "                    validation_split=0.15, \n",
    "                    verbose=1)\n",
    "\n",
    "plot_history(history)"
   ]
  },
  {
   "cell_type": "code",
   "execution_count": 244,
   "metadata": {
    "id": "HD8mmF5mg-t7"
   },
   "outputs": [],
   "source": [
    "pred_test_scaled = model_simple_scaled.predict(test_features_scal1)"
   ]
  },
  {
   "cell_type": "code",
   "execution_count": 245,
   "metadata": {
    "colab": {
     "base_uri": "https://localhost:8080/"
    },
    "id": "UW9d2O2bg-vv",
    "outputId": "09e16032-d883-4a13-d8a5-edcc5f4d9bc1"
   },
   "outputs": [
    {
     "name": "stdout",
     "output_type": "stream",
     "text": [
      "MAE 0.1343324196342049\n",
      "MSE 0.07180131189755473\n",
      "RMSE 0.2679576681073985\n"
     ]
    }
   ],
   "source": [
    "# Расчет среднего значения ошибки \n",
    "#print((abs(pred_test - test_target)).mean())         # Расчет вручную\n",
    "print('MAE', mean_absolute_error(pred_test_scaled, test_target_scaled))   # Расчет с помощью готовой функции\n",
    "print('MSE', mean_squared_error(pred_test_scaled, test_target_scaled))   # Расчет с помощью готовой функции\n",
    "print('RMSE', mean_squared_error(pred_test_scaled, test_target_scaled, squared=False))   # Расчет с помощью готовой функции"
   ]
  },
  {
   "cell_type": "code",
   "execution_count": 246,
   "metadata": {
    "id": "l9oCQu6PYbYT"
   },
   "outputs": [],
   "source": [
    "# Функция оценки результатов и вывода оценки\n",
    "\n",
    "def eval_net(model, x_train, y_train, y_scaler = None, n = 10, limit = 1000.):\n",
    "  \n",
    "    pred = model.predict(x_train)             # Предсказание на тренировочной выборке\n",
    "    if y_scaler:                              # Если есть нормирование - то денормировать\n",
    "        pred = y_scaler.inverse_transform(pred)\n",
    "\n",
    "    print('Средняя абсолютная ошибка:', mean_absolute_error(pred, y_train), '\\n')\n",
    "\n",
    "    for i in range(n):\n",
    "        print('Реальное значение: {:6.2f}  Предсказанное значение: {:6.2f}  Разница: {:6.2f}'.format(y_train[i, 0],\n",
    "                                                                                                    pred[i, 0],\n",
    "                                                                                                    abs(y_train[i, 0] - pred[i, 0])))\n",
    "    # Построение картинки разброса предсказанных и верных значений зарплаты\n",
    "    fig, ax = plt.subplots(figsize=(6, 6))\n",
    "    ax.scatter(y_train, pred)                 # Отрисовка точечного графика\n",
    "    ax.set_xlim(0, limit)                     # Пределы по x, y\n",
    "    ax.set_ylim(0, limit)\n",
    "    ax.plot(plt.xlim(), plt.ylim(), 'r')      # Отрисовка диагональной линии\n",
    "    plt.xlabel('Правильные значения')\n",
    "    plt.ylabel('Предсказания')\n",
    "    plt.grid()\n",
    "    plt.show()        "
   ]
  },
  {
   "cell_type": "code",
   "execution_count": 247,
   "metadata": {
    "id": "shz8NqwsG8nX"
   },
   "outputs": [],
   "source": [
    "train_target_np = train_target.to_numpy().reshape(-1, 1)"
   ]
  },
  {
   "cell_type": "code",
   "execution_count": 248,
   "metadata": {
    "colab": {
     "base_uri": "https://localhost:8080/"
    },
    "id": "h2c7_4xX_HMM",
    "outputId": "e27d202a-1672-41a5-a502-386dc1a0d774"
   },
   "outputs": [
    {
     "data": {
      "text/plain": [
       "47709     860000\n",
       "28209     115000\n",
       "47235     440000\n",
       "26232     545000\n",
       "13627     290000\n",
       "          ...   \n",
       "47879     520000\n",
       "16934    1339800\n",
       "28009     649000\n",
       "4095      229000\n",
       "2178      570000\n",
       "Name: price, Length: 52581, dtype: int64"
      ]
     },
     "execution_count": 248,
     "metadata": {},
     "output_type": "execute_result"
    }
   ],
   "source": [
    "train_target"
   ]
  },
  {
   "cell_type": "code",
   "execution_count": 249,
   "metadata": {
    "colab": {
     "base_uri": "https://localhost:8080/",
     "height": 600
    },
    "id": "FRRplyKO5Z9p",
    "outputId": "d7aad2e3-1093-44b3-f482-d112ce98aa74"
   },
   "outputs": [
    {
     "name": "stdout",
     "output_type": "stream",
     "text": [
      "Средняя абсолютная ошибка: 64085.16246561016 \n",
      "\n",
      "Реальное значение: 860000.00  Предсказанное значение: 1012710.88  Разница: 152710.88\n",
      "Реальное значение: 115000.00  Предсказанное значение: 108462.64  Разница: 6537.36\n",
      "Реальное значение: 440000.00  Предсказанное значение: 514614.75  Разница: 74614.75\n",
      "Реальное значение: 545000.00  Предсказанное значение: 510225.50  Разница: 34774.50\n",
      "Реальное значение: 290000.00  Предсказанное значение: 204378.45  Разница: 85621.55\n",
      "Реальное значение: 564999.00  Предсказанное значение: 570343.25  Разница: 5344.25\n",
      "Реальное значение: 649000.00  Предсказанное значение: 607869.38  Разница: 41130.62\n",
      "Реальное значение: 235000.00  Предсказанное значение: 250391.70  Разница: 15391.70\n",
      "Реальное значение: 410000.00  Предсказанное значение: 341491.91  Разница: 68508.09\n",
      "Реальное значение: 190000.00  Предсказанное значение: 215165.27  Разница: 25165.27\n"
     ]
    },
    {
     "data": {
      "image/png": "[encoded data removed]",
      "text/plain": [
       "<Figure size 432x432 with 1 Axes>"
      ]
     },
     "metadata": {
      "needs_background": "light"
     },
     "output_type": "display_data"
    }
   ],
   "source": [
    "eval_net(model_simple_scaled, train_features_scal1, train_target_np, scaler)"
   ]
  },
  {
   "cell_type": "code",
   "execution_count": 250,
   "metadata": {
    "id": "FZ-ceZd6g-yt"
   },
   "outputs": [],
   "source": [
    "# считаю среднюю цену машины на тестовой выборке\n",
    "test_price_scaled_mean=test_target_scaled.mean()"
   ]
  },
  {
   "cell_type": "code",
   "execution_count": 251,
   "metadata": {
    "colab": {
     "base_uri": "https://localhost:8080/"
    },
    "id": "ldPk3rEqHz-F",
    "outputId": "42105341-fe72-4e1e-b41c-0246dae756fd"
   },
   "outputs": [
    {
     "data": {
      "text/plain": [
       "0.1343324196342049"
      ]
     },
     "execution_count": 251,
     "metadata": {},
     "output_type": "execute_result"
    }
   ],
   "source": [
    "MAE_scaled=mean_absolute_error(pred_test_scaled, test_target_scaled)\n",
    "MAE_scaled"
   ]
  },
  {
   "cell_type": "code",
   "execution_count": 252,
   "metadata": {
    "id": "Zyaasd9I8yMr"
   },
   "outputs": [],
   "source": [
    "pred_unscaled = scaler.inverse_transform(pred_test_scaled)"
   ]
  },
  {
   "cell_type": "code",
   "execution_count": 253,
   "metadata": {
    "colab": {
     "base_uri": "https://localhost:8080/"
    },
    "id": "Ui3zxT898yPi",
    "outputId": "7d2bf907-087a-44ce-d124-b38888bae77c"
   },
   "outputs": [
    {
     "data": {
      "text/plain": [
       "86629.44019571476"
      ]
     },
     "execution_count": 253,
     "metadata": {},
     "output_type": "execute_result"
    }
   ],
   "source": [
    "MAE_unscaled=mean_absolute_error(pred_unscaled, test_target)\n",
    "MAE_unscaled"
   ]
  },
  {
   "cell_type": "code",
   "execution_count": 254,
   "metadata": {
    "colab": {
     "base_uri": "https://localhost:8080/"
    },
    "id": "bXiaHKgC8ySY",
    "outputId": "8273094f-7278-4bf4-a74c-35c64a94e604"
   },
   "outputs": [
    {
     "data": {
      "text/plain": [
       "0.16297936873182073"
      ]
     },
     "execution_count": 254,
     "metadata": {},
     "output_type": "execute_result"
    }
   ],
   "source": [
    "# считаю суммарный процент ошибки = средний модуль ошибки (MAE) / среднюю цену машины.\n",
    "result_unscaled=MAE_unscaled/test_price_mean\n",
    "result_unscaled"
   ]
  },
  {
   "cell_type": "markdown",
   "metadata": {
    "id": "eB8nW60hNJOC"
   },
   "source": [
    "Получается, в нашем случае нормализация целевого столбца \"price\" отрицательно сказалась на эффективности модели.\n",
    "\n",
    "Попробуем обработать значения из текстового столбца \"model', извлекая от туда данные по рестайлингу, названию модели и номер поколения, серии - в общем, из всего, что можно извлечь из этой колонки, сделаем бинарные колонки в нашей табличке. К сожалению, я не нашла, как автоматизировать следующие действия, по этому код получился длинноват... затем запустим модель на обновленных данных и посмотрим, удалось ли улучшить результативность"
   ]
  },
  {
   "cell_type": "code",
   "execution_count": 255,
   "metadata": {
    "colab": {
     "base_uri": "https://localhost:8080/"
    },
    "id": "RXiSwXOSbyyz",
    "outputId": "1986f7bf-0e54-41d5-baf2-34cbc8cb4008"
   },
   "outputs": [
    {
     "data": {
      "text/plain": [
       "47709    c-класс 200 w204/s204/c204 [рестайлинг]\n",
       "28209                                  vigor cb5\n",
       "47235                          logan 2 поколение\n",
       "26232                           cx-7 1 поколение\n",
       "13627                                  lancer ix\n",
       "                          ...                   \n",
       "47879                                      a4 b7\n",
       "16934                           ceed 3 поколение\n",
       "28009                           4007 1 поколение\n",
       "4095                                   accent lc\n",
       "2178                           3 bl [рестайлинг]\n",
       "Name: model, Length: 52581, dtype: object"
      ]
     },
     "execution_count": 255,
     "metadata": {},
     "output_type": "execute_result"
    }
   ],
   "source": [
    "train_features_scal['model']"
   ]
  },
  {
   "cell_type": "code",
   "execution_count": 256,
   "metadata": {
    "id": "SbsP9YjrJFJP"
   },
   "outputs": [],
   "source": [
    "def rest(x):\n",
    "  x['restyle']=x['model'].str.contains('рестайлинг')\n",
    "  x.loc[x['restyle'] == True, 'restyle'] = 1\n",
    "  x.loc[x['restyle'] == False, 'restyle'] = 0"
   ]
  },
  {
   "cell_type": "code",
   "execution_count": 257,
   "metadata": {
    "id": "8MFgvZqLJFOx"
   },
   "outputs": [],
   "source": [
    "rest(train_features_scal)\n",
    "rest(valid_features_scal)\n",
    "rest(test_features_scal)"
   ]
  },
  {
   "cell_type": "code",
   "execution_count": 258,
   "metadata": {
    "id": "RL2M31n5yQdo"
   },
   "outputs": [],
   "source": [
    "def rest2(x):\n",
    "  x['restyle2']=x['model'].str.contains('2-й рестайлинг')\n",
    "  x.loc[x['restyle2'] == True, 'restyle2'] = 1\n",
    "  x.loc[x['restyle2'] == False, 'restyle2'] = 0"
   ]
  },
  {
   "cell_type": "code",
   "execution_count": 259,
   "metadata": {
    "id": "BFUE1tHuyedU"
   },
   "outputs": [],
   "source": [
    "rest2(train_features_scal)\n",
    "rest2(valid_features_scal)\n",
    "rest2(test_features_scal)"
   ]
  },
  {
   "cell_type": "code",
   "execution_count": 260,
   "metadata": {
    "id": "a9_tg2RrzO_6"
   },
   "outputs": [],
   "source": [
    "def rest3(x):\n",
    "  x['restyle3']=x['model'].str.contains('3-й рестайлинг')\n",
    "  x.loc[x['restyle3'] == True, 'restyle3'] = 1\n",
    "  x.loc[x['restyle3'] == False, 'restyle3'] = 0"
   ]
  },
  {
   "cell_type": "code",
   "execution_count": 261,
   "metadata": {
    "id": "h_nRso-uzW6C"
   },
   "outputs": [],
   "source": [
    "rest3(train_features_scal)\n",
    "rest3(valid_features_scal)\n",
    "rest3(test_features_scal)"
   ]
  },
  {
   "cell_type": "markdown",
   "metadata": {
    "id": "yQ-sNcBzaDSB"
   },
   "source": [
    "К сожалению, я пока не нашла, как сократить дальнейшие действия, по этому по очереди применяю функцию, создавая новый столбец с данными по каждому поколению из столбца model...\n",
    "\n",
    "если подскажете, как это можно было бы автоматизировать - была бы очень признательна\n"
   ]
  },
  {
   "cell_type": "code",
   "execution_count": 262,
   "metadata": {
    "id": "uDtT2NkDWFvH"
   },
   "outputs": [],
   "source": [
    "def generation_1(x):\n",
    "  x['generation_1']=x['model'].str.contains('1 поколение')\n",
    "  x.loc[x['generation_1'] == True, 'generation_1'] = 1\n",
    "  x.loc[x['generation_1'] == False, 'generation_1'] = 0"
   ]
  },
  {
   "cell_type": "code",
   "execution_count": 263,
   "metadata": {
    "id": "uPK68qUdWFxv"
   },
   "outputs": [],
   "source": [
    "generation_1(train_features_scal)\n",
    "generation_1(valid_features_scal)\n",
    "generation_1(test_features_scal)"
   ]
  },
  {
   "cell_type": "code",
   "execution_count": 264,
   "metadata": {
    "id": "SPhHX0NmJFXP"
   },
   "outputs": [],
   "source": [
    "def generation_2(x):\n",
    "  x['generation_2']=x['model'].str.contains('2 поколение')\n",
    "  x.loc[x['generation_2'] == True, 'generation_2'] = 1\n",
    "  x.loc[x['generation_2'] == False, 'generation_2'] = 0"
   ]
  },
  {
   "cell_type": "code",
   "execution_count": 265,
   "metadata": {
    "id": "TIuouIX7JFaT"
   },
   "outputs": [],
   "source": [
    "generation_2(train_features_scal)\n",
    "generation_2(valid_features_scal)\n",
    "generation_2(test_features_scal)"
   ]
  },
  {
   "cell_type": "code",
   "execution_count": 266,
   "metadata": {
    "id": "trBfRXfuJFdV"
   },
   "outputs": [],
   "source": [
    "def generation_3(x):\n",
    "  x['generation_3']=x['model'].str.contains('3 поколение')\n",
    "  x.loc[x['generation_3'] == True, 'generation_3'] = 1\n",
    "  x.loc[x['generation_3'] == False, 'generation_3'] = 0"
   ]
  },
  {
   "cell_type": "code",
   "execution_count": 267,
   "metadata": {
    "id": "H-e5ArODJFfJ"
   },
   "outputs": [],
   "source": [
    "generation_3(train_features_scal)\n",
    "generation_3(valid_features_scal)\n",
    "generation_3(test_features_scal)"
   ]
  },
  {
   "cell_type": "code",
   "execution_count": 268,
   "metadata": {
    "id": "VAnyn86-JFhV"
   },
   "outputs": [],
   "source": [
    "def generation_4(x):\n",
    "  x['generation_4']=x['model'].str.contains('4 поколение')\n",
    "  x.loc[x['generation_4'] == True, 'generation_4'] = 1\n",
    "  x.loc[x['generation_4'] == False, 'generation_4'] = 0"
   ]
  },
  {
   "cell_type": "code",
   "execution_count": 269,
   "metadata": {
    "id": "vJKB0ljmYn91"
   },
   "outputs": [],
   "source": [
    "generation_4(train_features_scal)\n",
    "generation_4(valid_features_scal)\n",
    "generation_4(test_features_scal)"
   ]
  },
  {
   "cell_type": "code",
   "execution_count": 270,
   "metadata": {
    "id": "q5DEXPU2YoAf"
   },
   "outputs": [],
   "source": [
    "def generation_5(x):\n",
    "  x['generation_5']=x['model'].str.contains('5 поколение')\n",
    "  x.loc[x['generation_5'] == True, 'generation_5'] = 1\n",
    "  x.loc[x['generation_5'] == False, 'generation_5'] = 0"
   ]
  },
  {
   "cell_type": "code",
   "execution_count": 271,
   "metadata": {
    "id": "wHor4eQeYoDV"
   },
   "outputs": [],
   "source": [
    "generation_5(train_features_scal)\n",
    "generation_5(valid_features_scal)\n",
    "generation_5(test_features_scal)"
   ]
  },
  {
   "cell_type": "code",
   "execution_count": 272,
   "metadata": {
    "id": "A8yFWn2WYoGI"
   },
   "outputs": [],
   "source": [
    "def generation_6(x):\n",
    "  x['generation_6']=x['model'].str.contains('6 поколение')\n",
    "  x.loc[x['generation_6'] == True, 'generation_6'] = 1\n",
    "  x.loc[x['generation_6'] == False, 'generation_6'] = 0"
   ]
  },
  {
   "cell_type": "code",
   "execution_count": 273,
   "metadata": {
    "id": "Xg57M8voYoIx"
   },
   "outputs": [],
   "source": [
    "generation_6(train_features_scal)\n",
    "generation_6(valid_features_scal)\n",
    "generation_6(test_features_scal)"
   ]
  },
  {
   "cell_type": "code",
   "execution_count": 274,
   "metadata": {
    "id": "RIEqVPJxZRYg"
   },
   "outputs": [],
   "source": [
    "def generation_7(x):\n",
    "  x['generation_7']=x['model'].str.contains('7 поколение')\n",
    "  x.loc[x['generation_7'] == True, 'generation_7'] = 1\n",
    "  x.loc[x['generation_7'] == False, 'generation_7'] = 0"
   ]
  },
  {
   "cell_type": "code",
   "execution_count": 275,
   "metadata": {
    "id": "AuGI8vi1ZRbO"
   },
   "outputs": [],
   "source": [
    "generation_7(train_features_scal)\n",
    "generation_7(valid_features_scal)\n",
    "generation_7(test_features_scal)"
   ]
  },
  {
   "cell_type": "code",
   "execution_count": 276,
   "metadata": {
    "id": "OamG7pYoZReA"
   },
   "outputs": [],
   "source": [
    "def generation_8(x):\n",
    "  x['generation_8']=x['model'].str.contains('8 поколение')\n",
    "  x.loc[x['generation_8'] == True, 'generation_8'] = 1\n",
    "  x.loc[x['generation_8'] == False, 'generation_8'] = 0"
   ]
  },
  {
   "cell_type": "code",
   "execution_count": 277,
   "metadata": {
    "id": "FpmeV6HFZRgR"
   },
   "outputs": [],
   "source": [
    "generation_8(train_features_scal)\n",
    "generation_8(valid_features_scal)\n",
    "generation_8(test_features_scal)"
   ]
  },
  {
   "cell_type": "code",
   "execution_count": 278,
   "metadata": {
    "id": "9VnT4VP_ZRi8"
   },
   "outputs": [],
   "source": [
    "def generation_9(x):\n",
    "  x['generation_9']=x['model'].str.contains('9 поколение')\n",
    "  x.loc[x['generation_9'] == True, 'generation_9'] = 1\n",
    "  x.loc[x['generation_9'] == False, 'generation_9'] = 0"
   ]
  },
  {
   "cell_type": "code",
   "execution_count": 279,
   "metadata": {
    "id": "7j2yGAF0ZRlR"
   },
   "outputs": [],
   "source": [
    "generation_9(train_features_scal)\n",
    "generation_9(valid_features_scal)\n",
    "generation_9(test_features_scal)"
   ]
  },
  {
   "cell_type": "code",
   "execution_count": 280,
   "metadata": {
    "id": "CB3r3coMZRn2"
   },
   "outputs": [],
   "source": [
    "def generation_10(x):\n",
    "  x['generation_10']=x['model'].str.contains('10 поколение')\n",
    "  x.loc[x['generation_10'] == True, 'generation_10'] = 1\n",
    "  x.loc[x['generation_10'] == False, 'generation_10'] = 0"
   ]
  },
  {
   "cell_type": "code",
   "execution_count": 281,
   "metadata": {
    "id": "kO2SqSlBZwlX"
   },
   "outputs": [],
   "source": [
    "generation_10(train_features_scal)\n",
    "generation_10(valid_features_scal)\n",
    "generation_10(test_features_scal)"
   ]
  },
  {
   "cell_type": "code",
   "execution_count": 282,
   "metadata": {
    "id": "ZLwhNqPSlMmw"
   },
   "outputs": [],
   "source": [
    "def generation_11(x):\n",
    "  x['generation_11']=x['model'].str.contains('11 поколение')\n",
    "  x.loc[x['generation_11'] == True, 'generation_11'] = 1\n",
    "  x.loc[x['generation_11'] == False, 'generation_11'] = 0"
   ]
  },
  {
   "cell_type": "code",
   "execution_count": 283,
   "metadata": {
    "id": "fWrp0IvxlM_O"
   },
   "outputs": [],
   "source": [
    "generation_11(train_features_scal)\n",
    "generation_11(valid_features_scal)\n",
    "generation_11(test_features_scal)"
   ]
  },
  {
   "cell_type": "code",
   "execution_count": 284,
   "metadata": {
    "id": "TisEFa8llNHa"
   },
   "outputs": [],
   "source": [
    "def generation_12(x):\n",
    "  x['generation_12']=x['model'].str.contains('12 поколение')\n",
    "  x.loc[x['generation_12'] == True, 'generation_12'] = 1\n",
    "  x.loc[x['generation_12'] == False, 'generation_12'] = 0"
   ]
  },
  {
   "cell_type": "code",
   "execution_count": 285,
   "metadata": {
    "id": "jmnlBmJllNN5"
   },
   "outputs": [],
   "source": [
    "generation_12(train_features_scal)\n",
    "generation_12(valid_features_scal)\n",
    "generation_12(test_features_scal)"
   ]
  },
  {
   "cell_type": "code",
   "execution_count": 286,
   "metadata": {
    "id": "tJHIdDVuqcJh"
   },
   "outputs": [],
   "source": [
    "def a_class(x):\n",
    "  x['a_class']=x['model'].str.contains('a-класс')\n",
    "  x.loc[x['a_class'] == True, 'a_class'] = 1\n",
    "  x.loc[x['a_class'] == False, 'a_class'] = 0"
   ]
  },
  {
   "cell_type": "code",
   "execution_count": 287,
   "metadata": {
    "id": "R6WWZNipqcRr"
   },
   "outputs": [],
   "source": [
    "a_class(train_features_scal)\n",
    "a_class(valid_features_scal)\n",
    "a_class(test_features_scal)"
   ]
  },
  {
   "cell_type": "code",
   "execution_count": 288,
   "metadata": {
    "id": "j9oO3dvOqcVV"
   },
   "outputs": [],
   "source": [
    "def b_class(x):\n",
    "  x['b_class']=x['model'].str.contains('b-класс')\n",
    "  x.loc[x['b_class'] == True, 'b_class'] = 1\n",
    "  x.loc[x['b_class'] == False, 'b_class'] = 0"
   ]
  },
  {
   "cell_type": "code",
   "execution_count": 289,
   "metadata": {
    "id": "xpZvRq6LqcY_"
   },
   "outputs": [],
   "source": [
    "b_class(train_features_scal)\n",
    "b_class(valid_features_scal)\n",
    "b_class(test_features_scal)"
   ]
  },
  {
   "cell_type": "code",
   "execution_count": 290,
   "metadata": {
    "id": "1rEkS_flqcbi"
   },
   "outputs": [],
   "source": [
    "def c_class(x):\n",
    "  x['c_class']=x['model'].str.contains('c-класс')\n",
    "  x.loc[x['c_class'] == True, 'c_class'] = 1\n",
    "  x.loc[x['c_class'] == False, 'c_class'] = 0"
   ]
  },
  {
   "cell_type": "code",
   "execution_count": 291,
   "metadata": {
    "id": "3yr766ZMqcee"
   },
   "outputs": [],
   "source": [
    "c_class(train_features_scal)\n",
    "c_class(valid_features_scal)\n",
    "c_class(test_features_scal)"
   ]
  },
  {
   "cell_type": "code",
   "execution_count": 292,
   "metadata": {
    "id": "5jsoiIxiqchU"
   },
   "outputs": [],
   "source": [
    "def g_class(x):\n",
    "  x['g_class']=x['model'].str.contains('g-класс')\n",
    "  x.loc[x['g_class'] == True, 'g_class'] = 1\n",
    "  x.loc[x['g_class'] == False, 'g_class'] = 0"
   ]
  },
  {
   "cell_type": "code",
   "execution_count": 293,
   "metadata": {
    "id": "zlD0Q-hirpEp"
   },
   "outputs": [],
   "source": [
    "g_class(train_features_scal)\n",
    "g_class(valid_features_scal)\n",
    "g_class(test_features_scal)"
   ]
  },
  {
   "cell_type": "code",
   "execution_count": 294,
   "metadata": {
    "id": "OBaSXAFxrpHj"
   },
   "outputs": [],
   "source": [
    "def glk_class(x):\n",
    "  x['glk_class']=x['model'].str.contains('glk-класс')\n",
    "  x.loc[x['glk_class'] == True, 'glk_class'] = 1\n",
    "  x.loc[x['glk_class'] == False, 'glk_class'] = 0"
   ]
  },
  {
   "cell_type": "code",
   "execution_count": 295,
   "metadata": {
    "id": "s9WZI9RyrpLR"
   },
   "outputs": [],
   "source": [
    "glk_class(train_features_scal)\n",
    "glk_class(valid_features_scal)\n",
    "glk_class(test_features_scal)"
   ]
  },
  {
   "cell_type": "code",
   "execution_count": 296,
   "metadata": {
    "id": "xkV4uvOssnLj"
   },
   "outputs": [],
   "source": [
    "def e_class(x):\n",
    "  x['e_class']=x['model'].str.contains('e-класс')\n",
    "  x.loc[x['e_class'] == True, 'e_class'] = 1\n",
    "  x.loc[x['e_class'] == False, 'e_class'] = 0"
   ]
  },
  {
   "cell_type": "code",
   "execution_count": 297,
   "metadata": {
    "id": "zGNNrd-AtYEJ"
   },
   "outputs": [],
   "source": [
    "e_class(train_features_scal)\n",
    "e_class(valid_features_scal)\n",
    "e_class(test_features_scal)"
   ]
  },
  {
   "cell_type": "code",
   "execution_count": 298,
   "metadata": {
    "id": "M_tdo1t4snOO"
   },
   "outputs": [],
   "source": [
    "def s_class(x):\n",
    "  x['s_class']=x['model'].str.contains('s-класс')\n",
    "  x.loc[x['s_class'] == True, 's_class'] = 1\n",
    "  x.loc[x['s_class'] == False, 's_class'] = 0"
   ]
  },
  {
   "cell_type": "code",
   "execution_count": 299,
   "metadata": {
    "id": "e-9CiPtWsnRG"
   },
   "outputs": [],
   "source": [
    "s_class(train_features_scal)\n",
    "s_class(valid_features_scal)\n",
    "s_class(test_features_scal)"
   ]
  },
  {
   "cell_type": "code",
   "execution_count": 300,
   "metadata": {
    "id": "nUqKFq1uK3NF"
   },
   "outputs": [],
   "source": [
    "def gle_class(x):\n",
    "  x['gle_class']=x['model'].str.contains('gle-класс')\n",
    "  x.loc[x['gle_class'] == True, 'gle_class'] = 1\n",
    "  x.loc[x['gle_class'] == False, 'gle_class'] = 0"
   ]
  },
  {
   "cell_type": "code",
   "execution_count": 301,
   "metadata": {
    "id": "dH1fkMVhK3P7"
   },
   "outputs": [],
   "source": [
    "gle_class(train_features_scal)\n",
    "gle_class(valid_features_scal)\n",
    "gle_class(test_features_scal)"
   ]
  },
  {
   "cell_type": "code",
   "execution_count": 302,
   "metadata": {
    "id": "egIUG2hlK3Tr"
   },
   "outputs": [],
   "source": [
    "def m_class(x):\n",
    "  x['m_class']=x['model'].str.contains('m-класс')\n",
    "  x.loc[x['m_class'] == True, 'm_class'] = 1\n",
    "  x.loc[x['m_class'] == False, 'm_class'] = 0"
   ]
  },
  {
   "cell_type": "code",
   "execution_count": 303,
   "metadata": {
    "id": "y5sVfFOrN-3i"
   },
   "outputs": [],
   "source": [
    "m_class(train_features_scal)\n",
    "m_class(valid_features_scal)\n",
    "m_class(test_features_scal)"
   ]
  },
  {
   "cell_type": "code",
   "execution_count": 304,
   "metadata": {
    "id": "Kshba-xzK3We"
   },
   "outputs": [],
   "source": [
    "def gl_class(x):\n",
    "  x['gl_class']=x['model'].str.contains('gl-класс')\n",
    "  x.loc[x['gl_class'] == True, 'gl_class'] = 1\n",
    "  x.loc[x['gl_class'] == False, 'gl_class'] = 0"
   ]
  },
  {
   "cell_type": "code",
   "execution_count": 305,
   "metadata": {
    "id": "EAiMLnwErpNh"
   },
   "outputs": [],
   "source": [
    "gl_class(train_features_scal)\n",
    "gl_class(valid_features_scal)\n",
    "gl_class(test_features_scal)"
   ]
  },
  {
   "cell_type": "code",
   "execution_count": 306,
   "metadata": {
    "id": "JHpe8rcJOTNt"
   },
   "outputs": [],
   "source": [
    "def slk_class(x):\n",
    "  x['slk_class']=x['model'].str.contains('slk-класс')\n",
    "  x.loc[x['slk_class'] == True, 'slk_class'] = 1\n",
    "  x.loc[x['slk_class'] == False, 'slk_class'] = 0"
   ]
  },
  {
   "cell_type": "code",
   "execution_count": 307,
   "metadata": {
    "id": "jrkumNS4OTQ6"
   },
   "outputs": [],
   "source": [
    "slk_class(train_features_scal)\n",
    "slk_class(valid_features_scal)\n",
    "slk_class(test_features_scal)"
   ]
  },
  {
   "cell_type": "code",
   "execution_count": 308,
   "metadata": {
    "id": "ThINl-R2O6kp"
   },
   "outputs": [],
   "source": [
    "def r_class(x):\n",
    "  x['r_class']=x['model'].str.contains('r-класс')\n",
    "  x.loc[x['r_class'] == True, 'r_class'] = 1\n",
    "  x.loc[x['r_class'] == False, 'r_class'] = 0"
   ]
  },
  {
   "cell_type": "code",
   "execution_count": 309,
   "metadata": {
    "id": "uYywGqDqO6pQ"
   },
   "outputs": [],
   "source": [
    "r_class(train_features_scal)\n",
    "r_class(valid_features_scal)\n",
    "r_class(test_features_scal)"
   ]
  },
  {
   "cell_type": "code",
   "execution_count": 310,
   "metadata": {
    "id": "SnhJzoPzO6so"
   },
   "outputs": [],
   "source": [
    "def clk_class(x):\n",
    "  x['clk_class']=x['model'].str.contains('clk-класс')\n",
    "  x.loc[x['clk_class'] == True, 'clk_class'] = 1\n",
    "  x.loc[x['clk_class'] == False, 'clk_class'] = 0"
   ]
  },
  {
   "cell_type": "code",
   "execution_count": 311,
   "metadata": {
    "id": "4nOWDC7JO6vg"
   },
   "outputs": [],
   "source": [
    "clk_class(train_features_scal)\n",
    "clk_class(valid_features_scal)\n",
    "clk_class(test_features_scal)"
   ]
  },
  {
   "cell_type": "code",
   "execution_count": 312,
   "metadata": {
    "id": "YXMiJ40yOTUE"
   },
   "outputs": [],
   "source": [
    "def cl_class(x):\n",
    "  x['cl_class']=x['model'].str.contains('cl-класс')\n",
    "  x.loc[x['cl_class'] == True, 'cl_class'] = 1\n",
    "  x.loc[x['cl_class'] == False, 'cl_class'] = 0"
   ]
  },
  {
   "cell_type": "code",
   "execution_count": 313,
   "metadata": {
    "id": "aEa44uuPPu9i"
   },
   "outputs": [],
   "source": [
    "cl_class(train_features_scal)\n",
    "cl_class(valid_features_scal)\n",
    "cl_class(test_features_scal)"
   ]
  },
  {
   "cell_type": "code",
   "execution_count": 314,
   "metadata": {
    "id": "DepcEJ-uQCDE"
   },
   "outputs": [],
   "source": [
    "def v_class(x):\n",
    "  x['v_class']=x['model'].str.contains('v-класс')\n",
    "  x.loc[x['v_class'] == True, 'v_class'] = 1\n",
    "  x.loc[x['v_class'] == False, 'v_class'] = 0"
   ]
  },
  {
   "cell_type": "code",
   "execution_count": 315,
   "metadata": {
    "id": "RUy48tdIPvAv"
   },
   "outputs": [],
   "source": [
    "v_class(train_features_scal)\n",
    "v_class(valid_features_scal)\n",
    "v_class(test_features_scal)"
   ]
  },
  {
   "cell_type": "code",
   "execution_count": 316,
   "metadata": {
    "id": "u0RRYED5PvEK"
   },
   "outputs": [],
   "source": [
    "def sl_class(x):\n",
    "  x['sl_class']=x['model'].str.contains('sl-класс')\n",
    "  x.loc[x['sl_class'] == True, 'sl_class'] = 1\n",
    "  x.loc[x['sl_class'] == False, 'sl_class'] = 0"
   ]
  },
  {
   "cell_type": "code",
   "execution_count": 317,
   "metadata": {
    "id": "5dVhnU-TQeT3"
   },
   "outputs": [],
   "source": [
    "sl_class(train_features_scal)\n",
    "sl_class(valid_features_scal)\n",
    "sl_class(test_features_scal)"
   ]
  },
  {
   "cell_type": "markdown",
   "metadata": {
    "id": "R2ZY-TEdo_Ti"
   },
   "source": [
    "теперь уберем из колонки все значения, кроме названия модели и комплектации. "
   ]
  },
  {
   "cell_type": "code",
   "execution_count": 318,
   "metadata": {
    "id": "LpsPI3NOpKwl"
   },
   "outputs": [],
   "source": [
    "# сначала скопируем колонку model - вдруг, она нам еще понадобится когда-нибудь:\n",
    "train_features_scal['model_full'] = train_features_scal['model']\n",
    "valid_features_scal['model_full'] = valid_features_scal['model']\n",
    "test_features_scal['model_full'] = test_features_scal['model']"
   ]
  },
  {
   "cell_type": "code",
   "execution_count": 319,
   "metadata": {
    "id": "gOO0zXqlHFZ-"
   },
   "outputs": [],
   "source": [
    "words_to_del= ['1 поколение', '2 поколение', '3 поколение', '4 поколение', '5 поколение', '6 поколение', '7 поколение', '8 поколение', '9 поколение', '10 поколение', '11 поколение', '12 поколение', '[рестайлинг]', '[2-й рестайлинг]', '[3-й рестайлинг]', '[]', 'a-класс', 'b-класс', 'c-класс', 'g-класс', 'glk-класс', 'e-класс', 's-класс', 'gle-класс', 'm-класс', 'gl-класс', 'slk-класс', 'r-класс', 'clk-класс', 'cl-класс', 'v-класс', 'sl-класс']\n",
    "#'5 поколение', '6 поколение', '7 поколение', '8 поколение', '9 поколение', '10 поколение', '11 поколение', '12 поколение'\n"
   ]
  },
  {
   "cell_type": "code",
   "execution_count": 320,
   "metadata": {
    "id": "oUBMk_oCj7Dd"
   },
   "outputs": [],
   "source": [
    "for i in train_features_scal['model'].index:\n",
    "  for word in words_to_del:\n",
    "    w = train_features_scal.loc[i, 'model']\n",
    "    if word in w:\n",
    "      train_features_scal.loc[i, 'model'] = w.replace(word, '')"
   ]
  },
  {
   "cell_type": "code",
   "execution_count": 321,
   "metadata": {
    "colab": {
     "base_uri": "https://localhost:8080/",
     "height": 686
    },
    "id": "2z2efbjSmm41",
    "outputId": "af73179d-cdc2-4a3a-b07b-b08ec91bc3a4"
   },
   "outputs": [
    {
     "data": {
      "text/html": [
       "<div>\n",
       "<style scoped>\n",
       "    .dataframe tbody tr th:only-of-type {\n",
       "        vertical-align: middle;\n",
       "    }\n",
       "\n",
       "    .dataframe tbody tr th {\n",
       "        vertical-align: top;\n",
       "    }\n",
       "\n",
       "    .dataframe thead th {\n",
       "        text-align: right;\n",
       "    }\n",
       "</style>\n",
       "<table border=\"1\" class=\"dataframe\">\n",
       "  <thead>\n",
       "    <tr style=\"text-align: right;\">\n",
       "      <th></th>\n",
       "      <th>year</th>\n",
       "      <th>mileage</th>\n",
       "      <th>volume</th>\n",
       "      <th>power</th>\n",
       "      <th>mark_bmw</th>\n",
       "      <th>mark_chery</th>\n",
       "      <th>mark_chevrolet</th>\n",
       "      <th>mark_daewoo</th>\n",
       "      <th>mark_ford</th>\n",
       "      <th>mark_honda</th>\n",
       "      <th>mark_hyundai</th>\n",
       "      <th>mark_kia</th>\n",
       "      <th>mark_mazda</th>\n",
       "      <th>mark_mercedes-benz</th>\n",
       "      <th>mark_mitsubishi</th>\n",
       "      <th>mark_nissan</th>\n",
       "      <th>mark_opel</th>\n",
       "      <th>mark_peugeot</th>\n",
       "      <th>mark_renault</th>\n",
       "      <th>mark_skoda</th>\n",
       "      <th>mark_subaru</th>\n",
       "      <th>mark_suzuki</th>\n",
       "      <th>mark_toyota</th>\n",
       "      <th>mark_volkswagen</th>\n",
       "      <th>body_кабриолет</th>\n",
       "      <th>body_кроссовер</th>\n",
       "      <th>body_купе</th>\n",
       "      <th>body_лимузин</th>\n",
       "      <th>body_лифтбэк</th>\n",
       "      <th>body_микроавтобус</th>\n",
       "      <th>body_минивэн</th>\n",
       "      <th>body_пикап</th>\n",
       "      <th>body_родстер</th>\n",
       "      <th>body_седан</th>\n",
       "      <th>body_тарга</th>\n",
       "      <th>body_универсал</th>\n",
       "      <th>body_фастбэк</th>\n",
       "      <th>body_хардтоп</th>\n",
       "      <th>body_хетчбэк</th>\n",
       "      <th>kpp_вариатор</th>\n",
       "      <th>kpp_механика</th>\n",
       "      <th>kpp_робот</th>\n",
       "      <th>fuel_газ</th>\n",
       "      <th>fuel_гибрид</th>\n",
       "      <th>fuel_дизель</th>\n",
       "      <th>fuel_электро</th>\n",
       "      <th>model</th>\n",
       "      <th>model_OE</th>\n",
       "      <th>restyle</th>\n",
       "      <th>restyle2</th>\n",
       "      <th>restyle3</th>\n",
       "      <th>generation_1</th>\n",
       "      <th>generation_2</th>\n",
       "      <th>generation_3</th>\n",
       "      <th>generation_4</th>\n",
       "      <th>generation_5</th>\n",
       "      <th>generation_6</th>\n",
       "      <th>generation_7</th>\n",
       "      <th>generation_8</th>\n",
       "      <th>generation_9</th>\n",
       "      <th>generation_10</th>\n",
       "      <th>generation_11</th>\n",
       "      <th>generation_12</th>\n",
       "      <th>a_class</th>\n",
       "      <th>b_class</th>\n",
       "      <th>c_class</th>\n",
       "      <th>g_class</th>\n",
       "      <th>glk_class</th>\n",
       "      <th>e_class</th>\n",
       "      <th>s_class</th>\n",
       "      <th>gle_class</th>\n",
       "      <th>m_class</th>\n",
       "      <th>gl_class</th>\n",
       "      <th>slk_class</th>\n",
       "      <th>r_class</th>\n",
       "      <th>clk_class</th>\n",
       "      <th>cl_class</th>\n",
       "      <th>v_class</th>\n",
       "      <th>sl_class</th>\n",
       "      <th>model_full</th>\n",
       "    </tr>\n",
       "  </thead>\n",
       "  <tbody>\n",
       "    <tr>\n",
       "      <th>13014</th>\n",
       "      <td>2010</td>\n",
       "      <td>-0.345565</td>\n",
       "      <td>2.5</td>\n",
       "      <td>1.387877</td>\n",
       "      <td>1</td>\n",
       "      <td>0</td>\n",
       "      <td>0</td>\n",
       "      <td>0</td>\n",
       "      <td>0</td>\n",
       "      <td>0</td>\n",
       "      <td>0</td>\n",
       "      <td>0</td>\n",
       "      <td>0</td>\n",
       "      <td>0</td>\n",
       "      <td>0</td>\n",
       "      <td>0</td>\n",
       "      <td>0</td>\n",
       "      <td>0</td>\n",
       "      <td>0</td>\n",
       "      <td>0</td>\n",
       "      <td>0</td>\n",
       "      <td>0</td>\n",
       "      <td>0</td>\n",
       "      <td>0</td>\n",
       "      <td>0</td>\n",
       "      <td>0</td>\n",
       "      <td>0</td>\n",
       "      <td>0</td>\n",
       "      <td>0</td>\n",
       "      <td>0</td>\n",
       "      <td>0</td>\n",
       "      <td>0</td>\n",
       "      <td>0</td>\n",
       "      <td>1</td>\n",
       "      <td>0</td>\n",
       "      <td>0</td>\n",
       "      <td>0</td>\n",
       "      <td>0</td>\n",
       "      <td>0</td>\n",
       "      <td>0</td>\n",
       "      <td>0</td>\n",
       "      <td>0</td>\n",
       "      <td>0</td>\n",
       "      <td>0</td>\n",
       "      <td>0</td>\n",
       "      <td>0</td>\n",
       "      <td>3 серия 325 e90/e91/e92/e93</td>\n",
       "      <td>109.0</td>\n",
       "      <td>1</td>\n",
       "      <td>0</td>\n",
       "      <td>0</td>\n",
       "      <td>0</td>\n",
       "      <td>0</td>\n",
       "      <td>0</td>\n",
       "      <td>0</td>\n",
       "      <td>0</td>\n",
       "      <td>0</td>\n",
       "      <td>0</td>\n",
       "      <td>0</td>\n",
       "      <td>0</td>\n",
       "      <td>0</td>\n",
       "      <td>0</td>\n",
       "      <td>0</td>\n",
       "      <td>0</td>\n",
       "      <td>0</td>\n",
       "      <td>0</td>\n",
       "      <td>0</td>\n",
       "      <td>0</td>\n",
       "      <td>0</td>\n",
       "      <td>0</td>\n",
       "      <td>0</td>\n",
       "      <td>0</td>\n",
       "      <td>0</td>\n",
       "      <td>0</td>\n",
       "      <td>0</td>\n",
       "      <td>0</td>\n",
       "      <td>0</td>\n",
       "      <td>0</td>\n",
       "      <td>0</td>\n",
       "      <td>3 серия 325 e90/e91/e92/e93 [рестайлинг]</td>\n",
       "    </tr>\n",
       "    <tr>\n",
       "      <th>16855</th>\n",
       "      <td>2007</td>\n",
       "      <td>-0.231012</td>\n",
       "      <td>4.0</td>\n",
       "      <td>2.887190</td>\n",
       "      <td>1</td>\n",
       "      <td>0</td>\n",
       "      <td>0</td>\n",
       "      <td>0</td>\n",
       "      <td>0</td>\n",
       "      <td>0</td>\n",
       "      <td>0</td>\n",
       "      <td>0</td>\n",
       "      <td>0</td>\n",
       "      <td>0</td>\n",
       "      <td>0</td>\n",
       "      <td>0</td>\n",
       "      <td>0</td>\n",
       "      <td>0</td>\n",
       "      <td>0</td>\n",
       "      <td>0</td>\n",
       "      <td>0</td>\n",
       "      <td>0</td>\n",
       "      <td>0</td>\n",
       "      <td>0</td>\n",
       "      <td>0</td>\n",
       "      <td>0</td>\n",
       "      <td>0</td>\n",
       "      <td>0</td>\n",
       "      <td>0</td>\n",
       "      <td>0</td>\n",
       "      <td>0</td>\n",
       "      <td>0</td>\n",
       "      <td>0</td>\n",
       "      <td>1</td>\n",
       "      <td>0</td>\n",
       "      <td>0</td>\n",
       "      <td>0</td>\n",
       "      <td>0</td>\n",
       "      <td>0</td>\n",
       "      <td>0</td>\n",
       "      <td>0</td>\n",
       "      <td>0</td>\n",
       "      <td>0</td>\n",
       "      <td>0</td>\n",
       "      <td>0</td>\n",
       "      <td>0</td>\n",
       "      <td>7 серия 740 e65/e66</td>\n",
       "      <td>317.0</td>\n",
       "      <td>1</td>\n",
       "      <td>0</td>\n",
       "      <td>0</td>\n",
       "      <td>0</td>\n",
       "      <td>0</td>\n",
       "      <td>0</td>\n",
       "      <td>0</td>\n",
       "      <td>0</td>\n",
       "      <td>0</td>\n",
       "      <td>0</td>\n",
       "      <td>0</td>\n",
       "      <td>0</td>\n",
       "      <td>0</td>\n",
       "      <td>0</td>\n",
       "      <td>0</td>\n",
       "      <td>0</td>\n",
       "      <td>0</td>\n",
       "      <td>0</td>\n",
       "      <td>0</td>\n",
       "      <td>0</td>\n",
       "      <td>0</td>\n",
       "      <td>0</td>\n",
       "      <td>0</td>\n",
       "      <td>0</td>\n",
       "      <td>0</td>\n",
       "      <td>0</td>\n",
       "      <td>0</td>\n",
       "      <td>0</td>\n",
       "      <td>0</td>\n",
       "      <td>0</td>\n",
       "      <td>0</td>\n",
       "      <td>7 серия 740 e65/e66 [рестайлинг]</td>\n",
       "    </tr>\n",
       "    <tr>\n",
       "      <th>15653</th>\n",
       "      <td>2010</td>\n",
       "      <td>-0.387221</td>\n",
       "      <td>2.0</td>\n",
       "      <td>0.331542</td>\n",
       "      <td>1</td>\n",
       "      <td>0</td>\n",
       "      <td>0</td>\n",
       "      <td>0</td>\n",
       "      <td>0</td>\n",
       "      <td>0</td>\n",
       "      <td>0</td>\n",
       "      <td>0</td>\n",
       "      <td>0</td>\n",
       "      <td>0</td>\n",
       "      <td>0</td>\n",
       "      <td>0</td>\n",
       "      <td>0</td>\n",
       "      <td>0</td>\n",
       "      <td>0</td>\n",
       "      <td>0</td>\n",
       "      <td>0</td>\n",
       "      <td>0</td>\n",
       "      <td>0</td>\n",
       "      <td>0</td>\n",
       "      <td>0</td>\n",
       "      <td>0</td>\n",
       "      <td>0</td>\n",
       "      <td>0</td>\n",
       "      <td>0</td>\n",
       "      <td>0</td>\n",
       "      <td>0</td>\n",
       "      <td>0</td>\n",
       "      <td>0</td>\n",
       "      <td>1</td>\n",
       "      <td>0</td>\n",
       "      <td>0</td>\n",
       "      <td>0</td>\n",
       "      <td>0</td>\n",
       "      <td>0</td>\n",
       "      <td>0</td>\n",
       "      <td>0</td>\n",
       "      <td>0</td>\n",
       "      <td>0</td>\n",
       "      <td>0</td>\n",
       "      <td>0</td>\n",
       "      <td>0</td>\n",
       "      <td>3 серия 320 e90/e91/e92/e93</td>\n",
       "      <td>99.0</td>\n",
       "      <td>1</td>\n",
       "      <td>0</td>\n",
       "      <td>0</td>\n",
       "      <td>0</td>\n",
       "      <td>0</td>\n",
       "      <td>0</td>\n",
       "      <td>0</td>\n",
       "      <td>0</td>\n",
       "      <td>0</td>\n",
       "      <td>0</td>\n",
       "      <td>0</td>\n",
       "      <td>0</td>\n",
       "      <td>0</td>\n",
       "      <td>0</td>\n",
       "      <td>0</td>\n",
       "      <td>0</td>\n",
       "      <td>0</td>\n",
       "      <td>0</td>\n",
       "      <td>0</td>\n",
       "      <td>0</td>\n",
       "      <td>0</td>\n",
       "      <td>0</td>\n",
       "      <td>0</td>\n",
       "      <td>0</td>\n",
       "      <td>0</td>\n",
       "      <td>0</td>\n",
       "      <td>0</td>\n",
       "      <td>0</td>\n",
       "      <td>0</td>\n",
       "      <td>0</td>\n",
       "      <td>0</td>\n",
       "      <td>3 серия 320 e90/e91/e92/e93 [рестайлинг]</td>\n",
       "    </tr>\n",
       "    <tr>\n",
       "      <th>3509</th>\n",
       "      <td>2001</td>\n",
       "      <td>0.518794</td>\n",
       "      <td>4.4</td>\n",
       "      <td>3.347207</td>\n",
       "      <td>1</td>\n",
       "      <td>0</td>\n",
       "      <td>0</td>\n",
       "      <td>0</td>\n",
       "      <td>0</td>\n",
       "      <td>0</td>\n",
       "      <td>0</td>\n",
       "      <td>0</td>\n",
       "      <td>0</td>\n",
       "      <td>0</td>\n",
       "      <td>0</td>\n",
       "      <td>0</td>\n",
       "      <td>0</td>\n",
       "      <td>0</td>\n",
       "      <td>0</td>\n",
       "      <td>0</td>\n",
       "      <td>0</td>\n",
       "      <td>0</td>\n",
       "      <td>0</td>\n",
       "      <td>0</td>\n",
       "      <td>0</td>\n",
       "      <td>0</td>\n",
       "      <td>0</td>\n",
       "      <td>0</td>\n",
       "      <td>0</td>\n",
       "      <td>0</td>\n",
       "      <td>0</td>\n",
       "      <td>0</td>\n",
       "      <td>0</td>\n",
       "      <td>1</td>\n",
       "      <td>0</td>\n",
       "      <td>0</td>\n",
       "      <td>0</td>\n",
       "      <td>0</td>\n",
       "      <td>0</td>\n",
       "      <td>0</td>\n",
       "      <td>0</td>\n",
       "      <td>0</td>\n",
       "      <td>0</td>\n",
       "      <td>0</td>\n",
       "      <td>0</td>\n",
       "      <td>0</td>\n",
       "      <td>7 серия 745 e65/e66</td>\n",
       "      <td>321.0</td>\n",
       "      <td>0</td>\n",
       "      <td>0</td>\n",
       "      <td>0</td>\n",
       "      <td>0</td>\n",
       "      <td>0</td>\n",
       "      <td>0</td>\n",
       "      <td>0</td>\n",
       "      <td>0</td>\n",
       "      <td>0</td>\n",
       "      <td>0</td>\n",
       "      <td>0</td>\n",
       "      <td>0</td>\n",
       "      <td>0</td>\n",
       "      <td>0</td>\n",
       "      <td>0</td>\n",
       "      <td>0</td>\n",
       "      <td>0</td>\n",
       "      <td>0</td>\n",
       "      <td>0</td>\n",
       "      <td>0</td>\n",
       "      <td>0</td>\n",
       "      <td>0</td>\n",
       "      <td>0</td>\n",
       "      <td>0</td>\n",
       "      <td>0</td>\n",
       "      <td>0</td>\n",
       "      <td>0</td>\n",
       "      <td>0</td>\n",
       "      <td>0</td>\n",
       "      <td>0</td>\n",
       "      <td>0</td>\n",
       "      <td>7 серия 745 e65/e66</td>\n",
       "    </tr>\n",
       "    <tr>\n",
       "      <th>47578</th>\n",
       "      <td>2016</td>\n",
       "      <td>-1.501516</td>\n",
       "      <td>2.0</td>\n",
       "      <td>0.910822</td>\n",
       "      <td>1</td>\n",
       "      <td>0</td>\n",
       "      <td>0</td>\n",
       "      <td>0</td>\n",
       "      <td>0</td>\n",
       "      <td>0</td>\n",
       "      <td>0</td>\n",
       "      <td>0</td>\n",
       "      <td>0</td>\n",
       "      <td>0</td>\n",
       "      <td>0</td>\n",
       "      <td>0</td>\n",
       "      <td>0</td>\n",
       "      <td>0</td>\n",
       "      <td>0</td>\n",
       "      <td>0</td>\n",
       "      <td>0</td>\n",
       "      <td>0</td>\n",
       "      <td>0</td>\n",
       "      <td>0</td>\n",
       "      <td>0</td>\n",
       "      <td>0</td>\n",
       "      <td>0</td>\n",
       "      <td>0</td>\n",
       "      <td>0</td>\n",
       "      <td>0</td>\n",
       "      <td>0</td>\n",
       "      <td>0</td>\n",
       "      <td>0</td>\n",
       "      <td>1</td>\n",
       "      <td>0</td>\n",
       "      <td>0</td>\n",
       "      <td>0</td>\n",
       "      <td>0</td>\n",
       "      <td>0</td>\n",
       "      <td>0</td>\n",
       "      <td>0</td>\n",
       "      <td>0</td>\n",
       "      <td>0</td>\n",
       "      <td>0</td>\n",
       "      <td>1</td>\n",
       "      <td>0</td>\n",
       "      <td>3 серия 320 f30/f31/f34</td>\n",
       "      <td>101.0</td>\n",
       "      <td>1</td>\n",
       "      <td>0</td>\n",
       "      <td>0</td>\n",
       "      <td>0</td>\n",
       "      <td>0</td>\n",
       "      <td>0</td>\n",
       "      <td>0</td>\n",
       "      <td>0</td>\n",
       "      <td>0</td>\n",
       "      <td>0</td>\n",
       "      <td>0</td>\n",
       "      <td>0</td>\n",
       "      <td>0</td>\n",
       "      <td>0</td>\n",
       "      <td>0</td>\n",
       "      <td>0</td>\n",
       "      <td>0</td>\n",
       "      <td>0</td>\n",
       "      <td>0</td>\n",
       "      <td>0</td>\n",
       "      <td>0</td>\n",
       "      <td>0</td>\n",
       "      <td>0</td>\n",
       "      <td>0</td>\n",
       "      <td>0</td>\n",
       "      <td>0</td>\n",
       "      <td>0</td>\n",
       "      <td>0</td>\n",
       "      <td>0</td>\n",
       "      <td>0</td>\n",
       "      <td>0</td>\n",
       "      <td>3 серия 320 f30/f31/f34 [рестайлинг]</td>\n",
       "    </tr>\n",
       "    <tr>\n",
       "      <th>...</th>\n",
       "      <td>...</td>\n",
       "      <td>...</td>\n",
       "      <td>...</td>\n",
       "      <td>...</td>\n",
       "      <td>...</td>\n",
       "      <td>...</td>\n",
       "      <td>...</td>\n",
       "      <td>...</td>\n",
       "      <td>...</td>\n",
       "      <td>...</td>\n",
       "      <td>...</td>\n",
       "      <td>...</td>\n",
       "      <td>...</td>\n",
       "      <td>...</td>\n",
       "      <td>...</td>\n",
       "      <td>...</td>\n",
       "      <td>...</td>\n",
       "      <td>...</td>\n",
       "      <td>...</td>\n",
       "      <td>...</td>\n",
       "      <td>...</td>\n",
       "      <td>...</td>\n",
       "      <td>...</td>\n",
       "      <td>...</td>\n",
       "      <td>...</td>\n",
       "      <td>...</td>\n",
       "      <td>...</td>\n",
       "      <td>...</td>\n",
       "      <td>...</td>\n",
       "      <td>...</td>\n",
       "      <td>...</td>\n",
       "      <td>...</td>\n",
       "      <td>...</td>\n",
       "      <td>...</td>\n",
       "      <td>...</td>\n",
       "      <td>...</td>\n",
       "      <td>...</td>\n",
       "      <td>...</td>\n",
       "      <td>...</td>\n",
       "      <td>...</td>\n",
       "      <td>...</td>\n",
       "      <td>...</td>\n",
       "      <td>...</td>\n",
       "      <td>...</td>\n",
       "      <td>...</td>\n",
       "      <td>...</td>\n",
       "      <td>...</td>\n",
       "      <td>...</td>\n",
       "      <td>...</td>\n",
       "      <td>...</td>\n",
       "      <td>...</td>\n",
       "      <td>...</td>\n",
       "      <td>...</td>\n",
       "      <td>...</td>\n",
       "      <td>...</td>\n",
       "      <td>...</td>\n",
       "      <td>...</td>\n",
       "      <td>...</td>\n",
       "      <td>...</td>\n",
       "      <td>...</td>\n",
       "      <td>...</td>\n",
       "      <td>...</td>\n",
       "      <td>...</td>\n",
       "      <td>...</td>\n",
       "      <td>...</td>\n",
       "      <td>...</td>\n",
       "      <td>...</td>\n",
       "      <td>...</td>\n",
       "      <td>...</td>\n",
       "      <td>...</td>\n",
       "      <td>...</td>\n",
       "      <td>...</td>\n",
       "      <td>...</td>\n",
       "      <td>...</td>\n",
       "      <td>...</td>\n",
       "      <td>...</td>\n",
       "      <td>...</td>\n",
       "      <td>...</td>\n",
       "      <td>...</td>\n",
       "      <td>...</td>\n",
       "    </tr>\n",
       "    <tr>\n",
       "      <th>65285</th>\n",
       "      <td>2006</td>\n",
       "      <td>0.529208</td>\n",
       "      <td>2.5</td>\n",
       "      <td>1.387877</td>\n",
       "      <td>1</td>\n",
       "      <td>0</td>\n",
       "      <td>0</td>\n",
       "      <td>0</td>\n",
       "      <td>0</td>\n",
       "      <td>0</td>\n",
       "      <td>0</td>\n",
       "      <td>0</td>\n",
       "      <td>0</td>\n",
       "      <td>0</td>\n",
       "      <td>0</td>\n",
       "      <td>0</td>\n",
       "      <td>0</td>\n",
       "      <td>0</td>\n",
       "      <td>0</td>\n",
       "      <td>0</td>\n",
       "      <td>0</td>\n",
       "      <td>0</td>\n",
       "      <td>0</td>\n",
       "      <td>0</td>\n",
       "      <td>0</td>\n",
       "      <td>0</td>\n",
       "      <td>0</td>\n",
       "      <td>0</td>\n",
       "      <td>0</td>\n",
       "      <td>0</td>\n",
       "      <td>0</td>\n",
       "      <td>0</td>\n",
       "      <td>0</td>\n",
       "      <td>1</td>\n",
       "      <td>0</td>\n",
       "      <td>0</td>\n",
       "      <td>0</td>\n",
       "      <td>0</td>\n",
       "      <td>0</td>\n",
       "      <td>0</td>\n",
       "      <td>0</td>\n",
       "      <td>0</td>\n",
       "      <td>0</td>\n",
       "      <td>0</td>\n",
       "      <td>0</td>\n",
       "      <td>0</td>\n",
       "      <td>5 серия 525 e60/e61</td>\n",
       "      <td>207.0</td>\n",
       "      <td>0</td>\n",
       "      <td>0</td>\n",
       "      <td>0</td>\n",
       "      <td>0</td>\n",
       "      <td>0</td>\n",
       "      <td>0</td>\n",
       "      <td>0</td>\n",
       "      <td>0</td>\n",
       "      <td>0</td>\n",
       "      <td>0</td>\n",
       "      <td>0</td>\n",
       "      <td>0</td>\n",
       "      <td>0</td>\n",
       "      <td>0</td>\n",
       "      <td>0</td>\n",
       "      <td>0</td>\n",
       "      <td>0</td>\n",
       "      <td>0</td>\n",
       "      <td>0</td>\n",
       "      <td>0</td>\n",
       "      <td>0</td>\n",
       "      <td>0</td>\n",
       "      <td>0</td>\n",
       "      <td>0</td>\n",
       "      <td>0</td>\n",
       "      <td>0</td>\n",
       "      <td>0</td>\n",
       "      <td>0</td>\n",
       "      <td>0</td>\n",
       "      <td>0</td>\n",
       "      <td>0</td>\n",
       "      <td>5 серия 525 e60/e61</td>\n",
       "    </tr>\n",
       "    <tr>\n",
       "      <th>46705</th>\n",
       "      <td>1999</td>\n",
       "      <td>1.435224</td>\n",
       "      <td>2.5</td>\n",
       "      <td>0.570069</td>\n",
       "      <td>1</td>\n",
       "      <td>0</td>\n",
       "      <td>0</td>\n",
       "      <td>0</td>\n",
       "      <td>0</td>\n",
       "      <td>0</td>\n",
       "      <td>0</td>\n",
       "      <td>0</td>\n",
       "      <td>0</td>\n",
       "      <td>0</td>\n",
       "      <td>0</td>\n",
       "      <td>0</td>\n",
       "      <td>0</td>\n",
       "      <td>0</td>\n",
       "      <td>0</td>\n",
       "      <td>0</td>\n",
       "      <td>0</td>\n",
       "      <td>0</td>\n",
       "      <td>0</td>\n",
       "      <td>0</td>\n",
       "      <td>0</td>\n",
       "      <td>0</td>\n",
       "      <td>0</td>\n",
       "      <td>0</td>\n",
       "      <td>0</td>\n",
       "      <td>0</td>\n",
       "      <td>0</td>\n",
       "      <td>0</td>\n",
       "      <td>0</td>\n",
       "      <td>1</td>\n",
       "      <td>0</td>\n",
       "      <td>0</td>\n",
       "      <td>0</td>\n",
       "      <td>0</td>\n",
       "      <td>0</td>\n",
       "      <td>0</td>\n",
       "      <td>0</td>\n",
       "      <td>0</td>\n",
       "      <td>0</td>\n",
       "      <td>0</td>\n",
       "      <td>0</td>\n",
       "      <td>0</td>\n",
       "      <td>5 серия 523 e39</td>\n",
       "      <td>196.0</td>\n",
       "      <td>0</td>\n",
       "      <td>0</td>\n",
       "      <td>0</td>\n",
       "      <td>0</td>\n",
       "      <td>0</td>\n",
       "      <td>0</td>\n",
       "      <td>0</td>\n",
       "      <td>0</td>\n",
       "      <td>0</td>\n",
       "      <td>0</td>\n",
       "      <td>0</td>\n",
       "      <td>0</td>\n",
       "      <td>0</td>\n",
       "      <td>0</td>\n",
       "      <td>0</td>\n",
       "      <td>0</td>\n",
       "      <td>0</td>\n",
       "      <td>0</td>\n",
       "      <td>0</td>\n",
       "      <td>0</td>\n",
       "      <td>0</td>\n",
       "      <td>0</td>\n",
       "      <td>0</td>\n",
       "      <td>0</td>\n",
       "      <td>0</td>\n",
       "      <td>0</td>\n",
       "      <td>0</td>\n",
       "      <td>0</td>\n",
       "      <td>0</td>\n",
       "      <td>0</td>\n",
       "      <td>0</td>\n",
       "      <td>5 серия 523 e39</td>\n",
       "    </tr>\n",
       "    <tr>\n",
       "      <th>22517</th>\n",
       "      <td>1998</td>\n",
       "      <td>0.029338</td>\n",
       "      <td>2.8</td>\n",
       "      <td>0.961935</td>\n",
       "      <td>1</td>\n",
       "      <td>0</td>\n",
       "      <td>0</td>\n",
       "      <td>0</td>\n",
       "      <td>0</td>\n",
       "      <td>0</td>\n",
       "      <td>0</td>\n",
       "      <td>0</td>\n",
       "      <td>0</td>\n",
       "      <td>0</td>\n",
       "      <td>0</td>\n",
       "      <td>0</td>\n",
       "      <td>0</td>\n",
       "      <td>0</td>\n",
       "      <td>0</td>\n",
       "      <td>0</td>\n",
       "      <td>0</td>\n",
       "      <td>0</td>\n",
       "      <td>0</td>\n",
       "      <td>0</td>\n",
       "      <td>0</td>\n",
       "      <td>0</td>\n",
       "      <td>0</td>\n",
       "      <td>0</td>\n",
       "      <td>0</td>\n",
       "      <td>0</td>\n",
       "      <td>0</td>\n",
       "      <td>0</td>\n",
       "      <td>0</td>\n",
       "      <td>1</td>\n",
       "      <td>0</td>\n",
       "      <td>0</td>\n",
       "      <td>0</td>\n",
       "      <td>0</td>\n",
       "      <td>0</td>\n",
       "      <td>0</td>\n",
       "      <td>1</td>\n",
       "      <td>0</td>\n",
       "      <td>0</td>\n",
       "      <td>0</td>\n",
       "      <td>0</td>\n",
       "      <td>0</td>\n",
       "      <td>5 серия 528 e39</td>\n",
       "      <td>214.0</td>\n",
       "      <td>0</td>\n",
       "      <td>0</td>\n",
       "      <td>0</td>\n",
       "      <td>0</td>\n",
       "      <td>0</td>\n",
       "      <td>0</td>\n",
       "      <td>0</td>\n",
       "      <td>0</td>\n",
       "      <td>0</td>\n",
       "      <td>0</td>\n",
       "      <td>0</td>\n",
       "      <td>0</td>\n",
       "      <td>0</td>\n",
       "      <td>0</td>\n",
       "      <td>0</td>\n",
       "      <td>0</td>\n",
       "      <td>0</td>\n",
       "      <td>0</td>\n",
       "      <td>0</td>\n",
       "      <td>0</td>\n",
       "      <td>0</td>\n",
       "      <td>0</td>\n",
       "      <td>0</td>\n",
       "      <td>0</td>\n",
       "      <td>0</td>\n",
       "      <td>0</td>\n",
       "      <td>0</td>\n",
       "      <td>0</td>\n",
       "      <td>0</td>\n",
       "      <td>0</td>\n",
       "      <td>0</td>\n",
       "      <td>5 серия 528 e39</td>\n",
       "    </tr>\n",
       "    <tr>\n",
       "      <th>21673</th>\n",
       "      <td>2011</td>\n",
       "      <td>-0.376807</td>\n",
       "      <td>1.6</td>\n",
       "      <td>-0.367002</td>\n",
       "      <td>1</td>\n",
       "      <td>0</td>\n",
       "      <td>0</td>\n",
       "      <td>0</td>\n",
       "      <td>0</td>\n",
       "      <td>0</td>\n",
       "      <td>0</td>\n",
       "      <td>0</td>\n",
       "      <td>0</td>\n",
       "      <td>0</td>\n",
       "      <td>0</td>\n",
       "      <td>0</td>\n",
       "      <td>0</td>\n",
       "      <td>0</td>\n",
       "      <td>0</td>\n",
       "      <td>0</td>\n",
       "      <td>0</td>\n",
       "      <td>0</td>\n",
       "      <td>0</td>\n",
       "      <td>0</td>\n",
       "      <td>0</td>\n",
       "      <td>0</td>\n",
       "      <td>0</td>\n",
       "      <td>0</td>\n",
       "      <td>0</td>\n",
       "      <td>0</td>\n",
       "      <td>0</td>\n",
       "      <td>0</td>\n",
       "      <td>0</td>\n",
       "      <td>0</td>\n",
       "      <td>0</td>\n",
       "      <td>0</td>\n",
       "      <td>0</td>\n",
       "      <td>0</td>\n",
       "      <td>1</td>\n",
       "      <td>0</td>\n",
       "      <td>0</td>\n",
       "      <td>0</td>\n",
       "      <td>0</td>\n",
       "      <td>0</td>\n",
       "      <td>0</td>\n",
       "      <td>0</td>\n",
       "      <td>1 серия 116 e81/e82/e87/e88</td>\n",
       "      <td>2.0</td>\n",
       "      <td>1</td>\n",
       "      <td>0</td>\n",
       "      <td>0</td>\n",
       "      <td>0</td>\n",
       "      <td>0</td>\n",
       "      <td>0</td>\n",
       "      <td>0</td>\n",
       "      <td>0</td>\n",
       "      <td>0</td>\n",
       "      <td>0</td>\n",
       "      <td>0</td>\n",
       "      <td>0</td>\n",
       "      <td>0</td>\n",
       "      <td>0</td>\n",
       "      <td>0</td>\n",
       "      <td>0</td>\n",
       "      <td>0</td>\n",
       "      <td>0</td>\n",
       "      <td>0</td>\n",
       "      <td>0</td>\n",
       "      <td>0</td>\n",
       "      <td>0</td>\n",
       "      <td>0</td>\n",
       "      <td>0</td>\n",
       "      <td>0</td>\n",
       "      <td>0</td>\n",
       "      <td>0</td>\n",
       "      <td>0</td>\n",
       "      <td>0</td>\n",
       "      <td>0</td>\n",
       "      <td>0</td>\n",
       "      <td>1 серия 116 e81/e82/e87/e88 [рестайлинг]</td>\n",
       "    </tr>\n",
       "    <tr>\n",
       "      <th>22167</th>\n",
       "      <td>2014</td>\n",
       "      <td>-0.651361</td>\n",
       "      <td>1.6</td>\n",
       "      <td>-0.009211</td>\n",
       "      <td>1</td>\n",
       "      <td>0</td>\n",
       "      <td>0</td>\n",
       "      <td>0</td>\n",
       "      <td>0</td>\n",
       "      <td>0</td>\n",
       "      <td>0</td>\n",
       "      <td>0</td>\n",
       "      <td>0</td>\n",
       "      <td>0</td>\n",
       "      <td>0</td>\n",
       "      <td>0</td>\n",
       "      <td>0</td>\n",
       "      <td>0</td>\n",
       "      <td>0</td>\n",
       "      <td>0</td>\n",
       "      <td>0</td>\n",
       "      <td>0</td>\n",
       "      <td>0</td>\n",
       "      <td>0</td>\n",
       "      <td>0</td>\n",
       "      <td>0</td>\n",
       "      <td>0</td>\n",
       "      <td>0</td>\n",
       "      <td>0</td>\n",
       "      <td>0</td>\n",
       "      <td>0</td>\n",
       "      <td>0</td>\n",
       "      <td>0</td>\n",
       "      <td>1</td>\n",
       "      <td>0</td>\n",
       "      <td>0</td>\n",
       "      <td>0</td>\n",
       "      <td>0</td>\n",
       "      <td>0</td>\n",
       "      <td>0</td>\n",
       "      <td>0</td>\n",
       "      <td>0</td>\n",
       "      <td>0</td>\n",
       "      <td>0</td>\n",
       "      <td>0</td>\n",
       "      <td>0</td>\n",
       "      <td>3 серия 316 f30/f31/f34</td>\n",
       "      <td>82.0</td>\n",
       "      <td>0</td>\n",
       "      <td>0</td>\n",
       "      <td>0</td>\n",
       "      <td>0</td>\n",
       "      <td>0</td>\n",
       "      <td>0</td>\n",
       "      <td>0</td>\n",
       "      <td>0</td>\n",
       "      <td>0</td>\n",
       "      <td>0</td>\n",
       "      <td>0</td>\n",
       "      <td>0</td>\n",
       "      <td>0</td>\n",
       "      <td>0</td>\n",
       "      <td>0</td>\n",
       "      <td>0</td>\n",
       "      <td>0</td>\n",
       "      <td>0</td>\n",
       "      <td>0</td>\n",
       "      <td>0</td>\n",
       "      <td>0</td>\n",
       "      <td>0</td>\n",
       "      <td>0</td>\n",
       "      <td>0</td>\n",
       "      <td>0</td>\n",
       "      <td>0</td>\n",
       "      <td>0</td>\n",
       "      <td>0</td>\n",
       "      <td>0</td>\n",
       "      <td>0</td>\n",
       "      <td>0</td>\n",
       "      <td>3 серия 316 f30/f31/f34</td>\n",
       "    </tr>\n",
       "  </tbody>\n",
       "</table>\n",
       "<p>1969 rows × 80 columns</p>\n",
       "</div>"
      ],
      "text/plain": [
       "       year   mileage  ...  sl_class                                model_full\n",
       "13014  2010 -0.345565  ...         0  3 серия 325 e90/e91/e92/e93 [рестайлинг]\n",
       "16855  2007 -0.231012  ...         0          7 серия 740 e65/e66 [рестайлинг]\n",
       "15653  2010 -0.387221  ...         0  3 серия 320 e90/e91/e92/e93 [рестайлинг]\n",
       "3509   2001  0.518794  ...         0                       7 серия 745 e65/e66\n",
       "47578  2016 -1.501516  ...         0      3 серия 320 f30/f31/f34 [рестайлинг]\n",
       "...     ...       ...  ...       ...                                       ...\n",
       "65285  2006  0.529208  ...         0                       5 серия 525 e60/e61\n",
       "46705  1999  1.435224  ...         0                           5 серия 523 e39\n",
       "22517  1998  0.029338  ...         0                           5 серия 528 e39\n",
       "21673  2011 -0.376807  ...         0  1 серия 116 e81/e82/e87/e88 [рестайлинг]\n",
       "22167  2014 -0.651361  ...         0                   3 серия 316 f30/f31/f34\n",
       "\n",
       "[1969 rows x 80 columns]"
      ]
     },
     "execution_count": 321,
     "metadata": {},
     "output_type": "execute_result"
    }
   ],
   "source": [
    "train_features_scal[train_features_scal['model'].str.contains('серия')]"
   ]
  },
  {
   "cell_type": "code",
   "execution_count": 322,
   "metadata": {
    "colab": {
     "base_uri": "https://localhost:8080/"
    },
    "id": "3JITIu87NT0P",
    "outputId": "ab55baa6-5681-4471-d695-d26e687fceaa"
   },
   "outputs": [
    {
     "data": {
      "text/plain": [
       "2530"
      ]
     },
     "execution_count": 322,
     "metadata": {},
     "output_type": "execute_result"
    }
   ],
   "source": [
    "train_features_scal['model'].nunique()"
   ]
  },
  {
   "cell_type": "markdown",
   "metadata": {
    "id": "Lmgn2Bm5SlXd"
   },
   "source": [
    "Несмотря на всю проделанную работу, уникальных значений в колонке model все равно еще очень и очень много. Закодируем получившиеся значения при помощи OrdinalEncoder, а исходную колонку удалим из выборки, которую будем подавать модели"
   ]
  },
  {
   "cell_type": "code",
   "execution_count": 323,
   "metadata": {
    "id": "avM0c1CS6lEU"
   },
   "outputs": [],
   "source": [
    "colums_for_encoding=train_features_scal[\"model\"]\n",
    "train_features_scal[\"model_OE2\"]=encoder.fit_transform(colums_for_encoding.values.reshape(-1, 1))\n"
   ]
  },
  {
   "cell_type": "code",
   "execution_count": 324,
   "metadata": {
    "id": "NERk7rDrGCag"
   },
   "outputs": [],
   "source": [
    "colums_for_encoding=valid_features_scal[\"model\"]\n",
    "valid_features_scal[\"model_OE2\"]=encoder.fit_transform(colums_for_encoding.values.reshape(-1, 1))"
   ]
  },
  {
   "cell_type": "code",
   "execution_count": 325,
   "metadata": {
    "id": "7kVmI86QGCfq"
   },
   "outputs": [],
   "source": [
    "colums_for_encoding=test_features_scal[\"model\"]\n",
    "test_features_scal[\"model_OE2\"]=encoder.fit_transform(colums_for_encoding.values.reshape(-1, 1))"
   ]
  },
  {
   "cell_type": "code",
   "execution_count": 326,
   "metadata": {
    "id": "LVSw10gh3qGG"
   },
   "outputs": [],
   "source": [
    "# создаем новые выборки без текстовой колонки model_full\n",
    "train_features_scal3= train_features_scal.drop([\"model_full\", \"model_OE\", \"model\"], axis=1)\n",
    "valid_features_scal3= valid_features_scal.drop([\"model_full\", \"model_OE\", \"model\"], axis=1)\n",
    "test_features_scal3= test_features_scal.drop([\"model_full\", \"model_OE\", \"model\"], axis=1)"
   ]
  },
  {
   "cell_type": "code",
   "execution_count": 327,
   "metadata": {
    "colab": {
     "base_uri": "https://localhost:8080/",
     "height": 1000
    },
    "id": "LVJyay8W3qLB",
    "outputId": "fac02ff9-1f6d-4d62-c506-ff4af8f50966"
   },
   "outputs": [
    {
     "name": "stdout",
     "output_type": "stream",
     "text": [
      "Epoch 1/80\n",
      "175/175 [==============================] - 2s 8ms/step - loss: 0.3659 - mae: 0.2674 - val_loss: 187.5306 - val_mae: 13.6772\n",
      "Epoch 2/80\n",
      "175/175 [==============================] - 1s 7ms/step - loss: 0.2011 - mae: 0.1885 - val_loss: 41.7306 - val_mae: 6.2966\n",
      "Epoch 3/80\n",
      "175/175 [==============================] - 1s 7ms/step - loss: 0.1607 - mae: 0.1708 - val_loss: 1.0460 - val_mae: 0.7446\n",
      "Epoch 4/80\n",
      "175/175 [==============================] - 1s 7ms/step - loss: 0.1479 - mae: 0.1599 - val_loss: 0.1972 - val_mae: 0.1924\n",
      "Epoch 5/80\n",
      "175/175 [==============================] - 1s 7ms/step - loss: 0.1265 - mae: 0.1535 - val_loss: 0.1698 - val_mae: 0.1510\n",
      "Epoch 6/80\n",
      "175/175 [==============================] - 1s 6ms/step - loss: 0.1240 - mae: 0.1569 - val_loss: 0.1642 - val_mae: 0.1716\n",
      "Epoch 7/80\n",
      "175/175 [==============================] - 1s 6ms/step - loss: 0.1202 - mae: 0.1550 - val_loss: 0.1714 - val_mae: 0.1479\n",
      "Epoch 8/80\n",
      "175/175 [==============================] - 1s 7ms/step - loss: 0.1037 - mae: 0.1455 - val_loss: 0.1706 - val_mae: 0.1453\n",
      "Epoch 9/80\n",
      "175/175 [==============================] - 1s 7ms/step - loss: 0.1022 - mae: 0.1436 - val_loss: 0.1333 - val_mae: 0.1297\n",
      "Epoch 10/80\n",
      "175/175 [==============================] - 1s 7ms/step - loss: 0.0862 - mae: 0.1373 - val_loss: 0.1554 - val_mae: 0.1402\n",
      "Epoch 11/80\n",
      "175/175 [==============================] - 1s 7ms/step - loss: 0.0817 - mae: 0.1367 - val_loss: 0.1623 - val_mae: 0.1319\n",
      "Epoch 12/80\n",
      "175/175 [==============================] - 1s 7ms/step - loss: 0.0904 - mae: 0.1388 - val_loss: 0.1285 - val_mae: 0.1342\n",
      "Epoch 13/80\n",
      "175/175 [==============================] - 1s 6ms/step - loss: 0.0859 - mae: 0.1398 - val_loss: 0.1566 - val_mae: 0.1539\n",
      "Epoch 14/80\n",
      "175/175 [==============================] - 1s 6ms/step - loss: 0.0848 - mae: 0.1339 - val_loss: 0.1263 - val_mae: 0.1281\n",
      "Epoch 15/80\n",
      "175/175 [==============================] - 1s 7ms/step - loss: 0.0829 - mae: 0.1320 - val_loss: 0.1418 - val_mae: 0.1251\n",
      "Epoch 16/80\n",
      "175/175 [==============================] - 1s 6ms/step - loss: 0.0703 - mae: 0.1295 - val_loss: 0.1489 - val_mae: 0.1217\n",
      "Epoch 17/80\n",
      "175/175 [==============================] - 1s 6ms/step - loss: 0.0841 - mae: 0.1326 - val_loss: 0.1383 - val_mae: 0.1300\n",
      "Epoch 18/80\n",
      "175/175 [==============================] - 1s 7ms/step - loss: 0.0720 - mae: 0.1292 - val_loss: 0.1347 - val_mae: 0.1389\n",
      "Epoch 19/80\n",
      "175/175 [==============================] - 1s 7ms/step - loss: 0.0831 - mae: 0.1294 - val_loss: 0.1267 - val_mae: 0.1234\n",
      "Epoch 20/80\n",
      "175/175 [==============================] - 1s 7ms/step - loss: 0.0829 - mae: 0.1313 - val_loss: 0.1141 - val_mae: 0.1290\n",
      "Epoch 21/80\n",
      "175/175 [==============================] - 1s 6ms/step - loss: 0.0778 - mae: 0.1270 - val_loss: 0.1432 - val_mae: 0.1481\n",
      "Epoch 22/80\n",
      "175/175 [==============================] - 1s 6ms/step - loss: 0.0723 - mae: 0.1277 - val_loss: 0.1421 - val_mae: 0.1235\n",
      "Epoch 23/80\n",
      "175/175 [==============================] - 1s 7ms/step - loss: 0.0770 - mae: 0.1276 - val_loss: 0.1391 - val_mae: 0.1220\n",
      "Epoch 24/80\n",
      "175/175 [==============================] - 1s 7ms/step - loss: 0.0689 - mae: 0.1242 - val_loss: 0.1216 - val_mae: 0.1306\n",
      "Epoch 25/80\n",
      "175/175 [==============================] - 1s 7ms/step - loss: 0.0688 - mae: 0.1272 - val_loss: 0.1067 - val_mae: 0.1445\n",
      "Epoch 26/80\n",
      "175/175 [==============================] - 1s 7ms/step - loss: 0.0722 - mae: 0.1271 - val_loss: 0.1104 - val_mae: 0.1228\n",
      "Epoch 27/80\n",
      "175/175 [==============================] - 1s 7ms/step - loss: 0.0669 - mae: 0.1267 - val_loss: 0.0987 - val_mae: 0.1197\n",
      "Epoch 28/80\n",
      "175/175 [==============================] - 1s 7ms/step - loss: 0.0687 - mae: 0.1249 - val_loss: 0.1171 - val_mae: 0.1190\n",
      "Epoch 29/80\n",
      "175/175 [==============================] - 1s 7ms/step - loss: 0.0713 - mae: 0.1279 - val_loss: 0.0909 - val_mae: 0.1283\n",
      "Epoch 30/80\n",
      "175/175 [==============================] - 1s 6ms/step - loss: 0.0681 - mae: 0.1253 - val_loss: 0.0935 - val_mae: 0.1322\n",
      "Epoch 31/80\n",
      "175/175 [==============================] - 1s 6ms/step - loss: 0.0667 - mae: 0.1227 - val_loss: 0.1231 - val_mae: 0.1223\n",
      "Epoch 32/80\n",
      "175/175 [==============================] - 1s 6ms/step - loss: 0.0687 - mae: 0.1218 - val_loss: 0.1118 - val_mae: 0.1218\n",
      "Epoch 33/80\n",
      "175/175 [==============================] - 1s 7ms/step - loss: 0.0683 - mae: 0.1207 - val_loss: 0.1153 - val_mae: 0.1198\n",
      "Epoch 34/80\n",
      "175/175 [==============================] - 1s 7ms/step - loss: 0.0653 - mae: 0.1216 - val_loss: 0.1105 - val_mae: 0.1207\n",
      "Epoch 35/80\n",
      "175/175 [==============================] - 1s 7ms/step - loss: 0.0758 - mae: 0.1213 - val_loss: 0.1040 - val_mae: 0.1155\n",
      "Epoch 36/80\n",
      "175/175 [==============================] - 1s 7ms/step - loss: 0.0671 - mae: 0.1193 - val_loss: 0.1009 - val_mae: 0.1162\n",
      "Epoch 37/80\n",
      "175/175 [==============================] - 1s 6ms/step - loss: 0.0660 - mae: 0.1210 - val_loss: 0.1251 - val_mae: 0.1221\n",
      "Epoch 38/80\n",
      "175/175 [==============================] - 1s 7ms/step - loss: 0.0696 - mae: 0.1244 - val_loss: 0.1250 - val_mae: 0.1284\n",
      "Epoch 39/80\n",
      "175/175 [==============================] - 1s 7ms/step - loss: 0.0672 - mae: 0.1228 - val_loss: 0.1329 - val_mae: 0.1230\n",
      "Epoch 40/80\n",
      "175/175 [==============================] - 1s 7ms/step - loss: 0.0645 - mae: 0.1212 - val_loss: 0.1166 - val_mae: 0.1233\n",
      "Epoch 41/80\n",
      "175/175 [==============================] - 1s 7ms/step - loss: 0.0607 - mae: 0.1202 - val_loss: 0.1001 - val_mae: 0.1207\n",
      "Epoch 42/80\n",
      "175/175 [==============================] - 1s 7ms/step - loss: 0.0591 - mae: 0.1186 - val_loss: 0.0961 - val_mae: 0.1276\n",
      "Epoch 43/80\n",
      "175/175 [==============================] - 1s 6ms/step - loss: 0.0743 - mae: 0.1262 - val_loss: 0.1005 - val_mae: 0.1189\n",
      "Epoch 44/80\n",
      "175/175 [==============================] - 1s 6ms/step - loss: 0.0605 - mae: 0.1179 - val_loss: 0.1047 - val_mae: 0.1161\n",
      "Epoch 45/80\n",
      "175/175 [==============================] - 1s 6ms/step - loss: 0.0653 - mae: 0.1197 - val_loss: 0.1094 - val_mae: 0.1168\n",
      "Epoch 46/80\n",
      "175/175 [==============================] - 1s 7ms/step - loss: 0.0721 - mae: 0.1197 - val_loss: 0.0988 - val_mae: 0.1148\n",
      "Epoch 47/80\n",
      "175/175 [==============================] - 1s 7ms/step - loss: 0.0617 - mae: 0.1177 - val_loss: 0.1050 - val_mae: 0.1202\n",
      "Epoch 48/80\n",
      "175/175 [==============================] - 1s 7ms/step - loss: 0.0609 - mae: 0.1164 - val_loss: 0.0877 - val_mae: 0.1153\n",
      "Epoch 49/80\n",
      "175/175 [==============================] - 1s 7ms/step - loss: 0.0587 - mae: 0.1174 - val_loss: 0.1145 - val_mae: 0.1385\n",
      "Epoch 50/80\n",
      "175/175 [==============================] - 1s 7ms/step - loss: 0.0570 - mae: 0.1153 - val_loss: 0.0938 - val_mae: 0.1142\n",
      "Epoch 51/80\n",
      "175/175 [==============================] - 1s 7ms/step - loss: 0.0571 - mae: 0.1159 - val_loss: 0.0906 - val_mae: 0.1215\n",
      "Epoch 52/80\n",
      "175/175 [==============================] - 1s 7ms/step - loss: 0.0577 - mae: 0.1163 - val_loss: 0.0936 - val_mae: 0.1153\n",
      "Epoch 53/80\n",
      "175/175 [==============================] - 1s 7ms/step - loss: 0.0633 - mae: 0.1156 - val_loss: 0.0938 - val_mae: 0.1144\n",
      "Epoch 54/80\n",
      "175/175 [==============================] - 1s 7ms/step - loss: 0.0579 - mae: 0.1189 - val_loss: 0.0911 - val_mae: 0.1227\n",
      "Epoch 55/80\n",
      "175/175 [==============================] - 1s 7ms/step - loss: 0.0582 - mae: 0.1148 - val_loss: 0.0866 - val_mae: 0.1108\n",
      "Epoch 56/80\n",
      "175/175 [==============================] - 1s 6ms/step - loss: 0.0607 - mae: 0.1157 - val_loss: 0.0989 - val_mae: 0.1162\n",
      "Epoch 57/80\n",
      "175/175 [==============================] - 1s 7ms/step - loss: 0.0586 - mae: 0.1157 - val_loss: 0.0909 - val_mae: 0.1191\n",
      "Epoch 58/80\n",
      "175/175 [==============================] - 1s 7ms/step - loss: 0.0617 - mae: 0.1160 - val_loss: 0.1088 - val_mae: 0.1134\n",
      "Epoch 59/80\n",
      "175/175 [==============================] - 1s 7ms/step - loss: 0.0585 - mae: 0.1145 - val_loss: 0.1103 - val_mae: 0.1147\n",
      "Epoch 60/80\n",
      "175/175 [==============================] - 1s 7ms/step - loss: 0.0649 - mae: 0.1175 - val_loss: 0.0996 - val_mae: 0.1152\n",
      "Epoch 61/80\n",
      "175/175 [==============================] - 1s 7ms/step - loss: 0.0581 - mae: 0.1157 - val_loss: 0.0923 - val_mae: 0.1139\n",
      "Epoch 62/80\n",
      "175/175 [==============================] - 1s 6ms/step - loss: 0.0680 - mae: 0.1190 - val_loss: 0.0853 - val_mae: 0.1142\n",
      "Epoch 63/80\n",
      "175/175 [==============================] - 1s 7ms/step - loss: 0.0563 - mae: 0.1130 - val_loss: 0.0728 - val_mae: 0.1128\n",
      "Epoch 64/80\n",
      "175/175 [==============================] - 1s 7ms/step - loss: 0.0631 - mae: 0.1171 - val_loss: 0.0855 - val_mae: 0.1112\n",
      "Epoch 65/80\n",
      "175/175 [==============================] - 1s 6ms/step - loss: 0.0597 - mae: 0.1152 - val_loss: 0.1085 - val_mae: 0.1172\n",
      "Epoch 66/80\n",
      "175/175 [==============================] - 1s 6ms/step - loss: 0.0662 - mae: 0.1171 - val_loss: 0.1019 - val_mae: 0.1142\n",
      "Epoch 67/80\n",
      "175/175 [==============================] - 1s 7ms/step - loss: 0.0579 - mae: 0.1143 - val_loss: 0.0910 - val_mae: 0.1179\n",
      "Epoch 68/80\n",
      "175/175 [==============================] - 1s 7ms/step - loss: 0.0581 - mae: 0.1146 - val_loss: 0.0942 - val_mae: 0.1132\n",
      "Epoch 69/80\n",
      "175/175 [==============================] - 1s 7ms/step - loss: 0.0589 - mae: 0.1118 - val_loss: 0.1056 - val_mae: 0.1217\n",
      "Epoch 70/80\n",
      "175/175 [==============================] - 1s 7ms/step - loss: 0.0609 - mae: 0.1167 - val_loss: 0.0882 - val_mae: 0.1197\n",
      "Epoch 71/80\n",
      "175/175 [==============================] - 1s 7ms/step - loss: 0.0539 - mae: 0.1145 - val_loss: 0.0893 - val_mae: 0.1128\n",
      "Epoch 72/80\n",
      "175/175 [==============================] - 1s 6ms/step - loss: 0.0586 - mae: 0.1137 - val_loss: 0.0887 - val_mae: 0.1188\n",
      "Epoch 73/80\n",
      "175/175 [==============================] - 1s 7ms/step - loss: 0.0566 - mae: 0.1137 - val_loss: 0.1073 - val_mae: 0.1134\n",
      "Epoch 74/80\n",
      "175/175 [==============================] - 1s 7ms/step - loss: 0.0544 - mae: 0.1136 - val_loss: 0.0713 - val_mae: 0.1119\n",
      "Epoch 75/80\n",
      "175/175 [==============================] - 1s 7ms/step - loss: 0.0578 - mae: 0.1139 - val_loss: 0.0994 - val_mae: 0.1195\n",
      "Epoch 76/80\n",
      "175/175 [==============================] - 1s 7ms/step - loss: 0.0555 - mae: 0.1123 - val_loss: 0.0905 - val_mae: 0.1133\n",
      "Epoch 77/80\n",
      "175/175 [==============================] - 1s 7ms/step - loss: 0.0540 - mae: 0.1122 - val_loss: 0.0796 - val_mae: 0.1103\n",
      "Epoch 78/80\n",
      "175/175 [==============================] - 1s 7ms/step - loss: 0.0539 - mae: 0.1109 - val_loss: 0.0868 - val_mae: 0.1149\n",
      "Epoch 79/80\n",
      "175/175 [==============================] - 1s 7ms/step - loss: 0.0545 - mae: 0.1122 - val_loss: 0.0994 - val_mae: 0.1155\n",
      "Epoch 80/80\n",
      "175/175 [==============================] - 1s 7ms/step - loss: 0.0502 - mae: 0.1093 - val_loss: 0.0808 - val_mae: 0.1127\n"
     ]
    },
    {
     "data": {
      "image/png": "[encoded data removed]",
      "text/plain": [
       "<Figure size 432x288 with 1 Axes>"
      ]
     },
     "metadata": {
      "needs_background": "light"
     },
     "output_type": "display_data"
    }
   ],
   "source": [
    "# запустим обучение модели на обновленных данных\n",
    "model_simple3 = Sequential()\n",
    "model_simple3.add(BatchNormalization(input_dim=train_features_scal3.shape[1]))\n",
    "model_simple3.add(Dense(128, activation='relu'))\n",
    "model_simple3.add(Dense(1000, activation='tanh'))\n",
    "model_simple3.add(Dense(500, activation='relu'))\n",
    "model_simple3.add(Dense(100, activation='relu'))\n",
    "model_simple3.add(Dense(1, activation='linear'))\n",
    "\n",
    "model_simple3.compile(optimizer=Adam(learning_rate=1e-4), loss='mse', metrics=['mae'])\n",
    "\n",
    "history = model_simple3.fit(train_features_scal3.astype('float32'), \n",
    "                    train_target_scaled, \n",
    "                    epochs=80, \n",
    "                    batch_size=256,\n",
    "                    validation_split=0.15, \n",
    "                    verbose=1)\n",
    "\n",
    "plot_history(history)"
   ]
  },
  {
   "cell_type": "code",
   "execution_count": 328,
   "metadata": {
    "colab": {
     "base_uri": "https://localhost:8080/"
    },
    "id": "v7LitG2OVNH4",
    "outputId": "c5eb2e40-eb96-4a95-b03e-02ab3e09c5f3"
   },
   "outputs": [
    {
     "name": "stdout",
     "output_type": "stream",
     "text": [
      "MAE 0.1036732366412514\n",
      "MSE 0.059362474819165775\n",
      "RMSE 0.24364415613588145\n"
     ]
    }
   ],
   "source": [
    "# Проверка работы сети - предсказание на тренировочной выборке\n",
    "pred3 = model_simple3.predict(train_features_scal3.astype('float32'))\n",
    "\n",
    "# Расчет среднего значения ошибки \n",
    "#print((abs(pred - train_target)).mean())         # Расчет вручную\n",
    "print('MAE', mean_absolute_error(pred3, train_target_scaled))   # Расчет с помощью готовой функции\n",
    "print('MSE', mean_squared_error(pred3, train_target_scaled))   # Расчет с помощью готовой функции\n",
    "print('RMSE', mean_squared_error(pred3, train_target_scaled, squared=False))   # Расчет с помощью готовой функции"
   ]
  },
  {
   "cell_type": "code",
   "execution_count": 329,
   "metadata": {
    "colab": {
     "base_uri": "https://localhost:8080/",
     "height": 600
    },
    "id": "UlF7sZqaVNO3",
    "outputId": "6f1083a7-f91e-480b-ee80-371fb94c9a64"
   },
   "outputs": [
    {
     "name": "stdout",
     "output_type": "stream",
     "text": [
      "Средняя абсолютная ошибка: 64212.51824185635 \n",
      "\n",
      "Реальное значение: 860000.00  Предсказанное значение: 936611.94  Разница: 76611.94\n",
      "Реальное значение: 115000.00  Предсказанное значение: 86436.80  Разница: 28563.20\n",
      "Реальное значение: 440000.00  Предсказанное значение: 521777.44  Разница: 81777.44\n",
      "Реальное значение: 545000.00  Предсказанное значение: 519550.62  Разница: 25449.38\n",
      "Реальное значение: 290000.00  Предсказанное значение: 212226.02  Разница: 77773.98\n",
      "Реальное значение: 564999.00  Предсказанное значение: 554040.75  Разница: 10958.25\n",
      "Реальное значение: 649000.00  Предсказанное значение: 613745.19  Разница: 35254.81\n",
      "Реальное значение: 235000.00  Предсказанное значение: 274936.66  Разница: 39936.66\n",
      "Реальное значение: 410000.00  Предсказанное значение: 317919.62  Разница: 92080.38\n",
      "Реальное значение: 190000.00  Предсказанное значение: 159827.14  Разница: 30172.86\n"
     ]
    },
    {
     "data": {
      "image/png": "[encoded data removed]",
      "text/plain": [
       "<Figure size 432x432 with 1 Axes>"
      ]
     },
     "metadata": {
      "needs_background": "light"
     },
     "output_type": "display_data"
    }
   ],
   "source": [
    "eval_net(model_simple3, train_features_scal3.astype('float32'), train_target.to_numpy().reshape(-1, 1), scaler)"
   ]
  },
  {
   "cell_type": "code",
   "execution_count": 330,
   "metadata": {
    "colab": {
     "base_uri": "https://localhost:8080/"
    },
    "id": "P48vdHwsVNUD",
    "outputId": "f0c4353c-4b37-454a-e4ff-681f26aa441c"
   },
   "outputs": [
    {
     "data": {
      "text/plain": [
       "531536.2359653127"
      ]
     },
     "execution_count": 330,
     "metadata": {},
     "output_type": "execute_result"
    }
   ],
   "source": [
    "# считаю среднюю цену машины на тестовой выборке\n",
    "test_price_mean=test_target.mean()\n",
    "test_price_mean"
   ]
  },
  {
   "cell_type": "code",
   "execution_count": 331,
   "metadata": {
    "id": "4mftcDircEK5"
   },
   "outputs": [],
   "source": [
    "# считаю предсказания 3-й модели на тестовой выборке\n",
    "pred_test_scaled3 = model_simple3.predict(test_features_scal3.astype('float32'))"
   ]
  },
  {
   "cell_type": "code",
   "execution_count": 332,
   "metadata": {
    "colab": {
     "base_uri": "https://localhost:8080/"
    },
    "id": "I9ZHhneqVNXL",
    "outputId": "5bef6be0-a742-4fe4-ac85-295cf8bcfbdf"
   },
   "outputs": [
    {
     "data": {
      "text/plain": [
       "0.12339375522972548"
      ]
     },
     "execution_count": 332,
     "metadata": {},
     "output_type": "execute_result"
    }
   ],
   "source": [
    "MAE_scaled3=mean_absolute_error(pred_test_scaled3, test_target_scaled)\n",
    "MAE_scaled3"
   ]
  },
  {
   "cell_type": "code",
   "execution_count": 333,
   "metadata": {
    "id": "2u5xX8diVNfp"
   },
   "outputs": [],
   "source": [
    "pred_unscaled3 = scaler.inverse_transform(pred_test_scaled3)"
   ]
  },
  {
   "cell_type": "code",
   "execution_count": 334,
   "metadata": {
    "colab": {
     "base_uri": "https://localhost:8080/"
    },
    "id": "aXi8g586VNlm",
    "outputId": "1bdfe647-2218-4efe-9336-1adf331d4c28"
   },
   "outputs": [
    {
     "data": {
      "text/plain": [
       "79575.22117973407"
      ]
     },
     "execution_count": 334,
     "metadata": {},
     "output_type": "execute_result"
    }
   ],
   "source": [
    "MAE_unscaled3=mean_absolute_error(pred_unscaled3, test_target)\n",
    "MAE_unscaled3"
   ]
  },
  {
   "cell_type": "code",
   "execution_count": 335,
   "metadata": {
    "colab": {
     "base_uri": "https://localhost:8080/"
    },
    "id": "FA1E5BJGVNoR",
    "outputId": "2b0bdff2-0c19-471a-acb0-bd346b3d43be"
   },
   "outputs": [
    {
     "data": {
      "text/plain": [
       "0.14970798940023167"
      ]
     },
     "execution_count": 335,
     "metadata": {},
     "output_type": "execute_result"
    }
   ],
   "source": [
    "# считаю суммарный процент ошибки = средний модуль ошибки (MAE) / среднюю цену машины.\n",
    "result_unscaled3=MAE_unscaled3/test_price_mean\n",
    "result_unscaled3"
   ]
  },
  {
   "cell_type": "markdown",
   "metadata": {
    "id": "U3Bk1WJ2fQBu"
   },
   "source": [
    "Результаты улучшились, по сравнению со второй моделью. MAE уменьшилось с 0.14 до 0.12, суммарный процент ошибки понизился с 0.16 до 0.14. Видно, что мы на правильном пути"
   ]
  },
  {
   "cell_type": "markdown",
   "metadata": {
    "id": "80SBi5TMTyp_"
   },
   "source": [
    "Попробуем поработать с текстом в колонке \"model\", создадим bag of words и embeddings"
   ]
  },
  {
   "cell_type": "code",
   "execution_count": 336,
   "metadata": {
    "colab": {
     "base_uri": "https://localhost:8080/"
    },
    "id": "6R4cz05iel1d",
    "outputId": "b8c015b7-a300-4a22-a90d-b252b4f47ceb"
   },
   "outputs": [
    {
     "data": {
      "text/plain": [
       "52581"
      ]
     },
     "execution_count": 336,
     "metadata": {},
     "output_type": "execute_result"
    }
   ],
   "source": [
    "data_text = train_features_scal['model_full'].values #\n",
    "\n",
    "len(data_text)"
   ]
  },
  {
   "cell_type": "code",
   "execution_count": 337,
   "metadata": {
    "id": "f33PUXjpel4m"
   },
   "outputs": [],
   "source": [
    "# укажем размер словаря, инициализируем Токенайзер с соотв. параметрами, обработаем им нашу переменную data_text\n",
    "maxWordsCount = 1300 \n",
    "\n",
    "sim_for_del='!\"#$%&()*+,-./:;<=>?@[\\\\]^_`{|}~\\t\\n'\n",
    "\n",
    "tokenizer = Tokenizer (num_words=maxWordsCount, \n",
    "                       filters=sim_for_del, \n",
    "                       lower=True, \n",
    "                       split=' ', \n",
    "                       oov_token='unknown', \n",
    "                       char_level=False)\n",
    "\n",
    "tokenizer.fit_on_texts(data_text)"
   ]
  },
  {
   "cell_type": "code",
   "execution_count": 338,
   "metadata": {
    "id": "TvrZEq3bel7h"
   },
   "outputs": [],
   "source": [
    "# Переводим в Эмбеддинг пространство\n",
    "Sequences = tokenizer.texts_to_sequences(data_text)\n",
    "\n",
    "# Вариант  Bag of Words\n",
    "xBOW_text = tokenizer.sequences_to_matrix(Sequences)"
   ]
  },
  {
   "cell_type": "code",
   "execution_count": 339,
   "metadata": {
    "colab": {
     "base_uri": "https://localhost:8080/"
    },
    "id": "GnaoZQtIel-g",
    "outputId": "89d8c8ae-dbd6-438a-a4a8-17f5f5bc388a"
   },
   "outputs": [
    {
     "name": "stdout",
     "output_type": "stream",
     "text": [
      "[('unknown', 1), ('поколение', 2), ('рестайлинг', 3), ('1', 4), ('2', 5), ('3', 6), ('класс', 7), ('5', 8), ('серия', 9), ('focus', 10), ('astra', 11), ('nexia', 12), ('й', 13), ('4', 14), ('6', 15), ('octavia', 16), ('rio', 17), ('e', 18), ('lancer', 19), ('solaris', 20), ('logan', 21), ('passat', 22), ('h', 23), ('matiz', 24), ('7', 25), ('m150', 26), ('c', 27), ('niva', 28), ('family', 29), ('a6', 30), ('x', 31), ('a4', 32), ('200', 33), ('polo', 34), ('pajero', 35), ('cruze', 36), ('cx', 37), ('j300', 38), ('grand', 39), ('ix', 40), ('sportage', 41), ('s', 42), ('corolla', 43), ('308', 44), ('t7', 45), ('lacetti', 46), ('duster', 47), ('x5', 48), ('320', 49), ('v', 50)]\n",
      "Размер словаря 1411\n"
     ]
    }
   ],
   "source": [
    "items = list(tokenizer.word_index.items())       # Получение индексов слов\n",
    "print(items[:50])                                # Посмотр 50 самых часто встречающихся слов\n",
    "print(\"Размер словаря\", len(items))              # Длина словаря"
   ]
  },
  {
   "cell_type": "code",
   "execution_count": 340,
   "metadata": {
    "colab": {
     "base_uri": "https://localhost:8080/"
    },
    "id": "mMuJjeTgemBj",
    "outputId": "6efdd594-80f1-49b3-fde2-602d0296a063"
   },
   "outputs": [
    {
     "name": "stdout",
     "output_type": "stream",
     "text": [
      "c-класс 200 w204/s204/c204 [рестайлинг]\n",
      "[27, 7, 33, 159, 160, 301, 3]\n",
      "[0. 0. 0. 1. 0. 0. 0. 1. 0. 0. 0. 0. 0. 0. 0. 0. 0. 0. 0. 0. 0. 0. 0. 0.\n",
      " 0. 0. 0. 1. 0. 0. 0. 0. 0. 1. 0. 0. 0. 0. 0. 0. 0. 0. 0. 0. 0. 0. 0. 0.\n",
      " 0. 0. 0. 0. 0. 0. 0. 0. 0. 0. 0. 0. 0. 0. 0. 0. 0. 0. 0. 0. 0. 0. 0. 0.\n",
      " 0. 0. 0. 0. 0. 0. 0. 0. 0. 0. 0. 0. 0. 0. 0. 0. 0. 0. 0. 0. 0. 0. 0. 0.\n",
      " 0. 0. 0. 0.]\n"
     ]
    }
   ],
   "source": [
    "# Проверка получившихся данных\n",
    "n = 0\n",
    "print(data_text[n])                       # Профессия в тексте\n",
    "print(Sequences[n])                        # Профессия в индексах слов\n",
    "print(xBOW_text[n][0:100])          # Профессия в bag of words"
   ]
  },
  {
   "cell_type": "code",
   "execution_count": 341,
   "metadata": {
    "colab": {
     "base_uri": "https://localhost:8080/",
     "height": 1000
    },
    "id": "6rabNFNj3qQm",
    "outputId": "3ff1dc50-134b-495b-d314-b25036e34535"
   },
   "outputs": [
    {
     "name": "stdout",
     "output_type": "stream",
     "text": [
      "Epoch 1/150\n",
      "175/175 [==============================] - 1s 6ms/step - loss: 0.9747 - mae: 0.5496 - val_loss: 0.9493 - val_mae: 0.5308\n",
      "Epoch 2/150\n",
      "175/175 [==============================] - 1s 5ms/step - loss: 0.8665 - mae: 0.5018 - val_loss: 0.7814 - val_mae: 0.4483\n",
      "Epoch 3/150\n",
      "175/175 [==============================] - 1s 5ms/step - loss: 0.6706 - mae: 0.4011 - val_loss: 0.5719 - val_mae: 0.3478\n",
      "Epoch 4/150\n",
      "175/175 [==============================] - 1s 5ms/step - loss: 0.5077 - mae: 0.3236 - val_loss: 0.4503 - val_mae: 0.3194\n",
      "Epoch 5/150\n",
      "175/175 [==============================] - 1s 5ms/step - loss: 0.4050 - mae: 0.2764 - val_loss: 0.3637 - val_mae: 0.2692\n",
      "Epoch 6/150\n",
      "175/175 [==============================] - 1s 5ms/step - loss: 0.3423 - mae: 0.2471 - val_loss: 0.3136 - val_mae: 0.2358\n",
      "Epoch 7/150\n",
      "175/175 [==============================] - 1s 5ms/step - loss: 0.3036 - mae: 0.2285 - val_loss: 0.2871 - val_mae: 0.2235\n",
      "Epoch 8/150\n",
      "175/175 [==============================] - 1s 5ms/step - loss: 0.2783 - mae: 0.2164 - val_loss: 0.2689 - val_mae: 0.2124\n",
      "Epoch 9/150\n",
      "175/175 [==============================] - 1s 5ms/step - loss: 0.2604 - mae: 0.2084 - val_loss: 0.2579 - val_mae: 0.2059\n",
      "Epoch 10/150\n",
      "175/175 [==============================] - 1s 5ms/step - loss: 0.2459 - mae: 0.2015 - val_loss: 0.2476 - val_mae: 0.1996\n",
      "Epoch 11/150\n",
      "175/175 [==============================] - 1s 5ms/step - loss: 0.2340 - mae: 0.1958 - val_loss: 0.2420 - val_mae: 0.1981\n",
      "Epoch 12/150\n",
      "175/175 [==============================] - 1s 5ms/step - loss: 0.2240 - mae: 0.1919 - val_loss: 0.2341 - val_mae: 0.1906\n",
      "Epoch 13/150\n",
      "175/175 [==============================] - 1s 5ms/step - loss: 0.2153 - mae: 0.1874 - val_loss: 0.2298 - val_mae: 0.1902\n",
      "Epoch 14/150\n",
      "175/175 [==============================] - 1s 5ms/step - loss: 0.2073 - mae: 0.1848 - val_loss: 0.2237 - val_mae: 0.1867\n",
      "Epoch 15/150\n",
      "175/175 [==============================] - 1s 5ms/step - loss: 0.2006 - mae: 0.1815 - val_loss: 0.2192 - val_mae: 0.1825\n",
      "Epoch 16/150\n",
      "175/175 [==============================] - 1s 5ms/step - loss: 0.1939 - mae: 0.1790 - val_loss: 0.2149 - val_mae: 0.1804\n",
      "Epoch 17/150\n",
      "175/175 [==============================] - 1s 5ms/step - loss: 0.1880 - mae: 0.1765 - val_loss: 0.2114 - val_mae: 0.1811\n",
      "Epoch 18/150\n",
      "175/175 [==============================] - 1s 5ms/step - loss: 0.1822 - mae: 0.1745 - val_loss: 0.2077 - val_mae: 0.1782\n",
      "Epoch 19/150\n",
      "175/175 [==============================] - 1s 5ms/step - loss: 0.1772 - mae: 0.1728 - val_loss: 0.2069 - val_mae: 0.1813\n",
      "Epoch 20/150\n",
      "175/175 [==============================] - 1s 5ms/step - loss: 0.1722 - mae: 0.1712 - val_loss: 0.2006 - val_mae: 0.1733\n",
      "Epoch 21/150\n",
      "175/175 [==============================] - 1s 4ms/step - loss: 0.1678 - mae: 0.1697 - val_loss: 0.1974 - val_mae: 0.1737\n",
      "Epoch 22/150\n",
      "175/175 [==============================] - 1s 5ms/step - loss: 0.1638 - mae: 0.1679 - val_loss: 0.1942 - val_mae: 0.1726\n",
      "Epoch 23/150\n",
      "175/175 [==============================] - 1s 5ms/step - loss: 0.1599 - mae: 0.1671 - val_loss: 0.1933 - val_mae: 0.1745\n",
      "Epoch 24/150\n",
      "175/175 [==============================] - 1s 5ms/step - loss: 0.1560 - mae: 0.1657 - val_loss: 0.1948 - val_mae: 0.1823\n",
      "Epoch 25/150\n",
      "175/175 [==============================] - 1s 5ms/step - loss: 0.1529 - mae: 0.1648 - val_loss: 0.1860 - val_mae: 0.1698\n",
      "Epoch 26/150\n",
      "175/175 [==============================] - 1s 5ms/step - loss: 0.1495 - mae: 0.1638 - val_loss: 0.1829 - val_mae: 0.1683\n",
      "Epoch 27/150\n",
      "175/175 [==============================] - 1s 5ms/step - loss: 0.1464 - mae: 0.1625 - val_loss: 0.1804 - val_mae: 0.1678\n",
      "Epoch 28/150\n",
      "175/175 [==============================] - 1s 5ms/step - loss: 0.1435 - mae: 0.1616 - val_loss: 0.1779 - val_mae: 0.1658\n",
      "Epoch 29/150\n",
      "175/175 [==============================] - 1s 4ms/step - loss: 0.1410 - mae: 0.1605 - val_loss: 0.1772 - val_mae: 0.1697\n",
      "Epoch 30/150\n",
      "175/175 [==============================] - 1s 5ms/step - loss: 0.1382 - mae: 0.1596 - val_loss: 0.1741 - val_mae: 0.1647\n",
      "Epoch 31/150\n",
      "175/175 [==============================] - 1s 5ms/step - loss: 0.1360 - mae: 0.1591 - val_loss: 0.1716 - val_mae: 0.1649\n",
      "Epoch 32/150\n",
      "175/175 [==============================] - 1s 4ms/step - loss: 0.1336 - mae: 0.1581 - val_loss: 0.1698 - val_mae: 0.1638\n",
      "Epoch 33/150\n",
      "175/175 [==============================] - 1s 4ms/step - loss: 0.1315 - mae: 0.1575 - val_loss: 0.1673 - val_mae: 0.1625\n",
      "Epoch 34/150\n",
      "175/175 [==============================] - 1s 5ms/step - loss: 0.1294 - mae: 0.1564 - val_loss: 0.1654 - val_mae: 0.1624\n",
      "Epoch 35/150\n",
      "175/175 [==============================] - 1s 5ms/step - loss: 0.1277 - mae: 0.1561 - val_loss: 0.1637 - val_mae: 0.1623\n",
      "Epoch 36/150\n",
      "175/175 [==============================] - 1s 5ms/step - loss: 0.1257 - mae: 0.1554 - val_loss: 0.1619 - val_mae: 0.1628\n",
      "Epoch 37/150\n",
      "175/175 [==============================] - 1s 5ms/step - loss: 0.1240 - mae: 0.1546 - val_loss: 0.1697 - val_mae: 0.1867\n",
      "Epoch 38/150\n",
      "175/175 [==============================] - 1s 5ms/step - loss: 0.1222 - mae: 0.1547 - val_loss: 0.1573 - val_mae: 0.1594\n",
      "Epoch 39/150\n",
      "175/175 [==============================] - 1s 5ms/step - loss: 0.1206 - mae: 0.1533 - val_loss: 0.1566 - val_mae: 0.1627\n",
      "Epoch 40/150\n",
      "175/175 [==============================] - 1s 5ms/step - loss: 0.1192 - mae: 0.1533 - val_loss: 0.1548 - val_mae: 0.1589\n",
      "Epoch 41/150\n",
      "175/175 [==============================] - 1s 5ms/step - loss: 0.1179 - mae: 0.1522 - val_loss: 0.1530 - val_mae: 0.1584\n",
      "Epoch 42/150\n",
      "175/175 [==============================] - 1s 5ms/step - loss: 0.1164 - mae: 0.1517 - val_loss: 0.1515 - val_mae: 0.1587\n",
      "Epoch 43/150\n",
      "175/175 [==============================] - 1s 5ms/step - loss: 0.1154 - mae: 0.1512 - val_loss: 0.1506 - val_mae: 0.1596\n",
      "Epoch 44/150\n",
      "175/175 [==============================] - 1s 5ms/step - loss: 0.1141 - mae: 0.1508 - val_loss: 0.1493 - val_mae: 0.1600\n",
      "Epoch 45/150\n",
      "175/175 [==============================] - 1s 5ms/step - loss: 0.1132 - mae: 0.1506 - val_loss: 0.1478 - val_mae: 0.1587\n",
      "Epoch 46/150\n",
      "175/175 [==============================] - 1s 5ms/step - loss: 0.1119 - mae: 0.1499 - val_loss: 0.1466 - val_mae: 0.1577\n",
      "Epoch 47/150\n",
      "175/175 [==============================] - 1s 5ms/step - loss: 0.1109 - mae: 0.1498 - val_loss: 0.1444 - val_mae: 0.1566\n",
      "Epoch 48/150\n",
      "175/175 [==============================] - 1s 5ms/step - loss: 0.1100 - mae: 0.1490 - val_loss: 0.1443 - val_mae: 0.1584\n",
      "Epoch 49/150\n",
      "175/175 [==============================] - 1s 5ms/step - loss: 0.1091 - mae: 0.1489 - val_loss: 0.1432 - val_mae: 0.1565\n",
      "Epoch 50/150\n",
      "175/175 [==============================] - 1s 5ms/step - loss: 0.1081 - mae: 0.1483 - val_loss: 0.1432 - val_mae: 0.1613\n",
      "Epoch 51/150\n",
      "175/175 [==============================] - 1s 5ms/step - loss: 0.1074 - mae: 0.1484 - val_loss: 0.1413 - val_mae: 0.1561\n",
      "Epoch 52/150\n",
      "175/175 [==============================] - 1s 5ms/step - loss: 0.1066 - mae: 0.1479 - val_loss: 0.1395 - val_mae: 0.1551\n",
      "Epoch 53/150\n",
      "175/175 [==============================] - 1s 5ms/step - loss: 0.1058 - mae: 0.1474 - val_loss: 0.1396 - val_mae: 0.1562\n",
      "Epoch 54/150\n",
      "175/175 [==============================] - 1s 4ms/step - loss: 0.1050 - mae: 0.1471 - val_loss: 0.1385 - val_mae: 0.1556\n",
      "Epoch 55/150\n",
      "175/175 [==============================] - 1s 5ms/step - loss: 0.1043 - mae: 0.1468 - val_loss: 0.1377 - val_mae: 0.1553\n",
      "Epoch 56/150\n",
      "175/175 [==============================] - 1s 5ms/step - loss: 0.1036 - mae: 0.1464 - val_loss: 0.1375 - val_mae: 0.1556\n",
      "Epoch 57/150\n",
      "175/175 [==============================] - 1s 5ms/step - loss: 0.1030 - mae: 0.1462 - val_loss: 0.1363 - val_mae: 0.1545\n",
      "Epoch 58/150\n",
      "175/175 [==============================] - 1s 5ms/step - loss: 0.1023 - mae: 0.1459 - val_loss: 0.1355 - val_mae: 0.1540\n",
      "Epoch 59/150\n",
      "175/175 [==============================] - 1s 5ms/step - loss: 0.1017 - mae: 0.1455 - val_loss: 0.1356 - val_mae: 0.1561\n",
      "Epoch 60/150\n",
      "175/175 [==============================] - 1s 5ms/step - loss: 0.1010 - mae: 0.1452 - val_loss: 0.1352 - val_mae: 0.1560\n",
      "Epoch 61/150\n",
      "175/175 [==============================] - 1s 5ms/step - loss: 0.1006 - mae: 0.1450 - val_loss: 0.1339 - val_mae: 0.1543\n",
      "Epoch 62/150\n",
      "175/175 [==============================] - 1s 5ms/step - loss: 0.1000 - mae: 0.1447 - val_loss: 0.1332 - val_mae: 0.1547\n",
      "Epoch 63/150\n",
      "175/175 [==============================] - 1s 5ms/step - loss: 0.0995 - mae: 0.1444 - val_loss: 0.1323 - val_mae: 0.1539\n",
      "Epoch 64/150\n",
      "175/175 [==============================] - 1s 5ms/step - loss: 0.0989 - mae: 0.1443 - val_loss: 0.1314 - val_mae: 0.1528\n",
      "Epoch 65/150\n",
      "175/175 [==============================] - 1s 5ms/step - loss: 0.0985 - mae: 0.1441 - val_loss: 0.1314 - val_mae: 0.1531\n",
      "Epoch 66/150\n",
      "175/175 [==============================] - 1s 5ms/step - loss: 0.0981 - mae: 0.1437 - val_loss: 0.1319 - val_mae: 0.1580\n",
      "Epoch 67/150\n",
      "175/175 [==============================] - 1s 5ms/step - loss: 0.0976 - mae: 0.1435 - val_loss: 0.1296 - val_mae: 0.1532\n",
      "Epoch 68/150\n",
      "175/175 [==============================] - 1s 5ms/step - loss: 0.0973 - mae: 0.1436 - val_loss: 0.1285 - val_mae: 0.1521\n",
      "Epoch 69/150\n",
      "175/175 [==============================] - 1s 5ms/step - loss: 0.0968 - mae: 0.1432 - val_loss: 0.1289 - val_mae: 0.1524\n",
      "Epoch 70/150\n",
      "175/175 [==============================] - 1s 5ms/step - loss: 0.0963 - mae: 0.1432 - val_loss: 0.1289 - val_mae: 0.1519\n",
      "Epoch 71/150\n",
      "175/175 [==============================] - 1s 5ms/step - loss: 0.0961 - mae: 0.1429 - val_loss: 0.1286 - val_mae: 0.1527\n",
      "Epoch 72/150\n",
      "175/175 [==============================] - 1s 5ms/step - loss: 0.0957 - mae: 0.1425 - val_loss: 0.1280 - val_mae: 0.1518\n",
      "Epoch 73/150\n",
      "175/175 [==============================] - 1s 5ms/step - loss: 0.0952 - mae: 0.1423 - val_loss: 0.1277 - val_mae: 0.1531\n",
      "Epoch 74/150\n",
      "175/175 [==============================] - 1s 5ms/step - loss: 0.0949 - mae: 0.1422 - val_loss: 0.1262 - val_mae: 0.1511\n",
      "Epoch 75/150\n",
      "175/175 [==============================] - 1s 5ms/step - loss: 0.0946 - mae: 0.1421 - val_loss: 0.1266 - val_mae: 0.1515\n",
      "Epoch 76/150\n",
      "175/175 [==============================] - 1s 5ms/step - loss: 0.0943 - mae: 0.1419 - val_loss: 0.1262 - val_mae: 0.1518\n",
      "Epoch 77/150\n",
      "175/175 [==============================] - 1s 5ms/step - loss: 0.0940 - mae: 0.1418 - val_loss: 0.1262 - val_mae: 0.1515\n",
      "Epoch 78/150\n",
      "175/175 [==============================] - 1s 5ms/step - loss: 0.0936 - mae: 0.1414 - val_loss: 0.1266 - val_mae: 0.1546\n",
      "Epoch 79/150\n",
      "175/175 [==============================] - 1s 5ms/step - loss: 0.0934 - mae: 0.1413 - val_loss: 0.1254 - val_mae: 0.1531\n",
      "Epoch 80/150\n",
      "175/175 [==============================] - 1s 5ms/step - loss: 0.0930 - mae: 0.1412 - val_loss: 0.1242 - val_mae: 0.1508\n",
      "Epoch 81/150\n",
      "175/175 [==============================] - 1s 5ms/step - loss: 0.0929 - mae: 0.1411 - val_loss: 0.1247 - val_mae: 0.1518\n",
      "Epoch 82/150\n",
      "175/175 [==============================] - 1s 5ms/step - loss: 0.0927 - mae: 0.1409 - val_loss: 0.1238 - val_mae: 0.1502\n",
      "Epoch 83/150\n",
      "175/175 [==============================] - 1s 5ms/step - loss: 0.0921 - mae: 0.1408 - val_loss: 0.1245 - val_mae: 0.1512\n",
      "Epoch 84/150\n",
      "175/175 [==============================] - 1s 5ms/step - loss: 0.0921 - mae: 0.1409 - val_loss: 0.1240 - val_mae: 0.1503\n",
      "Epoch 85/150\n",
      "175/175 [==============================] - 1s 5ms/step - loss: 0.0918 - mae: 0.1403 - val_loss: 0.1248 - val_mae: 0.1528\n",
      "Epoch 86/150\n",
      "175/175 [==============================] - 1s 5ms/step - loss: 0.0915 - mae: 0.1403 - val_loss: 0.1242 - val_mae: 0.1510\n",
      "Epoch 87/150\n",
      "175/175 [==============================] - 1s 5ms/step - loss: 0.0912 - mae: 0.1401 - val_loss: 0.1227 - val_mae: 0.1503\n",
      "Epoch 88/150\n",
      "175/175 [==============================] - 1s 5ms/step - loss: 0.0910 - mae: 0.1401 - val_loss: 0.1230 - val_mae: 0.1501\n",
      "Epoch 89/150\n",
      "175/175 [==============================] - 1s 5ms/step - loss: 0.0908 - mae: 0.1398 - val_loss: 0.1233 - val_mae: 0.1510\n",
      "Epoch 90/150\n",
      "175/175 [==============================] - 1s 5ms/step - loss: 0.0906 - mae: 0.1397 - val_loss: 0.1225 - val_mae: 0.1501\n",
      "Epoch 91/150\n",
      "175/175 [==============================] - 1s 5ms/step - loss: 0.0903 - mae: 0.1396 - val_loss: 0.1227 - val_mae: 0.1517\n",
      "Epoch 92/150\n",
      "175/175 [==============================] - 1s 5ms/step - loss: 0.0903 - mae: 0.1395 - val_loss: 0.1227 - val_mae: 0.1504\n",
      "Epoch 93/150\n",
      "175/175 [==============================] - 1s 6ms/step - loss: 0.0900 - mae: 0.1395 - val_loss: 0.1237 - val_mae: 0.1549\n",
      "Epoch 94/150\n",
      "175/175 [==============================] - 1s 5ms/step - loss: 0.0897 - mae: 0.1393 - val_loss: 0.1225 - val_mae: 0.1520\n",
      "Epoch 95/150\n",
      "175/175 [==============================] - 1s 5ms/step - loss: 0.0896 - mae: 0.1392 - val_loss: 0.1216 - val_mae: 0.1496\n",
      "Epoch 96/150\n",
      "175/175 [==============================] - 1s 5ms/step - loss: 0.0894 - mae: 0.1393 - val_loss: 0.1221 - val_mae: 0.1499\n",
      "Epoch 97/150\n",
      "175/175 [==============================] - 1s 5ms/step - loss: 0.0893 - mae: 0.1389 - val_loss: 0.1217 - val_mae: 0.1505\n",
      "Epoch 98/150\n",
      "175/175 [==============================] - 1s 5ms/step - loss: 0.0890 - mae: 0.1389 - val_loss: 0.1225 - val_mae: 0.1527\n",
      "Epoch 99/150\n",
      "175/175 [==============================] - 1s 5ms/step - loss: 0.0888 - mae: 0.1388 - val_loss: 0.1212 - val_mae: 0.1498\n",
      "Epoch 100/150\n",
      "175/175 [==============================] - 1s 5ms/step - loss: 0.0887 - mae: 0.1386 - val_loss: 0.1209 - val_mae: 0.1501\n",
      "Epoch 101/150\n",
      "175/175 [==============================] - 1s 5ms/step - loss: 0.0885 - mae: 0.1386 - val_loss: 0.1224 - val_mae: 0.1537\n",
      "Epoch 102/150\n",
      "175/175 [==============================] - 1s 5ms/step - loss: 0.0884 - mae: 0.1385 - val_loss: 0.1212 - val_mae: 0.1501\n",
      "Epoch 103/150\n",
      "175/175 [==============================] - 1s 5ms/step - loss: 0.0882 - mae: 0.1383 - val_loss: 0.1213 - val_mae: 0.1513\n",
      "Epoch 104/150\n",
      "175/175 [==============================] - 1s 5ms/step - loss: 0.0880 - mae: 0.1382 - val_loss: 0.1210 - val_mae: 0.1510\n",
      "Epoch 105/150\n",
      "175/175 [==============================] - 1s 5ms/step - loss: 0.0881 - mae: 0.1385 - val_loss: 0.1206 - val_mae: 0.1502\n",
      "Epoch 106/150\n",
      "175/175 [==============================] - 1s 5ms/step - loss: 0.0878 - mae: 0.1381 - val_loss: 0.1203 - val_mae: 0.1485\n",
      "Epoch 107/150\n",
      "175/175 [==============================] - 1s 5ms/step - loss: 0.0876 - mae: 0.1379 - val_loss: 0.1236 - val_mae: 0.1592\n",
      "Epoch 108/150\n",
      "175/175 [==============================] - 1s 5ms/step - loss: 0.0876 - mae: 0.1381 - val_loss: 0.1205 - val_mae: 0.1492\n",
      "Epoch 109/150\n",
      "175/175 [==============================] - 1s 5ms/step - loss: 0.0873 - mae: 0.1378 - val_loss: 0.1213 - val_mae: 0.1503\n",
      "Epoch 110/150\n",
      "175/175 [==============================] - 1s 5ms/step - loss: 0.0873 - mae: 0.1378 - val_loss: 0.1202 - val_mae: 0.1493\n",
      "Epoch 111/150\n",
      "175/175 [==============================] - 1s 5ms/step - loss: 0.0871 - mae: 0.1377 - val_loss: 0.1212 - val_mae: 0.1544\n",
      "Epoch 112/150\n",
      "175/175 [==============================] - 1s 5ms/step - loss: 0.0870 - mae: 0.1378 - val_loss: 0.1201 - val_mae: 0.1498\n",
      "Epoch 113/150\n",
      "175/175 [==============================] - 1s 5ms/step - loss: 0.0869 - mae: 0.1376 - val_loss: 0.1197 - val_mae: 0.1487\n",
      "Epoch 114/150\n",
      "175/175 [==============================] - 1s 5ms/step - loss: 0.0867 - mae: 0.1375 - val_loss: 0.1199 - val_mae: 0.1498\n",
      "Epoch 115/150\n",
      "175/175 [==============================] - 1s 5ms/step - loss: 0.0866 - mae: 0.1374 - val_loss: 0.1196 - val_mae: 0.1491\n",
      "Epoch 116/150\n",
      "175/175 [==============================] - 1s 5ms/step - loss: 0.0865 - mae: 0.1375 - val_loss: 0.1196 - val_mae: 0.1493\n",
      "Epoch 117/150\n",
      "175/175 [==============================] - 1s 6ms/step - loss: 0.0863 - mae: 0.1374 - val_loss: 0.1194 - val_mae: 0.1488\n",
      "Epoch 118/150\n",
      "175/175 [==============================] - 1s 5ms/step - loss: 0.0862 - mae: 0.1371 - val_loss: 0.1198 - val_mae: 0.1491\n",
      "Epoch 119/150\n",
      "175/175 [==============================] - 1s 5ms/step - loss: 0.0860 - mae: 0.1373 - val_loss: 0.1191 - val_mae: 0.1487\n",
      "Epoch 120/150\n",
      "175/175 [==============================] - 1s 5ms/step - loss: 0.0860 - mae: 0.1370 - val_loss: 0.1191 - val_mae: 0.1485\n",
      "Epoch 121/150\n",
      "175/175 [==============================] - 1s 5ms/step - loss: 0.0859 - mae: 0.1371 - val_loss: 0.1191 - val_mae: 0.1490\n",
      "Epoch 122/150\n",
      "175/175 [==============================] - 1s 6ms/step - loss: 0.0859 - mae: 0.1370 - val_loss: 0.1192 - val_mae: 0.1485\n",
      "Epoch 123/150\n",
      "175/175 [==============================] - 1s 5ms/step - loss: 0.0858 - mae: 0.1369 - val_loss: 0.1195 - val_mae: 0.1485\n",
      "Epoch 124/150\n",
      "175/175 [==============================] - 1s 5ms/step - loss: 0.0856 - mae: 0.1368 - val_loss: 0.1193 - val_mae: 0.1484\n",
      "Epoch 125/150\n",
      "175/175 [==============================] - 1s 5ms/step - loss: 0.0855 - mae: 0.1367 - val_loss: 0.1195 - val_mae: 0.1488\n",
      "Epoch 126/150\n",
      "175/175 [==============================] - 1s 5ms/step - loss: 0.0854 - mae: 0.1367 - val_loss: 0.1188 - val_mae: 0.1480\n",
      "Epoch 127/150\n",
      "175/175 [==============================] - 1s 5ms/step - loss: 0.0852 - mae: 0.1364 - val_loss: 0.1193 - val_mae: 0.1481\n",
      "Epoch 128/150\n",
      "175/175 [==============================] - 1s 4ms/step - loss: 0.0852 - mae: 0.1364 - val_loss: 0.1190 - val_mae: 0.1486\n",
      "Epoch 129/150\n",
      "175/175 [==============================] - 1s 5ms/step - loss: 0.0851 - mae: 0.1366 - val_loss: 0.1191 - val_mae: 0.1493\n",
      "Epoch 130/150\n",
      "175/175 [==============================] - 1s 5ms/step - loss: 0.0850 - mae: 0.1362 - val_loss: 0.1188 - val_mae: 0.1479\n",
      "Epoch 131/150\n",
      "175/175 [==============================] - 1s 5ms/step - loss: 0.0850 - mae: 0.1363 - val_loss: 0.1191 - val_mae: 0.1489\n",
      "Epoch 132/150\n",
      "175/175 [==============================] - 1s 5ms/step - loss: 0.0848 - mae: 0.1363 - val_loss: 0.1186 - val_mae: 0.1481\n",
      "Epoch 133/150\n",
      "175/175 [==============================] - 1s 5ms/step - loss: 0.0848 - mae: 0.1361 - val_loss: 0.1183 - val_mae: 0.1482\n",
      "Epoch 134/150\n",
      "175/175 [==============================] - 1s 5ms/step - loss: 0.0847 - mae: 0.1361 - val_loss: 0.1184 - val_mae: 0.1481\n",
      "Epoch 135/150\n",
      "175/175 [==============================] - 1s 5ms/step - loss: 0.0847 - mae: 0.1360 - val_loss: 0.1183 - val_mae: 0.1478\n",
      "Epoch 136/150\n",
      "175/175 [==============================] - 1s 5ms/step - loss: 0.0846 - mae: 0.1361 - val_loss: 0.1182 - val_mae: 0.1477\n",
      "Epoch 137/150\n",
      "175/175 [==============================] - 1s 5ms/step - loss: 0.0844 - mae: 0.1360 - val_loss: 0.1191 - val_mae: 0.1492\n",
      "Epoch 138/150\n",
      "175/175 [==============================] - 1s 5ms/step - loss: 0.0844 - mae: 0.1360 - val_loss: 0.1183 - val_mae: 0.1481\n",
      "Epoch 139/150\n",
      "175/175 [==============================] - 1s 5ms/step - loss: 0.0842 - mae: 0.1359 - val_loss: 0.1183 - val_mae: 0.1475\n",
      "Epoch 140/150\n",
      "175/175 [==============================] - 1s 5ms/step - loss: 0.0841 - mae: 0.1359 - val_loss: 0.1189 - val_mae: 0.1484\n",
      "Epoch 141/150\n",
      "175/175 [==============================] - 1s 5ms/step - loss: 0.0841 - mae: 0.1356 - val_loss: 0.1180 - val_mae: 0.1480\n",
      "Epoch 142/150\n",
      "175/175 [==============================] - 1s 5ms/step - loss: 0.0840 - mae: 0.1358 - val_loss: 0.1178 - val_mae: 0.1478\n",
      "Epoch 143/150\n",
      "175/175 [==============================] - 1s 5ms/step - loss: 0.0840 - mae: 0.1356 - val_loss: 0.1183 - val_mae: 0.1480\n",
      "Epoch 144/150\n",
      "175/175 [==============================] - 1s 5ms/step - loss: 0.0838 - mae: 0.1355 - val_loss: 0.1183 - val_mae: 0.1485\n",
      "Epoch 145/150\n",
      "175/175 [==============================] - 1s 5ms/step - loss: 0.0839 - mae: 0.1355 - val_loss: 0.1182 - val_mae: 0.1481\n",
      "Epoch 146/150\n",
      "175/175 [==============================] - 1s 5ms/step - loss: 0.0837 - mae: 0.1355 - val_loss: 0.1182 - val_mae: 0.1480\n",
      "Epoch 147/150\n",
      "175/175 [==============================] - 1s 5ms/step - loss: 0.0837 - mae: 0.1354 - val_loss: 0.1180 - val_mae: 0.1477\n",
      "Epoch 148/150\n",
      "175/175 [==============================] - 1s 5ms/step - loss: 0.0836 - mae: 0.1352 - val_loss: 0.1179 - val_mae: 0.1480\n",
      "Epoch 149/150\n",
      "175/175 [==============================] - 1s 5ms/step - loss: 0.0835 - mae: 0.1354 - val_loss: 0.1173 - val_mae: 0.1476\n",
      "Epoch 150/150\n",
      "175/175 [==============================] - 1s 5ms/step - loss: 0.0835 - mae: 0.1353 - val_loss: 0.1174 - val_mae: 0.1473\n"
     ]
    },
    {
     "data": {
      "image/png": "[encoded data removed]",
      "text/plain": [
       "<Figure size 432x288 with 1 Axes>"
      ]
     },
     "metadata": {
      "needs_background": "light"
     },
     "output_type": "display_data"
    }
   ],
   "source": [
    "\n",
    "# Обучение модели на текстовых данных (bag of words)\n",
    "\n",
    "model_prof = Sequential()\n",
    "model_prof.add(Dense(20, activation='relu', input_dim=xBOW_text.shape[1]))\n",
    "model_prof.add(Dense(500, activation='relu'))\n",
    "model_prof.add(Dense(1, activation='linear'))\n",
    "\n",
    "model_prof.compile(optimizer=Adagrad(learning_rate=1e-2), loss='mse', metrics=['mae'])\n",
    "\n",
    "history = model_prof.fit(xBOW_text, \n",
    "                    train_target_scaled, \n",
    "                    batch_size=256,\n",
    "                    epochs=150, \n",
    "                    validation_split=0.15, \n",
    "                    verbose=1)\n",
    "\n",
    "plot_history(history)"
   ]
  },
  {
   "cell_type": "code",
   "execution_count": 342,
   "metadata": {
    "colab": {
     "base_uri": "https://localhost:8080/",
     "height": 600
    },
    "id": "QZx2fw0g3qTZ",
    "outputId": "59da08b7-dca2-4822-8075-ab9591cdc9a3"
   },
   "outputs": [
    {
     "name": "stdout",
     "output_type": "stream",
     "text": [
      "Средняя абсолютная ошибка: 85460.90992060862 \n",
      "\n",
      "Реальное значение: 860000.00  Предсказанное значение: 888498.69  Разница: 28498.69\n",
      "Реальное значение: 115000.00  Предсказанное значение: 84265.67  Разница: 30734.33\n",
      "Реальное значение: 440000.00  Предсказанное значение: 495716.00  Разница: 55716.00\n",
      "Реальное значение: 545000.00  Предсказанное значение: 475664.91  Разница: 69335.09\n",
      "Реальное значение: 290000.00  Предсказанное значение: 207440.52  Разница: 82559.48\n",
      "Реальное значение: 564999.00  Предсказанное значение: 389870.19  Разница: 175128.81\n",
      "Реальное значение: 649000.00  Предсказанное значение: 745773.19  Разница: 96773.19\n",
      "Реальное значение: 235000.00  Предсказанное значение: 139754.23  Разница: 95245.77\n",
      "Реальное значение: 410000.00  Предсказанное значение: 423208.12  Разница: 13208.12\n",
      "Реальное значение: 190000.00  Предсказанное значение: 132996.36  Разница: 57003.64\n"
     ]
    },
    {
     "data": {
      "image/png": "[encoded data removed]",
      "text/plain": [
       "<Figure size 432x432 with 1 Axes>"
      ]
     },
     "metadata": {
      "needs_background": "light"
     },
     "output_type": "display_data"
    }
   ],
   "source": [
    "eval_net(model_prof, xBOW_text, train_target.to_numpy().reshape(-1, 1), scaler)"
   ]
  },
  {
   "cell_type": "code",
   "execution_count": 343,
   "metadata": {
    "id": "9agVtcJVAwne"
   },
   "outputs": [],
   "source": [
    "data_text_test = test_features_scal['model_full'].values #\n",
    "\n",
    "len(data_text_test)\n",
    "tokenizer.fit_on_texts(data_text_test)\n",
    "# Переводим в Эмбеддинг пространство\n",
    "Sequences_test = tokenizer.texts_to_sequences(data_text_test)\n",
    "\n",
    "# Вариант  Bag of Words\n",
    "xBOW_text_test = tokenizer.sequences_to_matrix(Sequences_test)"
   ]
  },
  {
   "cell_type": "code",
   "execution_count": 344,
   "metadata": {
    "colab": {
     "base_uri": "https://localhost:8080/"
    },
    "id": "lWINdmuW3qWP",
    "outputId": "5f042d5e-934f-49bf-b694-21ece79a9ca3"
   },
   "outputs": [
    {
     "name": "stdout",
     "output_type": "stream",
     "text": [
      "MAE нормир 0.7363905165050971\n"
     ]
    }
   ],
   "source": [
    "# считаю предсказания 3-й модели на тестовой выборке\n",
    "pred_test_scaled4 = model_prof.predict(xBOW_text_test)\n",
    "MAE_scaled4=mean_absolute_error(pred_test_scaled4, test_target_scaled)\n",
    "print('MAE нормир', MAE_scaled4)\n"
   ]
  },
  {
   "cell_type": "code",
   "execution_count": 345,
   "metadata": {
    "id": "2JXPQNpU3qa-"
   },
   "outputs": [],
   "source": [
    "pred_unscaled4 = scaler.inverse_transform(pred_test_scaled4)\n"
   ]
  },
  {
   "cell_type": "code",
   "execution_count": 346,
   "metadata": {
    "colab": {
     "base_uri": "https://localhost:8080/"
    },
    "id": "1D5j2aWSFG0-",
    "outputId": "49070cc1-799a-44be-f5b3-3aa174706b22"
   },
   "outputs": [
    {
     "name": "stdout",
     "output_type": "stream",
     "text": [
      "MAE ненормир 474889.8175856966\n"
     ]
    }
   ],
   "source": [
    "# считаю суммарный процент ошибки = средний модуль ошибки (MAE) / среднюю цену машины.\n",
    "MAE_unscaled4=mean_absolute_error(pred_unscaled4, test_target)\n",
    "print('MAE ненормир', MAE_unscaled4)\n"
   ]
  },
  {
   "cell_type": "code",
   "execution_count": 347,
   "metadata": {
    "colab": {
     "base_uri": "https://localhost:8080/"
    },
    "id": "SkYulUEmFG37",
    "outputId": "e4bc7812-2279-4d62-d9c1-addd58affb6b"
   },
   "outputs": [
    {
     "name": "stdout",
     "output_type": "stream",
     "text": [
      "суммарный процент ошибки 4 модели 0.8934288679740872\n"
     ]
    }
   ],
   "source": [
    "result_unscaled4=MAE_unscaled4/test_price_mean\n",
    "print('суммарный процент ошибки 4 модели', result_unscaled4)"
   ]
  },
  {
   "cell_type": "markdown",
   "metadata": {
    "id": "6_y_Z5DJFE1U"
   },
   "source": [
    "Скажем так, 4 модель не улучшила показатели. \n",
    "\n",
    "В финальной части мы создадим сложную нелинейную архитектуру нейронной сети. Мы создадим модель, у которой будет два входных набора данных:\n",
    "\n",
    "- числовой набор (это наша третья выборка)\n",
    "- текстовый набор (набор, содержащий информацию о моделях)"
   ]
  },
  {
   "cell_type": "code",
   "execution_count": 348,
   "metadata": {
    "id": "IYt2kUkrFG86"
   },
   "outputs": [],
   "source": [
    "input1 = Input((train_features_scal3.astype('float32').shape[1],))\n",
    "input2 = Input((xBOW_text.shape[1],))\n",
    "\n",
    "\n",
    "x1 = input1                               # Ветка 1\n",
    "x1 = Dense(128, activation=\"relu\")(x1)\n",
    "x1 = Dense(1000, activation=\"tanh\")(x1)\n",
    "x1 = Dense(100, activation=\"relu\")(x1)\n",
    "\n",
    "x2 = input2                               # Ветка 2\n",
    "x2 = Dense(20, activation=\"relu\")(x2)\n",
    "x2 = Dense(500, activation=\"relu\")(x2)\n",
    "x2 = Dropout(0.3)(x2)\n",
    "\n",
    "\n",
    "\n",
    "x = concatenate([x1, x2])             # Объединение двух веток\n",
    "\n",
    "x = Dense(15, activation='relu')(x)       # Промежуточный слой\n",
    "x = Dropout(0.5)(x)\n",
    "x = Dense(1, activation='linear')(x)      # Финальный регрессирующий нейрон\n",
    "\n",
    "# В Model передаются входы и выход\n",
    "model_final = Model((input1, input2), x)"
   ]
  },
  {
   "cell_type": "code",
   "execution_count": 349,
   "metadata": {
    "colab": {
     "base_uri": "https://localhost:8080/",
     "height": 480
    },
    "id": "QBCq7xeTFG_W",
    "outputId": "cee9522c-eebe-4525-d0be-bef643b4d36e"
   },
   "outputs": [
    {
     "data": {
      "image/png": "[encoded data removed]",
      "text/plain": [
       "<IPython.core.display.Image object>"
      ]
     },
     "execution_count": 349,
     "metadata": {},
     "output_type": "execute_result"
    }
   ],
   "source": [
    "utils.plot_model(model_final, dpi=60)"
   ]
  },
  {
   "cell_type": "code",
   "execution_count": 350,
   "metadata": {
    "colab": {
     "base_uri": "https://localhost:8080/"
    },
    "id": "eUryAIFoFHBj",
    "outputId": "17123f0c-afa2-4901-d4a9-389b03e8459d"
   },
   "outputs": [
    {
     "name": "stdout",
     "output_type": "stream",
     "text": [
      "Epoch 1/50\n",
      "175/175 [==============================] - 2s 9ms/step - loss: 1.0062 - mae: 0.5632 - val_loss: 1.0105 - val_mae: 0.5554\n",
      "Epoch 2/50\n",
      "175/175 [==============================] - 1s 7ms/step - loss: 0.9982 - mae: 0.5604 - val_loss: 1.0105 - val_mae: 0.5547\n",
      "Epoch 3/50\n",
      "175/175 [==============================] - 1s 7ms/step - loss: 0.9982 - mae: 0.5600 - val_loss: 1.0105 - val_mae: 0.5550\n",
      "Epoch 4/50\n",
      "175/175 [==============================] - 1s 7ms/step - loss: 0.9982 - mae: 0.5607 - val_loss: 1.0105 - val_mae: 0.5549\n",
      "Epoch 5/50\n",
      "175/175 [==============================] - 1s 7ms/step - loss: 0.9982 - mae: 0.5596 - val_loss: 1.0105 - val_mae: 0.5552\n",
      "Epoch 6/50\n",
      "175/175 [==============================] - 1s 7ms/step - loss: 0.9982 - mae: 0.5605 - val_loss: 1.0105 - val_mae: 0.5553\n",
      "Epoch 7/50\n",
      "175/175 [==============================] - 1s 7ms/step - loss: 0.9982 - mae: 0.5596 - val_loss: 1.0105 - val_mae: 0.5557\n",
      "Epoch 8/50\n",
      "175/175 [==============================] - 1s 7ms/step - loss: 0.9982 - mae: 0.5603 - val_loss: 1.0105 - val_mae: 0.5557\n",
      "Epoch 9/50\n",
      "175/175 [==============================] - 1s 7ms/step - loss: 0.9982 - mae: 0.5608 - val_loss: 1.0104 - val_mae: 0.5534\n",
      "Epoch 10/50\n",
      "175/175 [==============================] - 1s 7ms/step - loss: 0.9982 - mae: 0.5592 - val_loss: 1.0105 - val_mae: 0.5560\n",
      "Epoch 11/50\n",
      "175/175 [==============================] - 1s 7ms/step - loss: 0.9982 - mae: 0.5597 - val_loss: 1.0106 - val_mae: 0.5566\n",
      "Epoch 12/50\n",
      "175/175 [==============================] - 1s 7ms/step - loss: 0.9982 - mae: 0.5606 - val_loss: 1.0105 - val_mae: 0.5557\n",
      "Epoch 13/50\n",
      "175/175 [==============================] - 1s 7ms/step - loss: 0.9982 - mae: 0.5598 - val_loss: 1.0105 - val_mae: 0.5555\n",
      "Epoch 14/50\n",
      "175/175 [==============================] - 1s 7ms/step - loss: 0.9982 - mae: 0.5596 - val_loss: 1.0106 - val_mae: 0.5573\n",
      "Epoch 15/50\n",
      "175/175 [==============================] - 1s 7ms/step - loss: 0.9982 - mae: 0.5604 - val_loss: 1.0105 - val_mae: 0.5563\n",
      "Epoch 16/50\n",
      "175/175 [==============================] - 1s 7ms/step - loss: 0.9982 - mae: 0.5605 - val_loss: 1.0105 - val_mae: 0.5561\n",
      "Epoch 17/50\n",
      "175/175 [==============================] - 1s 7ms/step - loss: 0.9982 - mae: 0.5600 - val_loss: 1.0105 - val_mae: 0.5548\n",
      "Epoch 18/50\n",
      "175/175 [==============================] - 1s 7ms/step - loss: 0.9982 - mae: 0.5604 - val_loss: 1.0105 - val_mae: 0.5550\n",
      "Epoch 19/50\n",
      "175/175 [==============================] - 1s 7ms/step - loss: 0.9982 - mae: 0.5604 - val_loss: 1.0104 - val_mae: 0.5540\n",
      "Epoch 20/50\n",
      "175/175 [==============================] - 1s 7ms/step - loss: 0.9982 - mae: 0.5592 - val_loss: 1.0105 - val_mae: 0.5562\n",
      "Epoch 21/50\n",
      "175/175 [==============================] - 1s 7ms/step - loss: 0.9982 - mae: 0.5603 - val_loss: 1.0105 - val_mae: 0.5558\n",
      "Epoch 22/50\n",
      "175/175 [==============================] - 1s 7ms/step - loss: 0.9982 - mae: 0.5597 - val_loss: 1.0106 - val_mae: 0.5568\n",
      "Epoch 23/50\n",
      "175/175 [==============================] - 1s 7ms/step - loss: 0.9982 - mae: 0.5606 - val_loss: 1.0105 - val_mae: 0.5553\n",
      "Epoch 24/50\n",
      "175/175 [==============================] - 1s 7ms/step - loss: 0.9982 - mae: 0.5603 - val_loss: 1.0105 - val_mae: 0.5550\n",
      "Epoch 25/50\n",
      "175/175 [==============================] - 1s 7ms/step - loss: 0.9982 - mae: 0.5604 - val_loss: 1.0105 - val_mae: 0.5555\n",
      "Epoch 26/50\n",
      "175/175 [==============================] - 1s 7ms/step - loss: 0.9982 - mae: 0.5599 - val_loss: 1.0105 - val_mae: 0.5552\n",
      "Epoch 27/50\n",
      "175/175 [==============================] - 1s 7ms/step - loss: 0.9982 - mae: 0.5606 - val_loss: 1.0105 - val_mae: 0.5553\n",
      "Epoch 28/50\n",
      "175/175 [==============================] - 1s 7ms/step - loss: 0.9982 - mae: 0.5597 - val_loss: 1.0105 - val_mae: 0.5554\n",
      "Epoch 29/50\n",
      "175/175 [==============================] - 1s 7ms/step - loss: 0.9982 - mae: 0.5611 - val_loss: 1.0104 - val_mae: 0.5536\n",
      "Epoch 30/50\n",
      "175/175 [==============================] - 1s 7ms/step - loss: 0.9982 - mae: 0.5593 - val_loss: 1.0104 - val_mae: 0.5543\n",
      "Epoch 31/50\n",
      "175/175 [==============================] - 1s 7ms/step - loss: 0.9982 - mae: 0.5597 - val_loss: 1.0105 - val_mae: 0.5555\n",
      "Epoch 32/50\n",
      "175/175 [==============================] - 1s 7ms/step - loss: 0.9982 - mae: 0.5608 - val_loss: 1.0105 - val_mae: 0.5548\n",
      "Epoch 33/50\n",
      "175/175 [==============================] - 1s 7ms/step - loss: 0.9982 - mae: 0.5601 - val_loss: 1.0105 - val_mae: 0.5549\n",
      "Epoch 34/50\n",
      "175/175 [==============================] - 1s 7ms/step - loss: 0.9982 - mae: 0.5603 - val_loss: 1.0105 - val_mae: 0.5548\n",
      "Epoch 35/50\n",
      "175/175 [==============================] - 1s 7ms/step - loss: 0.9982 - mae: 0.5604 - val_loss: 1.0105 - val_mae: 0.5546\n",
      "Epoch 36/50\n",
      "175/175 [==============================] - 1s 7ms/step - loss: 0.9982 - mae: 0.5591 - val_loss: 1.0106 - val_mae: 0.5569\n",
      "Epoch 37/50\n",
      "175/175 [==============================] - 1s 7ms/step - loss: 0.9982 - mae: 0.5607 - val_loss: 1.0105 - val_mae: 0.5548\n",
      "Epoch 38/50\n",
      "175/175 [==============================] - 1s 7ms/step - loss: 0.9982 - mae: 0.5592 - val_loss: 1.0105 - val_mae: 0.5563\n",
      "Epoch 39/50\n",
      "175/175 [==============================] - 1s 7ms/step - loss: 0.9982 - mae: 0.5610 - val_loss: 1.0105 - val_mae: 0.5547\n",
      "Epoch 40/50\n",
      "175/175 [==============================] - 1s 7ms/step - loss: 0.9982 - mae: 0.5609 - val_loss: 1.0104 - val_mae: 0.5537\n",
      "Epoch 41/50\n",
      "175/175 [==============================] - 1s 7ms/step - loss: 0.9982 - mae: 0.5583 - val_loss: 1.0106 - val_mae: 0.5570\n",
      "Epoch 42/50\n",
      "175/175 [==============================] - 1s 7ms/step - loss: 0.9982 - mae: 0.5603 - val_loss: 1.0106 - val_mae: 0.5574\n",
      "Epoch 43/50\n",
      "175/175 [==============================] - 1s 7ms/step - loss: 0.9982 - mae: 0.5603 - val_loss: 1.0105 - val_mae: 0.5556\n",
      "Epoch 44/50\n",
      "175/175 [==============================] - 1s 7ms/step - loss: 0.9982 - mae: 0.5601 - val_loss: 1.0105 - val_mae: 0.5562\n",
      "Epoch 45/50\n",
      "175/175 [==============================] - 1s 7ms/step - loss: 0.9982 - mae: 0.5604 - val_loss: 1.0105 - val_mae: 0.5550\n",
      "Epoch 46/50\n",
      "175/175 [==============================] - 1s 7ms/step - loss: 0.9982 - mae: 0.5594 - val_loss: 1.0106 - val_mae: 0.5570\n",
      "Epoch 47/50\n",
      "175/175 [==============================] - 1s 7ms/step - loss: 0.9982 - mae: 0.5604 - val_loss: 1.0105 - val_mae: 0.5553\n",
      "Epoch 48/50\n",
      "175/175 [==============================] - 1s 7ms/step - loss: 0.9982 - mae: 0.5604 - val_loss: 1.0106 - val_mae: 0.5565\n",
      "Epoch 49/50\n",
      "175/175 [==============================] - 1s 7ms/step - loss: 0.9982 - mae: 0.5604 - val_loss: 1.0105 - val_mae: 0.5553\n",
      "Epoch 50/50\n",
      "175/175 [==============================] - 1s 7ms/step - loss: 0.9982 - mae: 0.5596 - val_loss: 1.0105 - val_mae: 0.5558\n"
     ]
    }
   ],
   "source": [
    "model_final.compile(optimizer=Adam(learning_rate=1e-3), loss='mse', metrics=['mae'])\n",
    "\n",
    "history = model_final.fit([train_features_scal3.astype('float32'), xBOW_text], \n",
    "                           train_target_scaled,\n",
    "                           batch_size=256, \n",
    "                           epochs=50, \n",
    "                           validation_split=0.15,\n",
    "                           verbose=1)"
   ]
  },
  {
   "cell_type": "code",
   "execution_count": 351,
   "metadata": {
    "colab": {
     "base_uri": "https://localhost:8080/",
     "height": 600
    },
    "id": "iNwjM0EJZwyJ",
    "outputId": "fbd042d9-806b-4bd5-dd85-93feb1cc5cb4"
   },
   "outputs": [
    {
     "name": "stdout",
     "output_type": "stream",
     "text": [
      "Средняя абсолютная ошибка: 347629.78838839126 \n",
      "\n",
      "Реальное значение: 860000.00  Предсказанное значение: 533059.75  Разница: 326940.25\n",
      "Реальное значение: 115000.00  Предсказанное значение: 533059.75  Разница: 418059.75\n",
      "Реальное значение: 440000.00  Предсказанное значение: 533059.75  Разница: 93059.75\n",
      "Реальное значение: 545000.00  Предсказанное значение: 533059.75  Разница: 11940.25\n",
      "Реальное значение: 290000.00  Предсказанное значение: 533059.75  Разница: 243059.75\n",
      "Реальное значение: 564999.00  Предсказанное значение: 533059.75  Разница: 31939.25\n",
      "Реальное значение: 649000.00  Предсказанное значение: 533059.75  Разница: 115940.25\n",
      "Реальное значение: 235000.00  Предсказанное значение: 533059.75  Разница: 298059.75\n",
      "Реальное значение: 410000.00  Предсказанное значение: 533059.75  Разница: 123059.75\n",
      "Реальное значение: 190000.00  Предсказанное значение: 533059.75  Разница: 343059.75\n"
     ]
    },
    {
     "data": {
      "image/png": "[encoded data removed]",
      "text/plain": [
       "<Figure size 432x432 with 1 Axes>"
      ]
     },
     "metadata": {
      "needs_background": "light"
     },
     "output_type": "display_data"
    }
   ],
   "source": [
    "eval_net(model_final, [train_features_scal3.astype('float32'), xBOW_text], train_target.to_numpy().reshape(-1, 1), scaler)\n",
    "#eval_net(model_prof, xBOW_text, train_target.to_numpy().reshape(-1, 1), scaler)"
   ]
  },
  {
   "cell_type": "markdown",
   "metadata": {
    "id": "16oVOEpPMvfY"
   },
   "source": [
    "К сожалению, и этот эксперимент не улучшил результаты 3-й модели. Можно было бы еще продолжить эксперименты со структурой третьей модели, постараться улучшить  среднюю ошибку, но оставим это на другой раз ))\n"
   ]
  },
  {
   "cell_type": "code",
   "execution_count": 351,
   "metadata": {
    "id": "9xgHFU9vYoLX"
   },
   "outputs": [],
   "source": []
  },
  {
   "cell_type": "code",
   "execution_count": 351,
   "metadata": {
    "id": "Jt6Rfpc18yiI"
   },
   "outputs": [],
   "source": []
  },
  {
   "cell_type": "code",
   "execution_count": 351,
   "metadata": {
    "id": "ss4JsATp8ykh"
   },
   "outputs": [],
   "source": []
  },
  {
   "cell_type": "code",
   "execution_count": 351,
   "metadata": {
    "id": "PS4yvgch8ynP"
   },
   "outputs": [],
   "source": []
  },
  {
   "cell_type": "code",
   "execution_count": 351,
   "metadata": {
    "id": "oV_UNu5k8yqI"
   },
   "outputs": [],
   "source": []
  },
  {
   "cell_type": "code",
   "execution_count": 351,
   "metadata": {
    "id": "GjUSrWmN8ytG"
   },
   "outputs": [],
   "source": []
  },
  {
   "cell_type": "code",
   "execution_count": 351,
   "metadata": {
    "id": "wOkMQg9I8yxi"
   },
   "outputs": [],
   "source": []
  },
  {
   "cell_type": "code",
   "execution_count": 351,
   "metadata": {
    "id": "Q3RQRpp38y0V"
   },
   "outputs": [],
   "source": []
  },
  {
   "cell_type": "code",
   "execution_count": 351,
   "metadata": {
    "id": "K7A6x4r98y3X"
   },
   "outputs": [],
   "source": []
  },
  {
   "cell_type": "code",
   "execution_count": 351,
   "metadata": {
    "id": "FQkp_OXr8y6L"
   },
   "outputs": [],
   "source": []
  },
  {
   "cell_type": "code",
   "execution_count": 351,
   "metadata": {
    "id": "ox1qo1Bf8y86"
   },
   "outputs": [],
   "source": []
  },
  {
   "cell_type": "code",
   "execution_count": 351,
   "metadata": {
    "id": "DdFG2BAL8y_g"
   },
   "outputs": [],
   "source": []
  },
  {
   "cell_type": "code",
   "execution_count": 351,
   "metadata": {
    "id": "XdaWRgFZ8zCJ"
   },
   "outputs": [],
   "source": []
  },
  {
   "cell_type": "code",
   "execution_count": 351,
   "metadata": {
    "id": "KN8bkeWWg-6z"
   },
   "outputs": [],
   "source": []
  },
  {
   "cell_type": "code",
   "execution_count": 351,
   "metadata": {
    "id": "iTb1C1Vmg-9k"
   },
   "outputs": [],
   "source": []
  },
  {
   "cell_type": "code",
   "execution_count": 351,
   "metadata": {
    "id": "RSRNAm_Pg_AC"
   },
   "outputs": [],
   "source": []
  },
  {
   "cell_type": "code",
   "execution_count": 351,
   "metadata": {
    "id": "M1I35gD_VgXq"
   },
   "outputs": [],
   "source": []
  },
  {
   "cell_type": "code",
   "execution_count": 351,
   "metadata": {
    "id": "eWwjF4-LVgaK"
   },
   "outputs": [],
   "source": []
  },
  {
   "cell_type": "code",
   "execution_count": 351,
   "metadata": {
    "id": "9sL4ZQs8VgdO"
   },
   "outputs": [],
   "source": []
  },
  {
   "cell_type": "code",
   "execution_count": 351,
   "metadata": {
    "id": "8ZlK2j9NHmv5"
   },
   "outputs": [],
   "source": []
  },
  {
   "cell_type": "code",
   "execution_count": 351,
   "metadata": {
    "id": "JNO1tvck4CU1"
   },
   "outputs": [],
   "source": []
  },
  {
   "cell_type": "code",
   "execution_count": 351,
   "metadata": {
    "id": "wiFLu3nonWtV"
   },
   "outputs": [],
   "source": []
  },
  {
   "cell_type": "code",
   "execution_count": 351,
   "metadata": {
    "id": "GjBn4hL0nWwL"
   },
   "outputs": [],
   "source": []
  },
  {
   "cell_type": "code",
   "execution_count": 351,
   "metadata": {
    "id": "x6oKhd_mnWzL"
   },
   "outputs": [],
   "source": []
  },
  {
   "cell_type": "code",
   "execution_count": 351,
   "metadata": {
    "id": "cvlAHZa1nW2A"
   },
   "outputs": [],
   "source": []
  },
  {
   "cell_type": "code",
   "execution_count": 351,
   "metadata": {
    "id": "RHCAb47ynW3-"
   },
   "outputs": [],
   "source": []
  },
  {
   "cell_type": "code",
   "execution_count": 351,
   "metadata": {
    "id": "N0VwnRmGB3Z2"
   },
   "outputs": [],
   "source": []
  }
 ],
 "metadata": {
  "accelerator": "GPU",
  "colab": {
   "collapsed_sections": [],
   "name": "д.з. | Решение задачи регрессии с помощью нейронных сетей | ДЗ Ultra Pro | УИИ",
   "provenance": []
  },
  "kernelspec": {
   "display_name": "Python 3 (ipykernel)",
   "language": "python",
   "name": "python3"
  },
  "language_info": {
   "codemirror_mode": {
    "name": "ipython",
    "version": 3
   },
   "file_extension": ".py",
   "mimetype": "text/x-python",
   "name": "python",
   "nbconvert_exporter": "python",
   "pygments_lexer": "ipython3",
   "version": "3.9.7"
  }
 },
 "nbformat": 4,
 "nbformat_minor": 1
}

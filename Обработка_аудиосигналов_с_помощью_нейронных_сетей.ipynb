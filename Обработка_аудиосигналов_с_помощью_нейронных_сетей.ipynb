{
 "cells": [
  {
   "cell_type": "markdown",
   "metadata": {
    "id": "ia9OUPn4fjFP"
   },
   "source": [
    "\n",
    "В данном задании стоят следующие задачи:\n",
    "\n",
    "1. Ознакомиться с датасетом образцов эмоциональной речи\n",
    "\n",
    "    **Toronto emotional speech set (TESS)**:\n",
    "\n",
    "    https://dataverse.scholarsportal.info/dataset.xhtml?persistentId=doi:10.5683/SP2/E8H2MF\n",
    "\n",
    "    Ссылка для загрузки данных: https://storage.googleapis.com/datasets_ai/Base/12_audio/dataverse_files.zip\n",
    "\n",
    "2. Разобрать датасет;\n",
    "3. Подготовить и разделить данные на обучающие и тестовые;\n",
    "4. Разработать классификатор, показывающий на тесте точность распознавания эмоции не менее 98%;\n",
    "5. Ознакомиться с другим датасетом похожего содержания\n",
    "\n",
    "    **Surrey Audio-Visual Expressed Emotion (SAVEE)**:\n",
    "\n",
    "    https://www.kaggle.com/ejlok1/surrey-audiovisual-expressed-emotion-savee\n",
    "\n",
    "    Ссылка для загрузки данных: https://storage.googleapis.com/datasets_ai/Base/12_audio/archive.zip\n",
    "\n",
    "6. Прогнать обученный классификатор на файлах из датасета **SAVEE** по нашему выбору;\n",
    "7. Сделать выводы."
   ]
  },
  {
   "cell_type": "code",
   "execution_count": 1,
   "metadata": {
    "id": "25Iv-DFV-JIR"
   },
   "outputs": [],
   "source": [
    "# Массивы\n",
    "import numpy as np\n",
    "\n",
    "# Отрисовка графиков\n",
    "import matplotlib.pyplot as plt\n",
    "\n",
    "# Связь с google диском\n",
    "from google.colab import drive\n",
    "\n",
    "# Загрузка из google облака\n",
    "import gdown\n",
    "\n",
    "# Преобразование категориальных данных в one hot encoding\n",
    "from tensorflow.keras.utils import to_categorical\n",
    "\n",
    "# Работа с папками и файлами\n",
    "import os\n",
    "\n",
    "# Утилиты работы со временем\n",
    "import time\n",
    "\n",
    "# Работа со случайными числами\n",
    "import random\n",
    "\n",
    "# Математические функции\n",
    "import math\n",
    "\n",
    "# Сохранение и загрузка структур данных Python\n",
    "import pickle\n",
    "\n",
    "# Параметризация аудио\n",
    "import librosa\n",
    "\n",
    "# Оптимизаторы для обучения моделей\n",
    "from tensorflow.keras.optimizers import Adam, RMSprop\n",
    "\n",
    "# Конструирование и загрузка моделей нейронных сетей\n",
    "from tensorflow.keras.models import Sequential, Model, load_model\n",
    "\n",
    "# Основные слои\n",
    "from tensorflow.keras.layers import concatenate, Input, Dense, Dropout, BatchNormalization, Flatten, Conv1D, Conv2D, LSTM\n",
    "\n",
    "# Разбиение на обучающую и проверочную выборку\n",
    "from sklearn.model_selection import train_test_split\n",
    "\n",
    "# Кодирование категориальных меток, нормирование числовых данных\n",
    "from sklearn.preprocessing import LabelEncoder, StandardScaler\n",
    "\n",
    "# Матрица ошибок классификатора\n",
    "from sklearn.metrics import confusion_matrix, ConfusionMatrixDisplay\n",
    "\n",
    "# Отключение предупреждений\n",
    "import warnings\n",
    "warnings.filterwarnings('ignore')\n",
    "\n",
    "%matplotlib inline "
   ]
  },
  {
   "cell_type": "code",
   "execution_count": 2,
   "metadata": {
    "colab": {
     "base_uri": "https://localhost:8080/",
     "height": 35
    },
    "id": "yGOdLluB-JLB",
    "outputId": "02fd867c-bb6a-43c6-9785-1f7a1efe0e8e"
   },
   "outputs": [
    {
     "data": {
      "application/vnd.google.colaboratory.intrinsic+json": {
       "type": "string"
      },
      "text/plain": [
       "'dataverse_files.zip'"
      ]
     },
     "execution_count": 2,
     "metadata": {},
     "output_type": "execute_result"
    }
   ],
   "source": [
    "# Загрузка датасета из облака\n",
    "gdown.download('https://storage.googleapis.com/datasets_ai/Base/12_audio/dataverse_files.zip', None, quiet=True)"
   ]
  },
  {
   "cell_type": "code",
   "execution_count": 3,
   "metadata": {
    "id": "OGistNeA-JOA"
   },
   "outputs": [],
   "source": [
    "# Распаковка архива на локальный диск colab\n",
    "!unzip -qo dataverse_files.zip -d /content/emotions\n"
   ]
  },
  {
   "cell_type": "code",
   "execution_count": 4,
   "metadata": {
    "id": "tGy_141ZWiau"
   },
   "outputs": [],
   "source": [
    "# удалим лишний текстовый файл из директории\n",
    "!rm -rf '/content/emotions/MANIFEST.TXT'"
   ]
  },
  {
   "cell_type": "code",
   "execution_count": 5,
   "metadata": {
    "colab": {
     "base_uri": "https://localhost:8080/"
    },
    "id": "DTRlPMY5WUlg",
    "outputId": "49a984e3-69dc-4dc6-8477-fbfdc9c8da66"
   },
   "outputs": [
    {
     "name": "stdout",
     "output_type": "stream",
     "text": [
      "/content/emotions/OAF_back_angry.wav\n"
     ]
    }
   ],
   "source": [
    "# Проверка содержимого \n",
    "!ls /content/emotions/OAF_back_angry.wav"
   ]
  },
  {
   "cell_type": "code",
   "execution_count": 6,
   "metadata": {
    "id": "qdxFGmViJfqc"
   },
   "outputs": [],
   "source": [
    "# выделим категории в датасете\n",
    "CLASS_LIST=['angry', 'disgust', 'fear', 'happy', 'neutral', 'ps', 'sad']"
   ]
  },
  {
   "cell_type": "code",
   "execution_count": 7,
   "metadata": {
    "id": "CSzH9w6g-JTg"
   },
   "outputs": [],
   "source": [
    "FILE_DIR = '/content/emotions/'                     # Папка с файлами датасета\n",
    "CLASS_LIST.sort()                         # Сортировка списка классов для фиксации порядка меток\n",
    "CLASS_COUNT = len(CLASS_LIST)             # Количество классов\n",
    "CLASS_FILES = 400                         # Общее количество файлов в каждом классе\n",
    "FILE_INDEX_TRAIN_SPLIT = 90               # Количество файлов каждого класса на основной набор\n",
    "VALIDATION_SPLIT = 0.1                    # Доля проверочной выборки в основном наборе\n",
    "DURATION_SEC = 30                         # Анализируемая длительность аудиосигнала\n",
    "N_FFT = 8192                              # Размер окна преобразования Фурье для расчета спектра\n",
    "HOP_LENGTH = 512                          # Объем данных для расчета одного набора признаков"
   ]
  },
  {
   "cell_type": "code",
   "execution_count": 8,
   "metadata": {
    "colab": {
     "base_uri": "https://localhost:8080/"
    },
    "id": "sbIVq8RW-JWk",
    "outputId": "4a139c77-55a9-431d-cddd-33f03f48eb7c"
   },
   "outputs": [
    {
     "name": "stdout",
     "output_type": "stream",
     "text": [
      "['angry', 'disgust', 'fear', 'happy', 'neutral', 'ps', 'sad']\n"
     ]
    }
   ],
   "source": [
    "# Проверка списка классов\n",
    "print(CLASS_LIST)"
   ]
  },
  {
   "cell_type": "code",
   "execution_count": 9,
   "metadata": {
    "colab": {
     "base_uri": "https://localhost:8080/"
    },
    "id": "nDWE1XJYVxmU",
    "outputId": "84927052-c892-494d-a98f-cee562165197"
   },
   "outputs": [
    {
     "data": {
      "text/plain": [
       "2800"
      ]
     },
     "execution_count": 9,
     "metadata": {},
     "output_type": "execute_result"
    }
   ],
   "source": [
    "emotions=len(os.listdir(FILE_DIR))\n",
    "emotions"
   ]
  },
  {
   "cell_type": "code",
   "execution_count": 10,
   "metadata": {
    "id": "mTtiTTtP-Jb3"
   },
   "outputs": [],
   "source": [
    "# Загрузка датасета. Добавляются имена классов и соответствующие имена файлов\n",
    "class_angry = []\n",
    "class_disgust = []\n",
    "class_fear = []\n",
    "class_happy = []\n",
    "class_neutral = []\n",
    "class_ps = []\n",
    "class_sad = []\n",
    "\n",
    "#for file_name in FILE_DIR:\n",
    "for file_name in os.listdir(FILE_DIR):\n",
    "    # Выделение имени класса из имени файла\n",
    "  #if file_name.str.contains(\"angry\"):\n",
    "  if \"angry\" in file_name:\n",
    "      class_angry.append(file_name)\n",
    "  if \"disgust\" in file_name:\n",
    "      class_disgust.append(file_name)\n",
    "  if \"fear\" in file_name:\n",
    "      class_fear.append(file_name)\n",
    "  if \"happy\" in file_name:\n",
    "      class_happy.append(file_name)\n",
    "  if \"neutral\" in file_name:\n",
    "      class_neutral.append(file_name)\n",
    "  if \"ps\" in file_name:\n",
    "      class_ps.append(file_name)\n",
    "  if \"sad\" in file_name:\n",
    "      class_sad.append(file_name)\n"
   ]
  },
  {
   "cell_type": "code",
   "execution_count": 11,
   "metadata": {
    "id": "ygzxUqYuT44M"
   },
   "outputs": [],
   "source": [
    "#Функция параметризации аудио\n",
    "def get_features(y, sr):\n",
    "  #Получаем различные параметры аудио\n",
    "  chroma_stft = librosa.feature.chroma_stft(y=y, sr=sr) #Частота цветности (по умолчанию 12 баков цветности)\n",
    "  mfcc = librosa.feature.mfcc(y=y, sr=sr) #Мел кепстральные коэффициенты (по умолчанию 20)\n",
    "  \n",
    "  rmse = np.mean(librosa.feature.rms(y=y)) #Среднеквадратичная амплитуда\n",
    "  spec_cent = np.mean(librosa.feature.spectral_centroid(y=y, sr=sr)) #среднее спектральныго центроида\n",
    "  spec_bw = np.mean(librosa.feature.spectral_bandwidth(y=y, sr=sr)) #среднее ширины полосы частот\n",
    "  rolloff = np.mean(librosa.feature.spectral_rolloff(y=y, sr=sr)) #среднее спектрального спада частоты\n",
    "  zcr = np.mean(librosa.feature.zero_crossing_rate(y)) #среднее частота пересечения нуля звукового временного ряда\n",
    "  \n",
    "  \n",
    "  #Добавляем все параметры в один список\n",
    "  out = [] # создаем пустой список\n",
    "  out.append(rmse) #  добавляем среднеквадратичную амплитуду\n",
    "  out.append(spec_cent) #добавляем спектральный центроид\n",
    "  out.append(spec_bw) # добавляем ширину полосы частот\n",
    "  out.append(rolloff) # добавляем спектральный спад частоты\n",
    "  out.append(zcr) # добавляем пересечение нуля\n",
    "  \n",
    "  #добавляем среднее всех Мел спектральных коэффициентов (20 значений)\n",
    "  for e in mfcc:\n",
    "    out.append(np.mean(e))\n",
    "\n",
    "  #добавляем среднее всех Частот цветности (12 значений)\n",
    "  for e in chroma_stft:\n",
    "    out.append(np.mean(e))\n",
    "  \n",
    "  #Возвращаем получившийся список размерностью (37,)\n",
    "  return out"
   ]
  },
  {
   "cell_type": "code",
   "execution_count": 12,
   "metadata": {
    "id": "TDXPIG2CT47P"
   },
   "outputs": [],
   "source": [
    "X_train = []\n",
    "\n",
    "#Проходим по файлам папки\n",
    "for file_name in os.listdir(FILE_DIR):\n",
    "#Загружаем в y аудиосигнал\n",
    "#Используем первые 30 секунд аудио\n",
    "  y, sr = librosa.load( '/content/emotions/' + file_name, mono=True, duration=30) #y - массив данных временного ряда аудио, sr - частота дискретизации временного ряда\n",
    "    #Превращаем сигнал в параметризованные данные\n",
    "  out = get_features(y, sr)\n",
    "    \n",
    "    #Добавляем строку в X_train\n",
    "  X_train.append(out)\n",
    "\n",
    "#Превращаем обучающую выборку на numpy массивы\n",
    "X_train = np.array(X_train)"
   ]
  },
  {
   "cell_type": "code",
   "execution_count": 15,
   "metadata": {
    "colab": {
     "base_uri": "https://localhost:8080/"
    },
    "id": "8mTab_SVEBfj",
    "outputId": "82cf27ab-d84d-452b-a022-c03ddd7eb73c"
   },
   "outputs": [
    {
     "data": {
      "text/plain": [
       "37"
      ]
     },
     "execution_count": 15,
     "metadata": {},
     "output_type": "execute_result"
    }
   ],
   "source": [
    "len(X_train[0])"
   ]
  },
  {
   "cell_type": "code",
   "execution_count": 19,
   "metadata": {
    "id": "Ee32AYMKT49w"
   },
   "outputs": [],
   "source": [
    "Y_train=[]\n",
    "for file_name in os.listdir(FILE_DIR):\n",
    "    # Выделение имени класса из имени файла\n",
    "  #if file_name.str.contains(\"angry\"):\n",
    "  if \"angry\" in file_name:\n",
    "      Y_train.append(0)\n",
    "  if \"disgust\" in file_name:\n",
    "      Y_train.append(1)\n",
    "  if \"fear\" in file_name:\n",
    "      Y_train.append(2)\n",
    "  if \"happy\" in file_name:\n",
    "      Y_train.append(3)\n",
    "  if \"neutral\" in file_name:\n",
    "      Y_train.append(4)\n",
    "  if \"ps\" in file_name:\n",
    "      Y_train.append(5)\n",
    "  if \"sad\" in file_name:\n",
    "      Y_train.append(6)\n",
    "#Превращаем ответы  в numpy массивы\n",
    "Y_train = np.array(Y_train)"
   ]
  },
  {
   "cell_type": "code",
   "execution_count": 21,
   "metadata": {
    "id": "qRXNb1KOT5An"
   },
   "outputs": [],
   "source": [
    "#Создаём backup обучающей выборки\n",
    "X_train_backup = X_train.copy()\n",
    "Y_train_backup = Y_train.copy()"
   ]
  },
  {
   "cell_type": "code",
   "execution_count": 24,
   "metadata": {
    "id": "yhAlyUVoFB4R"
   },
   "outputs": [],
   "source": [
    "Y_train= np.array(Y_train.reshape(-1, 1))"
   ]
  },
  {
   "cell_type": "code",
   "execution_count": 25,
   "metadata": {
    "colab": {
     "base_uri": "https://localhost:8080/"
    },
    "id": "Lf8fC4XST5Dr",
    "outputId": "36dffa0f-ebc0-4e02-da07-b33dd69cd865"
   },
   "outputs": [
    {
     "name": "stdout",
     "output_type": "stream",
     "text": [
      "(2800, 37)\n",
      "(2800, 1)\n"
     ]
    }
   ],
   "source": [
    "#Выводим размеры обучающей выборки\n",
    "print(X_train.shape)\n",
    "print(Y_train.shape)\n",
    "#print(y_train_class.shape)"
   ]
  },
  {
   "cell_type": "code",
   "execution_count": 26,
   "metadata": {
    "colab": {
     "base_uri": "https://localhost:8080/"
    },
    "id": "NWOvJwPeT5GR",
    "outputId": "8cdeaa54-06a3-490c-ebcf-e1b76e854443"
   },
   "outputs": [
    {
     "data": {
      "text/plain": [
       "array([[2],\n",
       "       [1],\n",
       "       [6],\n",
       "       ...,\n",
       "       [3],\n",
       "       [3],\n",
       "       [1]])"
      ]
     },
     "execution_count": 26,
     "metadata": {},
     "output_type": "execute_result"
    }
   ],
   "source": [
    "Y_train"
   ]
  },
  {
   "cell_type": "code",
   "execution_count": 27,
   "metadata": {
    "id": "sF8-NRpYT5Ix"
   },
   "outputs": [],
   "source": [
    "#Создаём scaler экземпляр класса StandardScaler() для нормировки данных\n",
    "scaler = StandardScaler()\n",
    "#Номируем X_train\n",
    "X_train = scaler.fit_transform(X_train)"
   ]
  },
  {
   "cell_type": "code",
   "execution_count": 28,
   "metadata": {
    "id": "DXn8qBJNG1Na"
   },
   "outputs": [],
   "source": [
    "#Разделяем выборку на обучающую и проверочную\n",
    "#Для проверочной используем 10% примеров\n",
    "#Так как база маленькая\n",
    "X_train, X_test, y_train, y_test = train_test_split(X_train, Y_train, test_size=0.15)"
   ]
  },
  {
   "cell_type": "code",
   "execution_count": 29,
   "metadata": {
    "colab": {
     "base_uri": "https://localhost:8080/"
    },
    "id": "niwUSzRnG1Qv",
    "outputId": "442d322b-2e0d-4b12-a820-7e7472d68a4b"
   },
   "outputs": [
    {
     "name": "stdout",
     "output_type": "stream",
     "text": [
      "(2380, 37)\n",
      "(420, 37)\n",
      "(2380, 1)\n",
      "(420, 1)\n"
     ]
    }
   ],
   "source": [
    "print(X_train.shape)\n",
    "print(X_test.shape)\n",
    "print(y_train.shape)\n",
    "print(y_test.shape)"
   ]
  },
  {
   "cell_type": "markdown",
   "metadata": {
    "id": "0HEqdVXMKA0B"
   },
   "source": [
    "##Создаём нейронку"
   ]
  },
  {
   "cell_type": "code",
   "execution_count": 33,
   "metadata": {
    "colab": {
     "base_uri": "https://localhost:8080/",
     "height": 959
    },
    "id": "hi5dyuGPG1T2",
    "outputId": "177c879b-6cd5-45b7-ce4e-79c8242b6176"
   },
   "outputs": [
    {
     "name": "stdout",
     "output_type": "stream",
     "text": [
      "Epoch 1/20\n",
      "119/119 [==============================] - 1s 3ms/step - loss: 1.9895 - accuracy: 0.2286 - val_loss: 1.6735 - val_accuracy: 0.3595\n",
      "Epoch 2/20\n",
      "119/119 [==============================] - 0s 2ms/step - loss: 1.4181 - accuracy: 0.5202 - val_loss: 1.1945 - val_accuracy: 0.6762\n",
      "Epoch 3/20\n",
      "119/119 [==============================] - 0s 2ms/step - loss: 1.0255 - accuracy: 0.7630 - val_loss: 0.8637 - val_accuracy: 0.8571\n",
      "Epoch 4/20\n",
      "119/119 [==============================] - 0s 2ms/step - loss: 0.7611 - accuracy: 0.8559 - val_loss: 0.6413 - val_accuracy: 0.8952\n",
      "Epoch 5/20\n",
      "119/119 [==============================] - 0s 4ms/step - loss: 0.5795 - accuracy: 0.8945 - val_loss: 0.4898 - val_accuracy: 0.9071\n",
      "Epoch 6/20\n",
      "119/119 [==============================] - 0s 2ms/step - loss: 0.4527 - accuracy: 0.9193 - val_loss: 0.3821 - val_accuracy: 0.9357\n",
      "Epoch 7/20\n",
      "119/119 [==============================] - 0s 2ms/step - loss: 0.3627 - accuracy: 0.9311 - val_loss: 0.3082 - val_accuracy: 0.9476\n",
      "Epoch 8/20\n",
      "119/119 [==============================] - 0s 2ms/step - loss: 0.2973 - accuracy: 0.9433 - val_loss: 0.2530 - val_accuracy: 0.9667\n",
      "Epoch 9/20\n",
      "119/119 [==============================] - 0s 2ms/step - loss: 0.2489 - accuracy: 0.9513 - val_loss: 0.2122 - val_accuracy: 0.9714\n",
      "Epoch 10/20\n",
      "119/119 [==============================] - 0s 2ms/step - loss: 0.2116 - accuracy: 0.9584 - val_loss: 0.1795 - val_accuracy: 0.9738\n",
      "Epoch 11/20\n",
      "119/119 [==============================] - 0s 2ms/step - loss: 0.1821 - accuracy: 0.9643 - val_loss: 0.1551 - val_accuracy: 0.9738\n",
      "Epoch 12/20\n",
      "119/119 [==============================] - 0s 2ms/step - loss: 0.1590 - accuracy: 0.9706 - val_loss: 0.1355 - val_accuracy: 0.9786\n",
      "Epoch 13/20\n",
      "119/119 [==============================] - 0s 2ms/step - loss: 0.1401 - accuracy: 0.9739 - val_loss: 0.1207 - val_accuracy: 0.9810\n",
      "Epoch 14/20\n",
      "119/119 [==============================] - 0s 3ms/step - loss: 0.1244 - accuracy: 0.9752 - val_loss: 0.1048 - val_accuracy: 0.9833\n",
      "Epoch 15/20\n",
      "119/119 [==============================] - 0s 2ms/step - loss: 0.1115 - accuracy: 0.9782 - val_loss: 0.0939 - val_accuracy: 0.9881\n",
      "Epoch 16/20\n",
      "119/119 [==============================] - 0s 2ms/step - loss: 0.1006 - accuracy: 0.9807 - val_loss: 0.0839 - val_accuracy: 0.9881\n",
      "Epoch 17/20\n",
      "119/119 [==============================] - 0s 2ms/step - loss: 0.0912 - accuracy: 0.9836 - val_loss: 0.0759 - val_accuracy: 0.9905\n",
      "Epoch 18/20\n",
      "119/119 [==============================] - 0s 2ms/step - loss: 0.0833 - accuracy: 0.9840 - val_loss: 0.0693 - val_accuracy: 0.9905\n",
      "Epoch 19/20\n",
      "119/119 [==============================] - 0s 2ms/step - loss: 0.0767 - accuracy: 0.9861 - val_loss: 0.0636 - val_accuracy: 0.9905\n",
      "Epoch 20/20\n",
      "119/119 [==============================] - 0s 2ms/step - loss: 0.0704 - accuracy: 0.9874 - val_loss: 0.0589 - val_accuracy: 0.9905\n"
     ]
    },
    {
     "data": {
      "image/png": "[encoded data removed]",
      "text/plain": [
       "<Figure size 432x288 with 1 Axes>"
      ]
     },
     "metadata": {
      "needs_background": "light"
     },
     "output_type": "display_data"
    }
   ],
   "source": [
    "#Указываем, какие индексы данных во входных векторах брать для обучения\n",
    "#Делаем это для того, чтобы можно было экспериментировать\n",
    "#И обучать не на всех колонках данных, а на части\n",
    "indexes = range(0,37)\n",
    "\n",
    "#Создаём полносвязанную сеть \n",
    "model = Sequential()\n",
    "model.add(Dense(64, activation='elu', input_shape=(len(indexes),)))\n",
    "#model.add(Dense(128, activation='elu'))\n",
    "#model.add(Dense(64, activation='elu'))\n",
    "model.add(Dense(32, activation='elu'))\n",
    "#В конце количество нейронов равно количеству классов и softmax\n",
    "model.add(Dense(CLASS_COUNT, activation='softmax'))\n",
    "\n",
    "#Компилируем сеть\n",
    "model.compile(optimizer=RMSprop(lr=1e-4),\n",
    "              loss='sparse_categorical_crossentropy',\n",
    "              metrics=['accuracy'])\n",
    "\n",
    "#Обучаем\n",
    "history = model.fit(X_train[:, indexes],\n",
    "                    y_train,\n",
    "                    epochs=20,\n",
    "                    batch_size=20,\n",
    "                    validation_data=(X_test[:, indexes], y_test))\n",
    "\n",
    "#Выводим график точности распознавания на обучающей и проверочной выборках\n",
    "plt.plot(history.history[\"accuracy\"])\n",
    "plt.plot(history.history[\"val_accuracy\"])\n",
    "plt.show()"
   ]
  },
  {
   "cell_type": "markdown",
   "metadata": {
    "id": "2eh58dD1LvUo"
   },
   "source": [
    "Итак, мы обучили модель, получили точность на проверочной выборке 99%, протестируем теперь нашу модель на новых данных"
   ]
  },
  {
   "cell_type": "code",
   "execution_count": 117,
   "metadata": {
    "colab": {
     "base_uri": "https://localhost:8080/",
     "height": 35
    },
    "id": "2KAsBBJGG1bs",
    "outputId": "40e94987-a459-40a0-fc55-9a5faf6a6b79"
   },
   "outputs": [
    {
     "data": {
      "application/vnd.google.colaboratory.intrinsic+json": {
       "type": "string"
      },
      "text/plain": [
       "'archive.zip'"
      ]
     },
     "execution_count": 117,
     "metadata": {},
     "output_type": "execute_result"
    }
   ],
   "source": [
    "# Загрузка датасета из облака\n",
    "gdown.download('https://storage.googleapis.com/datasets_ai/Base/12_audio/archive.zip', None, quiet=True)"
   ]
  },
  {
   "cell_type": "code",
   "execution_count": 118,
   "metadata": {
    "id": "9KAgMUJkG1Wl"
   },
   "outputs": [],
   "source": [
    "# Распаковка архива на локальный диск colab\n",
    "!unzip -qo archive.zip -d /content/archive"
   ]
  },
  {
   "cell_type": "code",
   "execution_count": 119,
   "metadata": {
    "colab": {
     "base_uri": "https://localhost:8080/"
    },
    "id": "HkHiYtDPG1e-",
    "outputId": "be26834e-d681-44c1-b7c0-06acbe442706"
   },
   "outputs": [
    {
     "name": "stdout",
     "output_type": "stream",
     "text": [
      "/content/archive/ALL/DC_a01.wav\n"
     ]
    }
   ],
   "source": [
    "# Проверка содержимого \n",
    "!ls /content/archive/ALL/DC_a01.wav"
   ]
  },
  {
   "cell_type": "markdown",
   "metadata": {
    "id": "wVsPrEgxRNst"
   },
   "source": [
    "в новом датасете у нас всего 6 эмоций: anger, disgust, fear, happiness, sadness and surprise.\n",
    "\n",
    "а в изначальном у нас их было 7: anger, disgust, fear, happiness, pleasant surprise, sadness, and neutral"
   ]
  },
  {
   "cell_type": "code",
   "execution_count": 120,
   "metadata": {
    "id": "-5lsSpPYRNMc"
   },
   "outputs": [],
   "source": [
    "# выделим категории в датасете\n",
    "CLASS_LIST_NEW=['angry', 'disgust', 'fear', 'happy', 'ps', 'sad', 'neutral']\n",
    "# выделим категории в датасете\n",
    "DURATION_SEC_NEW = 30   \n",
    "CLASS_LIST_COUNT_NEW=len(CLASS_LIST_NEW)\n",
    "FILE_DIR_NEW = '/content/archive/ALL/' "
   ]
  },
  {
   "cell_type": "code",
   "execution_count": 121,
   "metadata": {
    "colab": {
     "base_uri": "https://localhost:8080/"
    },
    "id": "B_A1FAtNQm4U",
    "outputId": "8536966f-3435-49ee-d986-18b5a195ba08"
   },
   "outputs": [
    {
     "data": {
      "text/plain": [
       "480"
      ]
     },
     "execution_count": 121,
     "metadata": {},
     "output_type": "execute_result"
    }
   ],
   "source": [
    "archive=len(os.listdir(FILE_DIR_NEW))\n",
    "archive"
   ]
  },
  {
   "cell_type": "code",
   "execution_count": 122,
   "metadata": {
    "id": "OvOTlD0lQm9J"
   },
   "outputs": [],
   "source": [
    "X_archive = []\n",
    "\n",
    "#Проходим по файлам папки\n",
    "for file_name in os.listdir(FILE_DIR_NEW):\n",
    "#Загружаем в y аудиосигнал\n",
    "#Используем первые 30 секунд аудио\n",
    "  y, sr = librosa.load( '/content/archive/ALL/' + file_name, mono=True, duration=30) #y - массив данных временного ряда аудио, sr - частота дискретизации временного ряда\n",
    "    #Превращаем сигнал в параметризованные данные\n",
    "  out = get_features(y, sr)\n",
    "    \n",
    "    #Добавляем строку в X_train\n",
    "  X_archive.append(out)\n",
    "\n",
    "#Превращаем обучающую выборку на numpy массивы\n",
    "X_archive = np.array(X_archive)"
   ]
  },
  {
   "cell_type": "code",
   "execution_count": 123,
   "metadata": {
    "colab": {
     "base_uri": "https://localhost:8080/"
    },
    "id": "LPa_UqnKQnDZ",
    "outputId": "ec49adc5-3c2c-424f-b071-2e20b966fd6b"
   },
   "outputs": [
    {
     "data": {
      "text/plain": [
       "37"
      ]
     },
     "execution_count": 123,
     "metadata": {},
     "output_type": "execute_result"
    }
   ],
   "source": [
    "len(X_archive[0])"
   ]
  },
  {
   "cell_type": "code",
   "execution_count": 124,
   "metadata": {
    "id": "3u8aigRBQnGB"
   },
   "outputs": [],
   "source": [
    "Y_archive=[]\n",
    "for file_name in os.listdir(FILE_DIR_NEW):\n",
    "    # Выделение имени класса из имени файла\n",
    "  #if file_name.str.contains(\"angry\"):\n",
    "  if \"_a\" in file_name:\n",
    "      Y_archive.append(0)\n",
    "  if \"_d\" in file_name:\n",
    "      Y_archive.append(1)\n",
    "  if \"_f\" in file_name:\n",
    "      Y_archive.append(2)\n",
    "  if \"_h\" in file_name:\n",
    "      Y_archive.append(3)\n",
    "  if \"_n\" in file_name:\n",
    "      Y_archive.append(4)\n",
    "  if \"_su\" in file_name:\n",
    "      Y_archive.append(5)\n",
    "  if \"_sa\" in file_name:\n",
    "      Y_archive.append(6)\n",
    "#Превращаем ответы  в numpy массивы\n",
    "Y_archive = np.array(Y_archive)"
   ]
  },
  {
   "cell_type": "code",
   "execution_count": 125,
   "metadata": {
    "colab": {
     "base_uri": "https://localhost:8080/"
    },
    "id": "ED6wlLTgQnI6",
    "outputId": "64095a43-b791-4be6-afd9-80b528899e55"
   },
   "outputs": [
    {
     "data": {
      "text/plain": [
       "array([3, 2, 4, 4, 5, 4, 0, 6, 6, 5, 6, 2, 6, 2, 3, 4, 5, 3, 6, 4, 6, 4,\n",
       "       0, 4, 1, 3, 4, 1, 3, 6, 4, 1, 6, 4, 3, 6, 0, 4, 1, 5, 2, 0, 6, 6,\n",
       "       4, 6, 0, 0, 0, 1, 5, 4, 2, 4, 5, 2, 5, 4, 5, 1, 0, 3, 4, 2, 2, 6,\n",
       "       6, 4, 3, 2, 0, 4, 1, 0, 4, 6, 2, 2, 6, 1, 3, 6, 1, 1, 4, 2, 4, 3,\n",
       "       1, 4, 1, 4, 4, 6, 4, 0, 3, 2, 6, 1, 4, 5, 2, 3, 1, 5, 0, 0, 4, 3,\n",
       "       3, 0, 0, 4, 4, 2, 4, 5, 5, 3, 3, 6, 3, 0, 1, 5, 0, 6, 3, 2, 3, 4,\n",
       "       4, 6, 2, 3, 4, 1, 2, 3, 3, 0, 5, 1, 0, 4, 4, 1, 1, 3, 6, 4, 2, 1,\n",
       "       5, 4, 1, 0, 0, 0, 4, 3, 4, 1, 2, 6, 4, 4, 1, 3, 1, 2, 1, 4, 6, 6,\n",
       "       0, 5, 0, 3, 1, 0, 5, 4, 4, 0, 3, 4, 4, 1, 6, 0, 2, 5, 6, 2, 1, 2,\n",
       "       2, 2, 3, 4, 2, 4, 5, 0, 5, 4, 1, 5, 2, 6, 2, 0, 2, 4, 1, 2, 4, 4,\n",
       "       3, 0, 5, 4, 4, 5, 4, 1, 2, 6, 3, 3, 1, 2, 2, 4, 3, 0, 4, 3, 5, 4,\n",
       "       2, 0, 4, 3, 1, 5, 5, 6, 2, 3, 5, 6, 6, 1, 4, 1, 1, 3, 1, 3, 4, 6,\n",
       "       3, 4, 2, 0, 0, 3, 3, 4, 0, 4, 4, 1, 3, 4, 3, 5, 6, 6, 6, 1, 6, 2,\n",
       "       1, 5, 2, 4, 4, 5, 4, 0, 4, 3, 6, 6, 2, 5, 3, 4, 0, 0, 2, 1, 5, 5,\n",
       "       4, 5, 5, 0, 5, 0, 0, 4, 2, 5, 1, 0, 2, 1, 5, 2, 5, 4, 3, 4, 6, 3,\n",
       "       2, 2, 0, 3, 4, 4, 4, 2, 6, 4, 1, 6, 1, 5, 6, 6, 0, 6, 0, 3, 5, 4,\n",
       "       0, 4, 1, 6, 4, 4, 4, 4, 4, 5, 3, 0, 4, 3, 6, 4, 4, 1, 3, 3, 0, 3,\n",
       "       5, 4, 4, 2, 5, 5, 1, 2, 1, 5, 4, 3, 3, 2, 4, 0, 0, 6, 4, 5, 2, 2,\n",
       "       4, 4, 0, 6, 3, 4, 5, 6, 4, 6, 2, 0, 4, 5, 4, 4, 5, 1, 2, 4, 6, 1,\n",
       "       5, 2, 2, 0, 5, 5, 1, 4, 6, 1, 3, 4, 5, 0, 4, 4, 4, 5, 4, 6, 3, 4,\n",
       "       4, 0, 5, 2, 6, 4, 5, 2, 0, 1, 2, 4, 1, 6, 1, 6, 0, 1, 4, 4, 6, 5,\n",
       "       0, 4, 0, 1, 1, 4, 5, 5, 0, 6, 2, 3, 3, 1, 4, 4, 4, 4])"
      ]
     },
     "execution_count": 125,
     "metadata": {},
     "output_type": "execute_result"
    }
   ],
   "source": [
    "Y_archive"
   ]
  },
  {
   "cell_type": "code",
   "execution_count": 126,
   "metadata": {
    "id": "o6yrumcDQnLt"
   },
   "outputs": [],
   "source": [
    "#Создаём backup новой выборки\n",
    "X_new_backup = X_archive.copy()\n",
    "Y_new_backup = Y_archive.copy()"
   ]
  },
  {
   "cell_type": "code",
   "execution_count": 127,
   "metadata": {
    "id": "a1qIZLM8QnN7"
   },
   "outputs": [],
   "source": [
    "Y_archive= np.array(Y_archive.reshape(-1, 1))"
   ]
  },
  {
   "cell_type": "code",
   "execution_count": 128,
   "metadata": {
    "colab": {
     "base_uri": "https://localhost:8080/"
    },
    "id": "RLncHUErG1kd",
    "outputId": "4730754f-c128-481f-d5b5-f8dcc1100a23"
   },
   "outputs": [
    {
     "name": "stdout",
     "output_type": "stream",
     "text": [
      "(480, 37)\n",
      "(480, 1)\n"
     ]
    }
   ],
   "source": [
    "#Выводим размеры обучающей выборки\n",
    "print(X_archive.shape)\n",
    "print(Y_archive.shape)\n",
    "#print(y_train_class.shape)"
   ]
  },
  {
   "cell_type": "code",
   "execution_count": 129,
   "metadata": {
    "id": "AOKLJuuXG1rN"
   },
   "outputs": [],
   "source": [
    "#Создаём scaler экземпляр класса StandardScaler() для нормировки новых  данных\n",
    "scaler = StandardScaler()\n",
    "#Номируем X_archive\n",
    "X_archive = scaler.fit_transform(X_archive)"
   ]
  },
  {
   "cell_type": "code",
   "execution_count": 130,
   "metadata": {
    "id": "bB_t5IxjG1t8"
   },
   "outputs": [],
   "source": [
    "#Делаем predict\n",
    "y = model.predict(X_archive)"
   ]
  },
  {
   "cell_type": "code",
   "execution_count": 131,
   "metadata": {
    "colab": {
     "base_uri": "https://localhost:8080/"
    },
    "id": "F4RVLDrHgeh3",
    "outputId": "cdf20290-61ac-4c1d-aaad-f5d9a3151a85"
   },
   "outputs": [
    {
     "data": {
      "text/plain": [
       "array([0.07927705, 0.00082489, 0.00203002, 0.34459013, 0.00673529,\n",
       "       0.55459255, 0.01195012], dtype=float32)"
      ]
     },
     "execution_count": 131,
     "metadata": {},
     "output_type": "execute_result"
    }
   ],
   "source": [
    "y[0]"
   ]
  },
  {
   "cell_type": "code",
   "execution_count": 132,
   "metadata": {
    "id": "c2YJeU7DT5L2"
   },
   "outputs": [],
   "source": [
    "# переведем ответы модели в более удобный формат\n",
    "answers=[]\n",
    "for i in y:\n",
    "  answers.append(np.argmax(i))\n"
   ]
  },
  {
   "cell_type": "code",
   "execution_count": 133,
   "metadata": {
    "id": "so3_nUPaZivt"
   },
   "outputs": [],
   "source": [
    "answers = np.array(answers)"
   ]
  },
  {
   "cell_type": "code",
   "execution_count": 134,
   "metadata": {
    "colab": {
     "base_uri": "https://localhost:8080/"
    },
    "id": "rUa0AiywZwmJ",
    "outputId": "bce1b34c-a804-46ec-e4c5-a60edd43fc8e"
   },
   "outputs": [
    {
     "data": {
      "text/plain": [
       "array([5, 5, 6, 1, 0])"
      ]
     },
     "execution_count": 134,
     "metadata": {},
     "output_type": "execute_result"
    }
   ],
   "source": [
    "# ответы модели\n",
    "answers[0:5]"
   ]
  },
  {
   "cell_type": "code",
   "execution_count": 135,
   "metadata": {
    "colab": {
     "base_uri": "https://localhost:8080/"
    },
    "id": "LR5Ov9-iZ3JM",
    "outputId": "eb79ea05-ce2a-4f64-d424-42e04d336ded"
   },
   "outputs": [
    {
     "data": {
      "text/plain": [
       "array([[3],\n",
       "       [2],\n",
       "       [4],\n",
       "       [4],\n",
       "       [5]])"
      ]
     },
     "execution_count": 135,
     "metadata": {},
     "output_type": "execute_result"
    }
   ],
   "source": [
    "# правильные ответы\n",
    "Y_archive[0:5]"
   ]
  },
  {
   "cell_type": "code",
   "execution_count": 136,
   "metadata": {
    "id": "vKR2cf8UegCh"
   },
   "outputs": [],
   "source": [
    "Y_archive=Y_archive.reshape(1, Y_archive.shape[0]*Y_archive.shape[1])"
   ]
  },
  {
   "cell_type": "code",
   "execution_count": 113,
   "metadata": {
    "colab": {
     "base_uri": "https://localhost:8080/"
    },
    "id": "XxmdrarpenMi",
    "outputId": "18090e32-4a69-4aa3-ef4e-3d709da12f7f"
   },
   "outputs": [
    {
     "data": {
      "text/plain": [
       "array([3, 2, 4, 4, 5, 4, 0, 6, 6, 5, 6, 2, 6, 2, 3, 4, 5, 3, 6, 4, 6, 4,\n",
       "       0, 4, 1, 3, 4, 1, 3, 6, 4, 1, 6, 4, 3, 6, 0, 4, 1, 5, 2, 0, 6, 6,\n",
       "       4, 6, 0, 0, 0, 1, 5, 4, 2, 4, 5, 2, 5, 4, 5, 1, 0, 3, 4, 2, 2, 6,\n",
       "       6, 4, 3, 2, 0, 4, 1, 0, 4, 6, 2, 2, 6, 1, 3, 6, 1, 1, 4, 2, 4, 3,\n",
       "       1, 4, 1, 4, 4, 6, 4, 0, 3, 2, 6, 1, 4, 5, 2, 3, 1, 5, 0, 0, 4, 3,\n",
       "       3, 0, 0, 4, 4, 2, 4, 5, 5, 3, 3, 6, 3, 0, 1, 5, 0, 6, 3, 2, 3, 4,\n",
       "       4, 6, 2, 3, 4, 1, 2, 3, 3, 0, 5, 1, 0, 4, 4, 1, 1, 3, 6, 4, 2, 1,\n",
       "       5, 4, 1, 0, 0, 0, 4, 3, 4, 1, 2, 6, 4, 4, 1, 3, 1, 2, 1, 4, 6, 6,\n",
       "       0, 5, 0, 3, 1, 0, 5, 4, 4, 0, 3, 4, 4, 1, 6, 0, 2, 5, 6, 2, 1, 2,\n",
       "       2, 2, 3, 4, 2, 4, 5, 0, 5, 4, 1, 5, 2, 6, 2, 0, 2, 4, 1, 2, 4, 4,\n",
       "       3, 0, 5, 4, 4, 5, 4, 1, 2, 6, 3, 3, 1, 2, 2, 4, 3, 0, 4, 3, 5, 4,\n",
       "       2, 0, 4, 3, 1, 5, 5, 6, 2, 3, 5, 6, 6, 1, 4, 1, 1, 3, 1, 3, 4, 6,\n",
       "       3, 4, 2, 0, 0, 3, 3, 4, 0, 4, 4, 1, 3, 4, 3, 5, 6, 6, 6, 1, 6, 2,\n",
       "       1, 5, 2, 4, 4, 5, 4, 0, 4, 3, 6, 6, 2, 5, 3, 4, 0, 0, 2, 1, 5, 5,\n",
       "       4, 5, 5, 0, 5, 0, 0, 4, 2, 5, 1, 0, 2, 1, 5, 2, 5, 4, 3, 4, 6, 3,\n",
       "       2, 2, 0, 3, 4, 4, 4, 2, 6, 4, 1, 6, 1, 5, 6, 6, 0, 6, 0, 3, 5, 4,\n",
       "       0, 4, 1, 6, 4, 4, 4, 4, 4, 5, 3, 0, 4, 3, 6, 4, 4, 1, 3, 3, 0, 3,\n",
       "       5, 4, 4, 2, 5, 5, 1, 2, 1, 5, 4, 3, 3, 2, 4, 0, 0, 6, 4, 5, 2, 2,\n",
       "       4, 4, 0, 6, 3, 4, 5, 6, 4, 6, 2, 0, 4, 5, 4, 4, 5, 1, 2, 4, 6, 1,\n",
       "       5, 2, 2, 0, 5, 5, 1, 4, 6, 1, 3, 4, 5, 0, 4, 4, 4, 5, 4, 6, 3, 4,\n",
       "       4, 0, 5, 2, 6, 4, 5, 2, 0, 1, 2, 4, 1, 6, 1, 6, 0, 1, 4, 4, 6, 5,\n",
       "       0, 4, 0, 1, 1, 4, 5, 5, 0, 6, 2, 3, 3, 1, 4, 4, 4, 4])"
      ]
     },
     "execution_count": 113,
     "metadata": {},
     "output_type": "execute_result"
    }
   ],
   "source": [
    "Y_archive[0]"
   ]
  },
  {
   "cell_type": "code",
   "execution_count": 137,
   "metadata": {
    "id": "7kc9Vz1qWF-l"
   },
   "outputs": [],
   "source": [
    "from sklearn.metrics import accuracy_score"
   ]
  },
  {
   "cell_type": "code",
   "execution_count": 138,
   "metadata": {
    "id": "Ql5RXpBHWGBx"
   },
   "outputs": [],
   "source": [
    "accuracy_archive=accuracy_score(Y_archive[0], answers, normalize=True)"
   ]
  },
  {
   "cell_type": "code",
   "execution_count": 139,
   "metadata": {
    "colab": {
     "base_uri": "https://localhost:8080/"
    },
    "id": "WJNmCCgVWGE1",
    "outputId": "913a137d-a0b5-495e-fc57-c92cdaaef518"
   },
   "outputs": [
    {
     "data": {
      "text/plain": [
       "0.13541666666666666"
      ]
     },
     "execution_count": 139,
     "metadata": {},
     "output_type": "execute_result"
    }
   ],
   "source": [
    "# Точность модели на новых данных\n",
    "accuracy_archive"
   ]
  },
  {
   "cell_type": "markdown",
   "metadata": {
    "id": "8Mdgd1fDxR7x"
   },
   "source": [
    "## Выводы\n",
    "\n",
    "Точность модели на новой базе файлов очень низкая. Я неоднократно проверила код и не нашла никакой ошибки, данные одинаково обрабатываются как на изначальной базе файлов, так и на новой, приводятся к одинаковому формату. Данные классифицированы на одни и те же категории.\n",
    "\n",
    "Но на изначальной выборке модель показывает точность 99%, а на новой - всего лишь 13...\n",
    "\n",
    "Вероятнее всего это связано с тем, что в изначальной выборке, на которой обучалась модель, аудиофайлы - записи женских голосов, а в новой - аудиозаписи мужских голосов...\n",
    "\n",
    "Видимо, из-за этого модель не может их точно классифицировать.\n"
   ]
  },
  {
   "cell_type": "code",
   "execution_count": null,
   "metadata": {
    "id": "dvYku9BtWGIH"
   },
   "outputs": [],
   "source": []
  },
  {
   "cell_type": "code",
   "execution_count": null,
   "metadata": {
    "id": "kdnllbiSWGLk"
   },
   "outputs": [],
   "source": []
  },
  {
   "cell_type": "code",
   "execution_count": null,
   "metadata": {
    "id": "AQrHrponWGPH"
   },
   "outputs": [],
   "source": []
  },
  {
   "cell_type": "code",
   "execution_count": null,
   "metadata": {
    "id": "8gmakROOWGSE"
   },
   "outputs": [],
   "source": []
  },
  {
   "cell_type": "code",
   "execution_count": null,
   "metadata": {
    "id": "QXbP34pjWGVs"
   },
   "outputs": [],
   "source": []
  },
  {
   "cell_type": "code",
   "execution_count": null,
   "metadata": {
    "id": "PoyWHQoDWGY2"
   },
   "outputs": [],
   "source": []
  },
  {
   "cell_type": "code",
   "execution_count": null,
   "metadata": {
    "id": "BoQdWHWST5Or"
   },
   "outputs": [],
   "source": []
  },
  {
   "cell_type": "code",
   "execution_count": null,
   "metadata": {
    "id": "LeJCMmX44wCM"
   },
   "outputs": [],
   "source": []
  },
  {
   "cell_type": "code",
   "execution_count": null,
   "metadata": {
    "id": "3V3GXky74wF7"
   },
   "outputs": [],
   "source": []
  },
  {
   "cell_type": "code",
   "execution_count": null,
   "metadata": {
    "id": "3Gh41g7t4wJY"
   },
   "outputs": [],
   "source": []
  },
  {
   "cell_type": "code",
   "execution_count": null,
   "metadata": {
    "id": "GfF9cooK4wMf"
   },
   "outputs": [],
   "source": []
  },
  {
   "cell_type": "code",
   "execution_count": null,
   "metadata": {
    "id": "qp0Zz-sz4wP4"
   },
   "outputs": [],
   "source": []
  },
  {
   "cell_type": "code",
   "execution_count": null,
   "metadata": {
    "id": "H3BnlUaF4wTF"
   },
   "outputs": [],
   "source": []
  },
  {
   "cell_type": "code",
   "execution_count": null,
   "metadata": {
    "id": "Ticj7o1q4wWA"
   },
   "outputs": [],
   "source": []
  },
  {
   "cell_type": "code",
   "execution_count": null,
   "metadata": {
    "id": "DsvO_GVj4wY4"
   },
   "outputs": [],
   "source": []
  },
  {
   "cell_type": "code",
   "execution_count": null,
   "metadata": {
    "id": "crddBu3H4wb_"
   },
   "outputs": [],
   "source": []
  },
  {
   "cell_type": "code",
   "execution_count": null,
   "metadata": {
    "id": "9quIT5I84wfH"
   },
   "outputs": [],
   "source": []
  },
  {
   "cell_type": "code",
   "execution_count": null,
   "metadata": {
    "id": "keDtAEqc4wh9"
   },
   "outputs": [],
   "source": []
  },
  {
   "cell_type": "code",
   "execution_count": null,
   "metadata": {
    "id": "B43_114R4wkS"
   },
   "outputs": [],
   "source": []
  }
 ],
 "metadata": {
  "accelerator": "TPU",
  "colab": {
   "collapsed_sections": [],
   "name": "д.з. Ультра Про| Обработка аудиосигналов с помощью нейронных сетей | ДЗ Ultra Pro | УИИ",
   "provenance": []
  },
  "kernelspec": {
   "display_name": "Python 3 (ipykernel)",
   "language": "python",
   "name": "python3"
  },
  "language_info": {
   "codemirror_mode": {
    "name": "ipython",
    "version": 3
   },
   "file_extension": ".py",
   "mimetype": "text/x-python",
   "name": "python",
   "nbconvert_exporter": "python",
   "pygments_lexer": "ipython3",
   "version": "3.9.7"
  }
 },
 "nbformat": 4,
 "nbformat_minor": 1
}
